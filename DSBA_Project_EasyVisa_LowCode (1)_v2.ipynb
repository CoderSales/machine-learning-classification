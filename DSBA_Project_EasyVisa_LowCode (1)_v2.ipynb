{
  "cells": [
    {
      "cell_type": "markdown",
      "id": "5i1Du122jTeM",
      "metadata": {
        "id": "5i1Du122jTeM"
      },
      "source": [
        "## EasyVisa Project\n",
        "***Marks: 60***"
      ]
    },
    {
      "cell_type": "markdown",
      "id": "2xUfZBo9JM9e",
      "metadata": {
        "id": "2xUfZBo9JM9e"
      },
      "source": [
        "## Problem Statement"
      ]
    },
    {
      "cell_type": "markdown",
      "id": "empty-shanghai",
      "metadata": {
        "id": "empty-shanghai"
      },
      "source": [
        "### Context:\n",
        "\n",
        "Business communities in the United States are facing high demand for human resources, but one of the constant challenges is identifying and attracting the right talent, which is perhaps the most important element in remaining competitive. Companies in the United States look for hard-working, talented, and qualified individuals both locally as well as abroad.\n",
        "\n",
        "The Immigration and Nationality Act (INA) of the US permits foreign workers to come to the United States to work on either a temporary or permanent basis. The act also protects US workers against adverse impacts on their wages or working conditions by ensuring US employers' compliance with statutory requirements when they hire foreign workers to fill workforce shortages. The immigration programs are administered by the Office of Foreign Labor Certification (OFLC).\n",
        "\n",
        "OFLC processes job certification applications for employers seeking to bring foreign workers into the United States and grants certifications in those cases where employers can demonstrate that there are not sufficient US workers available to perform the work at wages that meet or exceed the wage paid for the occupation in the area of intended employment.\n",
        "\n",
        "### Objective:\n",
        "\n",
        "In FY 2016, the OFLC processed 775,979 employer applications for 1,699,957 positions for temporary and permanent labor certifications. This was a nine percent increase in the overall number of processed applications from the previous year. The process of reviewing every case is becoming a tedious task as the number of applicants is increasing every year.\n",
        "\n",
        "The increasing number of applicants every year calls for a Machine Learning based solution that can help in shortlisting the candidates having higher chances of VISA approval. OFLC has hired the firm EasyVisa for data-driven solutions. You as a data  scientist at EasyVisa have to analyze the data provided and, with the help of a classification model:\n",
        "\n",
        "* Facilitate the process of visa approvals.\n",
        "* Recommend a suitable profile for the applicants for whom the visa should be certified or denied based on the drivers that significantly influence the case status. \n",
        "\n",
        "### Data Description\n",
        "\n",
        "The data contains the different attributes of employee and the employer. The detailed data dictionary is given below.\n",
        "\n",
        "* case_id: ID of each visa application\n",
        "* continent: Information of continent the employee\n",
        "* education_of_employee: Information of education of the employee\n",
        "* has_job_experience: Does the employee has any job experience? Y= Yes; N = No\n",
        "* requires_job_training: Does the employee require any job training? Y = Yes; N = No \n",
        "* no_of_employees: Number of employees in the employer's company\n",
        "* yr_of_estab: Year in which the employer's company was established\n",
        "* region_of_employment: Information of foreign worker's intended region of employment in the US.\n",
        "* prevailing_wage:  Average wage paid to similarly employed workers in a specific occupation in the area of intended employment. The purpose of the prevailing wage is to ensure that the foreign worker is not underpaid compared to other workers offering the same or similar service in the same area of employment. \n",
        "* unit_of_wage: Unit of prevailing wage. Values include Hourly, Weekly, Monthly, and Yearly.\n",
        "* full_time_position: Is the position of work full-time? Y = Full Time Position; N = Part Time Position\n",
        "* case_status:  Flag indicating if the Visa was certified or denied"
      ]
    },
    {
      "cell_type": "markdown",
      "id": "0202dc63",
      "metadata": {
        "id": "0202dc63"
      },
      "source": [
        "### **Please read the instructions carefully before starting the project.** \n",
        "This is a commented Jupyter IPython Notebook file in which all the instructions and tasks to be performed are mentioned. \n",
        "* Blanks '_______' are provided in the notebook that \n",
        "needs to be filled with an appropriate code to get the correct result. With every '_______' blank, there is a comment that briefly describes what needs to be filled in the blank space. \n",
        "* Identify the task to be performed correctly, and only then proceed to write the required code.\n",
        "* Fill the code wherever asked by the commented lines like \"# write your code here\" or \"# complete the code\". Running incomplete code may throw error.\n",
        "* Please run the codes in a sequential manner from the beginning to avoid any unnecessary errors.\n",
        "* Add the results/observations (wherever mentioned) derived from the analysis in the presentation and submit the same."
      ]
    },
    {
      "cell_type": "code",
      "execution_count": 1,
      "id": "99d270fd",
      "metadata": {},
      "outputs": [],
      "source": [
        "import importlib.util\n",
        "import sys\n",
        "import os\n",
        "import subprocess\n",
        "\n",
        "\n",
        "def installer():\n",
        "    modules_list = [\n",
        "        \"notebook\",\n",
        "        \"matplotlib\",\n",
        "        \"pandas\",\n",
        "        \"seaborn\",\n",
        "        \"numpy\",\n",
        "        \"scipy\",\n",
        "        \"statsmodels\",\n",
        "        \"-U scikit-learn\",\n",
        "        \"ipykernel\",\n",
        "        \"nb-black\",\n",
        "        \"importlib.util\",\n",
        "        \"sys\",\n",
        "        \"os\",\n",
        "        \"importlib.util\",\n",
        "        \"subprocess\",\n",
        "        \"warnings\",\n",
        "        \"statsmodels.tools.sm_exceptions\",\n",
        "        \"matplotlib.pyplot\",\n",
        "        \"sklearn.model_selection.train_test_split\",\n",
        "        \"statsmodels.stats.api\",\n",
        "        \"statsmodels.stats.outliers_influence\",\n",
        "        \"statsmodels.api\",\n",
        "        \"statsmodels.tools.tools\",\n",
        "        \"sklearn.tree.DecisionTreeClassifier\",\n",
        "        \"sklearn.tree\",\n",
        "        \"sklearn.model_selection.GridSearchCV\",\n",
        "        \"sklearn.metrics.f1_score\",\n",
        "        \"sklearn.metrics.accuracy_score\",\n",
        "        \"sklearn.metrics.recall_score\",\n",
        "        \"sklearn.metrics.precision_score\",\n",
        "        \"sklearn.metrics.confusion_matrix\",\n",
        "        \"sklearn.metrics.roc_auc_score\",\n",
        "        \"sklearn.metrics.ConfusionMatrixDisplay\",\n",
        "        \"sklearn.metrics.precision_recall_curve\",\n",
        "        \"sklearn.metrics.roc_curve\",\n",
        "        \"sklearn.metrics.make_scorer\",\n",
        "        \"sklearn.metrics\",  # new\n",
        "        \"from sklearn.ensemble.BaggingClassifier\",  # new\n",
        "        \"RandomForestClassifier\",  # new\n",
        "        \"sklearn.linear_model.LogisticRegression\",  # new\n",
        "        \"xgboost.XGBClassifier\", # boosting\n",
        "        \"xgboost\"\n",
        "    ]\n",
        "    uninstalled_list = []\n",
        "    modules_list_modified = []\n",
        "    unchecked_formatted_list = []\n",
        "\n",
        "    def stringifier(string):\n",
        "        string = string[3:15]\n",
        "        return string\n",
        "\n",
        "    def sort_output(name):\n",
        "        string = name  #\n",
        "        # module\n",
        "        if string == \"-U scikit-learn\":\n",
        "            module = stringifier(string)  # string = string[2:15] #\n",
        "            return module\n",
        "        # now have holder=scikit-learn\n",
        "        else:\n",
        "            module = string\n",
        "            return string\n",
        "\n",
        "    def loop_unformatted_packages(modules_list):\n",
        "        for name in modules_list:  # '-U scikit-learn'\n",
        "            unchecked_formatted_list.append(sort_output(name))\n",
        "        return unchecked_formatted_list\n",
        "\n",
        "    unchecked_formatted_list = loop_unformatted_packages(modules_list)\n",
        "\n",
        "    def check_not_installed(name):\n",
        "        \"\"\"\n",
        "        Check if a package (formatted) is installed or not.\n",
        "        \"\"\"\n",
        "        if name in sys.modules:\n",
        "            print(f\"{name!r} already in sys.modules\")\n",
        "        elif (spec := importlib.util.find_spec(name)) is not None:\n",
        "            # If you choose to perform the actual import ..\n",
        "            module = importlib.util.module_from_spec(spec)\n",
        "            sys.modules[name] = module\n",
        "            spec.loader.exec_module(module)\n",
        "            print(f\"{name!r} has been imported\")\n",
        "        else:\n",
        "            print(f\"can't find the {name!r} module\")\n",
        "            return name\n",
        "\n",
        "    def loop_formatted_packages(unchecked_formatted_list, uninstalled_list):\n",
        "        \"\"\"\n",
        "        takes:\n",
        "        - var unchecked_formatted_list\n",
        "        - var uninstalled_list\n",
        "        calls:\n",
        "        - function check_not_installed\n",
        "        \"\"\"\n",
        "        for name in unchecked_formatted_list:  # '-U scikit-learn'\n",
        "            if check_not_installed(name):\n",
        "                uninstalled_list.append(name)\n",
        "        return uninstalled_list\n",
        "\n",
        "    uninstalled_list = loop_formatted_packages(\n",
        "        unchecked_formatted_list, uninstalled_list\n",
        "    )\n",
        "\n",
        "    print(\"\\nuninstalled modules are:\", uninstalled_list, \"\\n\")\n",
        "\n",
        "    newly_installed = []\n",
        "\n",
        "    def installer(uninstalled_list):\n",
        "        for name in uninstalled_list:\n",
        "            if name == \"scikit-learn\":\n",
        "                name2 = \"-U \" + name\n",
        "            os.system(\"pip install {}\".format(name2))\n",
        "            print(name, \"module has been installed\")\n",
        "            newly_installed.append(name)\n",
        "        print(\"\\n\", newly_installed, \"modules have just been installed\")\n",
        "\n",
        "    installer(uninstalled_list)\n"
      ]
    },
    {
      "attachments": {},
      "cell_type": "markdown",
      "id": "8ee66708",
      "metadata": {},
      "source": [
        "leagcy above below cells (2 total)"
      ]
    },
    {
      "cell_type": "code",
      "execution_count": 15,
      "id": "a7b09358",
      "metadata": {},
      "outputs": [
        {
          "name": "stdout",
          "output_type": "stream",
          "text": [
            "The nb_black extension is already loaded. To reload it, use:\n",
            "  %reload_ext nb_black\n"
          ]
        },
        {
          "data": {
            "application/javascript": "\n            setTimeout(function() {\n                var nbb_cell_id = 15;\n                var nbb_unformatted_code = \"# legacy: this will help in making the Python code more structured automatically (help adhere to good coding practices)\\n%load_ext nb_black\\n\\n\\nimport pandas as pd\\n# import numpy as np\\nfrom sklearn import metrics\\nimport matplotlib.pyplot as plt\\n%matplotlib inline\\nimport warnings\\nwarnings.filterwarnings('ignore')\\nimport seaborn as sns\\nfrom sklearn.model_selection import train_test_split\\nfrom sklearn.model_selection import GridSearchCV # (To tune different models)\\nfrom sklearn import metrics # new\\nfrom sklearn.ensemble import BaggingClassifier, RandomForestClassifier # new\\nfrom sklearn.linear_model import LogisticRegression # new\\n\\n# legacy import:\\nfrom statsmodels.tools.sm_exceptions import ConvergenceWarning\\n\\n# On:\\n# previous:\\n# Removes the limit for the number of displayed columns\\npd.set_option(\\\"display.max_columns\\\", None)\\n# Sets the limit for the number of displayed rows\\npd.set_option(\\\"display.max_rows\\\", 200)\\n# setting the precision of floating numbers to 5 decimal points\\npd.set_option(\\\"display.float_format\\\", lambda x: \\\"%.5f\\\" % x)\\n# end previous\\n\\n# To build model for prediction\\nimport statsmodels.stats.api as sms\\n\\nfrom statsmodels.stats.outliers_influence import variance_inflation_factor\\nimport statsmodels.api as sm\\nfrom statsmodels.tools.tools import add_constant\\nfrom sklearn.tree import DecisionTreeClassifier\\nfrom sklearn import tree\\n\\n# To get diferent metric scores\\n# from previous\\n# duplicate import from above\\nfrom sklearn.metrics import (\\n    f1_score,\\n    accuracy_score,\\n    recall_score,\\n    precision_score,\\n    confusion_matrix,\\n    roc_auc_score,\\n    ConfusionMatrixDisplay,\\n    precision_recall_curve,\\n    roc_curve,\\n    make_scorer,\\n)\\n\\n%reload_ext nb_black\";\n                var nbb_formatted_code = \"# legacy: this will help in making the Python code more structured automatically (help adhere to good coding practices)\\n%load_ext nb_black\\n\\n\\nimport pandas as pd\\n\\n# import numpy as np\\nfrom sklearn import metrics\\nimport matplotlib.pyplot as plt\\n\\n%matplotlib inline\\nimport warnings\\n\\nwarnings.filterwarnings(\\\"ignore\\\")\\nimport seaborn as sns\\nfrom sklearn.model_selection import train_test_split\\nfrom sklearn.model_selection import GridSearchCV  # (To tune different models)\\nfrom sklearn import metrics  # new\\nfrom sklearn.ensemble import BaggingClassifier, RandomForestClassifier  # new\\nfrom sklearn.linear_model import LogisticRegression  # new\\n\\n# legacy import:\\nfrom statsmodels.tools.sm_exceptions import ConvergenceWarning\\n\\n# On:\\n# previous:\\n# Removes the limit for the number of displayed columns\\npd.set_option(\\\"display.max_columns\\\", None)\\n# Sets the limit for the number of displayed rows\\npd.set_option(\\\"display.max_rows\\\", 200)\\n# setting the precision of floating numbers to 5 decimal points\\npd.set_option(\\\"display.float_format\\\", lambda x: \\\"%.5f\\\" % x)\\n# end previous\\n\\n# To build model for prediction\\nimport statsmodels.stats.api as sms\\n\\nfrom statsmodels.stats.outliers_influence import variance_inflation_factor\\nimport statsmodels.api as sm\\nfrom statsmodels.tools.tools import add_constant\\nfrom sklearn.tree import DecisionTreeClassifier\\nfrom sklearn import tree\\n\\n# To get diferent metric scores\\n# from previous\\n# duplicate import from above\\nfrom sklearn.metrics import (\\n    f1_score,\\n    accuracy_score,\\n    recall_score,\\n    precision_score,\\n    confusion_matrix,\\n    roc_auc_score,\\n    ConfusionMatrixDisplay,\\n    precision_recall_curve,\\n    roc_curve,\\n    make_scorer,\\n)\\n\\n%reload_ext nb_black\";\n                var nbb_cells = Jupyter.notebook.get_cells();\n                for (var i = 0; i < nbb_cells.length; ++i) {\n                    if (nbb_cells[i].input_prompt_number == nbb_cell_id) {\n                        if (nbb_cells[i].get_text() == nbb_unformatted_code) {\n                             nbb_cells[i].set_text(nbb_formatted_code);\n                        }\n                        break;\n                    }\n                }\n            }, 500);\n            ",
            "text/plain": [
              "<IPython.core.display.Javascript object>"
            ]
          },
          "metadata": {},
          "output_type": "display_data"
        },
        {
          "data": {
            "application/javascript": "\n            setTimeout(function() {\n                var nbb_cell_id = 15;\n                var nbb_unformatted_code = \"# legacy: this will help in making the Python code more structured automatically (help adhere to good coding practices)\\n%load_ext nb_black\\n\\n\\nimport pandas as pd\\n# import numpy as np\\nfrom sklearn import metrics\\nimport matplotlib.pyplot as plt\\n%matplotlib inline\\nimport warnings\\nwarnings.filterwarnings('ignore')\\nimport seaborn as sns\\nfrom sklearn.model_selection import train_test_split\\nfrom sklearn.model_selection import GridSearchCV # (To tune different models)\\nfrom sklearn import metrics # new\\nfrom sklearn.ensemble import BaggingClassifier, RandomForestClassifier # new\\nfrom sklearn.linear_model import LogisticRegression # new\\n\\n# legacy import:\\nfrom statsmodels.tools.sm_exceptions import ConvergenceWarning\\n\\n# On:\\n# previous:\\n# Removes the limit for the number of displayed columns\\npd.set_option(\\\"display.max_columns\\\", None)\\n# Sets the limit for the number of displayed rows\\npd.set_option(\\\"display.max_rows\\\", 200)\\n# setting the precision of floating numbers to 5 decimal points\\npd.set_option(\\\"display.float_format\\\", lambda x: \\\"%.5f\\\" % x)\\n# end previous\\n\\n# To build model for prediction\\nimport statsmodels.stats.api as sms\\n\\nfrom statsmodels.stats.outliers_influence import variance_inflation_factor\\nimport statsmodels.api as sm\\nfrom statsmodels.tools.tools import add_constant\\nfrom sklearn.tree import DecisionTreeClassifier\\nfrom sklearn import tree\\n\\n# To get diferent metric scores\\n# from previous\\n# duplicate import from above\\nfrom sklearn.metrics import (\\n    f1_score,\\n    accuracy_score,\\n    recall_score,\\n    precision_score,\\n    confusion_matrix,\\n    roc_auc_score,\\n    ConfusionMatrixDisplay,\\n    precision_recall_curve,\\n    roc_curve,\\n    make_scorer,\\n)\\n\\n%reload_ext nb_black\";\n                var nbb_formatted_code = \"# legacy: this will help in making the Python code more structured automatically (help adhere to good coding practices)\\n%load_ext nb_black\\n\\n\\nimport pandas as pd\\n\\n# import numpy as np\\nfrom sklearn import metrics\\nimport matplotlib.pyplot as plt\\n\\n%matplotlib inline\\nimport warnings\\n\\nwarnings.filterwarnings(\\\"ignore\\\")\\nimport seaborn as sns\\nfrom sklearn.model_selection import train_test_split\\nfrom sklearn.model_selection import GridSearchCV  # (To tune different models)\\nfrom sklearn import metrics  # new\\nfrom sklearn.ensemble import BaggingClassifier, RandomForestClassifier  # new\\nfrom sklearn.linear_model import LogisticRegression  # new\\n\\n# legacy import:\\nfrom statsmodels.tools.sm_exceptions import ConvergenceWarning\\n\\n# On:\\n# previous:\\n# Removes the limit for the number of displayed columns\\npd.set_option(\\\"display.max_columns\\\", None)\\n# Sets the limit for the number of displayed rows\\npd.set_option(\\\"display.max_rows\\\", 200)\\n# setting the precision of floating numbers to 5 decimal points\\npd.set_option(\\\"display.float_format\\\", lambda x: \\\"%.5f\\\" % x)\\n# end previous\\n\\n# To build model for prediction\\nimport statsmodels.stats.api as sms\\n\\nfrom statsmodels.stats.outliers_influence import variance_inflation_factor\\nimport statsmodels.api as sm\\nfrom statsmodels.tools.tools import add_constant\\nfrom sklearn.tree import DecisionTreeClassifier\\nfrom sklearn import tree\\n\\n# To get diferent metric scores\\n# from previous\\n# duplicate import from above\\nfrom sklearn.metrics import (\\n    f1_score,\\n    accuracy_score,\\n    recall_score,\\n    precision_score,\\n    confusion_matrix,\\n    roc_auc_score,\\n    ConfusionMatrixDisplay,\\n    precision_recall_curve,\\n    roc_curve,\\n    make_scorer,\\n)\\n\\n%reload_ext nb_black\";\n                var nbb_cells = Jupyter.notebook.get_cells();\n                for (var i = 0; i < nbb_cells.length; ++i) {\n                    if (nbb_cells[i].input_prompt_number == nbb_cell_id) {\n                        if (nbb_cells[i].get_text() == nbb_unformatted_code) {\n                             nbb_cells[i].set_text(nbb_formatted_code);\n                        }\n                        break;\n                    }\n                }\n            }, 500);\n            ",
            "text/plain": [
              "<IPython.core.display.Javascript object>"
            ]
          },
          "metadata": {},
          "output_type": "display_data"
        },
        {
          "data": {
            "application/javascript": "\n            setTimeout(function() {\n                var nbb_cell_id = 15;\n                var nbb_unformatted_code = \"# legacy: this will help in making the Python code more structured automatically (help adhere to good coding practices)\\n%load_ext nb_black\\n\\n\\nimport pandas as pd\\n# import numpy as np\\nfrom sklearn import metrics\\nimport matplotlib.pyplot as plt\\n%matplotlib inline\\nimport warnings\\nwarnings.filterwarnings('ignore')\\nimport seaborn as sns\\nfrom sklearn.model_selection import train_test_split\\nfrom sklearn.model_selection import GridSearchCV # (To tune different models)\\nfrom sklearn import metrics # new\\nfrom sklearn.ensemble import BaggingClassifier, RandomForestClassifier # new\\nfrom sklearn.linear_model import LogisticRegression # new\\n\\n# legacy import:\\nfrom statsmodels.tools.sm_exceptions import ConvergenceWarning\\n\\n# On:\\n# previous:\\n# Removes the limit for the number of displayed columns\\npd.set_option(\\\"display.max_columns\\\", None)\\n# Sets the limit for the number of displayed rows\\npd.set_option(\\\"display.max_rows\\\", 200)\\n# setting the precision of floating numbers to 5 decimal points\\npd.set_option(\\\"display.float_format\\\", lambda x: \\\"%.5f\\\" % x)\\n# end previous\\n\\n# To build model for prediction\\nimport statsmodels.stats.api as sms\\n\\nfrom statsmodels.stats.outliers_influence import variance_inflation_factor\\nimport statsmodels.api as sm\\nfrom statsmodels.tools.tools import add_constant\\nfrom sklearn.tree import DecisionTreeClassifier\\nfrom sklearn import tree\\n\\n# To get diferent metric scores\\n# from previous\\n# duplicate import from above\\nfrom sklearn.metrics import (\\n    f1_score,\\n    accuracy_score,\\n    recall_score,\\n    precision_score,\\n    confusion_matrix,\\n    roc_auc_score,\\n    ConfusionMatrixDisplay,\\n    precision_recall_curve,\\n    roc_curve,\\n    make_scorer,\\n)\\n\\n%reload_ext nb_black\";\n                var nbb_formatted_code = \"# legacy: this will help in making the Python code more structured automatically (help adhere to good coding practices)\\n%load_ext nb_black\\n\\n\\nimport pandas as pd\\n\\n# import numpy as np\\nfrom sklearn import metrics\\nimport matplotlib.pyplot as plt\\n\\n%matplotlib inline\\nimport warnings\\n\\nwarnings.filterwarnings(\\\"ignore\\\")\\nimport seaborn as sns\\nfrom sklearn.model_selection import train_test_split\\nfrom sklearn.model_selection import GridSearchCV  # (To tune different models)\\nfrom sklearn import metrics  # new\\nfrom sklearn.ensemble import BaggingClassifier, RandomForestClassifier  # new\\nfrom sklearn.linear_model import LogisticRegression  # new\\n\\n# legacy import:\\nfrom statsmodels.tools.sm_exceptions import ConvergenceWarning\\n\\n# On:\\n# previous:\\n# Removes the limit for the number of displayed columns\\npd.set_option(\\\"display.max_columns\\\", None)\\n# Sets the limit for the number of displayed rows\\npd.set_option(\\\"display.max_rows\\\", 200)\\n# setting the precision of floating numbers to 5 decimal points\\npd.set_option(\\\"display.float_format\\\", lambda x: \\\"%.5f\\\" % x)\\n# end previous\\n\\n# To build model for prediction\\nimport statsmodels.stats.api as sms\\n\\nfrom statsmodels.stats.outliers_influence import variance_inflation_factor\\nimport statsmodels.api as sm\\nfrom statsmodels.tools.tools import add_constant\\nfrom sklearn.tree import DecisionTreeClassifier\\nfrom sklearn import tree\\n\\n# To get diferent metric scores\\n# from previous\\n# duplicate import from above\\nfrom sklearn.metrics import (\\n    f1_score,\\n    accuracy_score,\\n    recall_score,\\n    precision_score,\\n    confusion_matrix,\\n    roc_auc_score,\\n    ConfusionMatrixDisplay,\\n    precision_recall_curve,\\n    roc_curve,\\n    make_scorer,\\n)\\n\\n%reload_ext nb_black\";\n                var nbb_cells = Jupyter.notebook.get_cells();\n                for (var i = 0; i < nbb_cells.length; ++i) {\n                    if (nbb_cells[i].input_prompt_number == nbb_cell_id) {\n                        if (nbb_cells[i].get_text() == nbb_unformatted_code) {\n                             nbb_cells[i].set_text(nbb_formatted_code);\n                        }\n                        break;\n                    }\n                }\n            }, 500);\n            ",
            "text/plain": [
              "<IPython.core.display.Javascript object>"
            ]
          },
          "metadata": {},
          "output_type": "display_data"
        }
      ],
      "source": [
        "# legacy: this will help in making the Python code more structured automatically (help adhere to good coding practices)\n",
        "%load_ext nb_black\n",
        "\n",
        "\n",
        "import pandas as pd\n",
        "# import numpy as np\n",
        "from sklearn import metrics\n",
        "import matplotlib.pyplot as plt\n",
        "%matplotlib inline\n",
        "import warnings\n",
        "warnings.filterwarnings('ignore')\n",
        "import seaborn as sns\n",
        "from sklearn.model_selection import train_test_split\n",
        "from sklearn.model_selection import GridSearchCV # (To tune different models)\n",
        "from sklearn import metrics # new\n",
        "from sklearn.ensemble import BaggingClassifier, RandomForestClassifier # new\n",
        "from sklearn.linear_model import LogisticRegression # new\n",
        "\n",
        "# legacy import:\n",
        "from statsmodels.tools.sm_exceptions import ConvergenceWarning\n",
        "\n",
        "# On:\n",
        "# previous:\n",
        "# Removes the limit for the number of displayed columns\n",
        "pd.set_option(\"display.max_columns\", None)\n",
        "# Sets the limit for the number of displayed rows\n",
        "pd.set_option(\"display.max_rows\", 200)\n",
        "# setting the precision of floating numbers to 5 decimal points\n",
        "pd.set_option(\"display.float_format\", lambda x: \"%.5f\" % x)\n",
        "# end previous\n",
        "\n",
        "# To build model for prediction\n",
        "import statsmodels.stats.api as sms\n",
        "\n",
        "from statsmodels.stats.outliers_influence import variance_inflation_factor\n",
        "import statsmodels.api as sm\n",
        "from statsmodels.tools.tools import add_constant\n",
        "from sklearn.tree import DecisionTreeClassifier\n",
        "from sklearn import tree\n",
        "\n",
        "# To get diferent metric scores\n",
        "# from previous\n",
        "# duplicate import from above\n",
        "from sklearn.metrics import (\n",
        "    f1_score,\n",
        "    accuracy_score,\n",
        "    recall_score,\n",
        "    precision_score,\n",
        "    confusion_matrix,\n",
        "    roc_auc_score,\n",
        "    ConfusionMatrixDisplay,\n",
        "    precision_recall_curve,\n",
        "    roc_curve,\n",
        "    make_scorer,\n",
        ")\n",
        "\n",
        "%reload_ext nb_black\n"
      ]
    },
    {
      "cell_type": "code",
      "execution_count": 16,
      "id": "7c24d963",
      "metadata": {},
      "outputs": [
        {
          "data": {
            "image/png": "[encoded data removed]",
            "text/plain": [
              "<Figure size 640x480 with 1 Axes>"
            ]
          },
          "metadata": {},
          "output_type": "display_data"
        },
        {
          "data": {
            "application/javascript": "\n            setTimeout(function() {\n                var nbb_cell_id = 16;\n                var nbb_unformatted_code = \"# add matplotlib tutorial\\n# https://matplotlib.org/stable/tutorials/introductory/pyplot.html\\nimport matplotlib.pyplot as plt\\nplt.plot([1, 2, 3, 4])\\nplt.ylabel('some numbers')\\nplt.show()\";\n                var nbb_formatted_code = \"# add matplotlib tutorial\\n# https://matplotlib.org/stable/tutorials/introductory/pyplot.html\\nimport matplotlib.pyplot as plt\\n\\nplt.plot([1, 2, 3, 4])\\nplt.ylabel(\\\"some numbers\\\")\\nplt.show()\";\n                var nbb_cells = Jupyter.notebook.get_cells();\n                for (var i = 0; i < nbb_cells.length; ++i) {\n                    if (nbb_cells[i].input_prompt_number == nbb_cell_id) {\n                        if (nbb_cells[i].get_text() == nbb_unformatted_code) {\n                             nbb_cells[i].set_text(nbb_formatted_code);\n                        }\n                        break;\n                    }\n                }\n            }, 500);\n            ",
            "text/plain": [
              "<IPython.core.display.Javascript object>"
            ]
          },
          "metadata": {},
          "output_type": "display_data"
        },
        {
          "data": {
            "application/javascript": "\n            setTimeout(function() {\n                var nbb_cell_id = 16;\n                var nbb_unformatted_code = \"# add matplotlib tutorial\\n# https://matplotlib.org/stable/tutorials/introductory/pyplot.html\\nimport matplotlib.pyplot as plt\\nplt.plot([1, 2, 3, 4])\\nplt.ylabel('some numbers')\\nplt.show()\";\n                var nbb_formatted_code = \"# add matplotlib tutorial\\n# https://matplotlib.org/stable/tutorials/introductory/pyplot.html\\nimport matplotlib.pyplot as plt\\n\\nplt.plot([1, 2, 3, 4])\\nplt.ylabel(\\\"some numbers\\\")\\nplt.show()\";\n                var nbb_cells = Jupyter.notebook.get_cells();\n                for (var i = 0; i < nbb_cells.length; ++i) {\n                    if (nbb_cells[i].input_prompt_number == nbb_cell_id) {\n                        if (nbb_cells[i].get_text() == nbb_unformatted_code) {\n                             nbb_cells[i].set_text(nbb_formatted_code);\n                        }\n                        break;\n                    }\n                }\n            }, 500);\n            ",
            "text/plain": [
              "<IPython.core.display.Javascript object>"
            ]
          },
          "metadata": {},
          "output_type": "display_data"
        },
        {
          "data": {
            "application/javascript": "\n            setTimeout(function() {\n                var nbb_cell_id = 16;\n                var nbb_unformatted_code = \"# add matplotlib tutorial\\n# https://matplotlib.org/stable/tutorials/introductory/pyplot.html\\nimport matplotlib.pyplot as plt\\nplt.plot([1, 2, 3, 4])\\nplt.ylabel('some numbers')\\nplt.show()\";\n                var nbb_formatted_code = \"# add matplotlib tutorial\\n# https://matplotlib.org/stable/tutorials/introductory/pyplot.html\\nimport matplotlib.pyplot as plt\\n\\nplt.plot([1, 2, 3, 4])\\nplt.ylabel(\\\"some numbers\\\")\\nplt.show()\";\n                var nbb_cells = Jupyter.notebook.get_cells();\n                for (var i = 0; i < nbb_cells.length; ++i) {\n                    if (nbb_cells[i].input_prompt_number == nbb_cell_id) {\n                        if (nbb_cells[i].get_text() == nbb_unformatted_code) {\n                             nbb_cells[i].set_text(nbb_formatted_code);\n                        }\n                        break;\n                    }\n                }\n            }, 500);\n            ",
            "text/plain": [
              "<IPython.core.display.Javascript object>"
            ]
          },
          "metadata": {},
          "output_type": "display_data"
        }
      ],
      "source": [
        "# add matplotlib tutorial\n",
        "# https://matplotlib.org/stable/tutorials/introductory/pyplot.html\n",
        "import matplotlib.pyplot as plt\n",
        "plt.plot([1, 2, 3, 4])\n",
        "plt.ylabel('some numbers')\n",
        "plt.show()"
      ]
    },
    {
      "cell_type": "code",
      "execution_count": 17,
      "id": "1d9210f0",
      "metadata": {},
      "outputs": [
        {
          "data": {
            "text/plain": [
              "[<matplotlib.lines.Line2D at 0x2048d361930>]"
            ]
          },
          "execution_count": 17,
          "metadata": {},
          "output_type": "execute_result"
        },
        {
          "data": {
            "image/png": "[encoded data removed]",
            "text/plain": [
              "<Figure size 640x480 with 1 Axes>"
            ]
          },
          "metadata": {},
          "output_type": "display_data"
        },
        {
          "data": {
            "application/javascript": "\n            setTimeout(function() {\n                var nbb_cell_id = 17;\n                var nbb_unformatted_code = \"plt.plot([1, 2, 3, 4], [1, 4, 9, 16])\";\n                var nbb_formatted_code = \"plt.plot([1, 2, 3, 4], [1, 4, 9, 16])\";\n                var nbb_cells = Jupyter.notebook.get_cells();\n                for (var i = 0; i < nbb_cells.length; ++i) {\n                    if (nbb_cells[i].input_prompt_number == nbb_cell_id) {\n                        if (nbb_cells[i].get_text() == nbb_unformatted_code) {\n                             nbb_cells[i].set_text(nbb_formatted_code);\n                        }\n                        break;\n                    }\n                }\n            }, 500);\n            ",
            "text/plain": [
              "<IPython.core.display.Javascript object>"
            ]
          },
          "metadata": {},
          "output_type": "display_data"
        },
        {
          "data": {
            "application/javascript": "\n            setTimeout(function() {\n                var nbb_cell_id = 17;\n                var nbb_unformatted_code = \"plt.plot([1, 2, 3, 4], [1, 4, 9, 16])\";\n                var nbb_formatted_code = \"plt.plot([1, 2, 3, 4], [1, 4, 9, 16])\";\n                var nbb_cells = Jupyter.notebook.get_cells();\n                for (var i = 0; i < nbb_cells.length; ++i) {\n                    if (nbb_cells[i].input_prompt_number == nbb_cell_id) {\n                        if (nbb_cells[i].get_text() == nbb_unformatted_code) {\n                             nbb_cells[i].set_text(nbb_formatted_code);\n                        }\n                        break;\n                    }\n                }\n            }, 500);\n            ",
            "text/plain": [
              "<IPython.core.display.Javascript object>"
            ]
          },
          "metadata": {},
          "output_type": "display_data"
        },
        {
          "data": {
            "application/javascript": "\n            setTimeout(function() {\n                var nbb_cell_id = 17;\n                var nbb_unformatted_code = \"plt.plot([1, 2, 3, 4], [1, 4, 9, 16])\";\n                var nbb_formatted_code = \"plt.plot([1, 2, 3, 4], [1, 4, 9, 16])\";\n                var nbb_cells = Jupyter.notebook.get_cells();\n                for (var i = 0; i < nbb_cells.length; ++i) {\n                    if (nbb_cells[i].input_prompt_number == nbb_cell_id) {\n                        if (nbb_cells[i].get_text() == nbb_unformatted_code) {\n                             nbb_cells[i].set_text(nbb_formatted_code);\n                        }\n                        break;\n                    }\n                }\n            }, 500);\n            ",
            "text/plain": [
              "<IPython.core.display.Javascript object>"
            ]
          },
          "metadata": {},
          "output_type": "display_data"
        }
      ],
      "source": [
        "plt.plot([1, 2, 3, 4], [1, 4, 9, 16])"
      ]
    },
    {
      "cell_type": "code",
      "execution_count": 18,
      "id": "02db085c",
      "metadata": {},
      "outputs": [
        {
          "data": {
            "application/javascript": "\n            setTimeout(function() {\n                var nbb_cell_id = 18;\n                var nbb_unformatted_code = \"import warnings\\nwarnings.filterwarnings(\\\"ignore\\\")\\n\\n# import numpy as np   \\n# import pandas as pd\\n\\n# import seaborn as sns\\n# import matplotlib.pyplot as plt\\n\\nfrom sklearn.tree import DecisionTreeRegressor\\n# from sklearn.ensemble import BaggingRegressor,RandomForestRegressor, GradientBoostingRegressor, AdaBoostRegressor, StackingRegressor\\n# from xgboost import XGBRegressor\\n# from sklearn import metrics\\nfrom sklearn.model_selection import GridSearchCV, train_test_split\";\n                var nbb_formatted_code = \"import warnings\\n\\nwarnings.filterwarnings(\\\"ignore\\\")\\n\\n# import numpy as np\\n# import pandas as pd\\n\\n# import seaborn as sns\\n# import matplotlib.pyplot as plt\\n\\nfrom sklearn.tree import DecisionTreeRegressor\\n\\n# from sklearn.ensemble import BaggingRegressor,RandomForestRegressor, GradientBoostingRegressor, AdaBoostRegressor, StackingRegressor\\n# from xgboost import XGBRegressor\\n# from sklearn import metrics\\nfrom sklearn.model_selection import GridSearchCV, train_test_split\";\n                var nbb_cells = Jupyter.notebook.get_cells();\n                for (var i = 0; i < nbb_cells.length; ++i) {\n                    if (nbb_cells[i].input_prompt_number == nbb_cell_id) {\n                        if (nbb_cells[i].get_text() == nbb_unformatted_code) {\n                             nbb_cells[i].set_text(nbb_formatted_code);\n                        }\n                        break;\n                    }\n                }\n            }, 500);\n            ",
            "text/plain": [
              "<IPython.core.display.Javascript object>"
            ]
          },
          "metadata": {},
          "output_type": "display_data"
        },
        {
          "data": {
            "application/javascript": "\n            setTimeout(function() {\n                var nbb_cell_id = 18;\n                var nbb_unformatted_code = \"import warnings\\nwarnings.filterwarnings(\\\"ignore\\\")\\n\\n# import numpy as np   \\n# import pandas as pd\\n\\n# import seaborn as sns\\n# import matplotlib.pyplot as plt\\n\\nfrom sklearn.tree import DecisionTreeRegressor\\n# from sklearn.ensemble import BaggingRegressor,RandomForestRegressor, GradientBoostingRegressor, AdaBoostRegressor, StackingRegressor\\n# from xgboost import XGBRegressor\\n# from sklearn import metrics\\nfrom sklearn.model_selection import GridSearchCV, train_test_split\";\n                var nbb_formatted_code = \"import warnings\\n\\nwarnings.filterwarnings(\\\"ignore\\\")\\n\\n# import numpy as np\\n# import pandas as pd\\n\\n# import seaborn as sns\\n# import matplotlib.pyplot as plt\\n\\nfrom sklearn.tree import DecisionTreeRegressor\\n\\n# from sklearn.ensemble import BaggingRegressor,RandomForestRegressor, GradientBoostingRegressor, AdaBoostRegressor, StackingRegressor\\n# from xgboost import XGBRegressor\\n# from sklearn import metrics\\nfrom sklearn.model_selection import GridSearchCV, train_test_split\";\n                var nbb_cells = Jupyter.notebook.get_cells();\n                for (var i = 0; i < nbb_cells.length; ++i) {\n                    if (nbb_cells[i].input_prompt_number == nbb_cell_id) {\n                        if (nbb_cells[i].get_text() == nbb_unformatted_code) {\n                             nbb_cells[i].set_text(nbb_formatted_code);\n                        }\n                        break;\n                    }\n                }\n            }, 500);\n            ",
            "text/plain": [
              "<IPython.core.display.Javascript object>"
            ]
          },
          "metadata": {},
          "output_type": "display_data"
        },
        {
          "data": {
            "application/javascript": "\n            setTimeout(function() {\n                var nbb_cell_id = 18;\n                var nbb_unformatted_code = \"import warnings\\nwarnings.filterwarnings(\\\"ignore\\\")\\n\\n# import numpy as np   \\n# import pandas as pd\\n\\n# import seaborn as sns\\n# import matplotlib.pyplot as plt\\n\\nfrom sklearn.tree import DecisionTreeRegressor\\n# from sklearn.ensemble import BaggingRegressor,RandomForestRegressor, GradientBoostingRegressor, AdaBoostRegressor, StackingRegressor\\n# from xgboost import XGBRegressor\\n# from sklearn import metrics\\nfrom sklearn.model_selection import GridSearchCV, train_test_split\";\n                var nbb_formatted_code = \"import warnings\\n\\nwarnings.filterwarnings(\\\"ignore\\\")\\n\\n# import numpy as np\\n# import pandas as pd\\n\\n# import seaborn as sns\\n# import matplotlib.pyplot as plt\\n\\nfrom sklearn.tree import DecisionTreeRegressor\\n\\n# from sklearn.ensemble import BaggingRegressor,RandomForestRegressor, GradientBoostingRegressor, AdaBoostRegressor, StackingRegressor\\n# from xgboost import XGBRegressor\\n# from sklearn import metrics\\nfrom sklearn.model_selection import GridSearchCV, train_test_split\";\n                var nbb_cells = Jupyter.notebook.get_cells();\n                for (var i = 0; i < nbb_cells.length; ++i) {\n                    if (nbb_cells[i].input_prompt_number == nbb_cell_id) {\n                        if (nbb_cells[i].get_text() == nbb_unformatted_code) {\n                             nbb_cells[i].set_text(nbb_formatted_code);\n                        }\n                        break;\n                    }\n                }\n            }, 500);\n            ",
            "text/plain": [
              "<IPython.core.display.Javascript object>"
            ]
          },
          "metadata": {},
          "output_type": "display_data"
        }
      ],
      "source": [
        "import warnings\n",
        "warnings.filterwarnings(\"ignore\")\n",
        "\n",
        "# import numpy as np   \n",
        "# import pandas as pd\n",
        "\n",
        "# import seaborn as sns\n",
        "# import matplotlib.pyplot as plt\n",
        "\n",
        "from sklearn.tree import DecisionTreeRegressor\n",
        "# from sklearn.ensemble import BaggingRegressor,RandomForestRegressor, GradientBoostingRegressor, AdaBoostRegressor, StackingRegressor\n",
        "# from xgboost import XGBRegressor\n",
        "# from sklearn import metrics\n",
        "from sklearn.model_selection import GridSearchCV, train_test_split"
      ]
    },
    {
      "cell_type": "markdown",
      "id": "c1cd4628",
      "metadata": {
        "id": "c1cd4628"
      },
      "source": [
        "## Importing necessary libraries"
      ]
    },
    {
      "cell_type": "code",
      "execution_count": 19,
      "id": "canadian-maple",
      "metadata": {
        "colab": {
          "base_uri": "https://localhost:8080/",
          "height": 554
        },
        "id": "canadian-maple",
        "outputId": "2e2d6b3b-6f98-418d-b22a-2a07c2294b84"
      },
      "outputs": [
        {
          "name": "stdout",
          "output_type": "stream",
          "text": [
            "The nb_black extension is already loaded. To reload it, use:\n",
            "  %reload_ext nb_black\n"
          ]
        },
        {
          "data": {
            "application/javascript": "\n            setTimeout(function() {\n                var nbb_cell_id = 19;\n                var nbb_unformatted_code = \"# this will help in making the Python code more structured automatically (good coding practice)\\n%load_ext nb_black\\n\\nimport warnings\\n\\nwarnings.filterwarnings(\\\"ignore\\\")\\n\\n# Libraries to help with reading and manipulating data\\nimport numpy as np\\nimport pandas as pd\\n\\n# Library to split data\\nfrom sklearn.model_selection import train_test_split\\n\\n# libaries to help with data visualization\\nimport matplotlib.pyplot as plt\\nimport seaborn as sns\\n\\n# Removes the limit for the number of displayed columns\\npd.set_option(\\\"display.max_columns\\\", None)\\n# Sets the limit for the number of displayed rows\\npd.set_option(\\\"display.max_rows\\\", 100)\\n\\n\\n# Libraries different ensemble classifiers\\nfrom sklearn.ensemble import (\\n    BaggingClassifier,\\n    RandomForestClassifier,\\n    AdaBoostClassifier,\\n    GradientBoostingClassifier,\\n    StackingClassifier,\\n)\\n\\nfrom xgboost import XGBClassifier\\nfrom sklearn.tree import DecisionTreeClassifier\\n\\n# Libraries to get different metric scores\\nfrom sklearn import metrics\\nfrom sklearn.metrics import (\\n    confusion_matrix,\\n    accuracy_score,\\n    precision_score,\\n    recall_score,\\n    f1_score,\\n)\\n\\n# To tune different models\\nfrom sklearn.model_selection import GridSearchCV\";\n                var nbb_formatted_code = \"# this will help in making the Python code more structured automatically (good coding practice)\\n%load_ext nb_black\\n\\nimport warnings\\n\\nwarnings.filterwarnings(\\\"ignore\\\")\\n\\n# Libraries to help with reading and manipulating data\\nimport numpy as np\\nimport pandas as pd\\n\\n# Library to split data\\nfrom sklearn.model_selection import train_test_split\\n\\n# libaries to help with data visualization\\nimport matplotlib.pyplot as plt\\nimport seaborn as sns\\n\\n# Removes the limit for the number of displayed columns\\npd.set_option(\\\"display.max_columns\\\", None)\\n# Sets the limit for the number of displayed rows\\npd.set_option(\\\"display.max_rows\\\", 100)\\n\\n\\n# Libraries different ensemble classifiers\\nfrom sklearn.ensemble import (\\n    BaggingClassifier,\\n    RandomForestClassifier,\\n    AdaBoostClassifier,\\n    GradientBoostingClassifier,\\n    StackingClassifier,\\n)\\n\\nfrom xgboost import XGBClassifier\\nfrom sklearn.tree import DecisionTreeClassifier\\n\\n# Libraries to get different metric scores\\nfrom sklearn import metrics\\nfrom sklearn.metrics import (\\n    confusion_matrix,\\n    accuracy_score,\\n    precision_score,\\n    recall_score,\\n    f1_score,\\n)\\n\\n# To tune different models\\nfrom sklearn.model_selection import GridSearchCV\";\n                var nbb_cells = Jupyter.notebook.get_cells();\n                for (var i = 0; i < nbb_cells.length; ++i) {\n                    if (nbb_cells[i].input_prompt_number == nbb_cell_id) {\n                        if (nbb_cells[i].get_text() == nbb_unformatted_code) {\n                             nbb_cells[i].set_text(nbb_formatted_code);\n                        }\n                        break;\n                    }\n                }\n            }, 500);\n            ",
            "text/plain": [
              "<IPython.core.display.Javascript object>"
            ]
          },
          "metadata": {},
          "output_type": "display_data"
        },
        {
          "data": {
            "application/javascript": "\n            setTimeout(function() {\n                var nbb_cell_id = 19;\n                var nbb_unformatted_code = \"# this will help in making the Python code more structured automatically (good coding practice)\\n%load_ext nb_black\\n\\nimport warnings\\n\\nwarnings.filterwarnings(\\\"ignore\\\")\\n\\n# Libraries to help with reading and manipulating data\\nimport numpy as np\\nimport pandas as pd\\n\\n# Library to split data\\nfrom sklearn.model_selection import train_test_split\\n\\n# libaries to help with data visualization\\nimport matplotlib.pyplot as plt\\nimport seaborn as sns\\n\\n# Removes the limit for the number of displayed columns\\npd.set_option(\\\"display.max_columns\\\", None)\\n# Sets the limit for the number of displayed rows\\npd.set_option(\\\"display.max_rows\\\", 100)\\n\\n\\n# Libraries different ensemble classifiers\\nfrom sklearn.ensemble import (\\n    BaggingClassifier,\\n    RandomForestClassifier,\\n    AdaBoostClassifier,\\n    GradientBoostingClassifier,\\n    StackingClassifier,\\n)\\n\\nfrom xgboost import XGBClassifier\\nfrom sklearn.tree import DecisionTreeClassifier\\n\\n# Libraries to get different metric scores\\nfrom sklearn import metrics\\nfrom sklearn.metrics import (\\n    confusion_matrix,\\n    accuracy_score,\\n    precision_score,\\n    recall_score,\\n    f1_score,\\n)\\n\\n# To tune different models\\nfrom sklearn.model_selection import GridSearchCV\";\n                var nbb_formatted_code = \"# this will help in making the Python code more structured automatically (good coding practice)\\n%load_ext nb_black\\n\\nimport warnings\\n\\nwarnings.filterwarnings(\\\"ignore\\\")\\n\\n# Libraries to help with reading and manipulating data\\nimport numpy as np\\nimport pandas as pd\\n\\n# Library to split data\\nfrom sklearn.model_selection import train_test_split\\n\\n# libaries to help with data visualization\\nimport matplotlib.pyplot as plt\\nimport seaborn as sns\\n\\n# Removes the limit for the number of displayed columns\\npd.set_option(\\\"display.max_columns\\\", None)\\n# Sets the limit for the number of displayed rows\\npd.set_option(\\\"display.max_rows\\\", 100)\\n\\n\\n# Libraries different ensemble classifiers\\nfrom sklearn.ensemble import (\\n    BaggingClassifier,\\n    RandomForestClassifier,\\n    AdaBoostClassifier,\\n    GradientBoostingClassifier,\\n    StackingClassifier,\\n)\\n\\nfrom xgboost import XGBClassifier\\nfrom sklearn.tree import DecisionTreeClassifier\\n\\n# Libraries to get different metric scores\\nfrom sklearn import metrics\\nfrom sklearn.metrics import (\\n    confusion_matrix,\\n    accuracy_score,\\n    precision_score,\\n    recall_score,\\n    f1_score,\\n)\\n\\n# To tune different models\\nfrom sklearn.model_selection import GridSearchCV\";\n                var nbb_cells = Jupyter.notebook.get_cells();\n                for (var i = 0; i < nbb_cells.length; ++i) {\n                    if (nbb_cells[i].input_prompt_number == nbb_cell_id) {\n                        if (nbb_cells[i].get_text() == nbb_unformatted_code) {\n                             nbb_cells[i].set_text(nbb_formatted_code);\n                        }\n                        break;\n                    }\n                }\n            }, 500);\n            ",
            "text/plain": [
              "<IPython.core.display.Javascript object>"
            ]
          },
          "metadata": {},
          "output_type": "display_data"
        },
        {
          "data": {
            "application/javascript": "\n            setTimeout(function() {\n                var nbb_cell_id = 19;\n                var nbb_unformatted_code = \"# this will help in making the Python code more structured automatically (good coding practice)\\n%load_ext nb_black\\n\\nimport warnings\\n\\nwarnings.filterwarnings(\\\"ignore\\\")\\n\\n# Libraries to help with reading and manipulating data\\nimport numpy as np\\nimport pandas as pd\\n\\n# Library to split data\\nfrom sklearn.model_selection import train_test_split\\n\\n# libaries to help with data visualization\\nimport matplotlib.pyplot as plt\\nimport seaborn as sns\\n\\n# Removes the limit for the number of displayed columns\\npd.set_option(\\\"display.max_columns\\\", None)\\n# Sets the limit for the number of displayed rows\\npd.set_option(\\\"display.max_rows\\\", 100)\\n\\n\\n# Libraries different ensemble classifiers\\nfrom sklearn.ensemble import (\\n    BaggingClassifier,\\n    RandomForestClassifier,\\n    AdaBoostClassifier,\\n    GradientBoostingClassifier,\\n    StackingClassifier,\\n)\\n\\nfrom xgboost import XGBClassifier\\nfrom sklearn.tree import DecisionTreeClassifier\\n\\n# Libraries to get different metric scores\\nfrom sklearn import metrics\\nfrom sklearn.metrics import (\\n    confusion_matrix,\\n    accuracy_score,\\n    precision_score,\\n    recall_score,\\n    f1_score,\\n)\\n\\n# To tune different models\\nfrom sklearn.model_selection import GridSearchCV\";\n                var nbb_formatted_code = \"# this will help in making the Python code more structured automatically (good coding practice)\\n%load_ext nb_black\\n\\nimport warnings\\n\\nwarnings.filterwarnings(\\\"ignore\\\")\\n\\n# Libraries to help with reading and manipulating data\\nimport numpy as np\\nimport pandas as pd\\n\\n# Library to split data\\nfrom sklearn.model_selection import train_test_split\\n\\n# libaries to help with data visualization\\nimport matplotlib.pyplot as plt\\nimport seaborn as sns\\n\\n# Removes the limit for the number of displayed columns\\npd.set_option(\\\"display.max_columns\\\", None)\\n# Sets the limit for the number of displayed rows\\npd.set_option(\\\"display.max_rows\\\", 100)\\n\\n\\n# Libraries different ensemble classifiers\\nfrom sklearn.ensemble import (\\n    BaggingClassifier,\\n    RandomForestClassifier,\\n    AdaBoostClassifier,\\n    GradientBoostingClassifier,\\n    StackingClassifier,\\n)\\n\\nfrom xgboost import XGBClassifier\\nfrom sklearn.tree import DecisionTreeClassifier\\n\\n# Libraries to get different metric scores\\nfrom sklearn import metrics\\nfrom sklearn.metrics import (\\n    confusion_matrix,\\n    accuracy_score,\\n    precision_score,\\n    recall_score,\\n    f1_score,\\n)\\n\\n# To tune different models\\nfrom sklearn.model_selection import GridSearchCV\";\n                var nbb_cells = Jupyter.notebook.get_cells();\n                for (var i = 0; i < nbb_cells.length; ++i) {\n                    if (nbb_cells[i].input_prompt_number == nbb_cell_id) {\n                        if (nbb_cells[i].get_text() == nbb_unformatted_code) {\n                             nbb_cells[i].set_text(nbb_formatted_code);\n                        }\n                        break;\n                    }\n                }\n            }, 500);\n            ",
            "text/plain": [
              "<IPython.core.display.Javascript object>"
            ]
          },
          "metadata": {},
          "output_type": "display_data"
        }
      ],
      "source": [
        "# this will help in making the Python code more structured automatically (good coding practice)\n",
        "%load_ext nb_black\n",
        "\n",
        "import warnings\n",
        "\n",
        "warnings.filterwarnings(\"ignore\")\n",
        "\n",
        "# Libraries to help with reading and manipulating data\n",
        "import numpy as np\n",
        "import pandas as pd\n",
        "\n",
        "# Library to split data\n",
        "from sklearn.model_selection import train_test_split\n",
        "\n",
        "# libaries to help with data visualization\n",
        "import matplotlib.pyplot as plt\n",
        "import seaborn as sns\n",
        "\n",
        "# Removes the limit for the number of displayed columns\n",
        "pd.set_option(\"display.max_columns\", None)\n",
        "# Sets the limit for the number of displayed rows\n",
        "pd.set_option(\"display.max_rows\", 100)\n",
        "\n",
        "\n",
        "# Libraries different ensemble classifiers\n",
        "from sklearn.ensemble import (\n",
        "    BaggingClassifier,\n",
        "    RandomForestClassifier,\n",
        "    AdaBoostClassifier,\n",
        "    GradientBoostingClassifier,\n",
        "    StackingClassifier,\n",
        ")\n",
        "\n",
        "from xgboost import XGBClassifier\n",
        "from sklearn.tree import DecisionTreeClassifier\n",
        "\n",
        "# Libraries to get different metric scores\n",
        "from sklearn import metrics\n",
        "from sklearn.metrics import (\n",
        "    confusion_matrix,\n",
        "    accuracy_score,\n",
        "    precision_score,\n",
        "    recall_score,\n",
        "    f1_score,\n",
        ")\n",
        "\n",
        "# To tune different models\n",
        "from sklearn.model_selection import GridSearchCV"
      ]
    },
    {
      "cell_type": "markdown",
      "id": "thorough-passion",
      "metadata": {
        "id": "thorough-passion"
      },
      "source": [
        "## Importing Dataset"
      ]
    },
    {
      "cell_type": "code",
      "execution_count": 20,
      "id": "alleged-teaching",
      "metadata": {
        "id": "alleged-teaching"
      },
      "outputs": [
        {
          "data": {
            "application/javascript": "\n            setTimeout(function() {\n                var nbb_cell_id = 20;\n                var nbb_unformatted_code = \"visa = pd.read_csv('datasets/ensemble/EasyVisa (1).csv') ##  Fill the blank to read the data\";\n                var nbb_formatted_code = \"visa = pd.read_csv(\\n    \\\"datasets/ensemble/EasyVisa (1).csv\\\"\\n)  ##  Fill the blank to read the data\";\n                var nbb_cells = Jupyter.notebook.get_cells();\n                for (var i = 0; i < nbb_cells.length; ++i) {\n                    if (nbb_cells[i].input_prompt_number == nbb_cell_id) {\n                        if (nbb_cells[i].get_text() == nbb_unformatted_code) {\n                             nbb_cells[i].set_text(nbb_formatted_code);\n                        }\n                        break;\n                    }\n                }\n            }, 500);\n            ",
            "text/plain": [
              "<IPython.core.display.Javascript object>"
            ]
          },
          "metadata": {},
          "output_type": "display_data"
        },
        {
          "data": {
            "application/javascript": "\n            setTimeout(function() {\n                var nbb_cell_id = 20;\n                var nbb_unformatted_code = \"visa = pd.read_csv('datasets/ensemble/EasyVisa (1).csv') ##  Fill the blank to read the data\";\n                var nbb_formatted_code = \"visa = pd.read_csv(\\n    \\\"datasets/ensemble/EasyVisa (1).csv\\\"\\n)  ##  Fill the blank to read the data\";\n                var nbb_cells = Jupyter.notebook.get_cells();\n                for (var i = 0; i < nbb_cells.length; ++i) {\n                    if (nbb_cells[i].input_prompt_number == nbb_cell_id) {\n                        if (nbb_cells[i].get_text() == nbb_unformatted_code) {\n                             nbb_cells[i].set_text(nbb_formatted_code);\n                        }\n                        break;\n                    }\n                }\n            }, 500);\n            ",
            "text/plain": [
              "<IPython.core.display.Javascript object>"
            ]
          },
          "metadata": {},
          "output_type": "display_data"
        },
        {
          "data": {
            "application/javascript": "\n            setTimeout(function() {\n                var nbb_cell_id = 20;\n                var nbb_unformatted_code = \"visa = pd.read_csv('datasets/ensemble/EasyVisa (1).csv') ##  Fill the blank to read the data\";\n                var nbb_formatted_code = \"visa = pd.read_csv(\\n    \\\"datasets/ensemble/EasyVisa (1).csv\\\"\\n)  ##  Fill the blank to read the data\";\n                var nbb_cells = Jupyter.notebook.get_cells();\n                for (var i = 0; i < nbb_cells.length; ++i) {\n                    if (nbb_cells[i].input_prompt_number == nbb_cell_id) {\n                        if (nbb_cells[i].get_text() == nbb_unformatted_code) {\n                             nbb_cells[i].set_text(nbb_formatted_code);\n                        }\n                        break;\n                    }\n                }\n            }, 500);\n            ",
            "text/plain": [
              "<IPython.core.display.Javascript object>"
            ]
          },
          "metadata": {},
          "output_type": "display_data"
        }
      ],
      "source": [
        "visa = pd.read_csv('datasets/ensemble/EasyVisa (1).csv') ##  Fill the blank to read the data"
      ]
    },
    {
      "cell_type": "code",
      "execution_count": 21,
      "id": "falling-annual",
      "metadata": {
        "id": "falling-annual"
      },
      "outputs": [
        {
          "data": {
            "application/javascript": "\n            setTimeout(function() {\n                var nbb_cell_id = 21;\n                var nbb_unformatted_code = \"# copying data to another variable to avoid any changes to original data\\ndata = visa.copy()\";\n                var nbb_formatted_code = \"# copying data to another variable to avoid any changes to original data\\ndata = visa.copy()\";\n                var nbb_cells = Jupyter.notebook.get_cells();\n                for (var i = 0; i < nbb_cells.length; ++i) {\n                    if (nbb_cells[i].input_prompt_number == nbb_cell_id) {\n                        if (nbb_cells[i].get_text() == nbb_unformatted_code) {\n                             nbb_cells[i].set_text(nbb_formatted_code);\n                        }\n                        break;\n                    }\n                }\n            }, 500);\n            ",
            "text/plain": [
              "<IPython.core.display.Javascript object>"
            ]
          },
          "metadata": {},
          "output_type": "display_data"
        },
        {
          "data": {
            "application/javascript": "\n            setTimeout(function() {\n                var nbb_cell_id = 21;\n                var nbb_unformatted_code = \"# copying data to another variable to avoid any changes to original data\\ndata = visa.copy()\";\n                var nbb_formatted_code = \"# copying data to another variable to avoid any changes to original data\\ndata = visa.copy()\";\n                var nbb_cells = Jupyter.notebook.get_cells();\n                for (var i = 0; i < nbb_cells.length; ++i) {\n                    if (nbb_cells[i].input_prompt_number == nbb_cell_id) {\n                        if (nbb_cells[i].get_text() == nbb_unformatted_code) {\n                             nbb_cells[i].set_text(nbb_formatted_code);\n                        }\n                        break;\n                    }\n                }\n            }, 500);\n            ",
            "text/plain": [
              "<IPython.core.display.Javascript object>"
            ]
          },
          "metadata": {},
          "output_type": "display_data"
        },
        {
          "data": {
            "application/javascript": "\n            setTimeout(function() {\n                var nbb_cell_id = 21;\n                var nbb_unformatted_code = \"# copying data to another variable to avoid any changes to original data\\ndata = visa.copy()\";\n                var nbb_formatted_code = \"# copying data to another variable to avoid any changes to original data\\ndata = visa.copy()\";\n                var nbb_cells = Jupyter.notebook.get_cells();\n                for (var i = 0; i < nbb_cells.length; ++i) {\n                    if (nbb_cells[i].input_prompt_number == nbb_cell_id) {\n                        if (nbb_cells[i].get_text() == nbb_unformatted_code) {\n                             nbb_cells[i].set_text(nbb_formatted_code);\n                        }\n                        break;\n                    }\n                }\n            }, 500);\n            ",
            "text/plain": [
              "<IPython.core.display.Javascript object>"
            ]
          },
          "metadata": {},
          "output_type": "display_data"
        }
      ],
      "source": [
        "# copying data to another variable to avoid any changes to original data\n",
        "data = visa.copy()"
      ]
    },
    {
      "cell_type": "markdown",
      "id": "6vlJXoQkgcGI",
      "metadata": {
        "id": "6vlJXoQkgcGI"
      },
      "source": [
        "## Overview of the Dataset"
      ]
    },
    {
      "cell_type": "markdown",
      "id": "aboriginal-wrist",
      "metadata": {
        "id": "aboriginal-wrist"
      },
      "source": [
        "### View the first and last 5 rows of the dataset"
      ]
    },
    {
      "cell_type": "code",
      "execution_count": 22,
      "id": "judicial-lease",
      "metadata": {
        "id": "judicial-lease"
      },
      "outputs": [
        {
          "data": {
            "text/html": [
              "<div>\n",
              "<style scoped>\n",
              "    .dataframe tbody tr th:only-of-type {\n",
              "        vertical-align: middle;\n",
              "    }\n",
              "\n",
              "    .dataframe tbody tr th {\n",
              "        vertical-align: top;\n",
              "    }\n",
              "\n",
              "    .dataframe thead th {\n",
              "        text-align: right;\n",
              "    }\n",
              "</style>\n",
              "<table border=\"1\" class=\"dataframe\">\n",
              "  <thead>\n",
              "    <tr style=\"text-align: right;\">\n",
              "      <th></th>\n",
              "      <th>case_id</th>\n",
              "      <th>continent</th>\n",
              "      <th>education_of_employee</th>\n",
              "      <th>has_job_experience</th>\n",
              "      <th>requires_job_training</th>\n",
              "      <th>no_of_employees</th>\n",
              "      <th>yr_of_estab</th>\n",
              "      <th>region_of_employment</th>\n",
              "      <th>prevailing_wage</th>\n",
              "      <th>unit_of_wage</th>\n",
              "      <th>full_time_position</th>\n",
              "      <th>case_status</th>\n",
              "    </tr>\n",
              "  </thead>\n",
              "  <tbody>\n",
              "    <tr>\n",
              "      <th>0</th>\n",
              "      <td>EZYV01</td>\n",
              "      <td>Asia</td>\n",
              "      <td>High School</td>\n",
              "      <td>N</td>\n",
              "      <td>N</td>\n",
              "      <td>14513</td>\n",
              "      <td>2007</td>\n",
              "      <td>West</td>\n",
              "      <td>592.20290</td>\n",
              "      <td>Hour</td>\n",
              "      <td>Y</td>\n",
              "      <td>Denied</td>\n",
              "    </tr>\n",
              "    <tr>\n",
              "      <th>1</th>\n",
              "      <td>EZYV02</td>\n",
              "      <td>Asia</td>\n",
              "      <td>Master's</td>\n",
              "      <td>Y</td>\n",
              "      <td>N</td>\n",
              "      <td>2412</td>\n",
              "      <td>2002</td>\n",
              "      <td>Northeast</td>\n",
              "      <td>83425.65000</td>\n",
              "      <td>Year</td>\n",
              "      <td>Y</td>\n",
              "      <td>Certified</td>\n",
              "    </tr>\n",
              "    <tr>\n",
              "      <th>2</th>\n",
              "      <td>EZYV03</td>\n",
              "      <td>Asia</td>\n",
              "      <td>Bachelor's</td>\n",
              "      <td>N</td>\n",
              "      <td>Y</td>\n",
              "      <td>44444</td>\n",
              "      <td>2008</td>\n",
              "      <td>West</td>\n",
              "      <td>122996.86000</td>\n",
              "      <td>Year</td>\n",
              "      <td>Y</td>\n",
              "      <td>Denied</td>\n",
              "    </tr>\n",
              "    <tr>\n",
              "      <th>3</th>\n",
              "      <td>EZYV04</td>\n",
              "      <td>Asia</td>\n",
              "      <td>Bachelor's</td>\n",
              "      <td>N</td>\n",
              "      <td>N</td>\n",
              "      <td>98</td>\n",
              "      <td>1897</td>\n",
              "      <td>West</td>\n",
              "      <td>83434.03000</td>\n",
              "      <td>Year</td>\n",
              "      <td>Y</td>\n",
              "      <td>Denied</td>\n",
              "    </tr>\n",
              "    <tr>\n",
              "      <th>4</th>\n",
              "      <td>EZYV05</td>\n",
              "      <td>Africa</td>\n",
              "      <td>Master's</td>\n",
              "      <td>Y</td>\n",
              "      <td>N</td>\n",
              "      <td>1082</td>\n",
              "      <td>2005</td>\n",
              "      <td>South</td>\n",
              "      <td>149907.39000</td>\n",
              "      <td>Year</td>\n",
              "      <td>Y</td>\n",
              "      <td>Certified</td>\n",
              "    </tr>\n",
              "  </tbody>\n",
              "</table>\n",
              "</div>"
            ],
            "text/plain": [
              "  case_id continent education_of_employee has_job_experience  \\\n",
              "0  EZYV01      Asia           High School                  N   \n",
              "1  EZYV02      Asia              Master's                  Y   \n",
              "2  EZYV03      Asia            Bachelor's                  N   \n",
              "3  EZYV04      Asia            Bachelor's                  N   \n",
              "4  EZYV05    Africa              Master's                  Y   \n",
              "\n",
              "  requires_job_training  no_of_employees  yr_of_estab region_of_employment  \\\n",
              "0                     N            14513         2007                 West   \n",
              "1                     N             2412         2002            Northeast   \n",
              "2                     Y            44444         2008                 West   \n",
              "3                     N               98         1897                 West   \n",
              "4                     N             1082         2005                South   \n",
              "\n",
              "   prevailing_wage unit_of_wage full_time_position case_status  \n",
              "0        592.20290         Hour                  Y      Denied  \n",
              "1      83425.65000         Year                  Y   Certified  \n",
              "2     122996.86000         Year                  Y      Denied  \n",
              "3      83434.03000         Year                  Y      Denied  \n",
              "4     149907.39000         Year                  Y   Certified  "
            ]
          },
          "execution_count": 22,
          "metadata": {},
          "output_type": "execute_result"
        },
        {
          "data": {
            "application/javascript": "\n            setTimeout(function() {\n                var nbb_cell_id = 22;\n                var nbb_unformatted_code = \"data.head() ##  Complete the code to view top 5 rows of the data\";\n                var nbb_formatted_code = \"data.head()  ##  Complete the code to view top 5 rows of the data\";\n                var nbb_cells = Jupyter.notebook.get_cells();\n                for (var i = 0; i < nbb_cells.length; ++i) {\n                    if (nbb_cells[i].input_prompt_number == nbb_cell_id) {\n                        if (nbb_cells[i].get_text() == nbb_unformatted_code) {\n                             nbb_cells[i].set_text(nbb_formatted_code);\n                        }\n                        break;\n                    }\n                }\n            }, 500);\n            ",
            "text/plain": [
              "<IPython.core.display.Javascript object>"
            ]
          },
          "metadata": {},
          "output_type": "display_data"
        },
        {
          "data": {
            "application/javascript": "\n            setTimeout(function() {\n                var nbb_cell_id = 22;\n                var nbb_unformatted_code = \"data.head() ##  Complete the code to view top 5 rows of the data\";\n                var nbb_formatted_code = \"data.head()  ##  Complete the code to view top 5 rows of the data\";\n                var nbb_cells = Jupyter.notebook.get_cells();\n                for (var i = 0; i < nbb_cells.length; ++i) {\n                    if (nbb_cells[i].input_prompt_number == nbb_cell_id) {\n                        if (nbb_cells[i].get_text() == nbb_unformatted_code) {\n                             nbb_cells[i].set_text(nbb_formatted_code);\n                        }\n                        break;\n                    }\n                }\n            }, 500);\n            ",
            "text/plain": [
              "<IPython.core.display.Javascript object>"
            ]
          },
          "metadata": {},
          "output_type": "display_data"
        },
        {
          "data": {
            "application/javascript": "\n            setTimeout(function() {\n                var nbb_cell_id = 22;\n                var nbb_unformatted_code = \"data.head() ##  Complete the code to view top 5 rows of the data\";\n                var nbb_formatted_code = \"data.head()  ##  Complete the code to view top 5 rows of the data\";\n                var nbb_cells = Jupyter.notebook.get_cells();\n                for (var i = 0; i < nbb_cells.length; ++i) {\n                    if (nbb_cells[i].input_prompt_number == nbb_cell_id) {\n                        if (nbb_cells[i].get_text() == nbb_unformatted_code) {\n                             nbb_cells[i].set_text(nbb_formatted_code);\n                        }\n                        break;\n                    }\n                }\n            }, 500);\n            ",
            "text/plain": [
              "<IPython.core.display.Javascript object>"
            ]
          },
          "metadata": {},
          "output_type": "display_data"
        }
      ],
      "source": [
        "data.head() ##  Complete the code to view top 5 rows of the data"
      ]
    },
    {
      "cell_type": "code",
      "execution_count": 23,
      "id": "descending-david",
      "metadata": {
        "id": "descending-david"
      },
      "outputs": [
        {
          "ename": "SyntaxError",
          "evalue": "invalid syntax (3998193475.py, line 1)",
          "output_type": "error",
          "traceback": [
            "\u001b[1;36m  Cell \u001b[1;32mIn[23], line 1\u001b[1;36m\u001b[0m\n\u001b[1;33m    data.('_______') ##  Complete the code to view last 5 rows of the data\u001b[0m\n\u001b[1;37m         ^\u001b[0m\n\u001b[1;31mSyntaxError\u001b[0m\u001b[1;31m:\u001b[0m invalid syntax\n"
          ]
        },
        {
          "name": "stderr",
          "output_type": "stream",
          "text": [
            "ERROR:root:Cannot parse: 1:5: data.('_______') ##  Complete the code to view last 5 rows of the data  \n",
            "Traceback (most recent call last):\n",
            "  File \"c:\\Users\\steph\\OneDrive\\Documents\\38-ML-classification\\container\\machine-learning-classification\\.venv\\lib\\site-packages\\lab_black.py\", line 218, in format_cell\n",
            "    formatted_code = _format_code(cell)\n",
            "  File \"c:\\Users\\steph\\OneDrive\\Documents\\38-ML-classification\\container\\machine-learning-classification\\.venv\\lib\\site-packages\\lab_black.py\", line 29, in _format_code\n",
            "    return format_str(src_contents=code, mode=FileMode())\n",
            "  File \"src\\black\\__init__.py\", line 1073, in format_str\n",
            "  File \"src\\black\\__init__.py\", line 1083, in _format_str_once\n",
            "  File \"src\\black\\parsing.py\", line 127, in lib2to3_parse\n",
            "black.parsing.InvalidInput: Cannot parse: 1:5: data.('_______') ##  Complete the code to view last 5 rows of the data  \n",
            "ERROR:root:Cannot parse: 1:5: data.('_______') ##  Complete the code to view last 5 rows of the data  \n",
            "Traceback (most recent call last):\n",
            "  File \"c:\\Users\\steph\\OneDrive\\Documents\\38-ML-classification\\container\\machine-learning-classification\\.venv\\lib\\site-packages\\lab_black.py\", line 218, in format_cell\n",
            "    formatted_code = _format_code(cell)\n",
            "  File \"c:\\Users\\steph\\OneDrive\\Documents\\38-ML-classification\\container\\machine-learning-classification\\.venv\\lib\\site-packages\\lab_black.py\", line 29, in _format_code\n",
            "    return format_str(src_contents=code, mode=FileMode())\n",
            "  File \"src\\black\\__init__.py\", line 1073, in format_str\n",
            "  File \"src\\black\\__init__.py\", line 1083, in _format_str_once\n",
            "  File \"src\\black\\parsing.py\", line 127, in lib2to3_parse\n",
            "black.parsing.InvalidInput: Cannot parse: 1:5: data.('_______') ##  Complete the code to view last 5 rows of the data  \n",
            "ERROR:root:Cannot parse: 1:5: data.('_______') ##  Complete the code to view last 5 rows of the data  \n",
            "Traceback (most recent call last):\n",
            "  File \"c:\\Users\\steph\\OneDrive\\Documents\\38-ML-classification\\container\\machine-learning-classification\\.venv\\lib\\site-packages\\lab_black.py\", line 218, in format_cell\n",
            "    formatted_code = _format_code(cell)\n",
            "  File \"c:\\Users\\steph\\OneDrive\\Documents\\38-ML-classification\\container\\machine-learning-classification\\.venv\\lib\\site-packages\\lab_black.py\", line 29, in _format_code\n",
            "    return format_str(src_contents=code, mode=FileMode())\n",
            "  File \"src\\black\\__init__.py\", line 1073, in format_str\n",
            "  File \"src\\black\\__init__.py\", line 1083, in _format_str_once\n",
            "  File \"src\\black\\parsing.py\", line 127, in lib2to3_parse\n",
            "black.parsing.InvalidInput: Cannot parse: 1:5: data.('_______') ##  Complete the code to view last 5 rows of the data  \n"
          ]
        }
      ],
      "source": [
        "data.('_______') ##  Complete the code to view last 5 rows of the data  "
      ]
    },
    {
      "cell_type": "markdown",
      "id": "accessory-camel",
      "metadata": {
        "id": "accessory-camel"
      },
      "source": [
        "### Understand the shape of the dataset"
      ]
    },
    {
      "cell_type": "code",
      "execution_count": null,
      "id": "regulation-elder",
      "metadata": {
        "id": "regulation-elder"
      },
      "outputs": [],
      "source": [
        "data.('_______') ##  Complete the code to view dimensions of the data"
      ]
    },
    {
      "cell_type": "markdown",
      "id": "assigned-berkeley",
      "metadata": {
        "id": "assigned-berkeley"
      },
      "source": [
        "### Check the data types of the columns for the dataset"
      ]
    },
    {
      "cell_type": "code",
      "execution_count": null,
      "id": "judicial-institute",
      "metadata": {
        "id": "judicial-institute"
      },
      "outputs": [],
      "source": [
        "data.info()"
      ]
    },
    {
      "cell_type": "code",
      "execution_count": null,
      "id": "going-validation",
      "metadata": {
        "id": "going-validation"
      },
      "outputs": [],
      "source": [
        "# checking for duplicate values\n",
        "data.('_______') ##  Complete the code to check duplicate entries in the data"
      ]
    },
    {
      "cell_type": "markdown",
      "id": "standing-horizontal",
      "metadata": {
        "id": "standing-horizontal"
      },
      "source": [
        "## Exploratory Data Analysis"
      ]
    },
    {
      "cell_type": "markdown",
      "id": "american-venue",
      "metadata": {
        "id": "american-venue"
      },
      "source": [
        "#### Let's check the statistical summary of the data"
      ]
    },
    {
      "cell_type": "code",
      "execution_count": null,
      "id": "premium-wagner",
      "metadata": {
        "id": "premium-wagner"
      },
      "outputs": [],
      "source": [
        "data.('_______') ##  Complete the code to print the statistical summary of the data"
      ]
    },
    {
      "cell_type": "markdown",
      "id": "competent-timing",
      "metadata": {
        "id": "competent-timing"
      },
      "source": [
        "#### Fixing the negative values in number of employees columns"
      ]
    },
    {
      "cell_type": "code",
      "execution_count": null,
      "id": "whole-saying",
      "metadata": {
        "id": "whole-saying"
      },
      "outputs": [],
      "source": [
        "data.loc['_______'].shape ## Complete the code to check negative values in the employee column"
      ]
    },
    {
      "cell_type": "code",
      "execution_count": null,
      "id": "prescription-bosnia",
      "metadata": {
        "id": "prescription-bosnia"
      },
      "outputs": [],
      "source": [
        "# taking the absolute values for number of employees\n",
        "data[\"no_of_employees\"] = '_______'(data[\"no_of_employees\"]) ## Write the function to convert the values to a positive number"
      ]
    },
    {
      "cell_type": "markdown",
      "id": "cutting-bookmark",
      "metadata": {
        "id": "cutting-bookmark"
      },
      "source": [
        "#### Let's check the count of each unique category in each of the categorical variables"
      ]
    },
    {
      "cell_type": "code",
      "execution_count": null,
      "id": "minute-helmet",
      "metadata": {
        "id": "minute-helmet"
      },
      "outputs": [],
      "source": [
        "# Making a list of all catrgorical variables\n",
        "cat_col = list(data.select_dtypes(\"object\").columns)\n",
        "\n",
        "# Printing number of count of each unique value in each column\n",
        "for column in cat_col:\n",
        "    print(data[column].value_counts())\n",
        "    print(\"-\" * 50)"
      ]
    },
    {
      "cell_type": "code",
      "execution_count": null,
      "id": "occupied-classroom",
      "metadata": {
        "id": "occupied-classroom"
      },
      "outputs": [],
      "source": [
        "# checking the number of unique values\n",
        "data[\"case_id\"].'_______' ## Complete the code to check unique values in the mentioned column"
      ]
    },
    {
      "cell_type": "code",
      "execution_count": null,
      "id": "existing-sociology",
      "metadata": {
        "id": "existing-sociology"
      },
      "outputs": [],
      "source": [
        "data.drop([\"________\"], axis=1, inplace=True) ## Complete the code to drop 'case_id' column from the data"
      ]
    },
    {
      "cell_type": "markdown",
      "id": "wooden-christian",
      "metadata": {
        "id": "wooden-christian"
      },
      "source": [
        "### Univariate Analysis"
      ]
    },
    {
      "cell_type": "code",
      "execution_count": null,
      "id": "superb-springfield",
      "metadata": {
        "id": "superb-springfield"
      },
      "outputs": [],
      "source": [
        "def histogram_boxplot(data, feature, figsize=(15, 10), kde=False, bins=None):\n",
        "    \"\"\"\n",
        "    Boxplot and histogram combined\n",
        "\n",
        "    data: dataframe\n",
        "    feature: dataframe column\n",
        "    figsize: size of figure (default (15,10))\n",
        "    kde: whether to show the density curve (default False)\n",
        "    bins: number of bins for histogram (default None)\n",
        "    \"\"\"\n",
        "    f2, (ax_box2, ax_hist2) = plt.subplots(\n",
        "        nrows=2,  # Number of rows of the subplot grid= 2\n",
        "        sharex=True,  # x-axis will be shared among all subplots\n",
        "        gridspec_kw={\"height_ratios\": (0.25, 0.75)},\n",
        "        figsize=figsize,\n",
        "    )  # creating the 2 subplots\n",
        "    sns.boxplot(\n",
        "        data=data, x=feature, ax=ax_box2, showmeans=True, color=\"violet\"\n",
        "    )  # boxplot will be created and a triangle will indicate the mean value of the column\n",
        "    sns.histplot(\n",
        "        data=data, x=feature, kde=kde, ax=ax_hist2, bins=bins\n",
        "    ) if bins else sns.histplot(\n",
        "        data=data, x=feature, kde=kde, ax=ax_hist2\n",
        "    )  # For histogram\n",
        "    ax_hist2.axvline(\n",
        "        data[feature].mean(), color=\"green\", linestyle=\"--\"\n",
        "    )  # Add mean to the histogram\n",
        "    ax_hist2.axvline(\n",
        "        data[feature].median(), color=\"black\", linestyle=\"-\"\n",
        "    )  # Add median to the histogram"
      ]
    },
    {
      "cell_type": "markdown",
      "id": "comic-inventory",
      "metadata": {
        "id": "comic-inventory"
      },
      "source": [
        "#### Observations on number of employees"
      ]
    },
    {
      "cell_type": "code",
      "execution_count": null,
      "id": "loaded-commercial",
      "metadata": {
        "id": "loaded-commercial"
      },
      "outputs": [],
      "source": [
        "histogram_boxplot(data, \"no_of_employees\")"
      ]
    },
    {
      "cell_type": "markdown",
      "id": "metric-apparel",
      "metadata": {
        "id": "metric-apparel"
      },
      "source": [
        "#### Observations on prevailing wage"
      ]
    },
    {
      "cell_type": "code",
      "execution_count": null,
      "id": "duplicate-theater",
      "metadata": {
        "id": "duplicate-theater"
      },
      "outputs": [],
      "source": [
        "histogram_boxplot('_______') ## Complete the code to create histogram_boxplot for prevailing wage"
      ]
    },
    {
      "cell_type": "code",
      "execution_count": null,
      "id": "legendary-stone",
      "metadata": {
        "id": "legendary-stone"
      },
      "outputs": [],
      "source": [
        "# checking the observations which have less than 100 prevailing wage\n",
        "data.loc['_______'] ## Complete the code to find the rows with less than 100 prevailing wage"
      ]
    },
    {
      "cell_type": "code",
      "execution_count": null,
      "id": "handmade-carroll",
      "metadata": {
        "id": "handmade-carroll"
      },
      "outputs": [],
      "source": [
        "data.loc[data[\"prevailing_wage\"] < 100, \"unit_of_wage\"].'_______' ## Complete the code to get the count of the values in the mentioned column"
      ]
    },
    {
      "cell_type": "code",
      "execution_count": null,
      "id": "proof-drove",
      "metadata": {
        "id": "proof-drove"
      },
      "outputs": [],
      "source": [
        "# function to create labeled barplots\n",
        "\n",
        "\n",
        "def labeled_barplot(data, feature, perc=False, n=None):\n",
        "    \"\"\"\n",
        "    Barplot with percentage at the top\n",
        "\n",
        "    data: dataframe\n",
        "    feature: dataframe column\n",
        "    perc: whether to display percentages instead of count (default is False)\n",
        "    n: displays the top n category levels (default is None, i.e., display all levels)\n",
        "    \"\"\"\n",
        "\n",
        "    total = len(data[feature])  # length of the column\n",
        "    count = data[feature].nunique()\n",
        "    if n is None:\n",
        "        plt.figure(figsize=(count + 2, 6))\n",
        "    else:\n",
        "        plt.figure(figsize=(n + 2, 6))\n",
        "\n",
        "    plt.xticks(rotation=90, fontsize=15)\n",
        "    ax = sns.countplot(\n",
        "        data=data,\n",
        "        x=feature,\n",
        "        palette=\"Paired\",\n",
        "        order=data[feature].value_counts().index[:n],\n",
        "    )\n",
        "\n",
        "    for p in ax.patches:\n",
        "        if perc == True:\n",
        "            label = \"{:.1f}%\".format(\n",
        "                100 * p.get_height() / total\n",
        "            )  # percentage of each class of the category\n",
        "        else:\n",
        "            label = p.get_height()  # count of each level of the category\n",
        "\n",
        "        x = p.get_x() + p.get_width() / 2  # width of the plot\n",
        "        y = p.get_height()  # height of the plot\n",
        "\n",
        "        ax.annotate(\n",
        "            label,\n",
        "            (x, y),\n",
        "            ha=\"center\",\n",
        "            va=\"center\",\n",
        "            size=12,\n",
        "            xytext=(0, 5),\n",
        "            textcoords=\"offset points\",\n",
        "        )  # annotate the percentage\n",
        "\n",
        "    plt.show()  # show the plot"
      ]
    },
    {
      "cell_type": "markdown",
      "id": "bulgarian-parts",
      "metadata": {
        "id": "bulgarian-parts"
      },
      "source": [
        "#### Observations on continent"
      ]
    },
    {
      "cell_type": "code",
      "execution_count": null,
      "id": "artistic-accounting",
      "metadata": {
        "id": "artistic-accounting"
      },
      "outputs": [],
      "source": [
        "labeled_barplot(data, \"continent\", perc=True) "
      ]
    },
    {
      "cell_type": "markdown",
      "id": "editorial-command",
      "metadata": {
        "id": "editorial-command"
      },
      "source": [
        "#### Observations on education of employee"
      ]
    },
    {
      "cell_type": "code",
      "execution_count": null,
      "id": "express-harrison",
      "metadata": {
        "id": "express-harrison"
      },
      "outputs": [],
      "source": [
        "labeled_barplot('_______')  ## Complete the code to create labeled_barplot for education of employee"
      ]
    },
    {
      "cell_type": "markdown",
      "id": "forbidden-kidney",
      "metadata": {
        "id": "forbidden-kidney"
      },
      "source": [
        "#### Observations on job experience"
      ]
    },
    {
      "cell_type": "code",
      "execution_count": null,
      "id": "exterior-rings",
      "metadata": {
        "id": "exterior-rings"
      },
      "outputs": [],
      "source": [
        "labeled_barplot('_______')  ## Complete the code to create labeled_barplot for job experience"
      ]
    },
    {
      "cell_type": "markdown",
      "id": "amateur-above",
      "metadata": {
        "id": "amateur-above"
      },
      "source": [
        "#### Observations on job training"
      ]
    },
    {
      "cell_type": "code",
      "execution_count": null,
      "id": "serial-irrigation",
      "metadata": {
        "id": "serial-irrigation",
        "scrolled": false
      },
      "outputs": [],
      "source": [
        "labeled_barplot('_______')  ## Complete the code to create labeled_barplot for job training "
      ]
    },
    {
      "cell_type": "markdown",
      "id": "attempted-burlington",
      "metadata": {
        "id": "attempted-burlington"
      },
      "source": [
        "#### Observations on region of employment"
      ]
    },
    {
      "cell_type": "code",
      "execution_count": null,
      "id": "suited-tuner",
      "metadata": {
        "id": "suited-tuner"
      },
      "outputs": [],
      "source": [
        "labeled_barplot('_______')  ## Complete the code to create labeled_barplot for region of employment"
      ]
    },
    {
      "cell_type": "markdown",
      "id": "aging-curve",
      "metadata": {
        "id": "aging-curve"
      },
      "source": [
        "#### Observations on unit of wage"
      ]
    },
    {
      "cell_type": "code",
      "execution_count": null,
      "id": "modified-breed",
      "metadata": {
        "id": "modified-breed"
      },
      "outputs": [],
      "source": [
        "labeled_barplot('_______')  ## Complete the code to create labeled_barplot for unit of wage"
      ]
    },
    {
      "cell_type": "markdown",
      "id": "stunning-surrey",
      "metadata": {
        "id": "stunning-surrey"
      },
      "source": [
        "#### Observations on case status"
      ]
    },
    {
      "cell_type": "code",
      "execution_count": null,
      "id": "potential-stroke",
      "metadata": {
        "id": "potential-stroke"
      },
      "outputs": [],
      "source": [
        "labeled_barplot('_______')  ## Complete the code to create labeled_barplot for case status"
      ]
    },
    {
      "cell_type": "markdown",
      "id": "equivalent-aging",
      "metadata": {
        "id": "equivalent-aging"
      },
      "source": [
        "### Bivariate Analysis"
      ]
    },
    {
      "cell_type": "code",
      "execution_count": null,
      "id": "social-wagner",
      "metadata": {
        "id": "social-wagner"
      },
      "outputs": [],
      "source": [
        "cols_list = data.select_dtypes(include=np.number).columns.tolist()\n",
        "\n",
        "plt.figure(figsize=(10, 5))\n",
        "sns.heatmap(\n",
        "    data[cols_list].'_______', annot=True, vmin=-1, vmax=1, fmt=\".2f\", cmap=\"Spectral\"\n",
        ") ## Complete the code to find the correlation between the variables\n",
        "plt.show()"
      ]
    },
    {
      "cell_type": "markdown",
      "id": "blond-convertible",
      "metadata": {
        "id": "blond-convertible"
      },
      "source": [
        "**Creating functions that will help us with further analysis.**"
      ]
    },
    {
      "cell_type": "code",
      "execution_count": null,
      "id": "adaptive-recipient",
      "metadata": {
        "id": "adaptive-recipient"
      },
      "outputs": [],
      "source": [
        "### function to plot distributions wrt target\n",
        "\n",
        "\n",
        "def distribution_plot_wrt_target(data, predictor, target):\n",
        "\n",
        "    fig, axs = plt.subplots(2, 2, figsize=(12, 10))\n",
        "\n",
        "    target_uniq = data[target].unique()\n",
        "\n",
        "    axs[0, 0].set_title(\"Distribution of target for target=\" + str(target_uniq[0]))\n",
        "    sns.histplot(\n",
        "        data=data[data[target] == target_uniq[0]],\n",
        "        x=predictor,\n",
        "        kde=True,\n",
        "        ax=axs[0, 0],\n",
        "        color=\"teal\",\n",
        "        stat=\"density\",\n",
        "    )\n",
        "\n",
        "    axs[0, 1].set_title(\"Distribution of target for target=\" + str(target_uniq[1]))\n",
        "    sns.histplot(\n",
        "        data=data[data[target] == target_uniq[1]],\n",
        "        x=predictor,\n",
        "        kde=True,\n",
        "        ax=axs[0, 1],\n",
        "        color=\"orange\",\n",
        "        stat=\"density\",\n",
        "    )\n",
        "\n",
        "    axs[1, 0].set_title(\"Boxplot w.r.t target\")\n",
        "    sns.boxplot(data=data, x=target, y=predictor, ax=axs[1, 0], palette=\"gist_rainbow\")\n",
        "\n",
        "    axs[1, 1].set_title(\"Boxplot (without outliers) w.r.t target\")\n",
        "    sns.boxplot(\n",
        "        data=data,\n",
        "        x=target,\n",
        "        y=predictor,\n",
        "        ax=axs[1, 1],\n",
        "        showfliers=False,\n",
        "        palette=\"gist_rainbow\",\n",
        "    )\n",
        "\n",
        "    plt.tight_layout()\n",
        "    plt.show()"
      ]
    },
    {
      "cell_type": "code",
      "execution_count": null,
      "id": "third-sheriff",
      "metadata": {
        "id": "third-sheriff"
      },
      "outputs": [],
      "source": [
        "def stacked_barplot(data, predictor, target):\n",
        "    \"\"\"\n",
        "    Print the category counts and plot a stacked bar chart\n",
        "\n",
        "    data: dataframe\n",
        "    predictor: independent variable\n",
        "    target: target variable\n",
        "    \"\"\"\n",
        "    count = data[predictor].nunique()\n",
        "    sorter = data[target].value_counts().index[-1]\n",
        "    tab1 = pd.crosstab(data[predictor], data[target], margins=True).sort_values(\n",
        "        by=sorter, ascending=False\n",
        "    )\n",
        "    print(tab1)\n",
        "    print(\"-\" * 120)\n",
        "    tab = pd.crosstab(data[predictor], data[target], normalize=\"index\").sort_values(\n",
        "        by=sorter, ascending=False\n",
        "    )\n",
        "    tab.plot(kind=\"bar\", stacked=True, figsize=(count + 5, 5))\n",
        "    plt.legend(\n",
        "        loc=\"lower left\", frameon=False,\n",
        "    )\n",
        "    plt.legend(loc=\"upper left\", bbox_to_anchor=(1, 1))\n",
        "    plt.show()"
      ]
    },
    {
      "cell_type": "markdown",
      "id": "dressed-excuse",
      "metadata": {
        "id": "dressed-excuse"
      },
      "source": [
        "#### Those with higher education may want to travel abroad for a well-paid job. Let's find out if education has any impact on visa certification"
      ]
    },
    {
      "cell_type": "code",
      "execution_count": null,
      "id": "special-florist",
      "metadata": {
        "id": "special-florist"
      },
      "outputs": [],
      "source": [
        "stacked_barplot(data, \"education_of_employee\", \"case_status\")"
      ]
    },
    {
      "cell_type": "markdown",
      "id": "wound-communication",
      "metadata": {
        "id": "wound-communication"
      },
      "source": [
        "#### Different regions have different requirements of talent having diverse educational backgrounds. Let's analyze it further"
      ]
    },
    {
      "cell_type": "code",
      "execution_count": null,
      "id": "tamil-intelligence",
      "metadata": {
        "id": "tamil-intelligence"
      },
      "outputs": [],
      "source": [
        "plt.figure(figsize=(10, 5))\n",
        "sns.heatmap(pd.crosstab('_____________________'),\n",
        "    annot=True,\n",
        "    fmt=\"g\",\n",
        "    cmap=\"viridis\"\n",
        ") ## Complete the code to plot heatmap for the crosstab between education and region of employment\n",
        "\n",
        "plt.ylabel(\"Education\")\n",
        "plt.xlabel(\"Region\")\n",
        "plt.show()"
      ]
    },
    {
      "cell_type": "markdown",
      "id": "theoretical-flexibility",
      "metadata": {
        "id": "theoretical-flexibility"
      },
      "source": [
        "#### Let's have a look at the percentage of visa certifications across each region"
      ]
    },
    {
      "cell_type": "code",
      "execution_count": null,
      "id": "hybrid-zealand",
      "metadata": {
        "id": "hybrid-zealand"
      },
      "outputs": [],
      "source": [
        "stacked_barplot('_______') ## Complete the code to plot stacked barplot for region of employment and case status"
      ]
    },
    {
      "cell_type": "markdown",
      "id": "attended-current",
      "metadata": {
        "id": "attended-current"
      },
      "source": [
        "#### Lets' similarly check for the continents and find out how the visa status vary across different continents."
      ]
    },
    {
      "cell_type": "code",
      "execution_count": null,
      "id": "alive-bloom",
      "metadata": {
        "id": "alive-bloom"
      },
      "outputs": [],
      "source": [
        "stacked_barplot('_______') ## Complete the code to plot stacked barplot for continent and case status"
      ]
    },
    {
      "cell_type": "markdown",
      "id": "macro-decrease",
      "metadata": {
        "id": "macro-decrease"
      },
      "source": [
        "#### Experienced professionals might look abroad for opportunities to improve their lifestyles and career development. Let's see if having work experience has any influence over visa certification "
      ]
    },
    {
      "cell_type": "code",
      "execution_count": null,
      "id": "divine-dimension",
      "metadata": {
        "id": "divine-dimension"
      },
      "outputs": [],
      "source": [
        "stacked_barplot('_______') ## Complete the code to plot stacked barplot for job experience and case status"
      ]
    },
    {
      "cell_type": "markdown",
      "id": "binding-charger",
      "metadata": {
        "id": "binding-charger"
      },
      "source": [
        "#### Do the employees who have prior work experience require any job training?"
      ]
    },
    {
      "cell_type": "code",
      "execution_count": null,
      "id": "temporal-dairy",
      "metadata": {
        "id": "temporal-dairy"
      },
      "outputs": [],
      "source": [
        "stacked_barplot('_______') ## Complete the code to plot stacked barplot for job experience and requires_job_training"
      ]
    },
    {
      "cell_type": "markdown",
      "id": "lesser-bacteria",
      "metadata": {
        "id": "lesser-bacteria"
      },
      "source": [
        "#### The US government has established a prevailing wage to protect local talent and foreign workers. Let's analyze the data and see if the visa status changes with the prevailing wage"
      ]
    },
    {
      "cell_type": "code",
      "execution_count": null,
      "id": "perfect-haiti",
      "metadata": {
        "id": "perfect-haiti"
      },
      "outputs": [],
      "source": [
        "distribution_plot_wrt_target('_______') ## Complete the code to find distribution of prevailing wage and case status"
      ]
    },
    {
      "cell_type": "markdown",
      "id": "changing-kansas",
      "metadata": {
        "id": "changing-kansas"
      },
      "source": [
        "#### Checking if the prevailing wage is similar across all the regions of the US"
      ]
    },
    {
      "cell_type": "code",
      "execution_count": null,
      "id": "dangerous-pride",
      "metadata": {
        "id": "dangerous-pride"
      },
      "outputs": [],
      "source": [
        "plt.figure(figsize=(10, 5))\n",
        "sns.'_______' ## Complete the code to create boxplot for region of employment and prevailing wage\n",
        "plt.show()"
      ]
    },
    {
      "cell_type": "markdown",
      "id": "suspected-asthma",
      "metadata": {
        "id": "suspected-asthma"
      },
      "source": [
        "#### The prevailing wage has different units (Hourly, Weekly, etc). Let's find out if it has any impact on visa applications getting certified."
      ]
    },
    {
      "cell_type": "code",
      "execution_count": null,
      "id": "impossible-aquatic",
      "metadata": {
        "id": "impossible-aquatic"
      },
      "outputs": [],
      "source": [
        "stacked_barplot('_______') ## Complete the code to plot stacked barplot for unit of wage and case status"
      ]
    },
    {
      "cell_type": "markdown",
      "id": "icaAgO2siAcs",
      "metadata": {
        "id": "icaAgO2siAcs"
      },
      "source": [
        "## Data Preprocessing"
      ]
    },
    {
      "cell_type": "markdown",
      "id": "allied-association",
      "metadata": {
        "id": "allied-association"
      },
      "source": [
        "### Outlier Check\n",
        "\n",
        "- Let's check for outliers in the data."
      ]
    },
    {
      "cell_type": "code",
      "execution_count": null,
      "id": "certified-complaint",
      "metadata": {
        "id": "certified-complaint"
      },
      "outputs": [],
      "source": [
        "# outlier detection using boxplot\n",
        "numeric_columns = data.select_dtypes(include=np.number).columns.tolist()\n",
        "\n",
        "\n",
        "plt.figure(figsize=(15, 12))\n",
        "\n",
        "for i, variable in enumerate(numeric_columns):\n",
        "    '_______' ## Complete the code to create boxplots for all the numeric columns\n",
        "plt.show()"
      ]
    },
    {
      "cell_type": "markdown",
      "id": "flexible-independence",
      "metadata": {
        "id": "flexible-independence"
      },
      "source": [
        "### Data Preparation for modeling\n",
        "\n",
        "- We want to predict which visa will be certified.\n",
        "- Before we proceed to build a model, we'll have to encode categorical features.\n",
        "- We'll split the data into train and test to be able to evaluate the model that we build on the train data."
      ]
    },
    {
      "cell_type": "code",
      "execution_count": null,
      "id": "genuine-evening",
      "metadata": {
        "id": "genuine-evening"
      },
      "outputs": [],
      "source": [
        "data[\"case_status\"] = data[\"case_status\"].apply(lambda x: 1 if x == \"Certified\" else 0)\n",
        "\n",
        "X = data.'_______' ## Complete the code to drop case status from the data\n",
        "Y = data[\"case_status\"]\n",
        "\n",
        "\n",
        "X = pd.'_______'  ## Complete the code to create dummies for X \n",
        "\n",
        "# Splitting data in train and test sets\n",
        "X_train, X_test, y_train, y_test = train_test_split('_______', random_state=1, stratify=Y) ## Complete the code to split the data into train and test in the ratio 70:30"
      ]
    },
    {
      "cell_type": "code",
      "execution_count": null,
      "id": "empty-typing",
      "metadata": {
        "id": "empty-typing"
      },
      "outputs": [],
      "source": [
        "print(\"Shape of Training set : \", X_train.shape)\n",
        "print(\"Shape of test set : \", X_test.shape)\n",
        "print(\"Percentage of classes in training set:\")\n",
        "print(y_train.value_counts(normalize=True))\n",
        "print(\"Percentage of classes in test set:\")\n",
        "print(y_test.value_counts(normalize=True))"
      ]
    },
    {
      "cell_type": "markdown",
      "id": "teKIRZIDdzpK",
      "metadata": {
        "id": "teKIRZIDdzpK"
      },
      "source": [
        "## Model evaluation criterion"
      ]
    },
    {
      "cell_type": "markdown",
      "id": "71450807",
      "metadata": {
        "id": "71450807"
      },
      "source": [
        "### Model can make wrong predictions as:\n",
        "\n",
        "1. Model predicts that the visa application will get certified but in reality, the visa application should get denied.\n",
        "2. Model predicts that the visa application will not get certified but in reality, the visa application should get certified. \n",
        "\n",
        "### Which case is more important? \n",
        "* Both the cases are important as:\n",
        "\n",
        "* If a visa is certified when it had to be denied a wrong employee will get the job position while US citizens will miss the opportunity to work on that position.\n",
        "\n",
        "* If a visa is denied when it had to be certified the U.S. will lose a suitable human resource that can contribute to the economy. \n",
        "\n",
        "\n",
        "\n",
        "### How to reduce the losses?\n",
        "\n",
        "* `F1 Score` can be used a the metric for evaluation of the model, greater the F1  score higher are the chances of minimizing False Negatives and False Positives. \n",
        "* We will use balanced class weights so that model focuses equally on both classes."
      ]
    },
    {
      "cell_type": "markdown",
      "id": "capital-charlotte",
      "metadata": {
        "id": "capital-charlotte"
      },
      "source": [
        "**First, let's create functions to calculate different metrics and confusion matrix so that we don't have to use the same code repeatedly for each model.**\n",
        "* The model_performance_classification_sklearn function will be used to check the model performance of models. \n",
        "* The confusion_matrix_sklearn function will be used to plot the confusion matrix."
      ]
    },
    {
      "cell_type": "code",
      "execution_count": null,
      "id": "mexican-database",
      "metadata": {
        "id": "mexican-database"
      },
      "outputs": [],
      "source": [
        "# defining a function to compute different metrics to check performance of a classification model built using sklearn\n",
        "\n",
        "\n",
        "def model_performance_classification_sklearn(model, predictors, target):\n",
        "    \"\"\"\n",
        "    Function to compute different metrics to check classification model performance\n",
        "\n",
        "    model: classifier\n",
        "    predictors: independent variables\n",
        "    target: dependent variable\n",
        "    \"\"\"\n",
        "\n",
        "    # predicting using the independent variables\n",
        "    pred = model.predict(predictors)\n",
        "\n",
        "    acc = accuracy_score(target, pred)  # to compute Accuracy\n",
        "    recall = recall_score(target, pred)  # to compute Recall\n",
        "    precision = precision_score(target, pred)  # to compute Precision\n",
        "    f1 = f1_score(target, pred)  # to compute F1-score\n",
        "\n",
        "    # creating a dataframe of metrics\n",
        "    df_perf = pd.DataFrame(\n",
        "        {\"Accuracy\": acc, \"Recall\": recall, \"Precision\": precision, \"F1\": f1,},\n",
        "        index=[0],\n",
        "    )\n",
        "\n",
        "    return df_perf"
      ]
    },
    {
      "cell_type": "code",
      "execution_count": null,
      "id": "recreational-topic",
      "metadata": {
        "id": "recreational-topic"
      },
      "outputs": [],
      "source": [
        "def confusion_matrix_sklearn(model, predictors, target):\n",
        "    \"\"\"\n",
        "    To plot the confusion_matrix with percentages\n",
        "\n",
        "    model: classifier\n",
        "    predictors: independent variables\n",
        "    target: dependent variable\n",
        "    \"\"\"\n",
        "    y_pred = model.predict(predictors)\n",
        "    cm = confusion_matrix(target, y_pred)\n",
        "    labels = np.asarray(\n",
        "        [\n",
        "            [\"{0:0.0f}\".format(item) + \"\\n{0:.2%}\".format(item / cm.flatten().sum())]\n",
        "            for item in cm.flatten()\n",
        "        ]\n",
        "    ).reshape(2, 2)\n",
        "\n",
        "    plt.figure(figsize=(6, 4))\n",
        "    sns.heatmap(cm, annot=labels, fmt=\"\")\n",
        "    plt.ylabel(\"True label\")\n",
        "    plt.xlabel(\"Predicted label\")"
      ]
    },
    {
      "cell_type": "markdown",
      "id": "ICezcLI4iL0a",
      "metadata": {
        "id": "ICezcLI4iL0a"
      },
      "source": [
        "## Decision Tree - Model Building and Hyperparameter Tuning"
      ]
    },
    {
      "cell_type": "markdown",
      "id": "blank-ballet",
      "metadata": {
        "id": "blank-ballet"
      },
      "source": [
        "### Decision Tree Model"
      ]
    },
    {
      "cell_type": "code",
      "execution_count": null,
      "id": "hourly-hormone",
      "metadata": {
        "id": "hourly-hormone"
      },
      "outputs": [],
      "source": [
        "model = '_______' ## Complete the code to define decision tree classifier with random state = 1\n",
        "model.'_______' ## Complete the code to fit decision tree classifier on the train data "
      ]
    },
    {
      "cell_type": "markdown",
      "id": "increasing-diversity",
      "metadata": {
        "id": "increasing-diversity"
      },
      "source": [
        "#### Checking model performance on training set"
      ]
    },
    {
      "cell_type": "code",
      "execution_count": null,
      "id": "irish-noise",
      "metadata": {
        "id": "irish-noise"
      },
      "outputs": [],
      "source": [
        "confusion_matrix_sklearn('_______') ## Complete the code to create confusion matrix for train data"
      ]
    },
    {
      "cell_type": "code",
      "execution_count": null,
      "id": "multiple-union",
      "metadata": {
        "id": "multiple-union"
      },
      "outputs": [],
      "source": [
        "decision_tree_perf_train = model_performance_classification_sklearn('_______') ## Complete the code to check performance on train data\n",
        "decision_tree_perf_train"
      ]
    },
    {
      "cell_type": "markdown",
      "id": "material-reduction",
      "metadata": {
        "id": "material-reduction"
      },
      "source": [
        "#### Checking model performance on test set"
      ]
    },
    {
      "cell_type": "code",
      "execution_count": null,
      "id": "touched-survey",
      "metadata": {
        "id": "touched-survey"
      },
      "outputs": [],
      "source": [
        "'_______' ## Complete the code to create confusion matrix for test data"
      ]
    },
    {
      "cell_type": "code",
      "execution_count": null,
      "id": "perceived-memorial",
      "metadata": {
        "id": "perceived-memorial"
      },
      "outputs": [],
      "source": [
        "decision_tree_perf_test = model_performance_classification_sklearn('_______') ## Complete the code to check performance for test data\n",
        "decision_tree_perf_test"
      ]
    },
    {
      "cell_type": "markdown",
      "id": "protected-romantic",
      "metadata": {
        "id": "protected-romantic"
      },
      "source": [
        "### Hyperparameter Tuning - Decision Tree"
      ]
    },
    {
      "cell_type": "code",
      "execution_count": null,
      "id": "tested-building",
      "metadata": {
        "id": "tested-building"
      },
      "outputs": [],
      "source": [
        "# Choose the type of classifier.\n",
        "dtree_estimator = DecisionTreeClassifier(class_weight=\"balanced\", random_state=1)\n",
        "\n",
        "# Grid of parameters to choose from\n",
        "parameters = {\n",
        "    \"max_depth\": np.arange(5, 16, 5),\n",
        "    \"min_samples_leaf\": [3, 5, 7],\n",
        "    \"max_leaf_nodes\": [2, 5],\n",
        "    \"min_impurity_decrease\": [0.0001, 0.001],\n",
        "}\n",
        "\n",
        "# Type of scoring used to compare parameter combinations\n",
        "scorer = metrics.make_scorer(metrics.f1_score)\n",
        "\n",
        "# Run the grid search\n",
        "grid_obj = '_______' ## Complete the code to run grid search with n_jobs = -1\n",
        "\n",
        "grid_obj = grid_obj.'_______' ## Complete the code to fit the grid_obj on the train data\n",
        "\n",
        "# Set the clf to the best combination of parameters\n",
        "dtree_estimator = grid_obj.best_estimator_\n",
        "\n",
        "# Fit the best algorithm to the data.\n",
        "dtree_estimator.fit(X_train, y_train)"
      ]
    },
    {
      "cell_type": "code",
      "execution_count": null,
      "id": "affected-thailand",
      "metadata": {
        "id": "affected-thailand"
      },
      "outputs": [],
      "source": [
        "'_______' ## Complete the code to create confusion matrix for train data on tuned estimator"
      ]
    },
    {
      "cell_type": "code",
      "execution_count": null,
      "id": "enormous-hunger",
      "metadata": {
        "id": "enormous-hunger"
      },
      "outputs": [],
      "source": [
        "dtree_estimator_model_train_perf = model_performance_classification_sklearn('_______') ## Complete the code to check performance for train data on tuned estimator\n",
        "dtree_estimator_model_train_perf"
      ]
    },
    {
      "cell_type": "code",
      "execution_count": null,
      "id": "stone-maker",
      "metadata": {
        "id": "stone-maker"
      },
      "outputs": [],
      "source": [
        "'_______' ## Complete the code to create confusion matrix for test data on tuned estimator"
      ]
    },
    {
      "cell_type": "code",
      "execution_count": null,
      "id": "together-pittsburgh",
      "metadata": {
        "id": "together-pittsburgh"
      },
      "outputs": [],
      "source": [
        "dtree_estimator_model_test_perf = model_performance_classification_sklearn('_______') ## Complete the code to check performance for test data on tuned estimator\n",
        "dtree_estimator_model_test_perf"
      ]
    },
    {
      "cell_type": "markdown",
      "id": "FnQnoNOCiSwl",
      "metadata": {
        "id": "FnQnoNOCiSwl"
      },
      "source": [
        "## Bagging - Model Building and Hyperparameter Tuning"
      ]
    },
    {
      "cell_type": "markdown",
      "id": "aging-corruption",
      "metadata": {
        "id": "aging-corruption"
      },
      "source": [
        "### Bagging Classifier"
      ]
    },
    {
      "cell_type": "code",
      "execution_count": null,
      "id": "postal-angle",
      "metadata": {
        "id": "postal-angle"
      },
      "outputs": [],
      "source": [
        "bagging_classifier = '_______' ## Complete the code to define bagging classifier with random state = 1\n",
        "bagging_classifier.'_______' ## Complete the code to fit bagging classifier on the train data"
      ]
    },
    {
      "cell_type": "markdown",
      "id": "suffering-growing",
      "metadata": {
        "id": "suffering-growing"
      },
      "source": [
        "#### Checking model performance on training set"
      ]
    },
    {
      "cell_type": "code",
      "execution_count": null,
      "id": "extraordinary-festival",
      "metadata": {
        "id": "extraordinary-festival"
      },
      "outputs": [],
      "source": [
        "'_______' ## Complete the code to create confusion matrix for train data"
      ]
    },
    {
      "cell_type": "code",
      "execution_count": null,
      "id": "further-yemen",
      "metadata": {
        "id": "further-yemen"
      },
      "outputs": [],
      "source": [
        "bagging_classifier_model_train_perf = model_performance_classification_sklearn('_______') ## Complete the code to check performance on train data\n",
        "bagging_classifier_model_train_perf"
      ]
    },
    {
      "cell_type": "markdown",
      "id": "verified-obligation",
      "metadata": {
        "id": "verified-obligation"
      },
      "source": [
        "#### Checking model performance on test set"
      ]
    },
    {
      "cell_type": "code",
      "execution_count": null,
      "id": "weird-wesley",
      "metadata": {
        "id": "weird-wesley"
      },
      "outputs": [],
      "source": [
        "'_______' ## Complete the code to create confusion matrix for test data"
      ]
    },
    {
      "cell_type": "code",
      "execution_count": null,
      "id": "handy-nature",
      "metadata": {
        "id": "handy-nature"
      },
      "outputs": [],
      "source": [
        "bagging_classifier_model_test_perf = model_performance_classification_sklearn('_______') ## Complete the code to check performance for test data\n",
        "bagging_classifier_model_test_perf"
      ]
    },
    {
      "cell_type": "markdown",
      "id": "increased-civilian",
      "metadata": {
        "id": "increased-civilian"
      },
      "source": [
        "### Hyperparameter Tuning - Bagging Classifier"
      ]
    },
    {
      "cell_type": "code",
      "execution_count": null,
      "id": "coastal-jefferson",
      "metadata": {
        "id": "coastal-jefferson"
      },
      "outputs": [],
      "source": [
        "# Choose the type of classifier.\n",
        "bagging_estimator_tuned = BaggingClassifier(random_state=1)\n",
        "\n",
        "# Grid of parameters to choose from\n",
        "parameters = {\n",
        "    \"max_samples\": [0.7, 0.9],\n",
        "    \"max_features\": [0.7, 0.9],\n",
        "    \"n_estimators\": np.arange(90, 111, 10),\n",
        "}\n",
        "\n",
        "# Type of scoring used to compare parameter combinations\n",
        "acc_scorer = metrics.make_scorer(metrics.f1_score)\n",
        "\n",
        "# Run the grid search\n",
        "grid_obj = '_______' ## Complete the code to run grid search with cv = 5\n",
        "grid_obj = grid_obj.'_______' ## Complete the code to fit the grid_obj on train data\n",
        "\n",
        "# Set the clf to the best combination of parameters\n",
        "bagging_estimator_tuned = grid_obj.best_estimator_\n",
        "\n",
        "# Fit the best algorithm to the data.\n",
        "bagging_estimator_tuned.fit(X_train, y_train)"
      ]
    },
    {
      "cell_type": "markdown",
      "id": "protecting-douglas",
      "metadata": {
        "id": "protecting-douglas"
      },
      "source": [
        "#### Checking model performance on training set"
      ]
    },
    {
      "cell_type": "code",
      "execution_count": null,
      "id": "nominated-overhead",
      "metadata": {
        "id": "nominated-overhead"
      },
      "outputs": [],
      "source": [
        "'_______' ## Complete the code to create confusion matrix for train data on tuned estimator"
      ]
    },
    {
      "cell_type": "code",
      "execution_count": null,
      "id": "fundamental-newport",
      "metadata": {
        "id": "fundamental-newport"
      },
      "outputs": [],
      "source": [
        "bagging_estimator_tuned_model_train_perf = model_performance_classification_sklearn('_______') ## Complete the code to check performance for train data on tuned estimator\n",
        "bagging_estimator_tuned_model_train_perf"
      ]
    },
    {
      "cell_type": "markdown",
      "id": "elegant-bookmark",
      "metadata": {
        "id": "elegant-bookmark"
      },
      "source": [
        "#### Checking model performance on test set"
      ]
    },
    {
      "cell_type": "code",
      "execution_count": null,
      "id": "later-setup",
      "metadata": {
        "id": "later-setup"
      },
      "outputs": [],
      "source": [
        "'_______' ## Complete the code to create confusion matrix for test data on tuned estimator"
      ]
    },
    {
      "cell_type": "code",
      "execution_count": null,
      "id": "discrete-immigration",
      "metadata": {
        "id": "discrete-immigration"
      },
      "outputs": [],
      "source": [
        "bagging_estimator_tuned_model_test_perf = model_performance_classification_sklearn('_______') ## Complete the code to check performance for test data on tuned estimator\n",
        "bagging_estimator_tuned_model_test_perf"
      ]
    },
    {
      "cell_type": "markdown",
      "id": "colonial-society",
      "metadata": {
        "id": "colonial-society"
      },
      "source": [
        "### Random Forest"
      ]
    },
    {
      "cell_type": "code",
      "execution_count": null,
      "id": "outer-array",
      "metadata": {
        "id": "outer-array"
      },
      "outputs": [],
      "source": [
        "# Fitting the model\n",
        "rf_estimator = '_______' ## Complete the code to define random forest with random state = 1 and class_weight = balanced\n",
        "rf_estimator.'_______' ## Complete the code to fit random forest on the train data"
      ]
    },
    {
      "cell_type": "markdown",
      "id": "possible-vinyl",
      "metadata": {
        "id": "possible-vinyl"
      },
      "source": [
        "#### Checking model performance on training set"
      ]
    },
    {
      "cell_type": "code",
      "execution_count": null,
      "id": "nervous-ordering",
      "metadata": {
        "id": "nervous-ordering"
      },
      "outputs": [],
      "source": [
        "'_______' ## Complete the code to create confusion matrix for train data"
      ]
    },
    {
      "cell_type": "code",
      "execution_count": null,
      "id": "functioning-nigeria",
      "metadata": {
        "id": "functioning-nigeria"
      },
      "outputs": [],
      "source": [
        "# Calculating different metrics\n",
        "rf_estimator_model_train_perf = model_performance_classification_sklearn('_______') ## Complete the code to check performance on train data\n",
        "rf_estimator_model_train_perf"
      ]
    },
    {
      "cell_type": "markdown",
      "id": "theoretical-poverty",
      "metadata": {
        "id": "theoretical-poverty"
      },
      "source": [
        "#### Checking model performance on test set"
      ]
    },
    {
      "cell_type": "code",
      "execution_count": null,
      "id": "meaning-crash",
      "metadata": {
        "id": "meaning-crash"
      },
      "outputs": [],
      "source": [
        "'_______' ## Complete the code to create confusion matrix for test data"
      ]
    },
    {
      "cell_type": "code",
      "execution_count": null,
      "id": "pending-light",
      "metadata": {
        "id": "pending-light"
      },
      "outputs": [],
      "source": [
        "rf_estimator_model_test_perf = model_performance_classification_sklearn('_______') ## Complete the code to check performance for test data\n",
        "rf_estimator_model_test_perf"
      ]
    },
    {
      "cell_type": "markdown",
      "id": "beneficial-bosnia",
      "metadata": {
        "id": "beneficial-bosnia"
      },
      "source": [
        "### Hyperparameter Tuning - Random Forest"
      ]
    },
    {
      "cell_type": "code",
      "execution_count": null,
      "id": "interstate-jonathan",
      "metadata": {
        "id": "interstate-jonathan"
      },
      "outputs": [],
      "source": [
        "# Choose the type of classifier.\n",
        "rf_tuned = RandomForestClassifier(random_state=1, oob_score=True, bootstrap=True)\n",
        "\n",
        "parameters = {\n",
        "    \"max_depth\": list(np.arange(5, 15, 5)),\n",
        "    \"max_features\": [\"sqrt\", \"log2\"],\n",
        "    \"min_samples_split\": [5, 7],\n",
        "    \"n_estimators\": np.arange(15, 26, 5),\n",
        "}\n",
        "\n",
        "# Type of scoring used to compare parameter combinations\n",
        "acc_scorer = metrics.make_scorer(metrics.f1_score)\n",
        "\n",
        "# Run the grid search\n",
        "grid_obj = '_______' ## Complete the code to run grid search with cv = 5 and n_jobs = -1\n",
        "grid_obj = grid_obj.'_______' ## Complete the code to fit the grid_obj on the train data\n",
        "\n",
        "# Set the clf to the best combination of parameters\n",
        "rf_tuned = grid_obj.best_estimator_\n",
        "\n",
        "# Fit the best algorithm to the data.\n",
        "rf_tuned.fit(X_train, y_train)"
      ]
    },
    {
      "cell_type": "markdown",
      "id": "joint-appendix",
      "metadata": {
        "id": "joint-appendix"
      },
      "source": [
        "#### Checking model performance on training set"
      ]
    },
    {
      "cell_type": "code",
      "execution_count": null,
      "id": "broadband-issue",
      "metadata": {
        "id": "broadband-issue"
      },
      "outputs": [],
      "source": [
        "'_______' ## Complete the code to create confusion matrix for train data on tuned estimator"
      ]
    },
    {
      "cell_type": "code",
      "execution_count": null,
      "id": "minus-publication",
      "metadata": {
        "id": "minus-publication"
      },
      "outputs": [],
      "source": [
        "rf_tuned_model_train_perf = model_performance_classification_sklearn('_______') ## Complete the code to check performance for train data on tuned estimator\n",
        "rf_tuned_model_train_perf"
      ]
    },
    {
      "cell_type": "markdown",
      "id": "joined-newman",
      "metadata": {
        "id": "joined-newman"
      },
      "source": [
        "#### Checking model performance on test set"
      ]
    },
    {
      "cell_type": "code",
      "execution_count": null,
      "id": "higher-memphis",
      "metadata": {
        "id": "higher-memphis"
      },
      "outputs": [],
      "source": [
        "'_______' ## Complete the code to create confusion matrix for test data on tuned estimator"
      ]
    },
    {
      "cell_type": "code",
      "execution_count": null,
      "id": "processed-capital",
      "metadata": {
        "id": "processed-capital"
      },
      "outputs": [],
      "source": [
        "rf_tuned_model_test_perf = model_performance_classification_sklearn('_______') ## Complete the code to check performance for test data on tuned estimator\n",
        "rf_tuned_model_test_perf"
      ]
    },
    {
      "cell_type": "markdown",
      "id": "p33jg7JVid1H",
      "metadata": {
        "id": "p33jg7JVid1H"
      },
      "source": [
        "## Boosting - Model Building and Hyperparameter Tuning"
      ]
    },
    {
      "cell_type": "markdown",
      "id": "divine-legend",
      "metadata": {
        "id": "divine-legend"
      },
      "source": [
        "### AdaBoost Classifier"
      ]
    },
    {
      "cell_type": "code",
      "execution_count": null,
      "id": "written-chicken",
      "metadata": {
        "id": "written-chicken"
      },
      "outputs": [],
      "source": [
        "ab_classifier = '_______' ## Complete the code to define AdaBoost Classifier with random state = 1\n",
        "ab_classifier.'_______' ## Complete the code to fit AdaBoost Classifier on the train data"
      ]
    },
    {
      "cell_type": "markdown",
      "id": "grand-popularity",
      "metadata": {
        "id": "grand-popularity"
      },
      "source": [
        "#### Checking model performance on training set"
      ]
    },
    {
      "cell_type": "code",
      "execution_count": null,
      "id": "fatty-primary",
      "metadata": {
        "id": "fatty-primary"
      },
      "outputs": [],
      "source": [
        "'_______' ## Complete the code to create confusion matrix for train data"
      ]
    },
    {
      "cell_type": "code",
      "execution_count": null,
      "id": "forty-blame",
      "metadata": {
        "id": "forty-blame"
      },
      "outputs": [],
      "source": [
        "ab_classifier_model_train_perf = model_performance_classification_sklearn('_______') ## Complete the code to check performance on train data\n",
        "ab_classifier_model_train_perf"
      ]
    },
    {
      "cell_type": "markdown",
      "id": "french-breed",
      "metadata": {
        "id": "french-breed"
      },
      "source": [
        "#### Checking model performance on test set"
      ]
    },
    {
      "cell_type": "code",
      "execution_count": null,
      "id": "enormous-musical",
      "metadata": {
        "id": "enormous-musical"
      },
      "outputs": [],
      "source": [
        "'_______' ## Complete the code to create confusion matrix for test data"
      ]
    },
    {
      "cell_type": "code",
      "execution_count": null,
      "id": "detailed-promise",
      "metadata": {
        "id": "detailed-promise"
      },
      "outputs": [],
      "source": [
        "ab_classifier_model_test_perf = model_performance_classification_sklearn('_______') ## Complete the code to check performance for test data\n",
        "ab_classifier_model_test_perf"
      ]
    },
    {
      "cell_type": "markdown",
      "id": "increased-sharing",
      "metadata": {
        "id": "increased-sharing"
      },
      "source": [
        "### Hyperparameter Tuning - AdaBoost Classifier"
      ]
    },
    {
      "cell_type": "code",
      "execution_count": null,
      "id": "overall-grounds",
      "metadata": {
        "id": "overall-grounds"
      },
      "outputs": [],
      "source": [
        "# Choose the type of classifier.\n",
        "abc_tuned = AdaBoostClassifier(random_state=1)\n",
        "\n",
        "# Grid of parameters to choose from\n",
        "parameters = {\n",
        "    # Let's try different max_depth for base_estimator\n",
        "    \"base_estimator\": [\n",
        "        DecisionTreeClassifier(max_depth=1, class_weight=\"balanced\", random_state=1),\n",
        "        DecisionTreeClassifier(max_depth=2, class_weight=\"balanced\", random_state=1),\n",
        "    ],\n",
        "    \"n_estimators\": np.arange(80, 101, 10),\n",
        "    \"learning_rate\": np.arange(0.1, 0.4, 0.1),\n",
        "}\n",
        "\n",
        "# Type of scoring used to compare parameter  combinations\n",
        "acc_scorer = metrics.make_scorer(metrics.f1_score)\n",
        "\n",
        "# Run the grid search\n",
        "grid_obj = '_______' ## Complete the code to run grid search with cv = 5\n",
        "grid_obj = grid_obj.'_______' ## Complete the code to fit the grid_obj on train data\n",
        "\n",
        "# Set the clf to the best combination of parameters\n",
        "abc_tuned = grid_obj.best_estimator_\n",
        "\n",
        "# Fit the best algorithm to the data.\n",
        "abc_tuned.fit(X_train, y_train)"
      ]
    },
    {
      "cell_type": "markdown",
      "id": "adolescent-carroll",
      "metadata": {
        "id": "adolescent-carroll"
      },
      "source": [
        "#### Checking model performance on training set"
      ]
    },
    {
      "cell_type": "code",
      "execution_count": null,
      "id": "excessive-drilling",
      "metadata": {
        "id": "excessive-drilling"
      },
      "outputs": [],
      "source": [
        "'_______' ## Complete the code to create confusion matrix for train data on tuned estimator"
      ]
    },
    {
      "cell_type": "code",
      "execution_count": null,
      "id": "broadband-dealer",
      "metadata": {
        "id": "broadband-dealer"
      },
      "outputs": [],
      "source": [
        "abc_tuned_model_train_perf = model_performance_classification_sklearn('_______') ## Complete the code to check performance for train data on tuned estimator\n",
        "abc_tuned_model_train_perf"
      ]
    },
    {
      "cell_type": "markdown",
      "id": "fitting-cameroon",
      "metadata": {
        "id": "fitting-cameroon"
      },
      "source": [
        "#### Checking model performance on test set"
      ]
    },
    {
      "cell_type": "code",
      "execution_count": null,
      "id": "central-forest",
      "metadata": {
        "id": "central-forest"
      },
      "outputs": [],
      "source": [
        "'_______' ## Complete the code to create confusion matrix for test data on tuned estimator"
      ]
    },
    {
      "cell_type": "code",
      "execution_count": null,
      "id": "acting-edmonton",
      "metadata": {
        "id": "acting-edmonton"
      },
      "outputs": [],
      "source": [
        "abc_tuned_model_test_perf = model_performance_classification_sklearn('_______') ## Complete the code to check performance for test data on tuned estimator\n",
        "abc_tuned_model_test_perf"
      ]
    },
    {
      "cell_type": "markdown",
      "id": "married-terminal",
      "metadata": {
        "id": "married-terminal"
      },
      "source": [
        "### Gradient Boosting Classifier"
      ]
    },
    {
      "cell_type": "code",
      "execution_count": null,
      "id": "indian-pierre",
      "metadata": {
        "id": "indian-pierre"
      },
      "outputs": [],
      "source": [
        "gb_classifier = '_______' ## Complete the code to define Gradient Boosting Classifier with random state = 1\n",
        "gb_classifier.'_______' ## Complete the code to fit Gradient Boosting Classifier on the train data"
      ]
    },
    {
      "cell_type": "markdown",
      "id": "fiscal-language",
      "metadata": {
        "id": "fiscal-language"
      },
      "source": [
        "#### Checking model performance on training set"
      ]
    },
    {
      "cell_type": "code",
      "execution_count": null,
      "id": "soviet-orange",
      "metadata": {
        "id": "soviet-orange"
      },
      "outputs": [],
      "source": [
        "'_______' ## Complete the code to create confusion matrix for train data"
      ]
    },
    {
      "cell_type": "code",
      "execution_count": null,
      "id": "respected-belief",
      "metadata": {
        "id": "respected-belief"
      },
      "outputs": [],
      "source": [
        "gb_classifier_model_train_perf = model_performance_classification_sklearn('_______') ## Complete the code to check performance on train data\n",
        "gb_classifier_model_train_perf"
      ]
    },
    {
      "cell_type": "markdown",
      "id": "tribal-rainbow",
      "metadata": {
        "id": "tribal-rainbow"
      },
      "source": [
        "#### Checking model performance on test set"
      ]
    },
    {
      "cell_type": "code",
      "execution_count": null,
      "id": "uniform-procedure",
      "metadata": {
        "id": "uniform-procedure"
      },
      "outputs": [],
      "source": [
        "'_______' ## Complete the code to create confusion matrix for test data"
      ]
    },
    {
      "cell_type": "code",
      "execution_count": null,
      "id": "blind-apparel",
      "metadata": {
        "id": "blind-apparel"
      },
      "outputs": [],
      "source": [
        "gb_classifier_model_test_perf = model_performance_classification_sklearn('_______') ## Complete the code to check performance for test data\n",
        "gb_classifier_model_test_perf"
      ]
    },
    {
      "cell_type": "markdown",
      "id": "fuzzy-enemy",
      "metadata": {
        "id": "fuzzy-enemy"
      },
      "source": [
        "### Hyperparameter Tuning - Gradient Boosting Classifier"
      ]
    },
    {
      "cell_type": "code",
      "execution_count": null,
      "id": "based-bishop",
      "metadata": {
        "id": "based-bishop"
      },
      "outputs": [],
      "source": [
        "# Choose the type of classifier.\n",
        "gbc_tuned = GradientBoostingClassifier(\n",
        "    init=AdaBoostClassifier(random_state=1), random_state=1\n",
        ")\n",
        "\n",
        "# Grid of parameters to choose from\n",
        "parameters = {\n",
        "    \"n_estimators\": [200, 250],\n",
        "    \"subsample\": [0.9, 1],\n",
        "    \"max_features\": [0.8, 0.9],\n",
        "    \"learning_rate\": np.arange(0.1, 0.21, 0.1),\n",
        "}\n",
        "\n",
        "# Type of scoring used to compare parameter combinations\n",
        "acc_scorer = metrics.make_scorer(metrics.f1_score)\n",
        "\n",
        "# Run the grid search\n",
        "grid_obj = '_______' ## Complete the code to run grid search with cv = 5\n",
        "grid_obj = grid_obj.'_______' ## Complete the code to fit the grid_obj on train data\n",
        "\n",
        "# Set the clf to the best combination of parameters\n",
        "gbc_tuned = grid_obj.best_estimator_\n",
        "\n",
        "# Fit the best algorithm to the data.\n",
        "gbc_tuned.fit(X_train, y_train)"
      ]
    },
    {
      "cell_type": "markdown",
      "id": "standard-islam",
      "metadata": {
        "id": "standard-islam"
      },
      "source": [
        "#### Checking model performance on training set"
      ]
    },
    {
      "cell_type": "code",
      "execution_count": null,
      "id": "verbal-japanese",
      "metadata": {
        "id": "verbal-japanese"
      },
      "outputs": [],
      "source": [
        "'_______' ## Complete the code to create confusion matrix for train data on tuned estimator"
      ]
    },
    {
      "cell_type": "code",
      "execution_count": null,
      "id": "passive-accent",
      "metadata": {
        "id": "passive-accent"
      },
      "outputs": [],
      "source": [
        "gbc_tuned_model_train_perf = model_performance_classification_sklearn('_______') ## Complete the code to check performance for train data on tuned estimator\n",
        "gbc_tuned_model_train_perf"
      ]
    },
    {
      "cell_type": "markdown",
      "id": "subsequent-royalty",
      "metadata": {
        "id": "subsequent-royalty"
      },
      "source": [
        "#### Checking model performance on test set"
      ]
    },
    {
      "cell_type": "code",
      "execution_count": null,
      "id": "other-pharmaceutical",
      "metadata": {
        "id": "other-pharmaceutical"
      },
      "outputs": [],
      "source": [
        "'_______' ## Complete the code to create confusion matrix for test data on tuned estimator"
      ]
    },
    {
      "cell_type": "code",
      "execution_count": null,
      "id": "forward-perspective",
      "metadata": {
        "id": "forward-perspective"
      },
      "outputs": [],
      "source": [
        "gbc_tuned_model_test_perf = model_performance_classification_sklearn('_______') ## Complete the code to check performance for test data on tuned estimator\n",
        "gbc_tuned_model_test_perf"
      ]
    },
    {
      "cell_type": "markdown",
      "id": "1415e2a1",
      "metadata": {
        "id": "1415e2a1"
      },
      "source": [
        "### Note - You can choose **not to build** XGBoost if you have any installation issues"
      ]
    },
    {
      "cell_type": "markdown",
      "id": "superior-letter",
      "metadata": {
        "id": "superior-letter"
      },
      "source": [
        "### XGBoost Classifier"
      ]
    },
    {
      "cell_type": "code",
      "execution_count": null,
      "id": "laden-brighton",
      "metadata": {
        "id": "laden-brighton"
      },
      "outputs": [],
      "source": [
        "xgb_classifier = '_______' ## Complete the code to define XGBoost Classifier with random state = 1 and eval_metric=\"logloss\"\n",
        "xgb_classifier.'_______' ## Complete the code to fit XGBoost Classifier on the train data"
      ]
    },
    {
      "cell_type": "markdown",
      "id": "muslim-machine",
      "metadata": {
        "id": "muslim-machine"
      },
      "source": [
        "#### Checking model performance on training set"
      ]
    },
    {
      "cell_type": "code",
      "execution_count": null,
      "id": "subsequent-dividend",
      "metadata": {
        "id": "subsequent-dividend"
      },
      "outputs": [],
      "source": [
        "'_______' ## Complete the code to create confusion matrix for train data"
      ]
    },
    {
      "cell_type": "code",
      "execution_count": null,
      "id": "creative-shock",
      "metadata": {
        "id": "creative-shock"
      },
      "outputs": [],
      "source": [
        "xgb_classifier_model_train_perf = model_performance_classification_sklearn('_______') ## Complete the code to check performance on train data\n",
        "xgb_classifier_model_train_perf"
      ]
    },
    {
      "cell_type": "markdown",
      "id": "advised-rabbit",
      "metadata": {
        "id": "advised-rabbit"
      },
      "source": [
        "#### Checking model performance on test set"
      ]
    },
    {
      "cell_type": "code",
      "execution_count": null,
      "id": "intense-delhi",
      "metadata": {
        "id": "intense-delhi"
      },
      "outputs": [],
      "source": [
        "'_______' ## Complete the code to create confusion matrix for test data"
      ]
    },
    {
      "cell_type": "code",
      "execution_count": null,
      "id": "conventional-hierarchy",
      "metadata": {
        "id": "conventional-hierarchy"
      },
      "outputs": [],
      "source": [
        "xgb_classifier_model_test_perf = model_performance_classification_sklearn('_______') ## Complete the code to check performance for test data\n",
        "xgb_classifier_model_test_perf"
      ]
    },
    {
      "cell_type": "markdown",
      "id": "mobile-chosen",
      "metadata": {
        "id": "mobile-chosen"
      },
      "source": [
        "### Hyperparameter Tuning - XGBoost Classifier"
      ]
    },
    {
      "cell_type": "code",
      "execution_count": null,
      "id": "aerial-trunk",
      "metadata": {
        "id": "aerial-trunk"
      },
      "outputs": [],
      "source": [
        "# Choose the type of classifier.\n",
        "xgb_tuned = XGBClassifier(random_state=1, eval_metric=\"logloss\")\n",
        "\n",
        "# Grid of parameters to choose from\n",
        "parameters = {\n",
        "    \"n_estimators\": np.arange(150, 250, 50),\n",
        "    \"scale_pos_weight\": [1, 2],\n",
        "    \"subsample\": [0.9, 1],\n",
        "    \"learning_rate\": np.arange(0.1, 0.21, 0.1),\n",
        "    \"gamma\": [3, 5],\n",
        "    \"colsample_bytree\": [0.8, 0.9],\n",
        "    \"colsample_bylevel\": [ 0.9, 1],\n",
        "}\n",
        "\n",
        "# Type of scoring used to compare parameter combinations\n",
        "acc_scorer = metrics.make_scorer(metrics.f1_score)\n",
        "\n",
        "# Run the grid search\n",
        "grid_obj = '_______' ## Complete the code to run grid search with cv = 5\n",
        "grid_obj = grid_obj.'_______' ## Complete the code to fit the grid_obj on train data\n",
        "\n",
        "# Set the clf to the best combination of parameters\n",
        "xgb_tuned = grid_obj.best_estimator_\n",
        "\n",
        "# Fit the best algorithm to the data.\n",
        "xgb_tuned.fit(X_train, y_train)"
      ]
    },
    {
      "cell_type": "markdown",
      "id": "psychological-plenty",
      "metadata": {
        "id": "psychological-plenty"
      },
      "source": [
        "#### Checking model performance on training set"
      ]
    },
    {
      "cell_type": "code",
      "execution_count": null,
      "id": "static-yesterday",
      "metadata": {
        "id": "static-yesterday"
      },
      "outputs": [],
      "source": [
        "'_______' ## Complete the code to create confusion matrix for train data on tuned estimator"
      ]
    },
    {
      "cell_type": "code",
      "execution_count": null,
      "id": "premium-today",
      "metadata": {
        "id": "premium-today"
      },
      "outputs": [],
      "source": [
        "xgb_tuned_model_train_perf = model_performance_classification_sklearn('_______') ## Complete the code to check performance for train data on tuned estimator\n",
        "xgb_tuned_model_train_perf"
      ]
    },
    {
      "cell_type": "markdown",
      "id": "awful-judgment",
      "metadata": {
        "id": "awful-judgment"
      },
      "source": [
        "#### Checking model performance on test set"
      ]
    },
    {
      "cell_type": "code",
      "execution_count": null,
      "id": "thrown-toilet",
      "metadata": {
        "id": "thrown-toilet"
      },
      "outputs": [],
      "source": [
        "'_______' ## Complete the code to create confusion matrix for test data on tuned estimator"
      ]
    },
    {
      "cell_type": "code",
      "execution_count": null,
      "id": "available-irrigation",
      "metadata": {
        "id": "available-irrigation"
      },
      "outputs": [],
      "source": [
        "xgb_tuned_model_test_perf = model_performance_classification_sklearn('_______') ## Complete the code to check performance for test data on tuned estimator\n",
        "xgb_tuned_model_test_perf"
      ]
    },
    {
      "cell_type": "markdown",
      "id": "disciplinary-manhattan",
      "metadata": {
        "id": "disciplinary-manhattan"
      },
      "source": [
        "## Stacking Classifier"
      ]
    },
    {
      "cell_type": "code",
      "execution_count": null,
      "id": "massive-cincinnati",
      "metadata": {
        "id": "massive-cincinnati"
      },
      "outputs": [],
      "source": [
        "estimators = [\n",
        "    (\"AdaBoost\", ab_classifier),\n",
        "    (\"Gradient Boosting\", gbc_tuned),\n",
        "    (\"Random Forest\", rf_tuned),\n",
        "]\n",
        "\n",
        "final_estimator = xgb_tuned\n",
        "\n",
        "stacking_classifier = '_______' ## Complete the code to define Stacking Classifier\n",
        "\n",
        "stacking_classifier.'_______' ## Complete the code to fit Stacking Classifier on the train data"
      ]
    },
    {
      "cell_type": "markdown",
      "id": "greek-jefferson",
      "metadata": {
        "id": "greek-jefferson"
      },
      "source": [
        "### Checking model performance on training set"
      ]
    },
    {
      "cell_type": "code",
      "execution_count": null,
      "id": "under-brazilian",
      "metadata": {
        "id": "under-brazilian"
      },
      "outputs": [],
      "source": [
        "'_______' ## Complete the code to create confusion matrix for train data"
      ]
    },
    {
      "cell_type": "code",
      "execution_count": null,
      "id": "apparent-greenhouse",
      "metadata": {
        "id": "apparent-greenhouse"
      },
      "outputs": [],
      "source": [
        "stacking_classifier_model_train_perf = model_performance_classification_sklearn('_______') ## Complete the code to check performance on train data\n",
        "stacking_classifier_model_train_perf"
      ]
    },
    {
      "cell_type": "markdown",
      "id": "corrected-agency",
      "metadata": {
        "id": "corrected-agency"
      },
      "source": [
        "### Checking model performance on test set"
      ]
    },
    {
      "cell_type": "code",
      "execution_count": null,
      "id": "empty-agent",
      "metadata": {
        "id": "empty-agent"
      },
      "outputs": [],
      "source": [
        "'_______' ## Complete the code to create confusion matrix for test data"
      ]
    },
    {
      "cell_type": "code",
      "execution_count": null,
      "id": "quantitative-neighborhood",
      "metadata": {
        "id": "quantitative-neighborhood"
      },
      "outputs": [],
      "source": [
        "stacking_classifier_model_test_perf = model_performance_classification_sklearn('_______') ## Complete the code to check performance for test data\n",
        "stacking_classifier_model_test_perf"
      ]
    },
    {
      "cell_type": "markdown",
      "id": "mechanical-clarity",
      "metadata": {
        "id": "mechanical-clarity"
      },
      "source": [
        "## Model Performance Comparison and Final Model Selection"
      ]
    },
    {
      "cell_type": "code",
      "execution_count": null,
      "id": "future-irrigation",
      "metadata": {
        "id": "future-irrigation"
      },
      "outputs": [],
      "source": [
        "# training performance comparison\n",
        "\n",
        "models_train_comp_df = pd.concat(\n",
        "    [\n",
        "        decision_tree_perf_train.T,\n",
        "        dtree_estimator_model_train_perf.T,\n",
        "        bagging_classifier_model_train_perf.T,\n",
        "        bagging_estimator_tuned_model_train_perf.T,\n",
        "        rf_estimator_model_train_perf.T,\n",
        "        rf_tuned_model_train_perf.T,\n",
        "        ab_classifier_model_train_perf.T,\n",
        "        abc_tuned_model_train_perf.T,\n",
        "        gb_classifier_model_train_perf.T,\n",
        "        gbc_tuned_model_train_perf.T,\n",
        "        xgb_classifier_model_train_perf.T,\n",
        "        xgb_tuned_model_train_perf.T,\n",
        "        stacking_classifier_model_train_perf.T,\n",
        "    ],\n",
        "    axis=1,\n",
        ")\n",
        "models_train_comp_df.columns = [\n",
        "    \"Decision Tree\",\n",
        "    \"Tuned Decision Tree\",\n",
        "    \"Bagging Classifier\",\n",
        "    \"Tuned Bagging Classifier\",\n",
        "    \"Random Forest\",\n",
        "    \"Tuned Random Forest\",\n",
        "    \"Adaboost Classifier\",\n",
        "    \"Tuned Adaboost Classifier\",\n",
        "    \"Gradient Boost Classifier\",\n",
        "    \"Tuned Gradient Boost Classifier\",\n",
        "    \"XGBoost Classifier\",\n",
        "    \"XGBoost Classifier Tuned\",\n",
        "    \"Stacking Classifier\",\n",
        "]\n",
        "print(\"Training performance comparison:\")\n",
        "models_train_comp_df"
      ]
    },
    {
      "cell_type": "code",
      "execution_count": null,
      "id": "collective-fireplace",
      "metadata": {
        "id": "collective-fireplace"
      },
      "outputs": [],
      "source": [
        "# testing performance comparison\n",
        "\n",
        "'_______' ## Complete the code to check performance for test data"
      ]
    },
    {
      "cell_type": "markdown",
      "id": "stone-venezuela",
      "metadata": {
        "id": "stone-venezuela"
      },
      "source": [
        "### Important features of the final model"
      ]
    },
    {
      "cell_type": "code",
      "execution_count": null,
      "id": "forty-mayor",
      "metadata": {
        "id": "forty-mayor"
      },
      "outputs": [],
      "source": [
        "feature_names = X_train.columns\n",
        "importances = gb_classifier.feature_importances_\n",
        "indices = np.argsort(importances)\n",
        "\n",
        "plt.figure(figsize=(12, 12))\n",
        "plt.title(\"Feature Importances\")\n",
        "plt.barh(range(len(indices)), importances[indices], color=\"violet\", align=\"center\")\n",
        "plt.yticks(range(len(indices)), [feature_names[i] for i in indices])\n",
        "plt.xlabel(\"Relative Importance\")\n",
        "plt.show()"
      ]
    },
    {
      "cell_type": "markdown",
      "id": "congressional-knock",
      "metadata": {
        "id": "congressional-knock"
      },
      "source": [
        "## Business Insights and Recommendations"
      ]
    },
    {
      "cell_type": "markdown",
      "id": "Am_0CWgMeXxY",
      "metadata": {
        "id": "Am_0CWgMeXxY"
      },
      "source": [
        "- \n"
      ]
    },
    {
      "cell_type": "markdown",
      "id": "4kJHJ56seYnH",
      "metadata": {
        "id": "4kJHJ56seYnH"
      },
      "source": [
        "___"
      ]
    }
  ],
  "metadata": {
    "colab": {
      "collapsed_sections": [
        "2xUfZBo9JM9e",
        "c1cd4628",
        "thorough-passion",
        "6vlJXoQkgcGI",
        "aboriginal-wrist",
        "accessory-camel",
        "assigned-berkeley",
        "standing-horizontal",
        "american-venue",
        "competent-timing",
        "cutting-bookmark",
        "wooden-christian",
        "comic-inventory",
        "metric-apparel",
        "bulgarian-parts",
        "editorial-command",
        "forbidden-kidney",
        "amateur-above",
        "attempted-burlington",
        "aging-curve",
        "stunning-surrey",
        "equivalent-aging",
        "dressed-excuse",
        "wound-communication",
        "theoretical-flexibility",
        "attended-current",
        "macro-decrease",
        "binding-charger",
        "lesser-bacteria",
        "changing-kansas",
        "suspected-asthma",
        "icaAgO2siAcs",
        "allied-association",
        "flexible-independence",
        "teKIRZIDdzpK",
        "71450807",
        "ICezcLI4iL0a",
        "blank-ballet",
        "increasing-diversity",
        "material-reduction",
        "protected-romantic",
        "FnQnoNOCiSwl",
        "aging-corruption",
        "suffering-growing",
        "verified-obligation",
        "increased-civilian",
        "protecting-douglas",
        "elegant-bookmark",
        "colonial-society",
        "possible-vinyl",
        "theoretical-poverty",
        "beneficial-bosnia",
        "joint-appendix",
        "joined-newman",
        "p33jg7JVid1H",
        "divine-legend",
        "grand-popularity",
        "french-breed",
        "increased-sharing",
        "adolescent-carroll",
        "fitting-cameroon",
        "married-terminal",
        "fiscal-language",
        "tribal-rainbow",
        "fuzzy-enemy",
        "standard-islam",
        "subsequent-royalty",
        "1415e2a1",
        "superior-letter",
        "muslim-machine",
        "advised-rabbit",
        "mobile-chosen",
        "psychological-plenty",
        "awful-judgment",
        "disciplinary-manhattan",
        "greek-jefferson",
        "corrected-agency",
        "mechanical-clarity",
        "stone-venezuela",
        "congressional-knock"
      ],
      "name": "DSBA_Project_EasyVisa_LowCode.ipynb",
      "provenance": []
    },
    "kernelspec": {
      "display_name": "Python 3",
      "language": "python",
      "name": "python3"
    },
    "language_info": {
      "codemirror_mode": {
        "name": "ipython",
        "version": 3
      },
      "file_extension": ".py",
      "mimetype": "text/x-python",
      "name": "python",
      "nbconvert_exporter": "python",
      "pygments_lexer": "ipython3",
      "version": "3.10.10"
    }
  },
  "nbformat": 4,
  "nbformat_minor": 5
}
