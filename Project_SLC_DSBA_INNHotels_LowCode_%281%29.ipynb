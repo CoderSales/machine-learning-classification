{
  "cells": [
    {
      "cell_type": "markdown",
      "id": "dense-medicaid",
      "metadata": {
        "id": "dense-medicaid"
      },
      "source": [
        "# INN Hotels Project\n",
        "###### Marks : 60\n",
        "\n",
        "## Context\n",
        "\n",
        "A significant number of hotel bookings are called off due to cancellations or no-shows. The typical reasons for cancellations include change of plans, scheduling conflicts, etc. This is often made easier by the option to do so free of charge or preferably at a low cost which is beneficial to hotel guests but it is a less desirable and possibly revenue-diminishing factor for hotels to deal with. Such losses are particularly high on last-minute cancellations.\n",
        "\n",
        "The new technologies involving online booking channels have dramatically changed customers’ booking possibilities and behavior. This adds a further dimension to the challenge of how hotels handle cancellations, which are no longer limited to traditional booking and guest characteristics.\n",
        "\n",
        "The cancellation of bookings impact a hotel on various fronts:\n",
        "1. Loss of resources (revenue) when the hotel cannot resell the room.\n",
        "2. Additional costs of distribution channels by increasing commissions or paying for publicity to help sell these rooms.\n",
        "3. Lowering prices last minute, so the hotel can resell a room, resulting in reducing the profit margin.\n",
        "4. Human resources to make arrangements for the guests.\n",
        "\n",
        "## Objective\n",
        "\n",
        "The increasing number of cancellations calls for a Machine Learning based solution that can help in predicting which booking is likely to be canceled. INN Hotels Group has a chain of hotels in Portugal, they are facing problems with the high number of booking cancellations and have reached out to your firm for data-driven solutions. You as a data scientist have to analyze the data provided to find which factors have a high influence on booking cancellations, build a predictive model that can predict which booking is going to be canceled in advance, and help in formulating profitable policies for cancellations and refunds.\n",
        "\n",
        "\n",
        "## Data Description\n",
        "\n",
        "The data contains the different attributes of customers' booking details. The detailed data dictionary is given below.\n",
        "\n",
        "\n",
        "**Data Dictionary**\n",
        "\n",
        "* Booking_ID: unique identifier of each booking\n",
        "* no_of_adults: Number of adults\n",
        "* no_of_children: Number of Children\n",
        "* no_of_weekend_nights: Number of weekend nights (Saturday or Sunday) the guest stayed or booked to stay at the hotel\n",
        "* no_of_week_nights: Number of week nights (Monday to Friday) the guest stayed or booked to stay at the hotel\n",
        "* type_of_meal_plan: Type of meal plan booked by the customer:\n",
        "    * Not Selected – No meal plan selected\n",
        "    * Meal Plan 1 – Breakfast\n",
        "    * Meal Plan 2 – Half board (breakfast and one other meal)\n",
        "    * Meal Plan 3 – Full board (breakfast, lunch, and dinner)\n",
        "* required_car_parking_space: Does the customer require a car parking space? (0 - No, 1- Yes)\n",
        "* room_type_reserved: Type of room reserved by the customer. The values are ciphered (encoded) by INN Hotels.\n",
        "* lead_time: Number of days between the date of booking and the arrival date\n",
        "* arrival_year: Year of arrival date\n",
        "* arrival_month: Month of arrival date\n",
        "* arrival_date: Date of the month\n",
        "* market_segment_type: Market segment designation.\n",
        "* repeated_guest: Is the customer a repeated guest? (0 - No, 1- Yes)\n",
        "* no_of_previous_cancellations: Number of previous bookings that were canceled by the customer prior to the current booking\n",
        "* no_of_previous_bookings_not_canceled: Number of previous bookings not canceled by the customer prior to the current booking\n",
        "* avg_price_per_room: Average price per day of the reservation; prices of the rooms are dynamic. (in euros)\n",
        "* no_of_special_requests: Total number of special requests made by the customer (e.g. high floor, view from the room, etc)\n",
        "* booking_status: Flag indicating if the booking was canceled or not."
      ]
    },
    {
      "cell_type": "markdown",
      "id": "286ede49",
      "metadata": {
        "id": "286ede49"
      },
      "source": [
        "### **Please read the instructions carefully before starting the project.** \n",
        "This is a commented Jupyter IPython Notebook file in which all the instructions and tasks to be performed are mentioned. \n",
        "* Blanks '_______' are provided in the notebook that \n",
        "needs to be filled with an appropriate code to get the correct result. With every '_______' blank, there is a comment that briefly describes what needs to be filled in the blank space. \n",
        "* Identify the task to be performed correctly, and only then proceed to write the required code.\n",
        "* Fill the code wherever asked by the commented lines like \"# write your code here\" or \"# complete the code\". Running incomplete code may throw error.\n",
        "* Please run the codes in a sequential manner from the beginning to avoid any unnecessary errors.\n",
        "* Add the results/observations (wherever mentioned) derived from the analysis in the presentation and submit the same.\n"
      ]
    },
    {
      "attachments": {},
      "cell_type": "markdown",
      "id": "76ecf2a4",
      "metadata": {},
      "source": [
        "##### <b><u>Installation Instructions</u></b>:"
      ]
    },
    {
      "cell_type": "code",
      "execution_count": null,
      "id": "470b2ad9",
      "metadata": {},
      "outputs": [],
      "source": [
        "# install\n",
        "# https://discourse.jupyter.org/t/python-in-terminal-finds-module-jupyter-notebook-does-not/2262/7\n",
        "# **!**pip install module name\n",
        "# !pip install could install to wrong env use % instead\n",
        "\n",
        "# working:\n",
        "\n",
        "# %pip install jup notebook\n",
        "# %pip install matplotlib\n",
        "# %pip install pandas\n",
        "# %pip install seaborn\n",
        "# %pip install numpy\n",
        "# %pip install scipy\n",
        "# %pip install statsmodels\n",
        "# %pip install -U scikit-learn\n",
        "# %pip install ipykernel\n",
        "# %pip install nb-black\n",
        "\n",
        "# !pip install nb-black\n"
      ]
    },
    {
      "attachments": {},
      "cell_type": "markdown",
      "id": "2fc11fa2",
      "metadata": {},
      "source": [
        "Setup (on Windows 10 / 11):\n",
        "\n",
        "TODO:\n",
        "\n",
        "STEP 1.<br>\n",
        "open VSCode<br>\n",
        "Add this notebook to active VScode folder\n",
        "\n",
        "------------------------------------------------------\n",
        "STEP 1.1<br>\n",
        "Ctrl + SHIFT + P\n",
        "Python: Select Interpreter\n",
        "\n",
        "STEP 1.1.1<br>\n",
        "`# Reference: (To setup Anaconda to work with VSCode:) https://www.youtube.com/watch?t=354&v=Cp5W5e8_UGo&feature=youtu.be&ab_channel=Elearners365`\n",
        "\n",
        "STEP 1.1.2<br>\n",
        "Set Python Interpreter from STEP 1.1 to Anaconda Environment, in this case:<br>\n",
        "Python 3.9.16<br>\n",
        "(Select Anaconda Environment created<br>\n",
        "(or alternatively use `python3 --m venv environment_name_here` then either: `source environment_name_here/Scripts/activate` or `. environment_name_here/Scripts/activate`))\n",
        "\n",
        "------------------------------------------------------\n",
        "\n",
        "STEP 2.<br>\n",
        "in same (root) directory as this notebook:\n",
        "\n",
        "- STEP 2.1<br>\n",
        "Add Dataset:\n",
        "\n",
        "INNHotelsGroup.csv\n",
        "\n",
        "- STEP 2.2<br>\n",
        "Create a shell script called:\n",
        "\n",
        "script2.sh\n",
        "\n",
        "- STEP 2.2.1<br>\n",
        "Add the following line to \n",
        "script2.sh\n",
        "\n",
        "```\n",
        "source .venv/Scripts/activate\n",
        "```\n",
        "\n",
        "------------------------------------------------------\n",
        "\n",
        "STEP 3.\n",
        "\n",
        "Press <br>\n",
        "CTRL + '<br>\n",
        "to open terminal<br>\n",
        "\n",
        "run the following 2 commands in VSCode terminal:\n",
        "\n",
        "```\n",
        "chmod +x script2.sh\n",
        "```\n",
        "\n",
        "```\n",
        "source script2.sh\n",
        "```\n",
        "\n",
        "------------------------------------------------------\n",
        "\n",
        "STEP 4. then continue running this notebook as normal\n"
      ]
    },
    {
      "cell_type": "code",
      "execution_count": 16,
      "id": "089a9ad4",
      "metadata": {},
      "outputs": [
        {
          "name": "stdout",
          "output_type": "stream",
          "text": [
            "'notebook' already in sys.modules\n",
            "'matplotlib' already in sys.modules\n",
            "'pandas' already in sys.modules\n",
            "'seaborn' already in sys.modules\n",
            "'numpy' already in sys.modules\n",
            "'scipy' already in sys.modules\n",
            "'statsmodels' already in sys.modules\n",
            "can't find the 'scikit-learn' module\n",
            "'ipykernel' already in sys.modules\n",
            "can't find the 'nb-black' module\n",
            "'importlib.util' already in sys.modules\n",
            "'sys' already in sys.modules\n",
            "'os' already in sys.modules\n",
            "'importlib.util' already in sys.modules\n",
            "'subprocess' already in sys.modules\n",
            "'warnings' already in sys.modules\n",
            "'statsmodels.tools.sm_exceptions' already in sys.modules\n",
            "'matplotlib.pyplot' already in sys.modules\n",
            "can't find the 'sklearn.model_selection.train_test_split' module\n",
            "'statsmodels.stats.api' already in sys.modules\n",
            "'statsmodels.stats.outliers_influence' already in sys.modules\n",
            "'statsmodels.api' already in sys.modules\n",
            "'statsmodels.tools.tools' already in sys.modules\n",
            "can't find the 'sklearn.tree.DecisionTreeClassifier' module\n",
            "'sklearn.tree' already in sys.modules\n",
            "can't find the 'sklearn.model_selection.GridSearchCV' module\n",
            "can't find the 'sklearn.metrics.f1_score' module\n",
            "can't find the 'sklearn.metrics.accuracy_score' module\n",
            "can't find the 'sklearn.metrics.recall_score' module\n",
            "can't find the 'sklearn.metrics.precision_score' module\n",
            "can't find the 'sklearn.metrics.confusion_matrix' module\n",
            "can't find the 'sklearn.metrics.roc_auc_score' module\n",
            "can't find the 'sklearn.metrics.ConfusionMatrixDisplay' module\n",
            "can't find the 'sklearn.metrics.precision_recall_curve' module\n",
            "can't find the 'sklearn.metrics.roc_curve' module\n",
            "can't find the 'sklearn.metrics.make_scorer' module\n",
            "\n",
            "uninstalled modules are: ['scikit-learn', 'nb-black', 'sklearn.model_selection.train_test_split', 'sklearn.tree.DecisionTreeClassifier', 'sklearn.model_selection.GridSearchCV', 'sklearn.metrics.f1_score', 'sklearn.metrics.accuracy_score', 'sklearn.metrics.recall_score', 'sklearn.metrics.precision_score', 'sklearn.metrics.confusion_matrix', 'sklearn.metrics.roc_auc_score', 'sklearn.metrics.ConfusionMatrixDisplay', 'sklearn.metrics.precision_recall_curve', 'sklearn.metrics.roc_curve', 'sklearn.metrics.make_scorer'] \n",
            "\n",
            "scikit-learn module has been installed\n",
            "nb-black module has been installed\n",
            "sklearn.model_selection.train_test_split module has been installed\n",
            "sklearn.tree.DecisionTreeClassifier module has been installed\n",
            "sklearn.model_selection.GridSearchCV module has been installed\n",
            "sklearn.metrics.f1_score module has been installed\n",
            "sklearn.metrics.accuracy_score module has been installed\n",
            "sklearn.metrics.recall_score module has been installed\n",
            "sklearn.metrics.precision_score module has been installed\n",
            "sklearn.metrics.confusion_matrix module has been installed\n",
            "sklearn.metrics.roc_auc_score module has been installed\n",
            "sklearn.metrics.ConfusionMatrixDisplay module has been installed\n",
            "sklearn.metrics.precision_recall_curve module has been installed\n",
            "sklearn.metrics.roc_curve module has been installed\n",
            "sklearn.metrics.make_scorer module has been installed\n",
            "\n",
            " ['scikit-learn', 'nb-black', 'sklearn.model_selection.train_test_split', 'sklearn.tree.DecisionTreeClassifier', 'sklearn.model_selection.GridSearchCV', 'sklearn.metrics.f1_score', 'sklearn.metrics.accuracy_score', 'sklearn.metrics.recall_score', 'sklearn.metrics.precision_score', 'sklearn.metrics.confusion_matrix', 'sklearn.metrics.roc_auc_score', 'sklearn.metrics.ConfusionMatrixDisplay', 'sklearn.metrics.precision_recall_curve', 'sklearn.metrics.roc_curve', 'sklearn.metrics.make_scorer'] modules have just been installed\n"
          ]
        },
        {
          "data": {
            "application/javascript": "\n            setTimeout(function() {\n                var nbb_cell_id = 16;\n                var nbb_unformatted_code = \"import importlib.util\\nimport sys\\nimport os\\nimport subprocess\\n\\n# subprocess.run(\\\"chmod +x script2.sh\\\")\\n# os.chmod(\\\"x\\\", \\\"script2.sh\\\")\\n\\n\\n# TODO: Add any required modules in quotes to the comma separated list in the variable modules_list here (scikit-learn is special case as it has -U before it)\\nmodules_list = [\\n    \\\"notebook\\\",\\n    \\\"matplotlib\\\",\\n    \\\"pandas\\\",\\n    \\\"seaborn\\\",\\n    \\\"numpy\\\",\\n    \\\"scipy\\\",\\n    \\\"statsmodels\\\",\\n    \\\"-U scikit-learn\\\",\\n    \\\"ipykernel\\\",\\n    \\\"nb-black\\\",\\n    \\\"importlib.util\\\",\\n    \\\"sys\\\",\\n    \\\"os\\\",\\n    \\\"importlib.util\\\",\\n    \\\"subprocess\\\",\\n    \\\"warnings\\\",\\n    \\\"statsmodels.tools.sm_exceptions\\\",\\n    \\\"matplotlib.pyplot\\\",\\n    \\\"sklearn.model_selection.train_test_split\\\",\\n    \\\"statsmodels.stats.api\\\",\\n    \\\"statsmodels.stats.outliers_influence\\\",\\n    # \\\"statsmodels.stats.outliers_influence.variance_inflation_factor\\\",\\n    \\\"statsmodels.api\\\",\\n    \\\"statsmodels.tools.tools\\\",\\n    # \\\"statsmodels.tools.tools.add_constant\\\",\\n    \\\"sklearn.tree.DecisionTreeClassifier\\\",\\n    \\\"sklearn.tree\\\",\\n    \\\"sklearn.model_selection.GridSearchCV\\\",\\n    \\\"sklearn.metrics.f1_score\\\",\\n    \\\"sklearn.metrics.accuracy_score\\\",\\n    \\\"sklearn.metrics.recall_score\\\",\\n    \\\"sklearn.metrics.precision_score\\\",\\n    \\\"sklearn.metrics.confusion_matrix\\\",\\n    \\\"sklearn.metrics.roc_auc_score\\\",\\n    \\\"sklearn.metrics.ConfusionMatrixDisplay\\\",\\n    \\\"sklearn.metrics.precision_recall_curve\\\",\\n    \\\"sklearn.metrics.roc_curve\\\",\\n    \\\"sklearn.metrics.make_scorer\\\"\\n]\\n\\nuninstalled_list = []\\nmodules_list_modified = []\\nunchecked_formatted_list = []\\n\\n\\ndef stringifier(string):\\n    string = string[3:15]\\n    return string\\n\\n\\ndef sort_output(name):\\n    string = name  #\\n    # module\\n    if string == \\\"-U scikit-learn\\\":\\n        module = stringifier(string)  # string = string[2:15] #\\n        return module\\n    # now have holder=scikit-learn\\n    else:\\n        module = string\\n        return string\\n\\n\\ndef loop_unformatted_packages(modules_list):\\n    for name in modules_list:  # '-U scikit-learn'\\n        unchecked_formatted_list.append(sort_output(name))\\n    return unchecked_formatted_list\\n\\n\\nunchecked_formatted_list = loop_unformatted_packages(modules_list)\\n\\n\\ndef check_not_installed(name):\\n    \\\"\\\"\\\"\\n    Check if a package (formatted) is installed or not.\\n    \\\"\\\"\\\"\\n    if name in sys.modules:\\n        print(f\\\"{name!r} already in sys.modules\\\")\\n    elif (spec := importlib.util.find_spec(name)) is not None:\\n        # If you choose to perform the actual import ..\\n        module = importlib.util.module_from_spec(spec)\\n        sys.modules[name] = module\\n        spec.loader.exec_module(module)\\n        print(f\\\"{name!r} has been imported\\\")\\n    else:\\n        print(f\\\"can't find the {name!r} module\\\")\\n        return name\\n\\n\\ndef loop_formatted_packages(unchecked_formatted_list, uninstalled_list):\\n    \\\"\\\"\\\"\\n    takes:\\n     - var unchecked_formatted_list\\n     - var uninstalled_list\\n    calls:\\n     - function check_not_installed\\n    \\\"\\\"\\\"\\n    for name in unchecked_formatted_list:  # '-U scikit-learn'\\n        if check_not_installed(name):\\n            uninstalled_list.append(name)\\n    return uninstalled_list\\n\\n\\nuninstalled_list = loop_formatted_packages(unchecked_formatted_list, uninstalled_list)\\n\\nprint(\\\"\\\\nuninstalled modules are:\\\", uninstalled_list, \\\"\\\\n\\\")\\n\\n# os.system(\\\"pip install notebook\\\")\\n# os.system(\\\"pip install matplotlib\\\")\\n# os.system(\\\"pip install pandas\\\")\\n# os.system(\\\"pip install seaborn\\\")\\n# os.system(\\\"pip install numpy\\\")\\n# os.system(\\\"pip install scipy\\\")\\n# os.system(\\\"pip install statsmodels\\\")\\n# os.system(\\\"pip install -U scikit-learn\\\")\\n# os.system(\\\"pip install ipykernel\\\")\\n# os.system(\\\"pip install nb-black\\\")\\n\\nnewly_installed = []\\n\\n\\ndef installer(uninstalled_list):\\n    for name in uninstalled_list:\\n        if name == \\\"scikit-learn\\\":\\n            name2 = \\\"-U \\\" + name\\n        os.system(\\\"pip install {}\\\".format(name2))\\n        print(name, \\\"module has been installed\\\")\\n        newly_installed.append(name)\\n    print(\\\"\\\\n\\\", newly_installed, \\\"modules have just been installed\\\")\\n\\n\\ninstaller(uninstalled_list)\";\n                var nbb_formatted_code = \"import importlib.util\\nimport sys\\nimport os\\nimport subprocess\\n\\n# subprocess.run(\\\"chmod +x script2.sh\\\")\\n# os.chmod(\\\"x\\\", \\\"script2.sh\\\")\\n\\n\\n# TODO: Add any required modules in quotes to the comma separated list in the variable modules_list here (scikit-learn is special case as it has -U before it)\\nmodules_list = [\\n    \\\"notebook\\\",\\n    \\\"matplotlib\\\",\\n    \\\"pandas\\\",\\n    \\\"seaborn\\\",\\n    \\\"numpy\\\",\\n    \\\"scipy\\\",\\n    \\\"statsmodels\\\",\\n    \\\"-U scikit-learn\\\",\\n    \\\"ipykernel\\\",\\n    \\\"nb-black\\\",\\n    \\\"importlib.util\\\",\\n    \\\"sys\\\",\\n    \\\"os\\\",\\n    \\\"importlib.util\\\",\\n    \\\"subprocess\\\",\\n    \\\"warnings\\\",\\n    \\\"statsmodels.tools.sm_exceptions\\\",\\n    \\\"matplotlib.pyplot\\\",\\n    \\\"sklearn.model_selection.train_test_split\\\",\\n    \\\"statsmodels.stats.api\\\",\\n    \\\"statsmodels.stats.outliers_influence\\\",\\n    # \\\"statsmodels.stats.outliers_influence.variance_inflation_factor\\\",\\n    \\\"statsmodels.api\\\",\\n    \\\"statsmodels.tools.tools\\\",\\n    # \\\"statsmodels.tools.tools.add_constant\\\",\\n    \\\"sklearn.tree.DecisionTreeClassifier\\\",\\n    \\\"sklearn.tree\\\",\\n    \\\"sklearn.model_selection.GridSearchCV\\\",\\n    \\\"sklearn.metrics.f1_score\\\",\\n    \\\"sklearn.metrics.accuracy_score\\\",\\n    \\\"sklearn.metrics.recall_score\\\",\\n    \\\"sklearn.metrics.precision_score\\\",\\n    \\\"sklearn.metrics.confusion_matrix\\\",\\n    \\\"sklearn.metrics.roc_auc_score\\\",\\n    \\\"sklearn.metrics.ConfusionMatrixDisplay\\\",\\n    \\\"sklearn.metrics.precision_recall_curve\\\",\\n    \\\"sklearn.metrics.roc_curve\\\",\\n    \\\"sklearn.metrics.make_scorer\\\",\\n]\\n\\nuninstalled_list = []\\nmodules_list_modified = []\\nunchecked_formatted_list = []\\n\\n\\ndef stringifier(string):\\n    string = string[3:15]\\n    return string\\n\\n\\ndef sort_output(name):\\n    string = name  #\\n    # module\\n    if string == \\\"-U scikit-learn\\\":\\n        module = stringifier(string)  # string = string[2:15] #\\n        return module\\n    # now have holder=scikit-learn\\n    else:\\n        module = string\\n        return string\\n\\n\\ndef loop_unformatted_packages(modules_list):\\n    for name in modules_list:  # '-U scikit-learn'\\n        unchecked_formatted_list.append(sort_output(name))\\n    return unchecked_formatted_list\\n\\n\\nunchecked_formatted_list = loop_unformatted_packages(modules_list)\\n\\n\\ndef check_not_installed(name):\\n    \\\"\\\"\\\"\\n    Check if a package (formatted) is installed or not.\\n    \\\"\\\"\\\"\\n    if name in sys.modules:\\n        print(f\\\"{name!r} already in sys.modules\\\")\\n    elif (spec := importlib.util.find_spec(name)) is not None:\\n        # If you choose to perform the actual import ..\\n        module = importlib.util.module_from_spec(spec)\\n        sys.modules[name] = module\\n        spec.loader.exec_module(module)\\n        print(f\\\"{name!r} has been imported\\\")\\n    else:\\n        print(f\\\"can't find the {name!r} module\\\")\\n        return name\\n\\n\\ndef loop_formatted_packages(unchecked_formatted_list, uninstalled_list):\\n    \\\"\\\"\\\"\\n    takes:\\n     - var unchecked_formatted_list\\n     - var uninstalled_list\\n    calls:\\n     - function check_not_installed\\n    \\\"\\\"\\\"\\n    for name in unchecked_formatted_list:  # '-U scikit-learn'\\n        if check_not_installed(name):\\n            uninstalled_list.append(name)\\n    return uninstalled_list\\n\\n\\nuninstalled_list = loop_formatted_packages(unchecked_formatted_list, uninstalled_list)\\n\\nprint(\\\"\\\\nuninstalled modules are:\\\", uninstalled_list, \\\"\\\\n\\\")\\n\\n# os.system(\\\"pip install notebook\\\")\\n# os.system(\\\"pip install matplotlib\\\")\\n# os.system(\\\"pip install pandas\\\")\\n# os.system(\\\"pip install seaborn\\\")\\n# os.system(\\\"pip install numpy\\\")\\n# os.system(\\\"pip install scipy\\\")\\n# os.system(\\\"pip install statsmodels\\\")\\n# os.system(\\\"pip install -U scikit-learn\\\")\\n# os.system(\\\"pip install ipykernel\\\")\\n# os.system(\\\"pip install nb-black\\\")\\n\\nnewly_installed = []\\n\\n\\ndef installer(uninstalled_list):\\n    for name in uninstalled_list:\\n        if name == \\\"scikit-learn\\\":\\n            name2 = \\\"-U \\\" + name\\n        os.system(\\\"pip install {}\\\".format(name2))\\n        print(name, \\\"module has been installed\\\")\\n        newly_installed.append(name)\\n    print(\\\"\\\\n\\\", newly_installed, \\\"modules have just been installed\\\")\\n\\n\\ninstaller(uninstalled_list)\";\n                var nbb_cells = Jupyter.notebook.get_cells();\n                for (var i = 0; i < nbb_cells.length; ++i) {\n                    if (nbb_cells[i].input_prompt_number == nbb_cell_id) {\n                        if (nbb_cells[i].get_text() == nbb_unformatted_code) {\n                             nbb_cells[i].set_text(nbb_formatted_code);\n                        }\n                        break;\n                    }\n                }\n            }, 500);\n            ",
            "text/plain": [
              "<IPython.core.display.Javascript object>"
            ]
          },
          "metadata": {},
          "output_type": "display_data"
        }
      ],
      "source": [
        "import importlib.util\n",
        "import sys\n",
        "import os\n",
        "import subprocess\n",
        "\n",
        "# subprocess.run(\"chmod +x script2.sh\")\n",
        "# os.chmod(\"x\", \"script2.sh\")\n",
        "\n",
        "\n",
        "# TODO: Add any required modules in quotes to the comma separated list in the variable modules_list here (scikit-learn is special case as it has -U before it)\n",
        "modules_list = [\n",
        "    \"notebook\",\n",
        "    \"matplotlib\",\n",
        "    \"pandas\",\n",
        "    \"seaborn\",\n",
        "    \"numpy\",\n",
        "    \"scipy\",\n",
        "    \"statsmodels\",\n",
        "    \"-U scikit-learn\",\n",
        "    \"ipykernel\",\n",
        "    \"nb-black\",\n",
        "    \"importlib.util\",\n",
        "    \"sys\",\n",
        "    \"os\",\n",
        "    \"importlib.util\",\n",
        "    \"subprocess\",\n",
        "    \"warnings\",\n",
        "    \"statsmodels.tools.sm_exceptions\",\n",
        "    \"matplotlib.pyplot\",\n",
        "    \"sklearn.model_selection.train_test_split\",\n",
        "    \"statsmodels.stats.api\",\n",
        "    \"statsmodels.stats.outliers_influence\",\n",
        "    # \"statsmodels.stats.outliers_influence.variance_inflation_factor\",\n",
        "    \"statsmodels.api\",\n",
        "    \"statsmodels.tools.tools\",\n",
        "    # \"statsmodels.tools.tools.add_constant\",\n",
        "    \"sklearn.tree.DecisionTreeClassifier\",\n",
        "    \"sklearn.tree\",\n",
        "    \"sklearn.model_selection.GridSearchCV\",\n",
        "    \"sklearn.metrics.f1_score\",\n",
        "    \"sklearn.metrics.accuracy_score\",\n",
        "    \"sklearn.metrics.recall_score\",\n",
        "    \"sklearn.metrics.precision_score\",\n",
        "    \"sklearn.metrics.confusion_matrix\",\n",
        "    \"sklearn.metrics.roc_auc_score\",\n",
        "    \"sklearn.metrics.ConfusionMatrixDisplay\",\n",
        "    \"sklearn.metrics.precision_recall_curve\",\n",
        "    \"sklearn.metrics.roc_curve\",\n",
        "    \"sklearn.metrics.make_scorer\"\n",
        "]\n",
        "\n",
        "uninstalled_list = []\n",
        "modules_list_modified = []\n",
        "unchecked_formatted_list = []\n",
        "\n",
        "\n",
        "def stringifier(string):\n",
        "    string = string[3:15]\n",
        "    return string\n",
        "\n",
        "\n",
        "def sort_output(name):\n",
        "    string = name  #\n",
        "    # module\n",
        "    if string == \"-U scikit-learn\":\n",
        "        module = stringifier(string)  # string = string[2:15] #\n",
        "        return module\n",
        "    # now have holder=scikit-learn\n",
        "    else:\n",
        "        module = string\n",
        "        return string\n",
        "\n",
        "\n",
        "def loop_unformatted_packages(modules_list):\n",
        "    for name in modules_list:  # '-U scikit-learn'\n",
        "        unchecked_formatted_list.append(sort_output(name))\n",
        "    return unchecked_formatted_list\n",
        "\n",
        "\n",
        "unchecked_formatted_list = loop_unformatted_packages(modules_list)\n",
        "\n",
        "\n",
        "def check_not_installed(name):\n",
        "    \"\"\"\n",
        "    Check if a package (formatted) is installed or not.\n",
        "    \"\"\"\n",
        "    if name in sys.modules:\n",
        "        print(f\"{name!r} already in sys.modules\")\n",
        "    elif (spec := importlib.util.find_spec(name)) is not None:\n",
        "        # If you choose to perform the actual import ..\n",
        "        module = importlib.util.module_from_spec(spec)\n",
        "        sys.modules[name] = module\n",
        "        spec.loader.exec_module(module)\n",
        "        print(f\"{name!r} has been imported\")\n",
        "    else:\n",
        "        print(f\"can't find the {name!r} module\")\n",
        "        return name\n",
        "\n",
        "\n",
        "def loop_formatted_packages(unchecked_formatted_list, uninstalled_list):\n",
        "    \"\"\"\n",
        "    takes:\n",
        "     - var unchecked_formatted_list\n",
        "     - var uninstalled_list\n",
        "    calls:\n",
        "     - function check_not_installed\n",
        "    \"\"\"\n",
        "    for name in unchecked_formatted_list:  # '-U scikit-learn'\n",
        "        if check_not_installed(name):\n",
        "            uninstalled_list.append(name)\n",
        "    return uninstalled_list\n",
        "\n",
        "\n",
        "uninstalled_list = loop_formatted_packages(unchecked_formatted_list, uninstalled_list)\n",
        "\n",
        "print(\"\\nuninstalled modules are:\", uninstalled_list, \"\\n\")\n",
        "\n",
        "# os.system(\"pip install notebook\")\n",
        "# os.system(\"pip install matplotlib\")\n",
        "# os.system(\"pip install pandas\")\n",
        "# os.system(\"pip install seaborn\")\n",
        "# os.system(\"pip install numpy\")\n",
        "# os.system(\"pip install scipy\")\n",
        "# os.system(\"pip install statsmodels\")\n",
        "# os.system(\"pip install -U scikit-learn\")\n",
        "# os.system(\"pip install ipykernel\")\n",
        "# os.system(\"pip install nb-black\")\n",
        "\n",
        "newly_installed = []\n",
        "\n",
        "\n",
        "def installer(uninstalled_list):\n",
        "    for name in uninstalled_list:\n",
        "        if name == \"scikit-learn\":\n",
        "            name2 = \"-U \" + name\n",
        "        os.system(\"pip install {}\".format(name2))\n",
        "        print(name, \"module has been installed\")\n",
        "        newly_installed.append(name)\n",
        "    print(\"\\n\", newly_installed, \"modules have just been installed\")\n",
        "\n",
        "\n",
        "installer(uninstalled_list)\n"
      ]
    },
    {
      "attachments": {},
      "cell_type": "markdown",
      "id": "6f2de2bf",
      "metadata": {},
      "source": [
        "##### <b><u>Import Packages:</u></b>"
      ]
    },
    {
      "cell_type": "code",
      "execution_count": 18,
      "id": "proper-calgary",
      "metadata": {
        "id": "proper-calgary"
      },
      "outputs": [
        {
          "name": "stdout",
          "output_type": "stream",
          "text": [
            "The nb_black extension is already loaded. To reload it, use:\n",
            "  %reload_ext nb_black\n"
          ]
        },
        {
          "data": {
            "application/javascript": "\n            setTimeout(function() {\n                var nbb_cell_id = 18;\n                var nbb_unformatted_code = \"# this will help in making the Python code more structured automatically (help adhere to good coding practices)\\n%load_ext nb_black\\n\\nimport warnings\\n\\nwarnings.filterwarnings(\\\"ignore\\\")\\nfrom statsmodels.tools.sm_exceptions import ConvergenceWarning\\n\\nwarnings.simplefilter(\\\"ignore\\\", ConvergenceWarning)\\n\\n# Libraries to help with reading and manipulating data\\nimport pandas as pd\\nimport numpy as np\\n\\n# libaries to help with data visualization\\nimport matplotlib.pyplot as plt\\nimport seaborn as sns\\n\\n# Removes the limit for the number of displayed columns\\npd.set_option(\\\"display.max_columns\\\", None)\\n# Sets the limit for the number of displayed rows\\npd.set_option(\\\"display.max_rows\\\", 200)\\n# setting the precision of floating numbers to 5 decimal points\\npd.set_option(\\\"display.float_format\\\", lambda x: \\\"%.5f\\\" % x)\\n\\n# Library to split data\\nfrom sklearn.model_selection import train_test_split\\n\\n# To build model for prediction\\nimport statsmodels.stats.api as sms\\nfrom statsmodels.stats.outliers_influence import variance_inflation_factor\\nimport statsmodels.api as sm\\nfrom statsmodels.tools.tools import add_constant\\nfrom sklearn.tree import DecisionTreeClassifier\\nfrom sklearn import tree\\n\\n# To tune different models\\nfrom sklearn.model_selection import GridSearchCV\\n\\n\\n# To get diferent metric scores\\nfrom sklearn.metrics import (\\n    f1_score,\\n    accuracy_score,\\n    recall_score,\\n    precision_score,\\n    confusion_matrix,\\n    roc_auc_score,\\n    ConfusionMatrixDisplay,\\n    precision_recall_curve,\\n    roc_curve,\\n    make_scorer,\\n)\\n\\n%reload_ext nb_black\";\n                var nbb_formatted_code = \"# this will help in making the Python code more structured automatically (help adhere to good coding practices)\\n%load_ext nb_black\\n\\nimport warnings\\n\\nwarnings.filterwarnings(\\\"ignore\\\")\\nfrom statsmodels.tools.sm_exceptions import ConvergenceWarning\\n\\nwarnings.simplefilter(\\\"ignore\\\", ConvergenceWarning)\\n\\n# Libraries to help with reading and manipulating data\\nimport pandas as pd\\nimport numpy as np\\n\\n# libaries to help with data visualization\\nimport matplotlib.pyplot as plt\\nimport seaborn as sns\\n\\n# Removes the limit for the number of displayed columns\\npd.set_option(\\\"display.max_columns\\\", None)\\n# Sets the limit for the number of displayed rows\\npd.set_option(\\\"display.max_rows\\\", 200)\\n# setting the precision of floating numbers to 5 decimal points\\npd.set_option(\\\"display.float_format\\\", lambda x: \\\"%.5f\\\" % x)\\n\\n# Library to split data\\nfrom sklearn.model_selection import train_test_split\\n\\n# To build model for prediction\\nimport statsmodels.stats.api as sms\\nfrom statsmodels.stats.outliers_influence import variance_inflation_factor\\nimport statsmodels.api as sm\\nfrom statsmodels.tools.tools import add_constant\\nfrom sklearn.tree import DecisionTreeClassifier\\nfrom sklearn import tree\\n\\n# To tune different models\\nfrom sklearn.model_selection import GridSearchCV\\n\\n\\n# To get diferent metric scores\\nfrom sklearn.metrics import (\\n    f1_score,\\n    accuracy_score,\\n    recall_score,\\n    precision_score,\\n    confusion_matrix,\\n    roc_auc_score,\\n    ConfusionMatrixDisplay,\\n    precision_recall_curve,\\n    roc_curve,\\n    make_scorer,\\n)\\n\\n%reload_ext nb_black\";\n                var nbb_cells = Jupyter.notebook.get_cells();\n                for (var i = 0; i < nbb_cells.length; ++i) {\n                    if (nbb_cells[i].input_prompt_number == nbb_cell_id) {\n                        if (nbb_cells[i].get_text() == nbb_unformatted_code) {\n                             nbb_cells[i].set_text(nbb_formatted_code);\n                        }\n                        break;\n                    }\n                }\n            }, 500);\n            ",
            "text/plain": [
              "<IPython.core.display.Javascript object>"
            ]
          },
          "metadata": {},
          "output_type": "display_data"
        },
        {
          "data": {
            "application/javascript": "\n            setTimeout(function() {\n                var nbb_cell_id = 18;\n                var nbb_unformatted_code = \"# this will help in making the Python code more structured automatically (help adhere to good coding practices)\\n%load_ext nb_black\\n\\nimport warnings\\n\\nwarnings.filterwarnings(\\\"ignore\\\")\\nfrom statsmodels.tools.sm_exceptions import ConvergenceWarning\\n\\nwarnings.simplefilter(\\\"ignore\\\", ConvergenceWarning)\\n\\n# Libraries to help with reading and manipulating data\\nimport pandas as pd\\nimport numpy as np\\n\\n# libaries to help with data visualization\\nimport matplotlib.pyplot as plt\\nimport seaborn as sns\\n\\n# Removes the limit for the number of displayed columns\\npd.set_option(\\\"display.max_columns\\\", None)\\n# Sets the limit for the number of displayed rows\\npd.set_option(\\\"display.max_rows\\\", 200)\\n# setting the precision of floating numbers to 5 decimal points\\npd.set_option(\\\"display.float_format\\\", lambda x: \\\"%.5f\\\" % x)\\n\\n# Library to split data\\nfrom sklearn.model_selection import train_test_split\\n\\n# To build model for prediction\\nimport statsmodels.stats.api as sms\\nfrom statsmodels.stats.outliers_influence import variance_inflation_factor\\nimport statsmodels.api as sm\\nfrom statsmodels.tools.tools import add_constant\\nfrom sklearn.tree import DecisionTreeClassifier\\nfrom sklearn import tree\\n\\n# To tune different models\\nfrom sklearn.model_selection import GridSearchCV\\n\\n\\n# To get diferent metric scores\\nfrom sklearn.metrics import (\\n    f1_score,\\n    accuracy_score,\\n    recall_score,\\n    precision_score,\\n    confusion_matrix,\\n    roc_auc_score,\\n    ConfusionMatrixDisplay,\\n    precision_recall_curve,\\n    roc_curve,\\n    make_scorer,\\n)\\n\\n%reload_ext nb_black\";\n                var nbb_formatted_code = \"# this will help in making the Python code more structured automatically (help adhere to good coding practices)\\n%load_ext nb_black\\n\\nimport warnings\\n\\nwarnings.filterwarnings(\\\"ignore\\\")\\nfrom statsmodels.tools.sm_exceptions import ConvergenceWarning\\n\\nwarnings.simplefilter(\\\"ignore\\\", ConvergenceWarning)\\n\\n# Libraries to help with reading and manipulating data\\nimport pandas as pd\\nimport numpy as np\\n\\n# libaries to help with data visualization\\nimport matplotlib.pyplot as plt\\nimport seaborn as sns\\n\\n# Removes the limit for the number of displayed columns\\npd.set_option(\\\"display.max_columns\\\", None)\\n# Sets the limit for the number of displayed rows\\npd.set_option(\\\"display.max_rows\\\", 200)\\n# setting the precision of floating numbers to 5 decimal points\\npd.set_option(\\\"display.float_format\\\", lambda x: \\\"%.5f\\\" % x)\\n\\n# Library to split data\\nfrom sklearn.model_selection import train_test_split\\n\\n# To build model for prediction\\nimport statsmodels.stats.api as sms\\nfrom statsmodels.stats.outliers_influence import variance_inflation_factor\\nimport statsmodels.api as sm\\nfrom statsmodels.tools.tools import add_constant\\nfrom sklearn.tree import DecisionTreeClassifier\\nfrom sklearn import tree\\n\\n# To tune different models\\nfrom sklearn.model_selection import GridSearchCV\\n\\n\\n# To get diferent metric scores\\nfrom sklearn.metrics import (\\n    f1_score,\\n    accuracy_score,\\n    recall_score,\\n    precision_score,\\n    confusion_matrix,\\n    roc_auc_score,\\n    ConfusionMatrixDisplay,\\n    precision_recall_curve,\\n    roc_curve,\\n    make_scorer,\\n)\\n\\n%reload_ext nb_black\";\n                var nbb_cells = Jupyter.notebook.get_cells();\n                for (var i = 0; i < nbb_cells.length; ++i) {\n                    if (nbb_cells[i].input_prompt_number == nbb_cell_id) {\n                        if (nbb_cells[i].get_text() == nbb_unformatted_code) {\n                             nbb_cells[i].set_text(nbb_formatted_code);\n                        }\n                        break;\n                    }\n                }\n            }, 500);\n            ",
            "text/plain": [
              "<IPython.core.display.Javascript object>"
            ]
          },
          "metadata": {},
          "output_type": "display_data"
        }
      ],
      "source": [
        "# this will help in making the Python code more structured automatically (help adhere to good coding practices)\n",
        "%load_ext nb_black\n",
        "\n",
        "import warnings\n",
        "\n",
        "warnings.filterwarnings(\"ignore\")\n",
        "from statsmodels.tools.sm_exceptions import ConvergenceWarning\n",
        "\n",
        "warnings.simplefilter(\"ignore\", ConvergenceWarning)\n",
        "\n",
        "# Libraries to help with reading and manipulating data\n",
        "import pandas as pd\n",
        "import numpy as np\n",
        "\n",
        "# libaries to help with data visualization\n",
        "import matplotlib.pyplot as plt\n",
        "import seaborn as sns\n",
        "\n",
        "# Removes the limit for the number of displayed columns\n",
        "pd.set_option(\"display.max_columns\", None)\n",
        "# Sets the limit for the number of displayed rows\n",
        "pd.set_option(\"display.max_rows\", 200)\n",
        "# setting the precision of floating numbers to 5 decimal points\n",
        "pd.set_option(\"display.float_format\", lambda x: \"%.5f\" % x)\n",
        "\n",
        "# Library to split data\n",
        "from sklearn.model_selection import train_test_split\n",
        "\n",
        "# To build model for prediction\n",
        "import statsmodels.stats.api as sms\n",
        "from statsmodels.stats.outliers_influence import variance_inflation_factor\n",
        "import statsmodels.api as sm\n",
        "from statsmodels.tools.tools import add_constant\n",
        "from sklearn.tree import DecisionTreeClassifier\n",
        "from sklearn import tree\n",
        "\n",
        "# To tune different models\n",
        "from sklearn.model_selection import GridSearchCV\n",
        "\n",
        "\n",
        "# To get diferent metric scores\n",
        "from sklearn.metrics import (\n",
        "    f1_score,\n",
        "    accuracy_score,\n",
        "    recall_score,\n",
        "    precision_score,\n",
        "    confusion_matrix,\n",
        "    roc_auc_score,\n",
        "    ConfusionMatrixDisplay,\n",
        "    precision_recall_curve,\n",
        "    roc_curve,\n",
        "    make_scorer,\n",
        ")\n",
        "\n",
        "%reload_ext nb_black\n"
      ]
    },
    {
      "attachments": {},
      "cell_type": "markdown",
      "id": "cda851a4",
      "metadata": {},
      "source": [
        "# REFERENCES:"
      ]
    },
    {
      "attachments": {},
      "cell_type": "markdown",
      "id": "dff1a202",
      "metadata": {},
      "source": [
        "#### Collapse above heading for brevity"
      ]
    },
    {
      "attachments": {},
      "cell_type": "markdown",
      "id": "58a6c194",
      "metadata": {},
      "source": [
        "##### To make References readable, Put cursor at top left of next markdown block. Then: CTRL + ALT + DOWN_ARROW (to add cursor to start of all lines of next code block). Then delete first 6x # symbols and delete 1x SPACE from start of all lines of next Markdown cell (Originally added to allow collapsable REFERENCES block)"
      ]
    },
    {
      "attachments": {},
      "cell_type": "markdown",
      "id": "6350eeb8",
      "metadata": {},
      "source": [
        "###### ##### indented heading to allow collapsable references cmarkdown ipynb block\n",
        "###### \n",
        "###### # documentation\n",
        "###### documentation for different repositories\n",
        "###### \n",
        "###### # assembling:\n",
        "###### # part 1:\n",
        "###### \n",
        "###### [closed], W., Wencel, W. and Agrawal, S. (2016) What is the difference between a feature and a label?, Stack Overflow. Available at: https://stackoverflow.com/questions/40898019/what-is-the-difference-between-a-feature-and-a-label#:~:text=Briefly%2C%20feature%20is%20input%3B%20label,region%2C%20family%20income%2C%20etc. (Accessed: 9 February 2023).\n",
        "###### \n",
        "###### # part 2: Repos used to compile this README.md :\n",
        "###### ## ML-logistic-regression-notes\n",
        "###### ## machine-learning-classification\n",
        "###### \n",
        "###### \n",
        "###### # part 3: README from Repo 1\n",
        "###### # ML-logistic-regression-notes\n",
        "###### \n",
        "###### # files\n",
        "###### QUICKSTART-WIN-VSC-BASH.md\n",
        "###### from \n",
        "###### - [CoderSales/machine-learning-classification](https://github.com/CoderSales/machine-learning-classification)\n",
        "###### \n",
        "###### # primary source for this README: machine-learning-classification\n",
        "###### Repository for running jupyter notebooks and keeping relevant files in one place\n",
        "###### # secondary source for this README: jupyter-6-Supervised-Learning\n",
        "###### Repository for running jupyter notebooks and keeping relevant files in one place\n",
        "###### \n",
        "###### \n",
        "###### # notes\n",
        "###### ## notes made for previous plan to remove null values\n",
        "###### check how to remove null values from dataframe\n",
        "###### \n",
        "###### ### notes\n",
        "###### pandas \n",
        "###### .iloc() - locate by row, col indices\n",
        "###### .loc() - locate by row index and col NAME\n",
        "###### \n",
        "###### ### how to run python files from terminal\n",
        "###### - [python3 main.py](https://realpython.com/run-python-scripts/)\n",
        "######  \n",
        "###### ### Data Cleaning\n",
        "###### ### 2.13 Lecture\n",
        "###### df.drop('Column name', axis=1)\n",
        "######     - where axies = 0 for rows, 1 for columns\n",
        "######     - drops referenced column from data frame\n",
        "######     - inplace=True argument to ensure column stays dropped.\n",
        "###### df.drop(1,axis=0).reset_index()\n",
        "######     - new col with old indices\n",
        "###### df.drop(1,axis=0).reset_index(drop=True,inplace=True)\n",
        "###### \n",
        "###### df.copy\n",
        "###### \n",
        "###### ### 4.1 Lecture Data Sanity Checks - Part 1\n",
        "###### df['columnname'].apply(type).value_counts()\n",
        "######     - this looks at and notes the values by type and then counts them\n",
        "###### \n",
        "###### df['colname'] = df['colname'].replace('missing','inf'],np.nan)\n",
        "######     - replaces our specified strings 'missing' and 'inf' \n",
        "######     -  with np.nan\n",
        "###### \n",
        "###### df['colname'] = df['colname'].astype(float)\n",
        "######     - convert values to float\n",
        "###### \n",
        "###### Review note: when we substitute np.nan in for strings the resulting data type is (if all the other entries are say float) float.\n",
        "###### \n",
        "###### df.info()\n",
        "######     - rerunning this after data cleaning may result in cleaned columns type changing to, say, float.\n",
        "###### \n",
        "###### Check length of each column \n",
        "###### Columns shorter than max col length means missing values as empty cells\n",
        "###### \n",
        "###### #### Alternative approach - clean while loading:\n",
        "###### ##### using na_values to tell python which values it should consider as NaN\n",
        "###### data_new = pd.read_csv('/content/drive/MyDrive/Python Course/Melbourne_Housing.csv',na_values=['missing','inf'])\n",
        "###### - on load, above line automatically converts all missing and inf to nan so, running:\n",
        "###### data_new['BuildingArea'].dtype\n",
        "###### - gives \n",
        "###### dtype('float64')\n",
        "###### as only float (and nan which seems to be treated as whatever the rest of the data types are)\n",
        "###### \n",
        "###### #### Review note\n",
        "###### data['BuildingArea'].unique()\n",
        "###### - above line run before cleaning gives unique values in column as a numpy array\n",
        "###### - so can inspect to find out which strings to remove.\n",
        "###### # setup steps\n",
        "###### python3 -m venv .venv\n",
        "######     - in bash\n",
        "######     - and on Windows\n",
        "###### source .venv/bin/activate\n",
        "######     - in bash\n",
        "###### source .venv/Scripts/activate\n",
        "######     - on Windows\n",
        "######     - on VSCode Windows bash\n",
        "###### /workspace/machine-learning-classification/.venv/bin/python -m pip install --upgrade pip\n",
        "######     - in GitPod\n",
        "###### python3 -m pip install --upgrade pip\n",
        "######     - on Windows\n",
        "###### \n",
        "###### .venv/Scripts/python.exe -m pip install --upgrade pip\n",
        "######     - in .venv\n",
        "###### \n",
        "###### pip install --upgrade pip\n",
        "###### pip install jupyter notebook\n",
        "###### pip install matplotlib\n",
        "###### pip install pandas\n",
        "###### pip install seaborn\n",
        "###### pip install numpy\n",
        "###### pip install scipy\n",
        "###### pip install statsmodels\n",
        "###### pip install -U scikit-learn\n",
        "###### pip install ipykernel\n",
        "###### pip install nb-black\n",
        "###### \n",
        "###### \n",
        "###### Ctrl Shift P\n",
        "###### Create New Jupyter Notebook\n",
        "###### Save and name notebook\n",
        "###### Paste in necessary code\n",
        "###### \n",
        "###### Ctrl Shift P\n",
        "###### Python: Select Interpreter\n",
        "###### use Python version in ./.venv/bin/python\n",
        "###### \n",
        "###### pip freeze > requirements.txt\n",
        "###### \n",
        "###### pip install -r requirements.txt\n",
        "###### \n",
        "###### ## Add required files\n",
        "###### pima-indians-diabetes.csv\n",
        "###### ## Extensions\n",
        "###### Extension: Excel Viewer\n",
        "######     - for  viewing csv files in VSCode\n",
        "###### \n",
        "###### ## Debug\n",
        "###### \n",
        "###### ### jupyter cannot find modules\n",
        "###### \n",
        "###### - [install modules from jupyter notebook](https://discourse.jupyter.org/t/python-in-terminal-finds-module-jupyter-notebook-does-not/2262/7)\n",
        "###### ### prelim\n",
        "###### per above\n",
        "###### Python:Select Interpreter\n",
        "###### 3.10.9 (.venv)\n",
        "###### ### ipykernel bug\n",
        "###### after running\n",
        "###### pip install ipykernel\n",
        "###### on running LinearRegression_HandsOn-1.ipynb\n",
        "###### message appears saying:\n",
        "###### it is necessary to install ipykernel\n",
        "###### OK\n",
        "###### installing ipykernel\n",
        "###### Rerun\n",
        "###### LinearRegression_HandsOn-1.ipynb\n",
        "###### \n",
        "###### ### pandas bug\n",
        "###### after running\n",
        "###### pip install pandas \n",
        "###### pandas not found\n",
        "###### \n",
        "###### ### Fix for previous 2 bugs\n",
        "###### create new jupyter notebook using \n",
        "###### Ctrl Shift P\n",
        "###### Create New Jupyter Notebook\n",
        "###### \n",
        "###### # Files\n",
        "###### ## summary\n",
        "###### - summary-income.md\n",
        "######     - high level summary of steps in income.ipynb notebook\n",
        "###### # References\n",
        "###### ## previous repositories\n",
        "###### jupyter-test\n",
        "###### jupyter-repo-2\n",
        "###### jupyter-3\n",
        "###### - [CoderSales/jupyter-5](https://github.com/CoderSales/jupyter-5)\n",
        "###### - [CoderSales/jupyter-6-Supervised-Learning](https://github.com/CoderSales/jupyter-6-Supervised-Learning)\n",
        "###### - [CoderSales/machine-learning-project](https://github.com/CoderSales/machine-learning-project)\n",
        "###### \n",
        "###### \n",
        "###### # References Part2 / (MyGreatLearning, Colab, modules)\n",
        "###### #### MyGreatLearning\n",
        "###### ##### pre scikit-learn\n",
        "###### - [LMS - Hands_on_Notebook_Week3.ipynb](https://www.mygreatlearning.com/)\n",
        "###### - [LMS - ENews_Express_Learner_Notebook%5BLow_Code_Version%5D.ipynb](https://www.mygreatlearning.com/)\n",
        "###### - [LMS - abtest.csv](https://www.mygreatlearning.com/)\n",
        "###### - [2.13 Pandas - Accessing and Modifying DataFrames (condition-based indexing)](https://www.mygreatlearning.com/)\n",
        "###### #### scikit-learn\n",
        "###### - [Supervised Learning - Foundations / Week 1 - Lecture Video Materials](https://www.mygreatlearning.com/)\n",
        "######     - [auto-mpg.csv used in 1.9 Linear Regression Hands-on](https://www.mygreatlearning.com/)\n",
        "###### \n",
        "###### #### Colab\n",
        "###### - Google Colab [mount drive](https://colab.research.google.com/notebooks/io.ipynb#scrollTo=RWSJpsyKqHjH)\n",
        "###### \n",
        "###### #### modules\n",
        "###### ##### matplotlib\n",
        "###### ###### matplotlib figure dimentions\n",
        "###### - [Set plot dimensions matplotlib](https://stackoverflow.com/questions/332289/how-do-i-change-the-size-of-figures-drawn-with-matplotlib)\n",
        "###### \n",
        "###### ##### scipy\n",
        "###### - [scipy - check version](https://blog.finxter.com/how-to-check-scipy-package-version-in-python/)\n",
        "###### \n",
        "###### \n",
        "###### # References Part3 / (StackOverflow, Git, Tutorials and Repositories)\n",
        "###### ## StackOverflow\n",
        "###### https://stackoverflow.com/questions/46419607/how-to-automatically-install-required-packages-from-a-python-script-as-necessary\n",
        "###### \n",
        "###### ## Git\n",
        "###### ### git\n",
        "###### #### gitignore\n",
        "###### - [How to stop tracking and ignore changes to a file in Git?](https://stackoverflow.com/questions/936249/how-to-stop-tracking-and-ignore-changes-to-a-file-in-git)\n",
        "###### ### Gitpod\n",
        "###### - [Gitpod docs prebuilds](https://www.gitpod.io/docs/configure/projects/prebuilds)\n",
        "###### - [Gitpod docs workspaces](https://www.gitpod.io/docs/configure/workspaces/tasks)\n",
        "###### - [Gitpod Prebuild](https://youtu.be/ZtlJ0PakUHQ?t=54)\n",
        "###### ### Git in VSCode\n",
        "###### - search string: [pause git tracking](https://www.google.com/search?q=pause+git+tracking&oq=pause+git+tracking&gs_lcrp=EgZjaHJvbWUyBggAEEUYOTILCAEQABgWGB4Y8QQyCwgCEAAYFhgeGPEEMgsIAxAAGBYYHhjxBDILCAQQABgWGB4Y8QQyCwgFEAAYFhgeGPEEMggIBhAAGBYYHjIICAcQABgWGB4yCwgIEAAYFhgeGPEEMgsICRAAGBYYHhjxBNIBCDM2NjNqMGo3qAIAsAIA&sourceid=chrome&ie=UTF-8)\n",
        "###### - [Git source control in VS Code](https://code.visualstudio.com/docs/sourcecontrol/overview)\n",
        "###### \n",
        "###### ## Tutorials and Repositories\n",
        "###### \n",
        "###### # References Part4 / (environments, Packages, Statistics, python, ML, Stats for ML)\n",
        "###### ## environments\n",
        "###### ### local\n",
        "###### - [Getting Full Directory Path in Python](https://www.youtube.com/watch?v=DQRSvg54bhM&ab_channel=Analyst%27sCorner)\n",
        "###### \n",
        "###### Windows\n",
        "###### Anaconda\n",
        "###### conda create --name .cenv\n",
        "###### y\n",
        "###### conda activate .cenv\n",
        "###### \n",
        "###### python3\n",
        "###### \n",
        "###### not installed so Windows store opens\n",
        "###### install Python 3.10\n",
        "###### \n",
        "###### #### conda\n",
        "###### ##### virtual environment\n",
        "###### - [conda.io](https://conda.io/projects/conda/en/latest/user-guide/getting-started.html)\n",
        "###### \n",
        "###### #### python environment\n",
        "###### `python3 -m venv .venv`\n",
        "###### command was slow at first  but self-resolved\n",
        "###### - search string: stuck on $ python3 -m venv .venv [setting up environment in virtaulenv using python3 stuck on ...](https://discuss.dizzycoding.com/setting-up-environment-in-virtaulenv-using-python3-stuck-on-setuptools-pip-wheel/)\n",
        "###### - search string: installing collected packages stuck [why is the pip install process stuck on ''Installing collected packages\" step?](https://stackoverflow.com/questions/54699197/why-is-the-pip-install-process-stuck-on-installing-collected-packages-step)\n",
        "###### \n",
        "###### ## Packages\n",
        "###### ### NumPy\n",
        "###### - search string: [np.clip](https://www.google.com/search?q=np.clip&oq=np.clip&gs_lcrp=EgZjaHJvbWUyBggAEEUYOTIHCAEQABiABDIHCAIQABiABDIHCAMQABiABDIHCAQQABiABDIHCAUQABiABDIHCAYQABiABNIBBzk0N2owajeoAgCwAgA&sourceid=chrome&ie=UTF-8)\n",
        "###### - [numpy.clip | numpy.org | Documentation](https://numpy.org/doc/stable/reference/generated/numpy.clip.html)\n",
        "###### - search string: [np broadcast against dataframe python](https://www.google.com/search?q=np+broadcast+against+dataframe+python&newwindow=1&sxsrf=AJOqlzVs5XFBfTGYuALitoPd-H-QfsrAUA%3A1676106129272&ei=kVnnY-miEJCP8gKjgaIo&oq=np+broadcast+against+datafra&gs_lcp=Cgxnd3Mtd2l6LXNlcnAQAxgBMgcIIRCgARAKMgcIIRCgARAKMgcIIRCgARAKOgoIABBHENYEELADOgUIABCiBDoFCCEQoAFKBAhBGABKBAhGGABQ2xRYkkBg9FBoAnABeACAAXuIAcwGkgEDNy4ymAEAoAEByAEIwAEB&sclient=gws-wiz-serp)\n",
        "###### - [Q/ What does the term \"broadcasting\" mean in Pandas documentation? | A/ the term broadcasting comes from numpy | stackoverflow](https://stackoverflow.com/questions/29954263/what-does-the-term-broadcasting-mean-in-pandas-documentation)\n",
        "###### - [broadcasting examples in pandas documentaton | linked to by previous reference on broadcasting | pandas.org | Documentation](https://pandas.pydata.org/pandas-docs/stable/user_guide/basics.html)\n",
        "###### - [Broadcasting | definition: | The term broadcasting describes how NumPy treats arrays with different shapes during arithmetic operations. | NumPy | numpy.org | Documentation](https://numpy.org/doc/stable/user/basics.broadcasting.html)\n",
        "###### - [Universal functions (ufunc) | NumPy | numpy.org | Documentation](https://numpy.org/doc/stable/reference/ufuncs.html#ufuncs-kwargs)\n",
        "###### ### Pandas\n",
        "###### - [EDA: from is_categorical def | Check if dataframe column is Categorical | print(is_categorical(data[col])) | stackoverflow](https://stackoverflow.com/questions/26924904/check-if-dataframe-column-is-categorical)\n",
        "###### - [pandas.get_dummies | Pandas | pandas.pydata.org | Documentation](https://pandas.pydata.org/docs/reference/api/pandas.get_dummies.html)\n",
        "###### - search string: [pd.get_dummies](https://www.google.com/search?q=pd.get_dummies&oq=pd.get_dummies&gs_lcrp=EgZjaHJvbWUyBggAEEUYOTIGCAEQIxgnMgcIAhAAGIAEMgcIAxAAGIAEMgcIBBAAGIAEMgcIBRAAGIAEMgcIBhAAGIAEMgcIBxAAGIAEMgcICBAAGIAEMgcICRAAGIAE0gEHNDUzajBqN6gCALACAA&sourceid=chrome&ie=UTF-8)\n",
        "###### ### matplotlib\n",
        "###### - search string: [plotting fig from subplot returns Figure(1500x1000)](https://www.google.com/search?q=plotting+fig+from+subplot+returns+Figure(1500x1000)&oq=plotting+fig+from+subplot+returns+Figure(1500x1000)&gs_lcrp=EgZjaHJvbWUyBggAEEUYOTIHCAEQABiiBDIHCAIQABiiBDIHCAMQABiiBDIHCAQQABiiBDIHCAUQABiiBNIBCTEyMzgzajFqN6gCALACAA&sourceid=chrome&ie=UTF-8)\n",
        "###### - [fig, ax = plt.subplots()](https://stackoverflow.com/questions/34162443/why-do-many-examples-use-fig-ax-plt-subplots-in-matplotlib-pyplot-python)\n",
        "###### - matplotlib docs [fig, ax = plt.subplots()](https://matplotlib.org/stable/plot_types/basic/plot.html)\n",
        "###### - search string: [subplot](https://www.google.com/search?q=subplot&oq=subplot&gs_lcrp=EgZjaHJvbWUqBggAEEUYOzIGCAAQRRg7MgYIARAjGCcyCggCEAAYsQMYgAQyDQgDEAAYgwEYsQMYgAQyBggEEEUYPDIGCAUQRRg8MgYIBhBFGDwyBggHEEUYQdIBBzg2NWowajeoAgCwAgA&sourceid=chrome&ie=UTF-8)\n",
        "###### - [matplotlib.pyplot.subplot](https://matplotlib.org/stable/api/_as_gen/matplotlib.pyplot.subplot.html)\n",
        "###### #### subplots\n",
        "###### ##### colors\n",
        "###### - search string: [fig.patch.set_facecolor('xkcd:blue')](https://www.google.com/search?q=fig.patch.set_facecolor(%27xkcd%3Ablue%27)&oq=fig.patch.set_facecolor(%27xkcd%3Ablue%27)&gs_lcrp=EgZjaHJvbWUyBggAEEUYOdIBBzU3NGowajeoAgCwAgA&sourceid=chrome&ie=UTF-8)\n",
        "###### - [xkcd.com/color/rgb/](https://xkcd.com/color/rgb/)\n",
        "###### - search string: [fig, axs = plt.subplots(2, 2)](https://www.google.com/search?q=fig%2C+axs+%3D+plt.subplots(2%2C+2)&oq=fig%2C+axs+%3D+plt.subplots(2%2C+2)&gs_lcrp=EgZjaHJvbWUyBggAEEUYOTIHCAEQABiABDIICAIQABgWGB4yBwgDEAAYhgPSAQc4MjRqMGo3qAIAsAIA&sourceid=chrome&ie=UTF-8)\n",
        "###### - [Creating multiple subplots using plt.subplots >> Stacking subplots in two directions](https://matplotlib.org/stable/gallery/subplots_axes_and_figures/subplots_demo.html)\n",
        "###### #### other matplotlib\n",
        "###### ##### boxplot\n",
        "###### - [matplotlib.pyplot.boxplot](https://matplotlib.org/stable/api/_as_gen/matplotlib.pyplot.boxplot.html)\n",
        "###### - [matplotlib.pyplot.boxplot [deprecated]](https://matplotlib.org/3.1.1/api/_as_gen/matplotlib.pyplot.boxplot.html)\n",
        "###### - search string [boxplot pyplot](https://www.google.com/search?q=boxplot+pyplot&oq=boxplot+pyplot&gs_lcrp=EgZjaHJvbWUyBggAEEUYOTILCAEQABgWGB4Y8QQyCAgCEAAYFhgeMggIAxAAGBYYHjIICAQQABgWGB4yCwgFEAAYFhgeGPEEMgsIBhAAGBYYHhjxBDILCAcQABgWGB4Y8QQyCwgIEAAYFhgeGPEEMgsICRAAGBYYHhjxBNIBCDY2NDZqMGo3qAIAsAIA&sourceid=chrome&ie=UTF-8)\n",
        "###### ##### histplot\n",
        "###### - [matplotlib.pyplot.hist](https://matplotlib.org/stable/api/_as_gen/matplotlib.pyplot.hist.html)\n",
        "###### - search string [matplotlib.pyplot histogram](https://www.google.com/search?q=matplotlib.pyplot+histogram&newwindow=1&sxsrf=AJOqlzVGsD20ZAypbaqD47k1A9gAJNR0ug%3A1675939330927&ei=As7kY52cOOW58gKh-Z7oBw&oq=matplotlib.pyplot+&gs_lcp=Cgxnd3Mtd2l6LXNlcnAQARgAMgoIABCABBAUEIcCMgUIABCABDIFCAAQgAQyBQgAEIAEMgUIABCABDIFCAAQgAQyBQgAEIAEMgUIABCABDIFCAAQgAQyBQgAEIAEOg4IABCABBCxAxCDARCwAzoNCAAQgAQQFBCHAhCwAzoICAAQgAQQsAM6CQgAEAcQHhCwA0oECEEYAUoECEYYAFCYB1iYB2DWEWgBcAB4AIABTYgBTZIBATGYAQCgAQHIAQrAAQE&sclient=gws-wiz-serp)\n",
        "###### - [Histogram with Boxplot above in Python](https://stackoverflow.com/questions/33381330/histogram-with-boxplot-above-in-python)\n",
        "###### - search string [histogram_boxplot matplotlib](https://www.google.com/search?q=histogram_boxplot+matplotlib&newwindow=1&sxsrf=AJOqlzWw29as3Nymo_ZtGfRt-TMyNd9yAA%3A1675938211495&ei=o8nkY5vzHZPD8gK2yb2AAw&ved=0ahUKEwjb0IuunIj9AhWToVwKHbZkDzAQ4dUDCA8&uact=5&oq=histogram_boxplot+matplotlib&gs_lcp=Cgxnd3Mtd2l6LXNlcnAQAzIJCAAQFhAeEPEEMgUIABCGAzIFCAAQhgM6CggAEEcQ1gQQsAM6BwgAEA0QgAQ6BwgAEB4Q8QQ6BggAEB4QDzoJCAAQCBAeEPEEOgYIABAIEB46CAgAEBYQHhAPOgYIABAWEB46CwgAEAgQHhANEPEESgQIQRgASgQIRhgAULYRWKdCYMNEaAJwAXgAgAGgAYgB_AiSAQM5LjOYAQCgAQHIAQjAAQE&sclient=gws-wiz-serp)\n",
        "###### ### error\n",
        "###### - search string [Non-default argument follows default argumentPylance](https://www.google.com/search?q=Non-default+argument+follows+default+argumentPylance&oq=Non-default+argument+follows+default+argumentPylance&gs_lcrp=EgZjaHJvbWUyBggAEEUYOTIJCAEQABgKGIAEMgoIAhAAGAoYFhgeMgcIAxAAGIYDMgcIBBAAGIYDMgcIBRAAGIYDMgcIBhAAGIYD0gEHNjcyajBqN6gCALACAA&sourceid=chrome&ie=UTF-8)\n",
        "###### - [SyntaxError: non-default argument follows default argument](https://stackoverflow.com/questions/24719368/syntaxerror-non-default-argument-follows-default-argument)\n",
        "###### ### scipy\n",
        "###### ### scipy.stats\n",
        "###### ### statsmodels\n",
        "###### - [statsmodels.stats.proportion.proportions_ztest](https://www.statsmodels.org/dev/generated/statsmodels.stats.proportion.proportions_ztest.html)\n",
        "###### - search string: [what are model predictors statsmodels](https://www.google.com/search?q=add+color+using+nb+black&oq=add+color+using+nb+black&gs_lcrp=EgZjaHJvbWUyBggAEEUYOTIHCAEQABiiBDIHCAIQABiiBDIHCAMQABiiBNIBCDU5NjhqMGo3qAIAsAIA&sourceid=chrome&ie=UTF-8)\n",
        "###### - [Prediction (out of sample) | statsmodels.org | statsmodels | Documentation](https://www.statsmodels.org/dev/examples/notebooks/generated/predict.html)\n",
        "###### ### scikit-learn\n",
        "###### #### Documentation\n",
        "###### - [search string: sklearn](https://www.google.com/search?q=sklearn&oq=sklearn&gs_lcrp=EgZjaHJvbWUqBggAEEUYOzIGCAAQRRg7MgYIARAjGCcyBggCEAAYQzIGCAMQABhDMgYIBBAAGEMyBggFEAAYQzIGCAYQRRg8MgYIBxBFGDzSAQc3MzVqMGo3qAIAsAIA&sourceid=chrome&ie=UTF-8)\n",
        "###### - [scikit-learn | Machine Learning in Python](https://scikit-learn.org/stable/)\n",
        "###### - [Getting Started -- skikit-learn](https://scikit-learn.org/stable/getting_started.html)\n",
        "###### - [Citing scikit-learn](https://scikit-learn.org/stable/about.html#citing-scikit-learn)\n",
        "###### - [User Guide](https://scikit-learn.org/stable/user_guide.html#user-guide)\n",
        "###### - [Installing scikit-learn](https://scikit-learn.org/stable/install.html)\n",
        "###### - Scikit-learn: Machine Learning in Python [Scikit-learn: Machine Learning in Python, Pedregosa et al., JMLR 12, pp. 2825-2830, 2011.](https://jmlr.csail.mit.edu/papers/v12/pedregosa11a.html)\n",
        "###### - redirects to https://scikit-learn.org/stable/ (link 2 in this section, above) [Source code, binaries, and documentation](http://scikit-learn.sourceforge.net)\n",
        "###### ### ipykernel\n",
        "###### - [search string: ipykernel](https://www.google.com/search?q=ipykernel&oq=ipykernel&gs_lcrp=EgZjaHJvbWUyBggAEEUYOTIHCAEQABiABDIHCAIQABiABDIHCAMQABiABDIHCAQQABiABDIHCAUQABiABDIHCAYQABiABDIHCAcQABiABDIMCAgQABgUGIcCGIAEMgcICRAAGIAE0gEHNDUzajBqN6gCALACAA&sourceid=chrome&ie=UTF-8)\n",
        "###### - pip install ipykernel [ipykernel 6.19.2](https://pypi.org/project/ipykernel/)\n",
        "###### ## colors for jupyter notebook charts\n",
        "###### - search string: [pandas plot frame color -matplotlib](https://www.google.com/search?q=pandas+plot+frame+color+-matplotlib&newwindow=1&sxsrf=AJOqlzWPmi_tMpOW7pQfQRSNTlnG2AeQsQ%3A1676033565587&ei=HT7mY6-_I8vzgAa4iKuYDg&ved=0ahUKEwjvwbvK_4r9AhXLOcAKHTjECuMQ4dUDCA8&uact=5&oq=pandas+plot+frame+color+-matplotlib&gs_lcp=Cgxnd3Mtd2l6LXNlcnAQAzoKCAAQRxDWBBCwAzoJCAAQFhAeEPEEOgUIABCGA0oECEEYAEoECEYYAFDIBlj9GWCPG2gBcAF4AIABX4gBvQaSAQIxMpgBAKABAcgBCMABAQ&sclient=gws-wiz-serp)\n",
        "###### - [Pandas - Plotting](https://www.w3schools.com/python/pandas/pandas_plotting.asp)\n",
        "###### - [pandas.DataFrame.plot](https://pandas.pydata.org/docs/reference/api/pandas.DataFrame.plot.html)\n",
        "###### - search string: [pandas plot](https://www.google.com/search?q=pandas+plot&oq=pandas+plot&gs_lcrp=EgZjaHJvbWUyBggAEEUYOTIMCAEQABgUGIcCGIAEMgcIAhAAGIAEMgcIAxAAGIAEMgcIBBAAGIAEMgcIBRAAGIAEMgcIBhAAGIAEMgYIBxBFGEHSAQgyNzU5ajBqN6gCALACAA&sourceid=chrome&ie=UTF-8)\n",
        "###### - [pandas.crosstab](https://pandas.pydata.org/docs/reference/api/pandas.crosstab.html)\n",
        "###### - search string [pd crosstab](https://www.google.com/search?q=pd+crosstab&oq=pd+crosstab&gs_lcrp=EgZjaHJvbWUyBggAEEUYOTIGCAEQIxgnMgYIAhAjGCcyCQgDEAAYChiABDIOCAQQABgKGBQYhwIYgAQyCQgFEAAYChiABDIGCAYQRRg8MgYIBxBFGEHSAQg2ODU2ajBqN6gCALACAA&sourceid=chrome&ie=UTF-8)\n",
        "###### - ANSWER to color: [seaborn.set_style()](https://stackoverflow.com/questions/30729473/seaborn-legend-with-background-color)\n",
        "###### - search string: [sns seaborn color frame facecolor](https://www.google.com/search?q=sns+seaborn+color+frame+facecolor&newwindow=1&sxsrf=AJOqlzVAs2RY94np7bRieSF4g4kEWQelZw%3A1676027522466&ei=gibmY-iQHISg8gKG-om4Bg&ved=0ahUKEwjo2fCI6Yr9AhUEkFwKHQZ9AmcQ4dUDCA8&uact=5&oq=sns+seaborn+color+frame+facecolor&gs_lcp=Cgxnd3Mtd2l6LXNlcnAQAzIKCAAQ8QQQHhCiBDIFCAAQogQyBQgAEKIEMgUIABCiBDoKCAAQRxDWBBCwAzoFCCEQoAE6BwghEKABEApKBAhBGABKBAhGGABQ6QFY5xZguRpoAXABeACAAYMBiAHfB5IBAzYuNJgBAKABAcgBCMABAQ&sclient=gws-wiz-serp)\n",
        "###### - [seaborn.set_theme](https://seaborn.pydata.org/generated/seaborn.set_theme.html)\n",
        "###### - search string: [sns.set_theme(style=\"whitegrid\")](https://www.google.com/search?q=sns.set_theme(style%3D%22whitegrid%22)&oq=sns.set_theme(style%3D%22whitegrid%22)&gs_lcrp=EgZjaHJvbWUyBggAEEUYOTIHCAEQABiABNIBBzU1OWowajeoAgCwAgA&sourceid=chrome&ie=UTF-8)\n",
        "###### - [seaborn.countplot | sns.set_theme(style=\"whitegrid\")](https://seaborn.pydata.org/generated/seaborn.countplot.html)\n",
        "###### - search string: [countplot sns perc](https://www.google.com/search?q=countplot+sns+perc&oq=countplot+sns+perc&gs_lcrp=EgZjaHJvbWUyBggAEEUYOTILCAEQABgWGB4Y8QQyCggCEAAYChgWGB4yCwgDEAAYFhgeGPEEMgcIBBAAGIYDMgcIBRAAGIYDMgcIBhAAGIYDMgcIBxAAGIYD0gEIODM0N2owajeoAgCwAgA&sourceid=chrome&ie=UTF-8)\n",
        "###### - [Actually, really change all of the background color | fig, ax = plt.subplots(facecolor='lightslategray'); | df.plot(ax=ax, color='white')](https://jonathansoma.com/lede/data-studio/matplotlib/changing-the-background-of-a-pandas-matplotlib-graph/)\n",
        "###### \n",
        "###### - [Change the facecolor of boxplot in pandas | stackoverflow](https://stackoverflow.com/questions/39297093/change-the-facecolor-of-boxplot-in-pandas)\n",
        "###### - search string: [pandas facecolor](https://www.google.com/search?q=pandas+facecolor&oq=pandas+facecolor&gs_lcrp=EgZjaHJvbWUyBggAEEUYOTILCAEQABgWGB4Y8QQyCwgCEAAYFhgeGPEEMggIAxAAGBYYHjIHCAQQABiGAzIHCAUQABiGAzIHCAYQABiGA9IBCDUzOTVqMGo3qAIAsAIA&sourceid=chrome&ie=UTF-8)\n",
        "###### - [jsfiddle | iterate through object properties](https://jsfiddle.net/tbynA/1/)\n",
        "###### - [Recursively looping through an object to build a property list | stackoverflow](https://stackoverflow.com/questions/15690706/recursively-looping-through-an-object-to-build-a-property-list)\n",
        "###### - search string: [how to recursively return all levels of an object](https://www.google.com/search?q=how+to+recursively+return+all+levels+of+an+object&oq=how+to+recursively+return+all+levels+of+an+object&gs_lcrp=EgZjaHJvbWUyBggAEEUYOTIGCAEQRRhA0gEIODMwM2owajeoAgCwAgA&sourceid=chrome&ie=UTF-8)\n",
        "###### - search string: [is matplotlib. pyplot an object?](https://www.google.com/search?q=is+matplotlib.+pyplotan+object%3F&oq=is+matplotlib.+pyplotan+object%3F&gs_lcrp=EgZjaHJvbWUyBggAEEUYOTIGCAEQRRhA0gEIMzgxNmowajeoAgCwAgA&sourceid=chrome&ie=UTF-8)\n",
        "###### - search string: [matplotlib pyplot plt](https://www.google.com/search?q=matplotlib+pyplot+plt&oq=matplotlib+pyplot+plt&gs_lcrp=EgZjaHJvbWUyBggAEEUYOTIICAEQABgWGB4yCAgCEAAYFhgeMggIAxAAGBYYHjIICAQQABgWGB4yCAgFEAAYFhgeMggIBhAAGBYYHjIGCAcQRRg80gEINjg5MGowajeoAgCwAgA&sourceid=chrome&ie=UTF-8)\n",
        "###### - [pandas.crosstab | pandas | Documentation](https://pandas.pydata.org/docs/reference/api/pandas.crosstab.html)\n",
        "###### - search string: [pd.crosstab color](https://www.google.com/search?q=pd.crosstab+color&newwindow=1&bih=575&biw=1097&hl=en&sxsrf=AJOqlzUEG9wlmJQdqdCH5QwYBcOICwkOEw%3A1676030036392&ei=VDDmY-XQF8mpgQbX3q2QAQ&ved=0ahUKEwjlys638or9AhXJVMAKHVdvCxIQ4dUDCA8&uact=5&oq=pd.crosstab+color&gs_lcp=Cgxnd3Mtd2l6LXNlcnAQAzIFCAAQgAQyBQgAEIYDMgUIABCGAzIFCAAQhgMyBQgAEIYDOgcIIxCwAxAnOgoIABBHENYEELADOgcIIxCwAhAnOgcIABANEIAEOgYIABAHEB46CQgAEAcQHhDxBDoHCCMQsQIQJzoECCMQJzoFCAAQkQI6BggAEBYQHjoJCAAQFhAeEPEESgQIQRgASgQIRhgAUNIdWPlcYPNeaARwAXgAgAGaAYgBowiSAQQxMS4xmAEAoAEByAEKwAEB&sclient=gws-wiz-serp)\n",
        "###### - saved search string: (autocomplete) [pd.crosstab df normalize='index').plot(kind=\"bar\", figsize=(6,8),stacked=True)](<a href=\"https://www.google.com/search?q=pd.crosstab+df+normalize%3D%27index%27).plot(kind%3D%22bar%22%2C+figsize%3D(6%2C8)%2Cstacked%3DTrue)&oq=pd.crosstab+df+normalize%3D%27index%27).plot(kind%3D%22bar%22%2C+figsize%3D(6%2C8)%2Cstacked%3DTrue)&gs_lcrp=EgZjaHJvbWUqBggAEEUYOzIGCAAQRRg70gEIMTYxOGowajeoAgCwAgA&sourceid=chrome&ie=UTF-8\">link</a>)\n",
        "###### -[Creating Links in Markdown](https://anvilproject.org/guides/content/creating-links)\n",
        "###### \n",
        "###### - [[deprecated] | matplotlib.pyplot.figure | matplotlib | Documentation](https://matplotlib.org/2.1.1/api/_as_gen/matplotlib.pyplot.figure.html)\n",
        "###### - [Elegantly changing the color of a plot frame in matplotlib | fig, axes = plt.subplots(nrows=2); | axes[0].plot(range(10), 'r-'); | axes[1].plot(range(10), 'bo-'); | stackoverflow](https://stackoverflow.com/questions/7778954/elegantly-changing-the-color-of-a-plot-frame-in-matplotlib)\n",
        "###### - search string: [ply.figure frame color](https://www.google.com/search?q=ply.figure+frame+color&oq=ply.figure+frame+color&gs_lcrp=EgZjaHJvbWUyBggAEEUYOTIJCAEQIRgKGKABMgkIAhAhGAoYoAEyCQgDECEYChigAdIBCDg1NDFqMGo3qAIAsAIA&sourceid=chrome&ie=UTF-8)\n",
        "###### - [How to change plot background color?](https://stackoverflow.com/questions/14088687/how-to-change-plot-background-color)\n",
        "###### \n",
        "###### - [How do I plot two countplot graphs side by side in seaborn? | fig, ax =plt.subplots(1,2); | sns.countplot(df['batting'], ax=ax[0]); | sns.countplot(df['bowling'], ax=ax[1]); | fig.show() | stackoverflow](https://stackoverflow.com/questions/43131274/how-do-i-plot-two-countplot-graphs-side-by-side-in-seaborn)\n",
        "###### - [countplot sns subplot](https://www.google.com/search?q=countplot+sns+subplot&oq=countplot+sns+subplot&gs_lcrp=EgZjaHJvbWUyBggAEEUYOTILCAEQABgWGB4Y8QQyBwgCEAAYhgMyBwgDEAAYhgMyBwgEEAAYhgMyBwgFEAAYhgPSAQg1MTc5ajBqN6gCALACAA&sourceid=chrome&ie=UTF-8)\n",
        "###### - [How to prevent overlapping x-axis labels in sns.countplot | code: | plt.figure(figsize=(15,10)) #adjust the size of plot; | ax=sns.countplot(x=df['Location'],data=df,hue='label',palette='mako'); | stackoverflow](https://stackoverflow.com/questions/42528921/how-to-prevent-overlapping-x-axis-labels-in-sns-countplot)\n",
        "###### - search string: [countplot | recursively unpacck ax in sns countplot](https://www.google.com/search?q=recursively+unpacck+ax+in+sns+countplot&oq=recursively+unpacck+ax+in+sns+countplot&gs_lcrp=EgZjaHJvbWUyBggAEEUYOdIBCTE2MDAzajBqN6gCALACAA&sourceid=chrome&ie=UTF-8)\n",
        "###### - [Countplot using seaborn in Python | geeksforgeeks](https://www.geeksforgeeks.org/countplot-using-seaborn-in-python/)\n",
        "###### - search string: [countplot sns ax frame](https://www.google.com/search?q=countplot+sns+ax+frame&oq=countplot+sns++ax+frame&gs_lcrp=EgZjaHJvbWUyBggAEEUYOTIHCAEQIRigAdIBCDcwNzBqMGo3qAIAsAIA&sourceid=chrome&ie=UTF-8)\n",
        "###### - [seaborn.countplot | content: | kwargs : key, value mappings | Other keyword arguments are passed through to matplotlib.axes.Axes.bar(). | Returns: | axmatplotlib Axes | Returns the Axes object with the plot drawn onto it. | seaborn | Documentation](https://seaborn.pydata.org/generated/seaborn.countplot.html)\n",
        "###### - search string: [countplot sns](https://www.google.com/search?q=countplot+sns&oq=&gs_lcrp=EgZjaHJvbWUqBggAEEUYOzIGCAAQRRg7MgYIARBFGDsyBwgCEAAYgAQyBwgDEAAYgAQyBwgEEAAYgAQyBwgFEAAYgAQyBwgGEAAYgAQyBggHEEUYPNIBCDI0NDhqMGo3qAIAsAIA&sourceid=chrome&ie=UTF-8)\n",
        "###### \n",
        "###### ## .venv error [Resolved]\n",
        "###### - find in page: | your path [PermissionError: [Errno 13] Permission denied | terminal error trying to install preinstalled .venv | stackoverflow](https://stackoverflow.com/questions/36434764/permissionerror-errno-13-permission-denied)\n",
        "###### - search string: [Error: [Errno 13] Permission denied: 'C:\\\\Users\\\\OneDrive\\\\Documents\\\\.venv\\\\Scripts\\\\python.exe'](https://www.google.com/search?q=Error%3A+%5BErrno+13%5D+Permission+denied%3A+%27C%3A%5C%5CUsers%5C%5COneDrive%5C%5CDocuments%5C%5C.venv%5C%5CScripts%5C%5Cpython.exe%27&oq=Error%3A+%5BErrno+13%5D+Permission+denied%3A+%27C%3A%5C%5CUsers%5C%5COneDrive%5C%5CDocuments%5C%5C.venv%5C%5CScripts%5C%5Cpython.exe%27&gs_lcrp=EgZjaHJvbWUyBggAEEUYOTIGCAEQRRg60gEHNzMwajBqN6gCALACAA&sourceid=chrome&ie=UTF-8)\n",
        "###### \n",
        "###### ## 0 Axes error [Resolved]\n",
        "###### - to remove with 0 Axes: comment line: | plt.figure(facecolor='blue').set_facecolor('xkcd:cerulean blue')\n",
        "###### [I used matplotlib, but the error message '<Figure size 720x576 with 0 Axes>' appeared with graph](https://stackoverflow.com/questions/52834616/i-used-matplotlib-but-the-error-message-figure-size-720x576-with-0-axes-app) \n",
        "###### \n",
        "###### ## save Pandas dataframe/series data to figure then to file\n",
        "###### - [fig.savefig('asdf.png')](https://stackoverflow.com/questions/19726663/how-to-save-the-pandas-dataframe-series-data-as-a-figure)\n",
        "###### - [How to save the Pandas dataframe from pd.crosstab as a figure (with render_mpl_table)? | stackoverflow](https://stackoverflow.com/questions/72039213/how-to-save-the-pandas-dataframe-from-pd-crosstab-as-a-figure-with-render-mpl-t)\n",
        "###### - search string: [pd.crosstab \"set_facecolor\"](https://www.google.com/search?newwindow=1&sxsrf=AJOqlzW3SDsHl3u-1f9e3ewMZHbuZa-q5Q:1676028618400&q=pd.crosstab+%22set_facecolor%22&sa=X&ved=2ahUKEwjkmbuT7Yr9AhXZHcAKHdikA_gQ5t4CegQIHBAB&biw=1097&bih=575&dpr=1.75)\n",
        "###### - [ResidentMario / missingno | Issue | Matplotlib error: 'AxesSubplot' object has no attribute 'set_facecolor' #25 | GitHub](https://github.com/ResidentMario/missingno/issues/25)\n",
        "###### - search string: [AttributeError: 'DataFrame' object has no attribute 'set_facecolor'](https://www.google.com/search?q=AttributeError%3A+%27DataFrame%27+object+has+no+attribute+%27set_facecolor%27&oq=AttributeError%3A+%27DataFrame%27+object+has+no+attribute+%27set_facecolor%27&gs_lcrp=EgZjaHJvbWUyBggAEEUYOTIGCAEQRRg60gEHNzU5ajBqN6gCALACAA&sourceid=chrome&ie=UTF-8)\n",
        "###### - [scikit-learn/scikit-learn | Issue| 'AxesSubplot' object has no attribute 'set_axis_bgcolor' #10762 | GitHub](https://github.com/scikit-learn/scikit-learn/issues/10762)\n",
        "###### - search string: [AttributeError: 'DataFrame' object has no attribute 'set_axis_bgcolor'](https://www.google.com/search?q=AttributeError%3A+%27DataFrame%27+object+has+no+attribute+%27set_axis_bgcolor%27&oq=AttributeError%3A+%27DataFrame%27+object+has+no+attribute+%27set_axis_bgcolor%27&gs_lcrp=EgZjaHJvbWUyBggAEEUYOTIGCAEQRRg60gEHNzY3ajBqN6gCALACAA&sourceid=chrome&ie=UTF-8)\n",
        "###### ## Statistics\n",
        "###### \n",
        "###### ## pandas print statement\n",
        "###### - [turn off automatic pandas data type output on print statment](https://stackoverflow.com/questions/29645153/remove-name-dtype-from-pandas-output-of-dataframe-or-series)\n",
        "###### \n",
        "###### ## python\n",
        "###### ### main.py (files 1 to 4) and script.sh in CoderSales/machine-learning-classification (repository reference below)\n",
        "###### - repository reference [CoderSales/machine-learning-classification](https://github.com/CoderSales/machine-learning-classification)\n",
        "###### - [slice strings in python](https://www.w3schools.com/python/gloss_python_string_slice.asp)\n",
        "###### - [Check if Python Package is installed](https://stackoverflow.com/questions/1051254/check-if-python-package-is-installed)\n",
        "###### - [pip install notebook](https://jupyter.org/install)\n",
        "###### - [How to Execute Shell Commands with Python](https://janakiev.com/blog/python-shell-commands/)\n",
        "###### - [How to print a string literally in Python](https://stackoverflow.com/questions/6903551/how-to-print-a-string-literally-in-python)\n",
        "###### - [4 ways to add variables or values into Python strings](https://medium.com/analytics-vidhya/4-ways-to-add-variables-or-values-into-python-strings-860082cf8461)\n",
        "###### - search string: [percentage symbol pip bash](https://www.google.com/search?q=percentage+symbol+pip+bash&newwindow=1&sxsrf=AJOqlzWVNEAC2sWl-_Fd1EM9HLo8UPFV4Q%3A1676309809136&ei=MXXqY4WBCJqTgQb0oIrgDQ&ved=0ahUKEwjF3dPVhJP9AhWaScAKHXSQAtwQ4dUDCA8&uact=5&oq=percentage+symbol+pip+bash&gs_lcp=Cgxnd3Mtd2l6LXNlcnAQAzIFCCEQoAEyBQghEKABOgcIIxCwAxAnOgoIABBHENYEELADOgQIIxAnSgQIQRgASgQIRhgAULsHWNgPYLIRaAFwAXgAgAGWAYgB_QOSAQM0LjGYAQCgAQHIAQnAAQE&sclient=gws-wiz-serp)\n",
        "###### - search string: [python access \"Option -c 4\"](https://www.google.com/search?q=python+access+%22Option+-c+4%22&newwindow=1&sxsrf=AJOqlzWfGXa5nLwxEAeDtoihI2XQhYCEow%3A1676309333868&ei=VXPqY_K9NNWM8gK7rocI&ved=0ahUKEwiyvIPzgpP9AhVVhlwKHTvXAQEQ4dUDCA8&uact=5&oq=python+access+%22Option+-c+4%22&gs_lcp=Cgxnd3Mtd2l6LXNlcnAQAzoKCAAQRxDWBBCwA0oECEEYAEoECEYYAFDGCFjGCGC2C2gBcAF4AIABOogBOpIBATGYAQCgAQHIAQjAAQE&sclient=gws-wiz-serp)\n",
        "###### - [How to Execute Shell Commands with Python](https://janakiev.com/blog/python-shell-commands/)\n",
        "###### - import subprocess | subprocess.run('/path/to/script.sh', check=True) [os.system() | run all shell commands with a single call](https://stackoverflow.com/questions/53151899/python-how-to-script-virtual-environment-building-and-activation)\n",
        "###### ### storing variables\n",
        "###### #### naming arbitrary number of variables\n",
        "###### - [used for first attempt at naming arbitrary number of variables](https://stackoverflow.com/questions/48372808/create-an-unknown-number-of-programmatically-defined-variables)\n",
        "###### - [second attempt at naming arbitrary number of variables](https://pythonprinciples.com/ask/how-do-you-create-a-variable-number-of-variables/)\n",
        "###### \n",
        "###### #### append\n",
        "###### - [.append()](https://realpython.com/python-append/#:~:text=Python%20provides%20a%20method%20called,list%20using%20a%20for%20loop.)\n",
        "###### \n",
        "###### ### pass multiple variables into string\n",
        "###### - [pass multiple variables into string](https://stackoverflow.com/questions/10112614/how-do-i-create-a-multiline-python-string-with-inline-variables)\n",
        "###### \n",
        "###### ### multiline string python\n",
        "###### - [Python Multiline Strings](https://www.w3schools.com/python/gloss_python_multi_line_strings.asp)\n",
        "###### \n",
        "###### ### How do you add value to a key in Python?\n",
        "###### - 'a':'0' [How do you add value to a key in Python?](https://www.mygreatlearning.com/blog/python-dictionary-append/#:~:text=How%20do%20you%20add%20value,new%20values%20to%20the%20keys.)\n",
        "###### \n",
        "###### ### pass variable into string variable \n",
        "###### - [pass variable into string variable](https://matthew-brett.github.io/teaching/string_formatting.html)\n",
        "###### \n",
        "###### ### turn off pandas index output\n",
        "###### - [Remove name, dtype from pandas output of dataframe or series](https://stackoverflow.com/questions/29645153/remove-name-dtype-from-pandas-output-of-dataframe-or-series)\n",
        "###### - [2ndary source for turning off index on pandas dataframe print out](https://stackoverflow.com/questions/24644656/how-to-print-pandas-dataframe-without-index)\n",
        "###### \n",
        "###### ### concatenate\n",
        "###### - [concatenate with +](https://www.digitalocean.com/community/tutorials/python-string-concatenation)\n",
        "###### \n",
        "###### ### String into variable\n",
        "###### - [String Into Variable Name in Python Using the vars() Function](https://www.pythonforbeginners.com/basics/convert-string-to-variable-name-in-python#:~:text=is%20pythonforbeginners.com-,String%20Into%20Variable%20Name%20in%20Python%20Using%20the%20vars(),like%20the%20globals()%20function.)\n",
        "###### - [Convert string to variable name in python [duplicate]](https://stackoverflow.com/questions/19122345/convert-string-to-variable-name-in-python)\n",
        "###### \n",
        "###### - option used [Python Template String Formatting Method](https://towardsdatascience.com/python-template-string-formatting-method-df282510a87a)\n",
        "###### \n",
        "###### ### .update() a dictionary\n",
        "###### - [Python dictionary append: How to add Key-value Pair?](https://www.mygreatlearning.com/blog/python-dictionary-append/)\n",
        "###### - [Python Dictionary update() Method](https://www.w3schools.com/python/ref_dictionary_update.asp)\n",
        "###### - [EDA: def is_categorical | Update dictionary items with a for loop | stackoverflow](https://stackoverflow.com/questions/31069955/update-dictionary-items-with-a-for-loop)\n",
        "###### \n",
        "###### ### print separate with no spaces\n",
        "###### - [Print without space in python 3](https://stackoverflow.com/questions/12700558/print-without-space-in-python-3)\n",
        "###### \n",
        "###### ### function\n",
        "###### - [anatomy of a function in python](https://www.google.com/search?q=anatomy+of+a+function+in+python&oq=anatomy+of+a+function+in++python&gs_lcrp=EgZjaHJvbWUyBggAEEUYOTIHCAEQABiiBDIHCAIQABiiBDIHCAMQABiiBDIJCAQQABgeGKIE0gEJMTQ1MjJqMGo3qAIAsAIA&sourceid=chrome&ie=UTF-8)\n",
        "###### - [Functions](https://geo-python.github.io/2017/lessons/L4/functions.html#:~:text=Anatomy%20of%20a%20function&text=The%20function%20definition%20opens%20with,indented%20below%20the%20definition%20line.)\n",
        "###### ## ML\n",
        "###### ### Linear Regression\n",
        "###### \n",
        "###### ### Logistic Regression\n",
        "###### \n",
        "###### ## Statistics for ML (Logistic Regression)\n",
        "###### - detailed confusion matrix [Precision and recall](https://en.wikipedia.org/wiki/Precision_and_recall#:~:text=Recall%20in%20this%20context%20is%20also%20referred%20to%20as%20the,rate%20is%20also%20called%20specificity.)\n",
        "######  - used for calculation of F1 score [Harmonic mean](https://en.wikipedia.org/wiki/Harmonic_mean#Harmonic_mean_of_two_numbers)\n",
        "######  - image [Geometric proof without words that max (a,b) > root mean square (RMS) or quadratic mean (QM) > arithmetic mean (AM) > geometric mean (GM) > harmonic mean (HM) > min (a,b) of two distinct positive numbers a and b](https://en.wikipedia.org/wiki/Harmonic_mean#/media/File:QM_AM_GM_HM_inequality_visual_proof.svg)\n",
        "######  - image [QM_AM_GM_HM_inequality_visual_proof.svg/2560px-QM_AM_GM_HM_inequality_visual_proof.svg.png](https://upload.wikimedia.org/wikipedia/commons/thumb/a/a1/QM_AM_GM_HM_inequality_visual_proof.svg/2560px-QM_AM_GM_HM_inequality_visual_proof.svg.png)\n",
        "######  ### F-beta score: sklearn documentation\n",
        "######  - Search string: [F-beta score](https://www.google.com/search?q=F-beta+score&oq=F-beta+score&gs_lcrp=EgZjaHJvbWUyBggAEEUYOTIGCAEQRRg7MggIAhAAGBYYHjIICAMQABgWGB4yCAgEEAAYFhgeMggIBRAAGBYYHjIICAYQABgWGB4yBggHEEUYPNIBCDE4ODFqMGo3qAIAsAIA&sourceid=chrome&ie=UTF-8)\n",
        "######  - Search string: [F-beta score is the weighted harmonic mean of precision and recall](https://www.google.com/search?q=F-beta+score+is+the+weighted+harmonic+mean+of+precision+and+recall,&source=lmns&bih=808&biw=1552&hl=en&sa=X&ved=2ahUKEwiOlv2ZqYT9AhU4nCcCHcS_COMQ_AUoAHoECAEQAA)\n",
        "######  - Search string: [f2 ml sklearn](https://www.google.com/search?q=f2+ml+sklearn&newwindow=1&sxsrf=AJOqlzX0pT5Uc4oPuqHgd-hjnAFUNKH-WQ%3A1675622250460&ei=avffY7fnG9WEhbIPrdqIyAw&ved=0ahUKEwi3xJCog__8AhVVQkEAHS0tAskQ4dUDCBA&uact=5&oq=f2+ml+sklearn&gs_lcp=Cgxnd3Mtd2l6LXNlcnAQAzIFCAAQogQyBQgAEKIEMgUIABCiBDoLCAAQsQMQsAMQkQI6BwgAELADEEM6DQgAELEDEIMBELADEEM6CAgAELADEJECOg0IABDkAhDWBBCwAxgBOg8ILhDUAhDIAxCwAxBDGAI6DAguEMgDELADEEMYAjoECAAQQzoHCAAQsQMQQzoFCAAQgAQ6CwguEIAEEMcBEK8BOgYIABAWEB46BQgAEIYDOgUIIRCgAToHCAAQDRCABDoGCAAQHhANOgQIIRAVOgcIIRCgARAKSgQIQRgBSgQIRhgBUJm6Alir_gNgwIIEaAFwAHgAgAFfiAHzBpIBAjExmAEAoAEByAETwAEB2gEGCAEQARgJ2gEGCAIQARgI&sclient=gws-wiz-serp)\n",
        "######  - fbeta_score [sklearn.metrics.fbeta_score](https://scikit-learn.org/stable/modules/generated/sklearn.metrics.fbeta_score.html#:~:text=The%20F%2Dbeta%20score%20is,recall%20in%20the%20combined%20score.)\n",
        "######  - fbeta_score [sklearn.metrics.fbeta_score](https://scikit-learn.org/stable/modules/generated/sklearn.metrics.fbeta_score.html)\n",
        "######  ### F score\n",
        "######  - [F score](https://en.wikipedia.org/wiki/F-score)\n",
        "######  \n",
        "###### # References Part5 / (other, VSCODE workflow window views, HTML, CSS, IMG)\n",
        "###### ## VSCODE workflow window views\n",
        "###### - Keyboard Shortcuts > workbench.action.duplicateWorkspaceInNewWindow Ctrl Shift Alt N (modified from suggested on site) [VSCODE workflow window views](https://stackoverflow.com/questions/43362133/visual-studio-code-open-tab-in-new-window)\n",
        "###### \n",
        "###### ## font\n",
        "###### ## HTML\n",
        "###### \n",
        "###### ## CSS\n",
        "###### - not used [box-shadow: red](https://stackoverflow.com/questions/61476773/how-to-add-a-background-square-behind-the-image)\n",
        "###### - used [change body tag background color behind image](https://stackoverflow.com/questions/7415872/change-color-of-png-image-via-css)\n",
        "###### - search string: [css font color](https://www.google.com/search?q=css+font+color&oq=css+font+color&gs_lcrp=EgZjaHJvbWUqCggAEAAYsQMYgAQyCggAEAAYsQMYgAQyBwgBEAAYgAQyBwgCEAAYgAQyBwgDEAAYgAQyBwgEEAAYgAQyBwgFEAAYgAQyBwgGEAAYgAQyBggHEEUYQdIBCDIwODFqMGo3qAIAsAIA&sourceid=chrome&ie=UTF-8)\n",
        "###### - [CSS Text](https://www.w3schools.com/css/css_text.asp)\n",
        "###### \n",
        "###### ## nb-black / jupyter notebook formatting\n",
        "###### - search string: [add color using nb black](https://www.google.com/search?q=add+color+using+nb+black&oq=add+color+using+nb+black&gs_lcrp=EgZjaHJvbWUyBggAEEUYOTIHCAEQABiiBDIHCAIQABiiBDIHCAMQABiiBNIBCDU5NjhqMGo3qAIAsAIA&sourceid=chrome&ie=UTF-8)\n",
        "###### - <font color='red'>bar</font> [How to change color in markdown cells ipython/jupyter notebook? | stackoverflow](https://stackoverflow.com/questions/19746350/how-to-change-color-in-markdown-cells-ipython-jupyter-notebook)\n",
        "###### \n",
        "###### ## Images\n",
        "###### ## IMG\n",
        "###### - not used [to crop images in css](https://www.digitalocean.com/community/tutorials/css-cropping-images-object-fit)\n",
        "###### ## SVG\n",
        "###### - [harmonic mean .svg file](https://upload.wikimedia.org/wikipedia/commons/f/f7/MathematicalMeans.svg)\n",
        "###### - [harmonic mean .svg file page 2](https://en.wikipedia.org/wiki/File:MathematicalMeans.svg)\n",
        "###### - [means visual proof](https://en.wikipedia.org/wiki/Harmonic_mean#/media/File:QM_AM_GM_HM_inequality_visual_proof.svg)\n",
        "###### - [How to edit color via code of svg file with: open svg file in explorer > inspect element > Elements > edit circle tag fill attribute](https://medium.com/@nick.cqx/illustrate-your-project-without-any-graphic-design-software-using-svg-and-your-browser-20e9a73b53a3)\n",
        "###### \n",
        "###### ## Repositories\n",
        "###### - [ResidentMario/matplotlib](https://github.com/ResidentMario/matplotlib)\n",
        "###### # References Part 6 / (bash, shell scripting)\n",
        "###### - import subprocess [Python: How to script virtual environment building and activation?](https://stackoverflow.com/questions/53151899/python-how-to-script-virtual-environment-building-and-activation)\n",
        "###### - Put this in main.py: | import yoursubfile | Treat it like a module: import file.[How can I make one python file run another? [duplicate] | Get one python file to run another, using python 2.7.3 and Ubuntu 12.10:](https://stackoverflow.com/questions/7974849/how-can-i-make-one-python-file-run-another)\n",
        "###### ## subprocess file calls\n",
        "###### - [How to add images to README.md on GitHub?](https://stackoverflow.com/questions/14494747/how-to-add-images-to-readme-md-on-github)\n",
        "###### ![wireframe](https://github.com/CoderSales/machine-learning-classification/blob/main/img/wireframe-bash-py-scripts-2.png)\n",
        "###### - The error is pretty clear. The file hello.py is not an executable file. You need to specify the executable: subprocess.call(['python.exe', 'hello.py', 'htmlfilename.htm'])\n",
        "###### [OSError: [WinError 193] %1 is not a valid Win32 application](https://stackoverflow.com/questions/25651990/oserror-winerror-193-1-is-not-a-valid-win32-application)\n",
        "###### - [Python Exception <TypeError>: bufsize must be an integer](https://community.safe.com/s/question/0D54Q00009jkcMHSAY/python-exception-typeerror-bufsize-must-be-an-integer)\n",
        "###### - Using the subprocess Module | python 3.11.2 [subprocess — Subprocess management | Using the subprocess Module | python 3.11.2 ](https://docs.python.org/3/library/subprocess.html)\n",
        "###### - [How can I make one python file run another? [duplicate]](https://stackoverflow.com/questions/7974849/how-can-i-make-one-python-file-run-another)\n",
        "###### - [How to call a shell script from python code?](https://stackoverflow.com/questions/3777301/how-to-call-a-shell-script-from-python-code)\n",
        "###### - Your best option would be to do it in a function\n",
        "###### \n",
        "###### - activate () {  . ../.env/bin/activate} [How to source virtualenv activate in a Bash script](https://stackoverflow.com/questions/13122137/how-to-source-virtualenv-activate-in-a-bash-script)\n",
        "###### - def my_function(): [Python Functions](https://www.w3schools.com/python/python_functions.asp)\n",
        "###### - Main result: If you want to ignore a file that you've committed in the past, you'll need to delete the file from your repository and then add a .gitignore rule for it. | search string: [how to add files to gitignore](https://www.google.com/search?q=how+to+add+files+to+gitignore&oq=how+to+add+files+to+gitignore&gs_lcrp=EgZjaHJvbWUyBggAEEUYOTIHCAEQABiABDIHCAIQABiABDIHCAMQABiABDIHCAQQABiABDIHCAUQABiABDIHCAYQABiABDIMCAcQABgUGIcCGIAEMgcICBAAGIAEMgcICRAAGIYD0gEINTA3N2owajeoAgCwAgA&sourceid=chrome&ie=UTF-8)\n",
        "###### - [Ignoring a previously committed file](https://www.atlassian.com/git/tutorials/saving-changes/gitignore#:~:text=If%20you%20want%20to%20ignore,directory%20as%20an%20ignored%20file.)\n",
        "###### - JavaScript function definition syntax (uses curly brackets like bash syntax)[Function.prototype.apply()](https://developer.mozilla.org/en-US/docs/Web/JavaScript/Reference/Global_Objects/Function/apply)\n",
        "###### - [site to find out which language code is written in](https://dpaste.com/)\n",
        "###### - [Is there a website that can recognize and identify what programming language is being input (pasted)?](https://www.quora.com/Is-there-a-website-that-can-recognize-and-identify-what-programming-language-is-being-input-pasted)\n",
        "###### - search string: ['.' is not recognized as an internal or external command,](https://www.google.com/search?q=%27.%27+is+not+recognized+as+an+internal+or+external+command%2C&oq=%27.%27+is+not+recognized+as+an+internal+or+external+command%2C&gs_lcrp=EgZjaHJvbWUyBggAEEUYOTIHCAEQABiABDIHCAIQABiABDIHCAMQABiABDIHCAQQABiABDIHCAUQABiABDIGCAYQRRhBMgYIBxBFGEHSAQgxMDk0ajBqN6gCALACAA&sourceid=chrome&ie=UTF-8)\n",
        "###### - [5 Ways to Fix the \"Not Recognized as an Internal or External Command\" Error in Windows](https://www.makeuseof.com/windows-not-recognized-as-an-internal-or-external-command-error/#:~:text=You%20can%20resolve%20this%20issue,files%20to%20the%20System32%20folder.)\n",
        "###### - search string: [subprocess.Popen() documentation](https://www.google.com/search?q=subprocess.Popen()+documentation&sourceid=chrome&ie=UTF-8)\n",
        "###### - [TypeError: got multiple values for argument](https://stackoverflow.com/questions/21764770/typeerror-got-multiple-values-for-argument)\n",
        "###### - [Python Exception <TypeError>: bufsize must be an integer](https://community.safe.com/s/question/0D54Q00009jkcMHSAY/python-exception-typeerror-bufsize-must-be-an-integer)\n",
        "###### ### venv location\n",
        "###### - [Python Virtual Environments: A Primer](https://realpython.com/python-virtual-environments-a-primer/#:~:text=You%20can%20find%20the%20base,is%20one%20folder%20level%20up.)\n",
        "###### - [How Does a Virtual Environment Work?](https://realpython.com/python-virtual-environments-a-primer/#how-does-a-virtual-environment-work)\n",
        "###### - [The VIRTUAL_ENV environment variable is only available if the virtual environment is activated.\n",
        "###### For instance:\n",
        "###### $ python3 -m venv myapp\n",
        "###### $ source myapp/bin/activate\n",
        "###### (myapp) $ python  -c \"import os; print(os.environ['VIRTUAL_ENV'])\"\n",
        "###### /path/to/virtualenv/myapp](https://stackoverflow.com/questions/22003769/get-virtualenvs-bin-folder-path-from-script)\n",
        "###### - [What is the difference between executing a Bash script vs sourcing it?](https://superuser.com/questions/176783/what-is-the-difference-between-executing-a-bash-script-vs-sourcing-it)\n",
        "###### - [How to activate python virtualenv through shell script?](https://superuser.com/questions/1547228/how-to-activate-python-virtualenv-through-shell-script)\n",
        "###### - search string: [run python3 -m venv from shell script](https://www.google.com/search?q=run+python3+-m+venv+from+shell+script&oq=run+python3+-m+venv+from+shell+script&gs_lcrp=EgZjaHJvbWUyBggAEEUYOdIBCTUwOTU2ajBqN6gCALACAA&sourceid=chrome&ie=UTF-8)\n",
        "###### - search string: [Error: [Errno 13] Permission denied: 'C:\\\\Users\\](https://www.google.com/search?q=Error%3A+%5BErrno+13%5D+Permission+denied%3A+%27C%3A%5C%5CUsers%5C&newwindow=1&sxsrf=AJOqlzWirByzwKUkHddqGQt9p_WYB-8a3Q%3A1676448744989&ei=6JPsY66GPOGx8gK9_6_YCQ&ved=0ahUKEwiumrefipf9AhXhmFwKHb3_C5sQ4dUDCA8&uact=5&oq=Error%3A+%5BErrno+13%5D+Permission+denied%3A+%27C%3A%5C%5CUsers%5C&gs_lcp=Cgxnd3Mtd2l6LXNlcnAQAzoKCAAQRxDWBBCwA0oECEEYAEoECEYYAFDsBVjsBWCTCWgBcAF4AIABN4gBN5IBATGYAQCgAQHIAQjAAQE&sclient=gws-wiz-serp)\n",
        "###### ### shell\n",
        "###### - search string: [chmod executable shell script](https://www.google.com/search?q=chmod+executable+shell+script&oq=chmod+executable+shell+script&gs_lcrp=EgZjaHJvbWUyBggAEEUYOTIKCAEQABgPGBYYHjILCAIQABgWGB4Y8QQyCggDEAAYDxgWGB4yCwgEEAAYFhgeGPEEMgcIBRAAGIYDMgcIBhAAGIYDMgcIBxAAGIYDMgcICBAAGIYD0gEINjAxMGowajeoAgCwAgA&sourceid=chrome&ie=UTF-8)\n",
        "###### - chmod +x <fileName> [Steps to write and execute a script](https://www.javatpoint.com/steps-to-write-and-execute-a-shell-script)\n",
        "###### - search string: [how to start shell script](https://www.google.com/search?q=how+to+start+shell+script&oq=how+tostart+shell&gs_lcrp=EgZjaHJvbWUqCQgBEAAYDRiABDIGCAAQRRg5MgkIARAAGA0YgAQyCQgCEAAYDRiABDIJCAMQABgNGIAEMgkIBBAAGA0YgAQyCQgFEAAYDRiABDIJCAYQABgNGIAEMgkIBxAAGA0YgAQyCQgIEAAYDRiABDIJCAkQABgNGIAE0gEJNTUxMjdqMWo3qAIAsAIA&sourceid=chrome&ie=UTF-8)\n",
        "###### - search string: [run shell using source](https://www.google.com/search?q=run+shell+using+source&oq=run+shell+using+source&gs_lcrp=EgZjaHJvbWUyBggAEEUYOTIJCAEQABgeGKIEMgkIAhAAGB4YogQyBwgDEAAYogQyBwgEEAAYogTSAQkxMTM0MGowajeoAgCwAgA&sourceid=chrome&ie=UTF-8)\n",
        "###### - The first line in Bash scripts is a character sequence known as the \"shebang.\" The shebang is the program loader's first instruction when executing the file, and the characters indicate which interpreter to run when reading the script. | Add the following line to the file to indicate the use of the Bash interpreter: | #!/bin/bash [How to Write a Bash Script with Examples | Writing a Bash Script | Adding the \"shebang\" | #!/usr/bin/env <interpreter> | Uses the env program to locate the interpreter. Use this shebang for other scripting languages, such as Perl, Python, etc.](https://phoenixnap.com/kb/write-bash-script#:~:text=The%20first%20line%20in%20Bash,run%20when%20reading%20the%20script.)\n",
        "###### - search string: [what does comment do at top of shell script](https://www.google.com/search?q=what+does+comment+do+at+top+of+shell+script&oq=what+does+comment+do+at+top+of+shell+script&gs_lcrp=EgZjaHJvbWUyBggAEEUYOTIHCAEQIRigATIHCAIQIRigAdIBCTEwMDc2ajBqN6gCALACAA&sourceid=chrome&ie=UTF-8)\n",
        "###### - [How to activate a Python virtual environment from a script file](https://www.a2hosting.com/kb/developer-corner/python/activating-a-python-virtual-environment-from-a-script-file)\n",
        "###### - search string: [python file to start venv](https://www.google.com/search?q=python+file+to+start+venv&oq=python+file+to+start+venv&gs_lcrp=EgZjaHJvbWUyBggAEEUYOTIGCAEQRRhA0gEIODQ2M2owajeoAgCwAgA&sourceid=chrome&ie=UTF-8)\n",
        "###### - search string: [pass raw strings from shell or py file to terminal to run command in terminal](https://www.google.com/search?q=pass+raw+strings+from+shell+or+py+file+to+terminal+to+run+command+in+terminal&oq=pass+raw+strings+from+shell+or+py+file+to+terminal+to+run+command+in+terminal&gs_lcrp=EgZjaHJvbWUyBggAEEUYOdIBCTIxNjc3ajBqN6gCALACAA&sourceid=chrome&ie=UTF-8)\n",
        "###### - search string: [Taking Linux Command as Raw String in Python](https://stackoverflow.com/questions/22230294/taking-linux-command-as-raw-string-in-python)\n",
        "###### - [Taking Linux Command as Raw String in Python](https://stackoverflow.com/questions/22230294/taking-linux-command-as-raw-string-in-python/22230442#comment33755480_22230442)\n",
        "###### - search string: [how to pass raw code to terminal](https://www.google.com/search?q=how+to+pass+raw+codee+to+terminal&oq=how+to+pass+raw+codee+to+terminal&gs_lcrp=EgZjaHJvbWUyBggAEEUYOTIGCAEQRRhA0gEINjY1N2owajeoAgCwAgA&sourceid=chrome&ie=UTF-8)\n",
        "###### - [What are some ways to pass raw bytes to a program via the Linux terminal?](https://reverseengineering.stackexchange.com/questions/24755/what-are-some-ways-to-pass-raw-bytes-to-a-program-via-the-linux-terminal)\n",
        "###### - [Pass bash argument to python script](https://stackoverflow.com/questions/14340822/pass-bash-argument-to-python-script)\n",
        "###### - search string: [pass arg to function python through bash call](https://www.google.com/search?q=pass+arg+to+function+python+through+bash+call&oq=pass+arg+to+function+python+through+bash+call&gs_lcrp=EgZjaHJvbWUyBggAEEUYOTIHCAEQABiiBDIHCAIQABiiBDIHCAMQABiiBDIHCAQQABiiBDIHCAUQABiiBNIBCTE1NjgwajBqN6gCALACAA&sourceid=chrome&ie=UTF-8)\n",
        "###### - [venv — Creation of virtual environments | An example of extending EnvBuilder](https://docs.python.org/3/library/venv.html)\n",
        "###### - search string: [try catch shell python venv](https://www.google.com/search?q=try+catch+shell+python+venv&oq=try+catch+shell+python+venv&gs_lcrp=EgZjaHJvbWUyBggAEEUYOTIHCAEQIRigATIHCAIQIRigAdIBCDU3NzhqMGo3qAIAsAIA&sourceid=chrome&ie=UTF-8)\n",
        "###### - [PermissionError: [Errno 13] Permission denied](https://stackoverflow.com/questions/36434764/permissionerror-errno-13-permission-denied)\n",
        "###### - [How to assign the output of a Bash command to a variable? [duplicate]](https://stackoverflow.com/questions/2314750/how-to-assign-the-output-of-a-bash-command-to-a-variable)\n",
        "###### - search string: [#!/bin/bash -x PWD=`pwd`](https://www.google.com/search?q=%23!%2Fbin%2Fbash+-x+PWD%3D%60pwd%60&oq=%23!%2Fbin%2Fbash+-x+PWD%3D%60pwd%60&gs_lcrp=EgZjaHJvbWUyBggAEEUYOdIBBzU0MmowajeoAgCwAgA&sourceid=chrome&ie=UTF-8)\n",
        "###### - search string: [how to activate venv in existing shell](https://www.google.com/search?q=how+to+activate+venv+in+existing+shell&oq=how+to+activate+venv+in+existing+shell&gs_lcrp=EgZjaHJvbWUyBggAEEUYOTIGCAEQRRhA0gEJMTE0ODBqMGo3qAIAsAIA&sourceid=chrome&ie=UTF-8)\n",
        "###### - search string: [use shell to activate venv](https://www.google.com/search?q=use+shell+to+activate+venv&oq=use+shell+to+activate+venv&gs_lcrp=EgZjaHJvbWUyBggAEEUYOTIHCAEQIRigATIHCAIQIRigATIHCAMQIRigATINCAQQIRgWGB0YHhjxBDINCAUQIRgWGB0YHhjxBNIBCTEwMTMyajBqN6gCALACAA&sourceid=chrome&ie=UTF-8)\n",
        "###### - [Learn X in Y minutes](https://learnxinyminutes.com/docs/bash/)\n",
        "###### - [Writing shell scripts](https://infinum.com/handbook/qa/automation/general/writing-shell-scripts)\n",
        "###### - search string: [automate virtual env](https://www.google.com/search?q=automate+virtual+env&oq=automate+virtual+env&gs_lcrp=EgZjaHJvbWUyBggAEEUYOTILCAEQABgWGB4Y8QQyCwgCEAAYFhgeGPEEMgsIAxAAGBYYHhjxBDILCAQQABgWGB4Y8QQyCAgFEAAYFhgeMgsIBhAAGBYYHhjxBDIICAcQABgWGB4yCggIEAAYDxgWGB4yCggJEAAYDxgWGB7SAQg5ODk1ajBqN6gCALACAA&sourceid=chrome&ie=UTF-8)\n",
        "###### ![CoderSales/machine-learning-classification | machine-learning-classification/img/wireframe-post-activate.png](https://github.com/CoderSales/machine-learning-classification/blob/main/img/wireframe-post-activate.png)\n",
        "###### - Python allows you to execute shell commands, which you can use to start other programs or better manage shell scripts that you use for automation. Depending on our use case, we can use `os.system()`, `subprocess.run()` or `subprocess.Popen` to run bash commands. [Executing Shell Commands with Python | Conclusion](https://stackabuse.com/executing-shell-commands-with-python/)\n",
        "###### - search string: [use python script to run terminal command](https://www.google.com/search?q=use+python+script+to+run+terminal+command&oq=use+python+script+to+run+trerminal+&gs_lcrp=EgZjaHJvbWUqCQgBECEYChigATIGCAAQRRg5MgkIARAhGAoYoAEyCQgCECEYChigATIJCAMQIRgKGKABMgkIBBAhGAoYoAEyDQgFECEYFhgdGB4Y8QQyCggGECEYFhgdGB4yDQgHECEYFhgdGB4Y8QQyCggIECEYFhgdGB4yDQgJECEYFhgdGB4Y8QTSAQg4MTExajBqN6gCALACAA&sourceid=chrome&ie=UTF-8)\n",
        "###### - my_function() [Python Functions | Calling a Function | w3schools | Documentation](https://www.w3schools.com/python/python_functions.asp)\n",
        "###### - [Python String format() Method | w3schools | Documentation](https://www.w3schools.com/python/ref_string_format.asp)\n",
        "###### ![CoderSales/machine-learning-classification | machine-learning-classification/img/wireframe-bash-py-scripts-3.png](https://github.com/CoderSales/machine-learning-classification/blob/main/img/wireframe-bash-py-scripts-3.png)\n",
        "###### - You are trying to decode an object that is already decoded. You have a str, there is no need to decode from UTF-8 anymore. ['str' object has no attribute 'decode'. Python 3 error? [duplicate]](https://stackoverflow.com/questions/28583565/str-object-has-no-attribute-decode-python-3-error)\n",
        "###### - search string: [AttributeError: 'str' object has no attribute 'decode'. Did you mean: 'encode'?](https://www.google.com/search?q=AttributeError%3A+%27str%27+object+has+no+attribute+%27decode%27.+Did+you+mean%3A+%27encode%27%3F&oq=AttributeError%3A+%27str%27+object+has+no+attribute+%27decode%27.+Did+you+mean%3A+%27encode%27%3F&gs_lcrp=EgZjaHJvbWUyBggAEEUYOTIGCAEQRRg60gEHODY5ajBqN6gCALACAA&sourceid=chrome&ie=UTF-8)\n",
        "###### - Code:\n",
        "###### ```\n",
        "###### However, if you want to activate the virtualenv under the current Python interpreter instead of a subprocess, you can use the activate_this.py script:\n",
        "###### \n",
        "###### # Doing execfile() on this file will alter the current interpreter's\n",
        "###### # environment so you can import libraries in the virtualenv\n",
        "###### activate_this_file = \"/path/to/virtualenv/bin/activate_this.py\"\n",
        "###### \n",
        "###### execfile(activate_this_file, dict(__file__=activate_this_file))\n",
        "###### ```\n",
        "###### [Activate a virtualenv with a Python script](https://stackoverflow.com/questions/6943208/activate-a-virtualenv-with-a-python-script)\n",
        "###### - search string: [write a program that types into vscode bash terminal](https://www.google.com/search?q=write+a+program+that+types+into+vscode+bash+terminal&newwindow=1&sxsrf=AJOqlzUb3BpUNePLOA8ABy26M31Vy2lyPg:1676613214191&source=lnms&tbm=vid&sa=X&ved=2ahUKEwin0br47pv9AhUEkFwKHaE7A60Q_AUoAXoECAEQAw&biw=1536&bih=769&dpr=1.25)\n",
        "###### - search string: [why shebang line](https://www.google.com/search?q=why+shebang+line&oq=why+shebang+line&gs_lcrp=EgZjaHJvbWUyBggAEEUYOTIICAEQABgWGB4yBwgCEAAYhgMyBwgDEAAYhgPSAQg5MTk4ajBqN6gCALACAA&sourceid=chrome&ie=UTF-8)\n",
        "###### - exec(open(\"./filename\").read()) [What is an alternative to execfile in Python 3?](https://stackoverflow.com/questions/436198/what-is-an-alternative-to-execfile-in-python-3?noredirect=1&lq=1)\n",
        "###### - search string: [activate_this py](https://www.google.com/search?q=activate_this+py&oq=activate_this+py&gs_lcrp=EgZjaHJvbWUyBggAEEUYOTIJCAEQABgNGIAEMggIAhAAGAcYHjIICAMQABgHGB4yCAgEEAAYBxgeMggIBRAAGAcYHjIICAYQABgHGB4yCAgHEAAYBxgeMggICBAAGAcYHjIICAkQABgHGB7SAQgzMDI0ajBqNKgCALACAA&sourceid=chrome&ie=UTF-8)\n",
        "###### - [pypa/virtualenv | virtualenv/src/virtualenv/activation/python/activate_this.py ](https://github.com/pypa/virtualenv/blob/main/src/virtualenv/activation/python/activate_this.py)\n",
        "###### - Code:\n",
        "###### ```\n",
        "###### # Doing execfile() on this file will alter the current interpreter's\n",
        "###### # environment so you can import libraries in the virtualenv\n",
        "###### activate_this_file = \"/path/to/virtualenv/bin/activate_this.py\"\n",
        "###### \n",
        "###### execfile(activate_this_file, dict(__file__=activate_this_file))\n",
        "###### ```\n",
        "###### [Activate a virtualenv with a Python script](https://stackoverflow.com/questions/6943208/activate-a-virtualenv-with-a-python-script)\n",
        "###### - search string: [automate virtual environment activation on python](https://www.google.com/search?q=automate+virtual+environment+activation+on+python&oq=automate+virtual+environment+activation+on+python&gs_lcrp=EgZjaHJvbWUyBggAEEUYOTIHCAEQIRigATINCAIQIRgWGB0YHhjxBDINCAMQIRgWGB0YHhjxBDINCAQQIRgWGB0YHhjxBDINCAUQIRgWGB0YHhjxBDINCAYQIRgWGB0YHhjxBDINCAcQIRgWGB0YHhjxBDINCAgQIRgWGB0YHhjxBDINCAkQIRgWGB0YHhjxBNIBCTEyNjY3ajBqN6gCALACAA&sourceid=chrome&ie=UTF-8)\n",
        "###### - Code:\n",
        "###### ```\n",
        "###### source is a shell command designed for users running on Linux (or any Posix, but whatever, not Windows).\n",
        "###### On Windows, virtualenv creates a .bat/.ps1 file, so you should run venv\\Scripts\\activate instead (per the virtualenv documentation on the activate script).\n",
        "###### ```\n",
        "###### [Issue with virtualenv - cannot activate](https://stackoverflow.com/questions/8921188/issue-with-virtualenv-cannot-activate#:~:text=For%20activation%20you%20can%20go,virtualenv%20directory%20by%20cd%20venv%20.&text=Now%20type%20.%5CScripts%5Cactivate%20to%20activate%20your%20virtualenv%20venv%20.)\n",
        "###### - search string: [os.system(\". .venv/Scripts/activate\")](https://www.google.com/search?q=os.system(%22.+.venv%2FScripts%2Factivate%22)&oq=os.system(%22.+.venv%2FScripts%2Factivate%22)&gs_lcrp=EgZjaHJvbWUyBggAEEUYOTIKCAEQIRgWGB0YHtIBCDEyNDVqMGo3qAIAsAIA&sourceid=chrome&ie=UTF-8)\n",
        "###### - exec(compile(open(filename, \"rb\").read(), filename, 'exec'), globals, locals) [Alternative to execfile in Python 3? [duplicate]](https://stackoverflow.com/questions/6357361/alternative-to-execfile-in-python-3)\n",
        "###### - search  string: [NameError: name 'execfile' is not defined](https://www.google.com/search?q=NameError%3A+name+%27execfile%27+is+not+defined&oq=NameError%3A+name+%27execfile%27+is+not+defined&gs_lcrp=EgZjaHJvbWUyBggAEEUYOTIGCAEQRRg60gEIMjQ2NGowajeoAgCwAgA&sourceid=chrome&ie=UTF-8)\n",
        "###### - As you've noted, pyvenv/the venv module doesn't ship with activate_this.py. But if you need this feature, you can borrow activate_this.py from virtualenv, put it in the expected location (virtualenv_path/bin/activate_this.py), then use it. [No activate_this.py file in venv / pyvenv [duplicate]](https://stackoverflow.com/questions/25020451/no-activate-this-py-file-in-venv-pyvenv)\n",
        "###### - search string: [where is activate_this.py](https://www.google.com/search?q=where+is+activate_this.py&oq=where+is+activate+this+&gs_lcrp=EgZjaHJvbWUqCAgBEAAYFhgeMgYIABBFGDkyCAgBEAAYFhgeMgsIAhAAGBYYHhjxBDILCAMQABgWGB4Y8QQyCwgEEAAYFhgeGPEEMggIBRAAGBYYHjILCAYQABgWGB4Y8QQyCAgHEAAYFhgeMgsICBAAGBYYHhjxBDILCAkQABgWGB4Y8QTSAQg2MjA1ajBqN6gCALACAA&sourceid=chrome&ie=UTF-8)\n",
        "###### - Code:\n",
        "###### ```\n",
        "###### which -a python3\n",
        "###### where python\n",
        "###### ```\n",
        "###### [how can I find the path of virtualenv python](https://stackoverflow.com/questions/51749906/how-can-i-find-the-path-of-virtualenv-python)\n",
        "###### - search string: [python find where venvinstallation](https://www.google.com/search?q=python+find+where+venvinstallation&oq=python+find+where+venvinstallation+&gs_lcrp=EgZjaHJvbWUyBggAEEUYOTIGCAEQRRhA0gEINzU5NGowajeoAgCwAgA&sourceid=chrome&ie=UTF-8)\n",
        "###### - Code:\n",
        "###### ```\n",
        "###### import os\n",
        "###### os.system(command)\n",
        "###### ```\n",
        "###### [How to call a shell script from python code?](https://stackoverflow.com/questions/3777301/how-to-call-a-shell-script-from-python-code)\n",
        "###### - search string: [subprocess.call(\"chmod shell script]('https://www.google.com/search?q=subprocess.call(%22chmod+shell+script&oq=subprocess.call(%22chmod+shell+script&gs_lcrp=EgZjaHJvbWUyBggAEEUYOTIHCAEQIRigATIHCAIQIRigAdIBCDUyNTlqMGo3qAIAsAIA&sourceid=chrome&ie=UTF-8')\n",
        "###### - Code:\n",
        "###### ```\n",
        "###### subprocess.check_call(['chmod','u+x','/home/stoplight25/Desktop/music/addSong/'+bashName])\n",
        "###### ```\n",
        "###### \n",
        "###### ```\n",
        "###### import os\n",
        "###### \n",
        "###### my_file = os.path.join('/home/stoplight25/Desktop/music/addSong',bashName)\n",
        "###### new_mode = os.stat(os.chmod).st_mode | 0o100\n",
        "###### os.chmod(my_file,new_mode)\n",
        "###### \n",
        "###### ```\n",
        "###### [making a file executable via subprocess in python](https://stackoverflow.com/questions/55714721/making-a-file-executable-via-subprocess-in-python)\n",
        "###### - search string: [bash file](https://www.google.com/search?q=bash+file&oq=bahs+file&gs_lcrp=EgZjaHJvbWUqCQgBEAAYChiABDIGCAAQRRg5MgkIARAAGAoYgAQyCQgCEAAYChiABDIJCAMQABgKGIAEMgkIBBAAGAoYgAQyCQgFEAAYChiABDIJCAYQABgKGIAEMgkIBxAAGAoYgAQyCQgIEAAYChiABDIJCAkQABgKGIAE0gEIMjk1N2owajeoAgCwAgA&sourceid=chrome&ie=UTF-8)\n",
        "###### - Code:\n",
        "###### ```\n",
        "###### #!/bin/bash\n",
        "###### # A sample Bash script, by Ryan\n",
        "###### echo Hello World!\n",
        "###### ```\n",
        "###### Line 1 - Is what's referred to as the shebang. See below for what this is.\n",
        "###### [What is a Bash Script? | Let's Dive In](https://ryanstutorials.net/bash-scripting-tutorial/bash-script.php)\n",
        "###### - search string: [can you import a shell script in python](https://www.google.com/search?q=can+you+import+a+shell+script+in+python&oq=can+you+import+a+shell+script+in+python&gs_lcrp=EgZjaHJvbWUyBggAEEUYOTIGCAEQRRhA0gEINzcyNGowajeoAgCwAgA&sourceid=chrome&ie=UTF-8)\n",
        "###### - Also note that while execfile is the exact analogue, in Python programs import will be almost always used where you'd typically use source in a shell script. – [Calling the \"source\" command from subprocess.Popen](https://stackoverflow.com/questions/7040592/calling-the-source-command-from-subprocess-popen)\n",
        "###### - search string: [use subprocess to run source shell script](https://www.google.com/search?q=use+subprocess+to+run+source+shell+script&newwindow=1&sxsrf=AJOqlzVlcycJz7FWE14ZXCok6SK4P6IC9Q%3A1676592952778&ei=OMfuY5GSL5uU8gKbp6HQBA&oq=use+subprocess+to+run+source+shell&gs_lcp=Cgxnd3Mtd2l6LXNlcnAQAxgAMgUIIRCgATIFCCEQoAEyBQghEKABOgoIABBHENYEELADOgsIIRAWEB4Q8QQQHToHCCEQoAEQCkoECEEYAFDQDViOE2DyGmgCcAF4AIABdIgBzgOSAQMzLjKYAQCgAQHIAQjAAQE&sclient=gws-wiz-serp)\n",
        "###### - Create a file with .sh extension.\n",
        "###### Write the script in the file using an editor.\n",
        "###### Make the script executable with command chmod +x <fileName>.\n",
        "###### Run the script using ./<fileName>.\n",
        "###### [Steps to write and execute a script](https://www.javatpoint.com/steps-to-write-and-execute-a-shell-script)\n",
        "###### - search string: [chmod executable shell script](https://www.google.com/search?q=chmod+executable+shell+script&oq=chmod+&gs_lcrp=EgZjaHJvbWUqBggAEEUYOzIGCAAQRRg7MgYIARBFGDkyBggCEAAYQzIMCAMQABhDGIMBGLEDMgwIBBAAGEMYgwEYsQMyBggFEAAYQzIGCAYQRRg8MgYIBxBFGDzSAQgyNjg3ajBqN6gCALACAA&sourceid=chrome&ie=UTF-8)\n",
        "###### - [Python | os.chmod method | geeks4geeks.org | Documentation](https://www.geeksforgeeks.org/python-os-chmod-method/)\n",
        "###### - search string: [os.chmod](https://www.google.com/search?q=os.chmod&oq=os.chmod&gs_lcrp=EgZjaHJvbWUyBggAEEUYOTIHCAEQABiABDIMCAIQABgUGIcCGIAEMgcIAxAAGIAEMgcIBBAAGIAEMgcIBRAAGIAEMgcIBhAAGIAEMgYIBxBFGD3SAQc4NTVqMGo3qAIAsAIA&sourceid=chrome&ie=UTF-8)\n",
        "###### - If you need to run one or a few simple commands and do not mind if their output goes to the console, you can use the os.system() command. If you want to manage the input and output of a shell command, use subprocess.run(). If you want to run a command and continue doing other work while it's being executed, use subprocess.Popen.\n",
        "###### [Executing Shell Commands with Python](https://stackabuse.com/executing-shell-commands-with-python/)\n",
        "###### - search string: [use python script to run terminal command](https://www.google.com/search?q=use+python+script+to+run+terminal+command&oq=use+python+script+to+run+trerminal+&gs_lcrp=EgZjaHJvbWUqCQgBECEYChigATIGCAAQRRg5MgkIARAhGAoYoAEyCQgCECEYChigATIJCAMQIRgKGKABMgkIBBAhGAoYoAEyDQgFECEYFhgdGB4Y8QQyCggGECEYFhgdGB4yDQgHECEYFhgdGB4Y8QQyCggIECEYFhgdGB4yDQgJECEYFhgdGB4Y8QTSAQg4MTExajBqN6gCALACAA&sourceid=chrome&ie=UTF-8)\n",
        "###### - my_function() [Python Functions](https://www.w3schools.com/python/python_functions.asp)\n",
        "###### - Anaconda + VSCode + venv+ condaenv [How to Integrate Visual Studio Code with Anaconda](https://youtu.be/Cp5W5e8_UGo?t=354)\n",
        "###### - Not working | search string | YT | how to activate a conda virtual environment from vscode [How to activate conda environment in VS Code | 2021 | MSquareH](https://www.youtube.com/watch?v=J8jLHgw-bFQ&ab_channel=MSquareH)\n",
        "###### \n",
        "###### ### format output\n",
        "###### - Code:\n",
        "###### ```\n",
        "###### pd.set_option('display.max_columns', None)\n",
        "###### pd.set_option('display.expand_frame_repr', False)\n",
        "###### pd.set_option('max_colwidth', -1)\n",
        "###### ```\n",
        "###### [How do I expand the output display to see more columns of a Pandas DataFrame?](https://stackoverflow.com/questions/11707586/how-do-i-expand-the-output-display-to-see-more-columns-of-a-pandas-dataframe)\n",
        "###### - search string: [allow ipynb max cols max col width](https://www.google.com/search?q=allow+ipynb+max+cols+max+col+width&oq=allow+ipynb+max+cols+max+col+width&aqs=chrome..69i57j33i160l2.9041j1j7&sourceid=chrome&ie=UTF-8)\n",
        "###### \n",
        "###### #### reset format output\n",
        "###### - `reset_option('all')` [Restoring the default display context in Pandas](https://stackoverflow.com/questions/26246864/restoring-the-default-display-context-in-pandas)\n",
        "###### - search string: [pd.set_option reset](https://www.google.com/search?q=pd.set_option+reset&oq=pd.set_option+reset&aqs=chrome..69i57j0i22i30j0i390l5.14719j0j7&sourceid=chrome&ie=UTF-8)\n",
        "\n"
      ]
    },
    {
      "attachments": {},
      "cell_type": "markdown",
      "id": "393a4918",
      "metadata": {},
      "source": [
        "# Post References Section"
      ]
    },
    {
      "attachments": {},
      "cell_type": "markdown",
      "id": "832e1f39",
      "metadata": {},
      "source": [
        "###### Format output"
      ]
    },
    {
      "cell_type": "code",
      "execution_count": 22,
      "id": "0e89a62b",
      "metadata": {},
      "outputs": [
        {
          "data": {
            "application/javascript": "\n            setTimeout(function() {\n                var nbb_cell_id = 22;\n                var nbb_unformatted_code = \"# https://stackoverflow.com/questions/11707586/how-do-i-expand-the-output-display-to-see-more-columns-of-a-pandas-dataframe\\n\\npd.set_option('display.max_columns', None)\\npd.set_option('display.expand_frame_repr', False)\\npd.set_option('max_colwidth', -1)\";\n                var nbb_formatted_code = \"# https://stackoverflow.com/questions/11707586/how-do-i-expand-the-output-display-to-see-more-columns-of-a-pandas-dataframe\\n\\npd.set_option(\\\"display.max_columns\\\", None)\\npd.set_option(\\\"display.expand_frame_repr\\\", False)\\npd.set_option(\\\"max_colwidth\\\", -1)\";\n                var nbb_cells = Jupyter.notebook.get_cells();\n                for (var i = 0; i < nbb_cells.length; ++i) {\n                    if (nbb_cells[i].input_prompt_number == nbb_cell_id) {\n                        if (nbb_cells[i].get_text() == nbb_unformatted_code) {\n                             nbb_cells[i].set_text(nbb_formatted_code);\n                        }\n                        break;\n                    }\n                }\n            }, 500);\n            ",
            "text/plain": [
              "<IPython.core.display.Javascript object>"
            ]
          },
          "metadata": {},
          "output_type": "display_data"
        },
        {
          "data": {
            "application/javascript": "\n            setTimeout(function() {\n                var nbb_cell_id = 22;\n                var nbb_unformatted_code = \"# https://stackoverflow.com/questions/11707586/how-do-i-expand-the-output-display-to-see-more-columns-of-a-pandas-dataframe\\n\\npd.set_option('display.max_columns', None)\\npd.set_option('display.expand_frame_repr', False)\\npd.set_option('max_colwidth', -1)\";\n                var nbb_formatted_code = \"# https://stackoverflow.com/questions/11707586/how-do-i-expand-the-output-display-to-see-more-columns-of-a-pandas-dataframe\\n\\npd.set_option(\\\"display.max_columns\\\", None)\\npd.set_option(\\\"display.expand_frame_repr\\\", False)\\npd.set_option(\\\"max_colwidth\\\", -1)\";\n                var nbb_cells = Jupyter.notebook.get_cells();\n                for (var i = 0; i < nbb_cells.length; ++i) {\n                    if (nbb_cells[i].input_prompt_number == nbb_cell_id) {\n                        if (nbb_cells[i].get_text() == nbb_unformatted_code) {\n                             nbb_cells[i].set_text(nbb_formatted_code);\n                        }\n                        break;\n                    }\n                }\n            }, 500);\n            ",
            "text/plain": [
              "<IPython.core.display.Javascript object>"
            ]
          },
          "metadata": {},
          "output_type": "display_data"
        }
      ],
      "source": [
        "# https://stackoverflow.com/questions/11707586/how-do-i-expand-the-output-display-to-see-more-columns-of-a-pandas-dataframe\n",
        "\n",
        "pd.set_option('display.max_columns', None)\n",
        "pd.set_option('display.expand_frame_repr', False)\n",
        "pd.set_option('max_colwidth', -1)\n"
      ]
    },
    {
      "cell_type": "markdown",
      "id": "fantastic-rebel",
      "metadata": {
        "id": "fantastic-rebel"
      },
      "source": [
        "## Import Dataset"
      ]
    },
    {
      "cell_type": "code",
      "execution_count": 24,
      "id": "precious-leonard",
      "metadata": {
        "id": "precious-leonard"
      },
      "outputs": [
        {
          "data": {
            "application/javascript": "\n            setTimeout(function() {\n                var nbb_cell_id = 24;\n                var nbb_unformatted_code = \"hotel = pd.read_csv('INNHotelsGroup.csv') ##  Fill the blank to read the data\";\n                var nbb_formatted_code = \"hotel = pd.read_csv(\\\"INNHotelsGroup.csv\\\")  ##  Fill the blank to read the data\";\n                var nbb_cells = Jupyter.notebook.get_cells();\n                for (var i = 0; i < nbb_cells.length; ++i) {\n                    if (nbb_cells[i].input_prompt_number == nbb_cell_id) {\n                        if (nbb_cells[i].get_text() == nbb_unformatted_code) {\n                             nbb_cells[i].set_text(nbb_formatted_code);\n                        }\n                        break;\n                    }\n                }\n            }, 500);\n            ",
            "text/plain": [
              "<IPython.core.display.Javascript object>"
            ]
          },
          "metadata": {},
          "output_type": "display_data"
        },
        {
          "data": {
            "application/javascript": "\n            setTimeout(function() {\n                var nbb_cell_id = 24;\n                var nbb_unformatted_code = \"hotel = pd.read_csv('INNHotelsGroup.csv') ##  Fill the blank to read the data\";\n                var nbb_formatted_code = \"hotel = pd.read_csv(\\\"INNHotelsGroup.csv\\\")  ##  Fill the blank to read the data\";\n                var nbb_cells = Jupyter.notebook.get_cells();\n                for (var i = 0; i < nbb_cells.length; ++i) {\n                    if (nbb_cells[i].input_prompt_number == nbb_cell_id) {\n                        if (nbb_cells[i].get_text() == nbb_unformatted_code) {\n                             nbb_cells[i].set_text(nbb_formatted_code);\n                        }\n                        break;\n                    }\n                }\n            }, 500);\n            ",
            "text/plain": [
              "<IPython.core.display.Javascript object>"
            ]
          },
          "metadata": {},
          "output_type": "display_data"
        }
      ],
      "source": [
        "hotel = pd.read_csv('INNHotelsGroup.csv') ##  Fill the blank to read the data"
      ]
    },
    {
      "cell_type": "code",
      "execution_count": 25,
      "id": "geographic-gender",
      "metadata": {
        "id": "geographic-gender"
      },
      "outputs": [
        {
          "data": {
            "application/javascript": "\n            setTimeout(function() {\n                var nbb_cell_id = 25;\n                var nbb_unformatted_code = \"# copying data to another variable to avoid any changes to original data\\ndata = hotel.copy()\";\n                var nbb_formatted_code = \"# copying data to another variable to avoid any changes to original data\\ndata = hotel.copy()\";\n                var nbb_cells = Jupyter.notebook.get_cells();\n                for (var i = 0; i < nbb_cells.length; ++i) {\n                    if (nbb_cells[i].input_prompt_number == nbb_cell_id) {\n                        if (nbb_cells[i].get_text() == nbb_unformatted_code) {\n                             nbb_cells[i].set_text(nbb_formatted_code);\n                        }\n                        break;\n                    }\n                }\n            }, 500);\n            ",
            "text/plain": [
              "<IPython.core.display.Javascript object>"
            ]
          },
          "metadata": {},
          "output_type": "display_data"
        },
        {
          "data": {
            "application/javascript": "\n            setTimeout(function() {\n                var nbb_cell_id = 25;\n                var nbb_unformatted_code = \"# copying data to another variable to avoid any changes to original data\\ndata = hotel.copy()\";\n                var nbb_formatted_code = \"# copying data to another variable to avoid any changes to original data\\ndata = hotel.copy()\";\n                var nbb_cells = Jupyter.notebook.get_cells();\n                for (var i = 0; i < nbb_cells.length; ++i) {\n                    if (nbb_cells[i].input_prompt_number == nbb_cell_id) {\n                        if (nbb_cells[i].get_text() == nbb_unformatted_code) {\n                             nbb_cells[i].set_text(nbb_formatted_code);\n                        }\n                        break;\n                    }\n                }\n            }, 500);\n            ",
            "text/plain": [
              "<IPython.core.display.Javascript object>"
            ]
          },
          "metadata": {},
          "output_type": "display_data"
        }
      ],
      "source": [
        "# copying data to another variable to avoid any changes to original data\n",
        "data = hotel.copy()"
      ]
    },
    {
      "cell_type": "markdown",
      "id": "convinced-blackberry",
      "metadata": {
        "id": "convinced-blackberry"
      },
      "source": [
        "### View the first and last 5 rows of the dataset"
      ]
    },
    {
      "cell_type": "code",
      "execution_count": 26,
      "id": "tested-adjustment",
      "metadata": {
        "id": "tested-adjustment"
      },
      "outputs": [
        {
          "data": {
            "text/html": [
              "<div>\n",
              "<style scoped>\n",
              "    .dataframe tbody tr th:only-of-type {\n",
              "        vertical-align: middle;\n",
              "    }\n",
              "\n",
              "    .dataframe tbody tr th {\n",
              "        vertical-align: top;\n",
              "    }\n",
              "\n",
              "    .dataframe thead th {\n",
              "        text-align: right;\n",
              "    }\n",
              "</style>\n",
              "<table border=\"1\" class=\"dataframe\">\n",
              "  <thead>\n",
              "    <tr style=\"text-align: right;\">\n",
              "      <th></th>\n",
              "      <th>Booking_ID</th>\n",
              "      <th>no_of_adults</th>\n",
              "      <th>no_of_children</th>\n",
              "      <th>no_of_weekend_nights</th>\n",
              "      <th>no_of_week_nights</th>\n",
              "      <th>type_of_meal_plan</th>\n",
              "      <th>required_car_parking_space</th>\n",
              "      <th>room_type_reserved</th>\n",
              "      <th>lead_time</th>\n",
              "      <th>arrival_year</th>\n",
              "      <th>arrival_month</th>\n",
              "      <th>arrival_date</th>\n",
              "      <th>market_segment_type</th>\n",
              "      <th>repeated_guest</th>\n",
              "      <th>no_of_previous_cancellations</th>\n",
              "      <th>no_of_previous_bookings_not_canceled</th>\n",
              "      <th>avg_price_per_room</th>\n",
              "      <th>no_of_special_requests</th>\n",
              "      <th>booking_status</th>\n",
              "    </tr>\n",
              "  </thead>\n",
              "  <tbody>\n",
              "    <tr>\n",
              "      <th>0</th>\n",
              "      <td>INN00001</td>\n",
              "      <td>2</td>\n",
              "      <td>0</td>\n",
              "      <td>1</td>\n",
              "      <td>2</td>\n",
              "      <td>Meal Plan 1</td>\n",
              "      <td>0</td>\n",
              "      <td>Room_Type 1</td>\n",
              "      <td>224</td>\n",
              "      <td>2017</td>\n",
              "      <td>10</td>\n",
              "      <td>2</td>\n",
              "      <td>Offline</td>\n",
              "      <td>0</td>\n",
              "      <td>0</td>\n",
              "      <td>0</td>\n",
              "      <td>65.00000</td>\n",
              "      <td>0</td>\n",
              "      <td>Not_Canceled</td>\n",
              "    </tr>\n",
              "    <tr>\n",
              "      <th>1</th>\n",
              "      <td>INN00002</td>\n",
              "      <td>2</td>\n",
              "      <td>0</td>\n",
              "      <td>2</td>\n",
              "      <td>3</td>\n",
              "      <td>Not Selected</td>\n",
              "      <td>0</td>\n",
              "      <td>Room_Type 1</td>\n",
              "      <td>5</td>\n",
              "      <td>2018</td>\n",
              "      <td>11</td>\n",
              "      <td>6</td>\n",
              "      <td>Online</td>\n",
              "      <td>0</td>\n",
              "      <td>0</td>\n",
              "      <td>0</td>\n",
              "      <td>106.68000</td>\n",
              "      <td>1</td>\n",
              "      <td>Not_Canceled</td>\n",
              "    </tr>\n",
              "    <tr>\n",
              "      <th>2</th>\n",
              "      <td>INN00003</td>\n",
              "      <td>1</td>\n",
              "      <td>0</td>\n",
              "      <td>2</td>\n",
              "      <td>1</td>\n",
              "      <td>Meal Plan 1</td>\n",
              "      <td>0</td>\n",
              "      <td>Room_Type 1</td>\n",
              "      <td>1</td>\n",
              "      <td>2018</td>\n",
              "      <td>2</td>\n",
              "      <td>28</td>\n",
              "      <td>Online</td>\n",
              "      <td>0</td>\n",
              "      <td>0</td>\n",
              "      <td>0</td>\n",
              "      <td>60.00000</td>\n",
              "      <td>0</td>\n",
              "      <td>Canceled</td>\n",
              "    </tr>\n",
              "    <tr>\n",
              "      <th>3</th>\n",
              "      <td>INN00004</td>\n",
              "      <td>2</td>\n",
              "      <td>0</td>\n",
              "      <td>0</td>\n",
              "      <td>2</td>\n",
              "      <td>Meal Plan 1</td>\n",
              "      <td>0</td>\n",
              "      <td>Room_Type 1</td>\n",
              "      <td>211</td>\n",
              "      <td>2018</td>\n",
              "      <td>5</td>\n",
              "      <td>20</td>\n",
              "      <td>Online</td>\n",
              "      <td>0</td>\n",
              "      <td>0</td>\n",
              "      <td>0</td>\n",
              "      <td>100.00000</td>\n",
              "      <td>0</td>\n",
              "      <td>Canceled</td>\n",
              "    </tr>\n",
              "    <tr>\n",
              "      <th>4</th>\n",
              "      <td>INN00005</td>\n",
              "      <td>2</td>\n",
              "      <td>0</td>\n",
              "      <td>1</td>\n",
              "      <td>1</td>\n",
              "      <td>Not Selected</td>\n",
              "      <td>0</td>\n",
              "      <td>Room_Type 1</td>\n",
              "      <td>48</td>\n",
              "      <td>2018</td>\n",
              "      <td>4</td>\n",
              "      <td>11</td>\n",
              "      <td>Online</td>\n",
              "      <td>0</td>\n",
              "      <td>0</td>\n",
              "      <td>0</td>\n",
              "      <td>94.50000</td>\n",
              "      <td>0</td>\n",
              "      <td>Canceled</td>\n",
              "    </tr>\n",
              "  </tbody>\n",
              "</table>\n",
              "</div>"
            ],
            "text/plain": [
              "  Booking_ID  no_of_adults  no_of_children  no_of_weekend_nights  no_of_week_nights type_of_meal_plan  required_car_parking_space room_type_reserved  lead_time  arrival_year  arrival_month  arrival_date market_segment_type  repeated_guest  no_of_previous_cancellations  no_of_previous_bookings_not_canceled  avg_price_per_room  no_of_special_requests booking_status\n",
              "0  INN00001   2             0               1                     2                  Meal Plan 1       0                           Room_Type 1        224        2017          10             2             Offline             0               0                             0                                    65.00000             0                       Not_Canceled \n",
              "1  INN00002   2             0               2                     3                  Not Selected      0                           Room_Type 1        5          2018          11             6             Online              0               0                             0                                    106.68000            1                       Not_Canceled \n",
              "2  INN00003   1             0               2                     1                  Meal Plan 1       0                           Room_Type 1        1          2018          2              28            Online              0               0                             0                                    60.00000             0                       Canceled     \n",
              "3  INN00004   2             0               0                     2                  Meal Plan 1       0                           Room_Type 1        211        2018          5              20            Online              0               0                             0                                    100.00000            0                       Canceled     \n",
              "4  INN00005   2             0               1                     1                  Not Selected      0                           Room_Type 1        48         2018          4              11            Online              0               0                             0                                    94.50000             0                       Canceled     "
            ]
          },
          "execution_count": 26,
          "metadata": {},
          "output_type": "execute_result"
        },
        {
          "data": {
            "application/javascript": "\n            setTimeout(function() {\n                var nbb_cell_id = 26;\n                var nbb_unformatted_code = \"data.head() ##  Complete the code to view top 5 rows of the data\";\n                var nbb_formatted_code = \"data.head()  ##  Complete the code to view top 5 rows of the data\";\n                var nbb_cells = Jupyter.notebook.get_cells();\n                for (var i = 0; i < nbb_cells.length; ++i) {\n                    if (nbb_cells[i].input_prompt_number == nbb_cell_id) {\n                        if (nbb_cells[i].get_text() == nbb_unformatted_code) {\n                             nbb_cells[i].set_text(nbb_formatted_code);\n                        }\n                        break;\n                    }\n                }\n            }, 500);\n            ",
            "text/plain": [
              "<IPython.core.display.Javascript object>"
            ]
          },
          "metadata": {},
          "output_type": "display_data"
        },
        {
          "data": {
            "application/javascript": "\n            setTimeout(function() {\n                var nbb_cell_id = 26;\n                var nbb_unformatted_code = \"data.head() ##  Complete the code to view top 5 rows of the data\";\n                var nbb_formatted_code = \"data.head()  ##  Complete the code to view top 5 rows of the data\";\n                var nbb_cells = Jupyter.notebook.get_cells();\n                for (var i = 0; i < nbb_cells.length; ++i) {\n                    if (nbb_cells[i].input_prompt_number == nbb_cell_id) {\n                        if (nbb_cells[i].get_text() == nbb_unformatted_code) {\n                             nbb_cells[i].set_text(nbb_formatted_code);\n                        }\n                        break;\n                    }\n                }\n            }, 500);\n            ",
            "text/plain": [
              "<IPython.core.display.Javascript object>"
            ]
          },
          "metadata": {},
          "output_type": "display_data"
        }
      ],
      "source": [
        "data.head() ##  Complete the code to view top 5 rows of the data"
      ]
    },
    {
      "cell_type": "code",
      "execution_count": 27,
      "id": "demonstrated-charger",
      "metadata": {
        "id": "demonstrated-charger"
      },
      "outputs": [
        {
          "data": {
            "text/html": [
              "<div>\n",
              "<style scoped>\n",
              "    .dataframe tbody tr th:only-of-type {\n",
              "        vertical-align: middle;\n",
              "    }\n",
              "\n",
              "    .dataframe tbody tr th {\n",
              "        vertical-align: top;\n",
              "    }\n",
              "\n",
              "    .dataframe thead th {\n",
              "        text-align: right;\n",
              "    }\n",
              "</style>\n",
              "<table border=\"1\" class=\"dataframe\">\n",
              "  <thead>\n",
              "    <tr style=\"text-align: right;\">\n",
              "      <th></th>\n",
              "      <th>Booking_ID</th>\n",
              "      <th>no_of_adults</th>\n",
              "      <th>no_of_children</th>\n",
              "      <th>no_of_weekend_nights</th>\n",
              "      <th>no_of_week_nights</th>\n",
              "      <th>type_of_meal_plan</th>\n",
              "      <th>required_car_parking_space</th>\n",
              "      <th>room_type_reserved</th>\n",
              "      <th>lead_time</th>\n",
              "      <th>arrival_year</th>\n",
              "      <th>arrival_month</th>\n",
              "      <th>arrival_date</th>\n",
              "      <th>market_segment_type</th>\n",
              "      <th>repeated_guest</th>\n",
              "      <th>no_of_previous_cancellations</th>\n",
              "      <th>no_of_previous_bookings_not_canceled</th>\n",
              "      <th>avg_price_per_room</th>\n",
              "      <th>no_of_special_requests</th>\n",
              "      <th>booking_status</th>\n",
              "    </tr>\n",
              "  </thead>\n",
              "  <tbody>\n",
              "    <tr>\n",
              "      <th>36270</th>\n",
              "      <td>INN36271</td>\n",
              "      <td>3</td>\n",
              "      <td>0</td>\n",
              "      <td>2</td>\n",
              "      <td>6</td>\n",
              "      <td>Meal Plan 1</td>\n",
              "      <td>0</td>\n",
              "      <td>Room_Type 4</td>\n",
              "      <td>85</td>\n",
              "      <td>2018</td>\n",
              "      <td>8</td>\n",
              "      <td>3</td>\n",
              "      <td>Online</td>\n",
              "      <td>0</td>\n",
              "      <td>0</td>\n",
              "      <td>0</td>\n",
              "      <td>167.80000</td>\n",
              "      <td>1</td>\n",
              "      <td>Not_Canceled</td>\n",
              "    </tr>\n",
              "    <tr>\n",
              "      <th>36271</th>\n",
              "      <td>INN36272</td>\n",
              "      <td>2</td>\n",
              "      <td>0</td>\n",
              "      <td>1</td>\n",
              "      <td>3</td>\n",
              "      <td>Meal Plan 1</td>\n",
              "      <td>0</td>\n",
              "      <td>Room_Type 1</td>\n",
              "      <td>228</td>\n",
              "      <td>2018</td>\n",
              "      <td>10</td>\n",
              "      <td>17</td>\n",
              "      <td>Online</td>\n",
              "      <td>0</td>\n",
              "      <td>0</td>\n",
              "      <td>0</td>\n",
              "      <td>90.95000</td>\n",
              "      <td>2</td>\n",
              "      <td>Canceled</td>\n",
              "    </tr>\n",
              "    <tr>\n",
              "      <th>36272</th>\n",
              "      <td>INN36273</td>\n",
              "      <td>2</td>\n",
              "      <td>0</td>\n",
              "      <td>2</td>\n",
              "      <td>6</td>\n",
              "      <td>Meal Plan 1</td>\n",
              "      <td>0</td>\n",
              "      <td>Room_Type 1</td>\n",
              "      <td>148</td>\n",
              "      <td>2018</td>\n",
              "      <td>7</td>\n",
              "      <td>1</td>\n",
              "      <td>Online</td>\n",
              "      <td>0</td>\n",
              "      <td>0</td>\n",
              "      <td>0</td>\n",
              "      <td>98.39000</td>\n",
              "      <td>2</td>\n",
              "      <td>Not_Canceled</td>\n",
              "    </tr>\n",
              "    <tr>\n",
              "      <th>36273</th>\n",
              "      <td>INN36274</td>\n",
              "      <td>2</td>\n",
              "      <td>0</td>\n",
              "      <td>0</td>\n",
              "      <td>3</td>\n",
              "      <td>Not Selected</td>\n",
              "      <td>0</td>\n",
              "      <td>Room_Type 1</td>\n",
              "      <td>63</td>\n",
              "      <td>2018</td>\n",
              "      <td>4</td>\n",
              "      <td>21</td>\n",
              "      <td>Online</td>\n",
              "      <td>0</td>\n",
              "      <td>0</td>\n",
              "      <td>0</td>\n",
              "      <td>94.50000</td>\n",
              "      <td>0</td>\n",
              "      <td>Canceled</td>\n",
              "    </tr>\n",
              "    <tr>\n",
              "      <th>36274</th>\n",
              "      <td>INN36275</td>\n",
              "      <td>2</td>\n",
              "      <td>0</td>\n",
              "      <td>1</td>\n",
              "      <td>2</td>\n",
              "      <td>Meal Plan 1</td>\n",
              "      <td>0</td>\n",
              "      <td>Room_Type 1</td>\n",
              "      <td>207</td>\n",
              "      <td>2018</td>\n",
              "      <td>12</td>\n",
              "      <td>30</td>\n",
              "      <td>Offline</td>\n",
              "      <td>0</td>\n",
              "      <td>0</td>\n",
              "      <td>0</td>\n",
              "      <td>161.67000</td>\n",
              "      <td>0</td>\n",
              "      <td>Not_Canceled</td>\n",
              "    </tr>\n",
              "  </tbody>\n",
              "</table>\n",
              "</div>"
            ],
            "text/plain": [
              "      Booking_ID  no_of_adults  no_of_children  no_of_weekend_nights  no_of_week_nights type_of_meal_plan  required_car_parking_space room_type_reserved  lead_time  arrival_year  arrival_month  arrival_date market_segment_type  repeated_guest  no_of_previous_cancellations  no_of_previous_bookings_not_canceled  avg_price_per_room  no_of_special_requests booking_status\n",
              "36270  INN36271   3             0               2                     6                  Meal Plan 1       0                           Room_Type 4        85         2018          8              3             Online              0               0                             0                                    167.80000            1                       Not_Canceled \n",
              "36271  INN36272   2             0               1                     3                  Meal Plan 1       0                           Room_Type 1        228        2018          10             17            Online              0               0                             0                                    90.95000             2                       Canceled     \n",
              "36272  INN36273   2             0               2                     6                  Meal Plan 1       0                           Room_Type 1        148        2018          7              1             Online              0               0                             0                                    98.39000             2                       Not_Canceled \n",
              "36273  INN36274   2             0               0                     3                  Not Selected      0                           Room_Type 1        63         2018          4              21            Online              0               0                             0                                    94.50000             0                       Canceled     \n",
              "36274  INN36275   2             0               1                     2                  Meal Plan 1       0                           Room_Type 1        207        2018          12             30            Offline             0               0                             0                                    161.67000            0                       Not_Canceled "
            ]
          },
          "execution_count": 27,
          "metadata": {},
          "output_type": "execute_result"
        },
        {
          "data": {
            "application/javascript": "\n            setTimeout(function() {\n                var nbb_cell_id = 27;\n                var nbb_unformatted_code = \"data.tail() ##  Complete the code to view last 5 rows of the data \";\n                var nbb_formatted_code = \"data.tail()  ##  Complete the code to view last 5 rows of the data\";\n                var nbb_cells = Jupyter.notebook.get_cells();\n                for (var i = 0; i < nbb_cells.length; ++i) {\n                    if (nbb_cells[i].input_prompt_number == nbb_cell_id) {\n                        if (nbb_cells[i].get_text() == nbb_unformatted_code) {\n                             nbb_cells[i].set_text(nbb_formatted_code);\n                        }\n                        break;\n                    }\n                }\n            }, 500);\n            ",
            "text/plain": [
              "<IPython.core.display.Javascript object>"
            ]
          },
          "metadata": {},
          "output_type": "display_data"
        },
        {
          "data": {
            "application/javascript": "\n            setTimeout(function() {\n                var nbb_cell_id = 27;\n                var nbb_unformatted_code = \"data.tail() ##  Complete the code to view last 5 rows of the data \";\n                var nbb_formatted_code = \"data.tail()  ##  Complete the code to view last 5 rows of the data\";\n                var nbb_cells = Jupyter.notebook.get_cells();\n                for (var i = 0; i < nbb_cells.length; ++i) {\n                    if (nbb_cells[i].input_prompt_number == nbb_cell_id) {\n                        if (nbb_cells[i].get_text() == nbb_unformatted_code) {\n                             nbb_cells[i].set_text(nbb_formatted_code);\n                        }\n                        break;\n                    }\n                }\n            }, 500);\n            ",
            "text/plain": [
              "<IPython.core.display.Javascript object>"
            ]
          },
          "metadata": {},
          "output_type": "display_data"
        }
      ],
      "source": [
        "data.tail() ##  Complete the code to view last 5 rows of the data "
      ]
    },
    {
      "cell_type": "markdown",
      "id": "prepared-clause",
      "metadata": {
        "id": "prepared-clause"
      },
      "source": [
        "### Understand the shape of the dataset"
      ]
    },
    {
      "cell_type": "code",
      "execution_count": 28,
      "id": "likely-scene",
      "metadata": {
        "id": "likely-scene"
      },
      "outputs": [
        {
          "data": {
            "text/plain": [
              "(36275, 19)"
            ]
          },
          "execution_count": 28,
          "metadata": {},
          "output_type": "execute_result"
        },
        {
          "data": {
            "application/javascript": "\n            setTimeout(function() {\n                var nbb_cell_id = 28;\n                var nbb_unformatted_code = \"data.shape ##  Complete the code to view dimensions of the data\";\n                var nbb_formatted_code = \"data.shape  ##  Complete the code to view dimensions of the data\";\n                var nbb_cells = Jupyter.notebook.get_cells();\n                for (var i = 0; i < nbb_cells.length; ++i) {\n                    if (nbb_cells[i].input_prompt_number == nbb_cell_id) {\n                        if (nbb_cells[i].get_text() == nbb_unformatted_code) {\n                             nbb_cells[i].set_text(nbb_formatted_code);\n                        }\n                        break;\n                    }\n                }\n            }, 500);\n            ",
            "text/plain": [
              "<IPython.core.display.Javascript object>"
            ]
          },
          "metadata": {},
          "output_type": "display_data"
        },
        {
          "data": {
            "application/javascript": "\n            setTimeout(function() {\n                var nbb_cell_id = 28;\n                var nbb_unformatted_code = \"data.shape ##  Complete the code to view dimensions of the data\";\n                var nbb_formatted_code = \"data.shape  ##  Complete the code to view dimensions of the data\";\n                var nbb_cells = Jupyter.notebook.get_cells();\n                for (var i = 0; i < nbb_cells.length; ++i) {\n                    if (nbb_cells[i].input_prompt_number == nbb_cell_id) {\n                        if (nbb_cells[i].get_text() == nbb_unformatted_code) {\n                             nbb_cells[i].set_text(nbb_formatted_code);\n                        }\n                        break;\n                    }\n                }\n            }, 500);\n            ",
            "text/plain": [
              "<IPython.core.display.Javascript object>"
            ]
          },
          "metadata": {},
          "output_type": "display_data"
        }
      ],
      "source": [
        "data.shape ##  Complete the code to view dimensions of the data"
      ]
    },
    {
      "attachments": {},
      "cell_type": "markdown",
      "id": "532e4209",
      "metadata": {},
      "source": [
        "##### <b><u>extra:</u></b>"
      ]
    },
    {
      "cell_type": "code",
      "execution_count": 29,
      "id": "e2b86663",
      "metadata": {},
      "outputs": [
        {
          "data": {
            "text/plain": [
              "<bound method NDFrame.describe of       Booking_ID  no_of_adults  no_of_children  no_of_weekend_nights  no_of_week_nights type_of_meal_plan  required_car_parking_space room_type_reserved  lead_time  arrival_year  arrival_month  arrival_date market_segment_type  repeated_guest  no_of_previous_cancellations  no_of_previous_bookings_not_canceled  avg_price_per_room  no_of_special_requests booking_status\n",
              "0      INN00001   2             0               1                     2                  Meal Plan 1       0                           Room_Type 1        224        2017          10             2             Offline             0               0                             0                                    65.00000             0                       Not_Canceled \n",
              "1      INN00002   2             0               2                     3                  Not Selected      0                           Room_Type 1        5          2018          11             6             Online              0               0                             0                                    106.68000            1                       Not_Canceled \n",
              "2      INN00003   1             0               2                     1                  Meal Plan 1       0                           Room_Type 1        1          2018          2              28            Online              0               0                             0                                    60.00000             0                       Canceled     \n",
              "3      INN00004   2             0               0                     2                  Meal Plan 1       0                           Room_Type 1        211        2018          5              20            Online              0               0                             0                                    100.00000            0                       Canceled     \n",
              "4      INN00005   2             0               1                     1                  Not Selected      0                           Room_Type 1        48         2018          4              11            Online              0               0                             0                                    94.50000             0                       Canceled     \n",
              "...         ...  ..            ..              ..                    ..                           ...     ..                                   ...        ..          ...         ..              ..               ...             ..              ..                            ..                                         ...            ..                            ...     \n",
              "36270  INN36271   3             0               2                     6                  Meal Plan 1       0                           Room_Type 4        85         2018          8              3             Online              0               0                             0                                    167.80000            1                       Not_Canceled \n",
              "36271  INN36272   2             0               1                     3                  Meal Plan 1       0                           Room_Type 1        228        2018          10             17            Online              0               0                             0                                    90.95000             2                       Canceled     \n",
              "36272  INN36273   2             0               2                     6                  Meal Plan 1       0                           Room_Type 1        148        2018          7              1             Online              0               0                             0                                    98.39000             2                       Not_Canceled \n",
              "36273  INN36274   2             0               0                     3                  Not Selected      0                           Room_Type 1        63         2018          4              21            Online              0               0                             0                                    94.50000             0                       Canceled     \n",
              "36274  INN36275   2             0               1                     2                  Meal Plan 1       0                           Room_Type 1        207        2018          12             30            Offline             0               0                             0                                    161.67000            0                       Not_Canceled \n",
              "\n",
              "[36275 rows x 19 columns]>"
            ]
          },
          "execution_count": 29,
          "metadata": {},
          "output_type": "execute_result"
        },
        {
          "data": {
            "application/javascript": "\n            setTimeout(function() {\n                var nbb_cell_id = 29;\n                var nbb_unformatted_code = \"data.describe\";\n                var nbb_formatted_code = \"data.describe\";\n                var nbb_cells = Jupyter.notebook.get_cells();\n                for (var i = 0; i < nbb_cells.length; ++i) {\n                    if (nbb_cells[i].input_prompt_number == nbb_cell_id) {\n                        if (nbb_cells[i].get_text() == nbb_unformatted_code) {\n                             nbb_cells[i].set_text(nbb_formatted_code);\n                        }\n                        break;\n                    }\n                }\n            }, 500);\n            ",
            "text/plain": [
              "<IPython.core.display.Javascript object>"
            ]
          },
          "metadata": {},
          "output_type": "display_data"
        },
        {
          "data": {
            "application/javascript": "\n            setTimeout(function() {\n                var nbb_cell_id = 29;\n                var nbb_unformatted_code = \"data.describe\";\n                var nbb_formatted_code = \"data.describe\";\n                var nbb_cells = Jupyter.notebook.get_cells();\n                for (var i = 0; i < nbb_cells.length; ++i) {\n                    if (nbb_cells[i].input_prompt_number == nbb_cell_id) {\n                        if (nbb_cells[i].get_text() == nbb_unformatted_code) {\n                             nbb_cells[i].set_text(nbb_formatted_code);\n                        }\n                        break;\n                    }\n                }\n            }, 500);\n            ",
            "text/plain": [
              "<IPython.core.display.Javascript object>"
            ]
          },
          "metadata": {},
          "output_type": "display_data"
        }
      ],
      "source": [
        "data.describe"
      ]
    },
    {
      "cell_type": "code",
      "execution_count": 30,
      "id": "00c2369a",
      "metadata": {},
      "outputs": [
        {
          "data": {
            "text/html": [
              "<div>\n",
              "<style scoped>\n",
              "    .dataframe tbody tr th:only-of-type {\n",
              "        vertical-align: middle;\n",
              "    }\n",
              "\n",
              "    .dataframe tbody tr th {\n",
              "        vertical-align: top;\n",
              "    }\n",
              "\n",
              "    .dataframe thead th {\n",
              "        text-align: right;\n",
              "    }\n",
              "</style>\n",
              "<table border=\"1\" class=\"dataframe\">\n",
              "  <thead>\n",
              "    <tr style=\"text-align: right;\">\n",
              "      <th></th>\n",
              "      <th>no_of_adults</th>\n",
              "      <th>no_of_children</th>\n",
              "      <th>no_of_weekend_nights</th>\n",
              "      <th>no_of_week_nights</th>\n",
              "      <th>required_car_parking_space</th>\n",
              "      <th>lead_time</th>\n",
              "      <th>arrival_year</th>\n",
              "      <th>arrival_month</th>\n",
              "      <th>arrival_date</th>\n",
              "      <th>repeated_guest</th>\n",
              "      <th>no_of_previous_cancellations</th>\n",
              "      <th>no_of_previous_bookings_not_canceled</th>\n",
              "      <th>avg_price_per_room</th>\n",
              "      <th>no_of_special_requests</th>\n",
              "    </tr>\n",
              "  </thead>\n",
              "  <tbody>\n",
              "    <tr>\n",
              "      <th>count</th>\n",
              "      <td>36275.00000</td>\n",
              "      <td>36275.00000</td>\n",
              "      <td>36275.00000</td>\n",
              "      <td>36275.00000</td>\n",
              "      <td>36275.00000</td>\n",
              "      <td>36275.00000</td>\n",
              "      <td>36275.00000</td>\n",
              "      <td>36275.00000</td>\n",
              "      <td>36275.00000</td>\n",
              "      <td>36275.00000</td>\n",
              "      <td>36275.00000</td>\n",
              "      <td>36275.00000</td>\n",
              "      <td>36275.00000</td>\n",
              "      <td>36275.00000</td>\n",
              "    </tr>\n",
              "    <tr>\n",
              "      <th>mean</th>\n",
              "      <td>1.84496</td>\n",
              "      <td>0.10528</td>\n",
              "      <td>0.81072</td>\n",
              "      <td>2.20430</td>\n",
              "      <td>0.03099</td>\n",
              "      <td>85.23256</td>\n",
              "      <td>2017.82043</td>\n",
              "      <td>7.42365</td>\n",
              "      <td>15.59700</td>\n",
              "      <td>0.02564</td>\n",
              "      <td>0.02335</td>\n",
              "      <td>0.15341</td>\n",
              "      <td>103.42354</td>\n",
              "      <td>0.61966</td>\n",
              "    </tr>\n",
              "    <tr>\n",
              "      <th>std</th>\n",
              "      <td>0.51871</td>\n",
              "      <td>0.40265</td>\n",
              "      <td>0.87064</td>\n",
              "      <td>1.41090</td>\n",
              "      <td>0.17328</td>\n",
              "      <td>85.93082</td>\n",
              "      <td>0.38384</td>\n",
              "      <td>3.06989</td>\n",
              "      <td>8.74045</td>\n",
              "      <td>0.15805</td>\n",
              "      <td>0.36833</td>\n",
              "      <td>1.75417</td>\n",
              "      <td>35.08942</td>\n",
              "      <td>0.78624</td>\n",
              "    </tr>\n",
              "    <tr>\n",
              "      <th>min</th>\n",
              "      <td>0.00000</td>\n",
              "      <td>0.00000</td>\n",
              "      <td>0.00000</td>\n",
              "      <td>0.00000</td>\n",
              "      <td>0.00000</td>\n",
              "      <td>0.00000</td>\n",
              "      <td>2017.00000</td>\n",
              "      <td>1.00000</td>\n",
              "      <td>1.00000</td>\n",
              "      <td>0.00000</td>\n",
              "      <td>0.00000</td>\n",
              "      <td>0.00000</td>\n",
              "      <td>0.00000</td>\n",
              "      <td>0.00000</td>\n",
              "    </tr>\n",
              "    <tr>\n",
              "      <th>25%</th>\n",
              "      <td>2.00000</td>\n",
              "      <td>0.00000</td>\n",
              "      <td>0.00000</td>\n",
              "      <td>1.00000</td>\n",
              "      <td>0.00000</td>\n",
              "      <td>17.00000</td>\n",
              "      <td>2018.00000</td>\n",
              "      <td>5.00000</td>\n",
              "      <td>8.00000</td>\n",
              "      <td>0.00000</td>\n",
              "      <td>0.00000</td>\n",
              "      <td>0.00000</td>\n",
              "      <td>80.30000</td>\n",
              "      <td>0.00000</td>\n",
              "    </tr>\n",
              "    <tr>\n",
              "      <th>50%</th>\n",
              "      <td>2.00000</td>\n",
              "      <td>0.00000</td>\n",
              "      <td>1.00000</td>\n",
              "      <td>2.00000</td>\n",
              "      <td>0.00000</td>\n",
              "      <td>57.00000</td>\n",
              "      <td>2018.00000</td>\n",
              "      <td>8.00000</td>\n",
              "      <td>16.00000</td>\n",
              "      <td>0.00000</td>\n",
              "      <td>0.00000</td>\n",
              "      <td>0.00000</td>\n",
              "      <td>99.45000</td>\n",
              "      <td>0.00000</td>\n",
              "    </tr>\n",
              "    <tr>\n",
              "      <th>75%</th>\n",
              "      <td>2.00000</td>\n",
              "      <td>0.00000</td>\n",
              "      <td>2.00000</td>\n",
              "      <td>3.00000</td>\n",
              "      <td>0.00000</td>\n",
              "      <td>126.00000</td>\n",
              "      <td>2018.00000</td>\n",
              "      <td>10.00000</td>\n",
              "      <td>23.00000</td>\n",
              "      <td>0.00000</td>\n",
              "      <td>0.00000</td>\n",
              "      <td>0.00000</td>\n",
              "      <td>120.00000</td>\n",
              "      <td>1.00000</td>\n",
              "    </tr>\n",
              "    <tr>\n",
              "      <th>max</th>\n",
              "      <td>4.00000</td>\n",
              "      <td>10.00000</td>\n",
              "      <td>7.00000</td>\n",
              "      <td>17.00000</td>\n",
              "      <td>1.00000</td>\n",
              "      <td>443.00000</td>\n",
              "      <td>2018.00000</td>\n",
              "      <td>12.00000</td>\n",
              "      <td>31.00000</td>\n",
              "      <td>1.00000</td>\n",
              "      <td>13.00000</td>\n",
              "      <td>58.00000</td>\n",
              "      <td>540.00000</td>\n",
              "      <td>5.00000</td>\n",
              "    </tr>\n",
              "  </tbody>\n",
              "</table>\n",
              "</div>"
            ],
            "text/plain": [
              "       no_of_adults  no_of_children  no_of_weekend_nights  no_of_week_nights  required_car_parking_space   lead_time  arrival_year  arrival_month  arrival_date  repeated_guest  no_of_previous_cancellations  no_of_previous_bookings_not_canceled  avg_price_per_room  no_of_special_requests\n",
              "count 36275.00000   36275.00000     36275.00000           36275.00000        36275.00000                 36275.00000 36275.00000   36275.00000    36275.00000   36275.00000     36275.00000                   36275.00000                           36275.00000         36275.00000            \n",
              "mean  1.84496       0.10528         0.81072               2.20430            0.03099                     85.23256    2017.82043    7.42365        15.59700      0.02564         0.02335                       0.15341                               103.42354           0.61966                \n",
              "std   0.51871       0.40265         0.87064               1.41090            0.17328                     85.93082    0.38384       3.06989        8.74045       0.15805         0.36833                       1.75417                               35.08942            0.78624                \n",
              "min   0.00000       0.00000         0.00000               0.00000            0.00000                     0.00000     2017.00000    1.00000        1.00000       0.00000         0.00000                       0.00000                               0.00000             0.00000                \n",
              "25%   2.00000       0.00000         0.00000               1.00000            0.00000                     17.00000    2018.00000    5.00000        8.00000       0.00000         0.00000                       0.00000                               80.30000            0.00000                \n",
              "50%   2.00000       0.00000         1.00000               2.00000            0.00000                     57.00000    2018.00000    8.00000        16.00000      0.00000         0.00000                       0.00000                               99.45000            0.00000                \n",
              "75%   2.00000       0.00000         2.00000               3.00000            0.00000                     126.00000   2018.00000    10.00000       23.00000      0.00000         0.00000                       0.00000                               120.00000           1.00000                \n",
              "max   4.00000       10.00000        7.00000               17.00000           1.00000                     443.00000   2018.00000    12.00000       31.00000      1.00000         13.00000                      58.00000                              540.00000           5.00000                "
            ]
          },
          "execution_count": 30,
          "metadata": {},
          "output_type": "execute_result"
        },
        {
          "data": {
            "application/javascript": "\n            setTimeout(function() {\n                var nbb_cell_id = 30;\n                var nbb_unformatted_code = \"data.describe()\";\n                var nbb_formatted_code = \"data.describe()\";\n                var nbb_cells = Jupyter.notebook.get_cells();\n                for (var i = 0; i < nbb_cells.length; ++i) {\n                    if (nbb_cells[i].input_prompt_number == nbb_cell_id) {\n                        if (nbb_cells[i].get_text() == nbb_unformatted_code) {\n                             nbb_cells[i].set_text(nbb_formatted_code);\n                        }\n                        break;\n                    }\n                }\n            }, 500);\n            ",
            "text/plain": [
              "<IPython.core.display.Javascript object>"
            ]
          },
          "metadata": {},
          "output_type": "display_data"
        },
        {
          "data": {
            "application/javascript": "\n            setTimeout(function() {\n                var nbb_cell_id = 30;\n                var nbb_unformatted_code = \"data.describe()\";\n                var nbb_formatted_code = \"data.describe()\";\n                var nbb_cells = Jupyter.notebook.get_cells();\n                for (var i = 0; i < nbb_cells.length; ++i) {\n                    if (nbb_cells[i].input_prompt_number == nbb_cell_id) {\n                        if (nbb_cells[i].get_text() == nbb_unformatted_code) {\n                             nbb_cells[i].set_text(nbb_formatted_code);\n                        }\n                        break;\n                    }\n                }\n            }, 500);\n            ",
            "text/plain": [
              "<IPython.core.display.Javascript object>"
            ]
          },
          "metadata": {},
          "output_type": "display_data"
        }
      ],
      "source": [
        "data.describe()"
      ]
    },
    {
      "cell_type": "code",
      "execution_count": 31,
      "id": "58ad672d",
      "metadata": {},
      "outputs": [
        {
          "data": {
            "text/html": [
              "<div>\n",
              "<style scoped>\n",
              "    .dataframe tbody tr th:only-of-type {\n",
              "        vertical-align: middle;\n",
              "    }\n",
              "\n",
              "    .dataframe tbody tr th {\n",
              "        vertical-align: top;\n",
              "    }\n",
              "\n",
              "    .dataframe thead th {\n",
              "        text-align: right;\n",
              "    }\n",
              "</style>\n",
              "<table border=\"1\" class=\"dataframe\">\n",
              "  <thead>\n",
              "    <tr style=\"text-align: right;\">\n",
              "      <th></th>\n",
              "      <th>count</th>\n",
              "      <th>mean</th>\n",
              "      <th>std</th>\n",
              "      <th>min</th>\n",
              "      <th>25%</th>\n",
              "      <th>50%</th>\n",
              "      <th>75%</th>\n",
              "      <th>max</th>\n",
              "    </tr>\n",
              "  </thead>\n",
              "  <tbody>\n",
              "    <tr>\n",
              "      <th>no_of_adults</th>\n",
              "      <td>36275.00000</td>\n",
              "      <td>1.84496</td>\n",
              "      <td>0.51871</td>\n",
              "      <td>0.00000</td>\n",
              "      <td>2.00000</td>\n",
              "      <td>2.00000</td>\n",
              "      <td>2.00000</td>\n",
              "      <td>4.00000</td>\n",
              "    </tr>\n",
              "    <tr>\n",
              "      <th>no_of_children</th>\n",
              "      <td>36275.00000</td>\n",
              "      <td>0.10528</td>\n",
              "      <td>0.40265</td>\n",
              "      <td>0.00000</td>\n",
              "      <td>0.00000</td>\n",
              "      <td>0.00000</td>\n",
              "      <td>0.00000</td>\n",
              "      <td>10.00000</td>\n",
              "    </tr>\n",
              "    <tr>\n",
              "      <th>no_of_weekend_nights</th>\n",
              "      <td>36275.00000</td>\n",
              "      <td>0.81072</td>\n",
              "      <td>0.87064</td>\n",
              "      <td>0.00000</td>\n",
              "      <td>0.00000</td>\n",
              "      <td>1.00000</td>\n",
              "      <td>2.00000</td>\n",
              "      <td>7.00000</td>\n",
              "    </tr>\n",
              "    <tr>\n",
              "      <th>no_of_week_nights</th>\n",
              "      <td>36275.00000</td>\n",
              "      <td>2.20430</td>\n",
              "      <td>1.41090</td>\n",
              "      <td>0.00000</td>\n",
              "      <td>1.00000</td>\n",
              "      <td>2.00000</td>\n",
              "      <td>3.00000</td>\n",
              "      <td>17.00000</td>\n",
              "    </tr>\n",
              "    <tr>\n",
              "      <th>required_car_parking_space</th>\n",
              "      <td>36275.00000</td>\n",
              "      <td>0.03099</td>\n",
              "      <td>0.17328</td>\n",
              "      <td>0.00000</td>\n",
              "      <td>0.00000</td>\n",
              "      <td>0.00000</td>\n",
              "      <td>0.00000</td>\n",
              "      <td>1.00000</td>\n",
              "    </tr>\n",
              "    <tr>\n",
              "      <th>lead_time</th>\n",
              "      <td>36275.00000</td>\n",
              "      <td>85.23256</td>\n",
              "      <td>85.93082</td>\n",
              "      <td>0.00000</td>\n",
              "      <td>17.00000</td>\n",
              "      <td>57.00000</td>\n",
              "      <td>126.00000</td>\n",
              "      <td>443.00000</td>\n",
              "    </tr>\n",
              "    <tr>\n",
              "      <th>arrival_year</th>\n",
              "      <td>36275.00000</td>\n",
              "      <td>2017.82043</td>\n",
              "      <td>0.38384</td>\n",
              "      <td>2017.00000</td>\n",
              "      <td>2018.00000</td>\n",
              "      <td>2018.00000</td>\n",
              "      <td>2018.00000</td>\n",
              "      <td>2018.00000</td>\n",
              "    </tr>\n",
              "    <tr>\n",
              "      <th>arrival_month</th>\n",
              "      <td>36275.00000</td>\n",
              "      <td>7.42365</td>\n",
              "      <td>3.06989</td>\n",
              "      <td>1.00000</td>\n",
              "      <td>5.00000</td>\n",
              "      <td>8.00000</td>\n",
              "      <td>10.00000</td>\n",
              "      <td>12.00000</td>\n",
              "    </tr>\n",
              "    <tr>\n",
              "      <th>arrival_date</th>\n",
              "      <td>36275.00000</td>\n",
              "      <td>15.59700</td>\n",
              "      <td>8.74045</td>\n",
              "      <td>1.00000</td>\n",
              "      <td>8.00000</td>\n",
              "      <td>16.00000</td>\n",
              "      <td>23.00000</td>\n",
              "      <td>31.00000</td>\n",
              "    </tr>\n",
              "    <tr>\n",
              "      <th>repeated_guest</th>\n",
              "      <td>36275.00000</td>\n",
              "      <td>0.02564</td>\n",
              "      <td>0.15805</td>\n",
              "      <td>0.00000</td>\n",
              "      <td>0.00000</td>\n",
              "      <td>0.00000</td>\n",
              "      <td>0.00000</td>\n",
              "      <td>1.00000</td>\n",
              "    </tr>\n",
              "    <tr>\n",
              "      <th>no_of_previous_cancellations</th>\n",
              "      <td>36275.00000</td>\n",
              "      <td>0.02335</td>\n",
              "      <td>0.36833</td>\n",
              "      <td>0.00000</td>\n",
              "      <td>0.00000</td>\n",
              "      <td>0.00000</td>\n",
              "      <td>0.00000</td>\n",
              "      <td>13.00000</td>\n",
              "    </tr>\n",
              "    <tr>\n",
              "      <th>no_of_previous_bookings_not_canceled</th>\n",
              "      <td>36275.00000</td>\n",
              "      <td>0.15341</td>\n",
              "      <td>1.75417</td>\n",
              "      <td>0.00000</td>\n",
              "      <td>0.00000</td>\n",
              "      <td>0.00000</td>\n",
              "      <td>0.00000</td>\n",
              "      <td>58.00000</td>\n",
              "    </tr>\n",
              "    <tr>\n",
              "      <th>avg_price_per_room</th>\n",
              "      <td>36275.00000</td>\n",
              "      <td>103.42354</td>\n",
              "      <td>35.08942</td>\n",
              "      <td>0.00000</td>\n",
              "      <td>80.30000</td>\n",
              "      <td>99.45000</td>\n",
              "      <td>120.00000</td>\n",
              "      <td>540.00000</td>\n",
              "    </tr>\n",
              "    <tr>\n",
              "      <th>no_of_special_requests</th>\n",
              "      <td>36275.00000</td>\n",
              "      <td>0.61966</td>\n",
              "      <td>0.78624</td>\n",
              "      <td>0.00000</td>\n",
              "      <td>0.00000</td>\n",
              "      <td>0.00000</td>\n",
              "      <td>1.00000</td>\n",
              "      <td>5.00000</td>\n",
              "    </tr>\n",
              "  </tbody>\n",
              "</table>\n",
              "</div>"
            ],
            "text/plain": [
              "                                           count       mean      std        min        25%        50%        75%        max\n",
              "no_of_adults                         36275.00000 1.84496    0.51871  0.00000    2.00000    2.00000    2.00000    4.00000   \n",
              "no_of_children                       36275.00000 0.10528    0.40265  0.00000    0.00000    0.00000    0.00000    10.00000  \n",
              "no_of_weekend_nights                 36275.00000 0.81072    0.87064  0.00000    0.00000    1.00000    2.00000    7.00000   \n",
              "no_of_week_nights                    36275.00000 2.20430    1.41090  0.00000    1.00000    2.00000    3.00000    17.00000  \n",
              "required_car_parking_space           36275.00000 0.03099    0.17328  0.00000    0.00000    0.00000    0.00000    1.00000   \n",
              "lead_time                            36275.00000 85.23256   85.93082 0.00000    17.00000   57.00000   126.00000  443.00000 \n",
              "arrival_year                         36275.00000 2017.82043 0.38384  2017.00000 2018.00000 2018.00000 2018.00000 2018.00000\n",
              "arrival_month                        36275.00000 7.42365    3.06989  1.00000    5.00000    8.00000    10.00000   12.00000  \n",
              "arrival_date                         36275.00000 15.59700   8.74045  1.00000    8.00000    16.00000   23.00000   31.00000  \n",
              "repeated_guest                       36275.00000 0.02564    0.15805  0.00000    0.00000    0.00000    0.00000    1.00000   \n",
              "no_of_previous_cancellations         36275.00000 0.02335    0.36833  0.00000    0.00000    0.00000    0.00000    13.00000  \n",
              "no_of_previous_bookings_not_canceled 36275.00000 0.15341    1.75417  0.00000    0.00000    0.00000    0.00000    58.00000  \n",
              "avg_price_per_room                   36275.00000 103.42354  35.08942 0.00000    80.30000   99.45000   120.00000  540.00000 \n",
              "no_of_special_requests               36275.00000 0.61966    0.78624  0.00000    0.00000    0.00000    1.00000    5.00000   "
            ]
          },
          "execution_count": 31,
          "metadata": {},
          "output_type": "execute_result"
        },
        {
          "data": {
            "application/javascript": "\n            setTimeout(function() {\n                var nbb_cell_id = 31;\n                var nbb_unformatted_code = \"data.describe().T\";\n                var nbb_formatted_code = \"data.describe().T\";\n                var nbb_cells = Jupyter.notebook.get_cells();\n                for (var i = 0; i < nbb_cells.length; ++i) {\n                    if (nbb_cells[i].input_prompt_number == nbb_cell_id) {\n                        if (nbb_cells[i].get_text() == nbb_unformatted_code) {\n                             nbb_cells[i].set_text(nbb_formatted_code);\n                        }\n                        break;\n                    }\n                }\n            }, 500);\n            ",
            "text/plain": [
              "<IPython.core.display.Javascript object>"
            ]
          },
          "metadata": {},
          "output_type": "display_data"
        },
        {
          "data": {
            "application/javascript": "\n            setTimeout(function() {\n                var nbb_cell_id = 31;\n                var nbb_unformatted_code = \"data.describe().T\";\n                var nbb_formatted_code = \"data.describe().T\";\n                var nbb_cells = Jupyter.notebook.get_cells();\n                for (var i = 0; i < nbb_cells.length; ++i) {\n                    if (nbb_cells[i].input_prompt_number == nbb_cell_id) {\n                        if (nbb_cells[i].get_text() == nbb_unformatted_code) {\n                             nbb_cells[i].set_text(nbb_formatted_code);\n                        }\n                        break;\n                    }\n                }\n            }, 500);\n            ",
            "text/plain": [
              "<IPython.core.display.Javascript object>"
            ]
          },
          "metadata": {},
          "output_type": "display_data"
        }
      ],
      "source": [
        "data.describe().T"
      ]
    },
    {
      "cell_type": "code",
      "execution_count": 33,
      "id": "12a73a90",
      "metadata": {},
      "outputs": [
        {
          "name": "stdout",
          "output_type": "stream",
          "text": [
            "As the xlwt package is no longer maintained, the xlwt engine will be removed in a future version of pandas. This is the only engine in pandas that supports writing in the xls format. Install openpyxl and write to an xlsx file instead.\n",
            "\n",
            ": boolean\n",
            "    use_inf_as_null had been deprecated and will be removed in a future\n",
            "    version. Use `use_inf_as_na` instead.\n",
            "\n"
          ]
        },
        {
          "data": {
            "application/javascript": "\n            setTimeout(function() {\n                var nbb_cell_id = 33;\n                var nbb_unformatted_code = \"pd.reset_option('all')\";\n                var nbb_formatted_code = \"pd.reset_option(\\\"all\\\")\";\n                var nbb_cells = Jupyter.notebook.get_cells();\n                for (var i = 0; i < nbb_cells.length; ++i) {\n                    if (nbb_cells[i].input_prompt_number == nbb_cell_id) {\n                        if (nbb_cells[i].get_text() == nbb_unformatted_code) {\n                             nbb_cells[i].set_text(nbb_formatted_code);\n                        }\n                        break;\n                    }\n                }\n            }, 500);\n            ",
            "text/plain": [
              "<IPython.core.display.Javascript object>"
            ]
          },
          "metadata": {},
          "output_type": "display_data"
        },
        {
          "data": {
            "application/javascript": "\n            setTimeout(function() {\n                var nbb_cell_id = 33;\n                var nbb_unformatted_code = \"pd.reset_option('all')\";\n                var nbb_formatted_code = \"pd.reset_option(\\\"all\\\")\";\n                var nbb_cells = Jupyter.notebook.get_cells();\n                for (var i = 0; i < nbb_cells.length; ++i) {\n                    if (nbb_cells[i].input_prompt_number == nbb_cell_id) {\n                        if (nbb_cells[i].get_text() == nbb_unformatted_code) {\n                             nbb_cells[i].set_text(nbb_formatted_code);\n                        }\n                        break;\n                    }\n                }\n            }, 500);\n            ",
            "text/plain": [
              "<IPython.core.display.Javascript object>"
            ]
          },
          "metadata": {},
          "output_type": "display_data"
        }
      ],
      "source": [
        "# https://stackoverflow.com/questions/26246864/restoring-the-default-display-context-in-pandas\n",
        "\n",
        "pd.reset_option('all')"
      ]
    },
    {
      "cell_type": "code",
      "execution_count": 34,
      "id": "81468de7",
      "metadata": {},
      "outputs": [
        {
          "data": {
            "text/html": [
              "<div>\n",
              "<style scoped>\n",
              "    .dataframe tbody tr th:only-of-type {\n",
              "        vertical-align: middle;\n",
              "    }\n",
              "\n",
              "    .dataframe tbody tr th {\n",
              "        vertical-align: top;\n",
              "    }\n",
              "\n",
              "    .dataframe thead th {\n",
              "        text-align: right;\n",
              "    }\n",
              "</style>\n",
              "<table border=\"1\" class=\"dataframe\">\n",
              "  <thead>\n",
              "    <tr style=\"text-align: right;\">\n",
              "      <th></th>\n",
              "      <th>count</th>\n",
              "      <th>mean</th>\n",
              "      <th>std</th>\n",
              "      <th>min</th>\n",
              "      <th>25%</th>\n",
              "      <th>50%</th>\n",
              "      <th>75%</th>\n",
              "      <th>max</th>\n",
              "    </tr>\n",
              "  </thead>\n",
              "  <tbody>\n",
              "    <tr>\n",
              "      <th>no_of_adults</th>\n",
              "      <td>36275.0</td>\n",
              "      <td>1.844962</td>\n",
              "      <td>0.518715</td>\n",
              "      <td>0.0</td>\n",
              "      <td>2.0</td>\n",
              "      <td>2.00</td>\n",
              "      <td>2.0</td>\n",
              "      <td>4.0</td>\n",
              "    </tr>\n",
              "    <tr>\n",
              "      <th>no_of_children</th>\n",
              "      <td>36275.0</td>\n",
              "      <td>0.105279</td>\n",
              "      <td>0.402648</td>\n",
              "      <td>0.0</td>\n",
              "      <td>0.0</td>\n",
              "      <td>0.00</td>\n",
              "      <td>0.0</td>\n",
              "      <td>10.0</td>\n",
              "    </tr>\n",
              "    <tr>\n",
              "      <th>no_of_weekend_nights</th>\n",
              "      <td>36275.0</td>\n",
              "      <td>0.810724</td>\n",
              "      <td>0.870644</td>\n",
              "      <td>0.0</td>\n",
              "      <td>0.0</td>\n",
              "      <td>1.00</td>\n",
              "      <td>2.0</td>\n",
              "      <td>7.0</td>\n",
              "    </tr>\n",
              "    <tr>\n",
              "      <th>no_of_week_nights</th>\n",
              "      <td>36275.0</td>\n",
              "      <td>2.204300</td>\n",
              "      <td>1.410905</td>\n",
              "      <td>0.0</td>\n",
              "      <td>1.0</td>\n",
              "      <td>2.00</td>\n",
              "      <td>3.0</td>\n",
              "      <td>17.0</td>\n",
              "    </tr>\n",
              "    <tr>\n",
              "      <th>required_car_parking_space</th>\n",
              "      <td>36275.0</td>\n",
              "      <td>0.030986</td>\n",
              "      <td>0.173281</td>\n",
              "      <td>0.0</td>\n",
              "      <td>0.0</td>\n",
              "      <td>0.00</td>\n",
              "      <td>0.0</td>\n",
              "      <td>1.0</td>\n",
              "    </tr>\n",
              "    <tr>\n",
              "      <th>lead_time</th>\n",
              "      <td>36275.0</td>\n",
              "      <td>85.232557</td>\n",
              "      <td>85.930817</td>\n",
              "      <td>0.0</td>\n",
              "      <td>17.0</td>\n",
              "      <td>57.00</td>\n",
              "      <td>126.0</td>\n",
              "      <td>443.0</td>\n",
              "    </tr>\n",
              "    <tr>\n",
              "      <th>arrival_year</th>\n",
              "      <td>36275.0</td>\n",
              "      <td>2017.820427</td>\n",
              "      <td>0.383836</td>\n",
              "      <td>2017.0</td>\n",
              "      <td>2018.0</td>\n",
              "      <td>2018.00</td>\n",
              "      <td>2018.0</td>\n",
              "      <td>2018.0</td>\n",
              "    </tr>\n",
              "    <tr>\n",
              "      <th>arrival_month</th>\n",
              "      <td>36275.0</td>\n",
              "      <td>7.423653</td>\n",
              "      <td>3.069894</td>\n",
              "      <td>1.0</td>\n",
              "      <td>5.0</td>\n",
              "      <td>8.00</td>\n",
              "      <td>10.0</td>\n",
              "      <td>12.0</td>\n",
              "    </tr>\n",
              "    <tr>\n",
              "      <th>arrival_date</th>\n",
              "      <td>36275.0</td>\n",
              "      <td>15.596995</td>\n",
              "      <td>8.740447</td>\n",
              "      <td>1.0</td>\n",
              "      <td>8.0</td>\n",
              "      <td>16.00</td>\n",
              "      <td>23.0</td>\n",
              "      <td>31.0</td>\n",
              "    </tr>\n",
              "    <tr>\n",
              "      <th>repeated_guest</th>\n",
              "      <td>36275.0</td>\n",
              "      <td>0.025637</td>\n",
              "      <td>0.158053</td>\n",
              "      <td>0.0</td>\n",
              "      <td>0.0</td>\n",
              "      <td>0.00</td>\n",
              "      <td>0.0</td>\n",
              "      <td>1.0</td>\n",
              "    </tr>\n",
              "    <tr>\n",
              "      <th>no_of_previous_cancellations</th>\n",
              "      <td>36275.0</td>\n",
              "      <td>0.023349</td>\n",
              "      <td>0.368331</td>\n",
              "      <td>0.0</td>\n",
              "      <td>0.0</td>\n",
              "      <td>0.00</td>\n",
              "      <td>0.0</td>\n",
              "      <td>13.0</td>\n",
              "    </tr>\n",
              "    <tr>\n",
              "      <th>no_of_previous_bookings_not_canceled</th>\n",
              "      <td>36275.0</td>\n",
              "      <td>0.153411</td>\n",
              "      <td>1.754171</td>\n",
              "      <td>0.0</td>\n",
              "      <td>0.0</td>\n",
              "      <td>0.00</td>\n",
              "      <td>0.0</td>\n",
              "      <td>58.0</td>\n",
              "    </tr>\n",
              "    <tr>\n",
              "      <th>avg_price_per_room</th>\n",
              "      <td>36275.0</td>\n",
              "      <td>103.423539</td>\n",
              "      <td>35.089424</td>\n",
              "      <td>0.0</td>\n",
              "      <td>80.3</td>\n",
              "      <td>99.45</td>\n",
              "      <td>120.0</td>\n",
              "      <td>540.0</td>\n",
              "    </tr>\n",
              "    <tr>\n",
              "      <th>no_of_special_requests</th>\n",
              "      <td>36275.0</td>\n",
              "      <td>0.619655</td>\n",
              "      <td>0.786236</td>\n",
              "      <td>0.0</td>\n",
              "      <td>0.0</td>\n",
              "      <td>0.00</td>\n",
              "      <td>1.0</td>\n",
              "      <td>5.0</td>\n",
              "    </tr>\n",
              "  </tbody>\n",
              "</table>\n",
              "</div>"
            ],
            "text/plain": [
              "                                        count         mean        std     min  \\\n",
              "no_of_adults                          36275.0     1.844962   0.518715     0.0   \n",
              "no_of_children                        36275.0     0.105279   0.402648     0.0   \n",
              "no_of_weekend_nights                  36275.0     0.810724   0.870644     0.0   \n",
              "no_of_week_nights                     36275.0     2.204300   1.410905     0.0   \n",
              "required_car_parking_space            36275.0     0.030986   0.173281     0.0   \n",
              "lead_time                             36275.0    85.232557  85.930817     0.0   \n",
              "arrival_year                          36275.0  2017.820427   0.383836  2017.0   \n",
              "arrival_month                         36275.0     7.423653   3.069894     1.0   \n",
              "arrival_date                          36275.0    15.596995   8.740447     1.0   \n",
              "repeated_guest                        36275.0     0.025637   0.158053     0.0   \n",
              "no_of_previous_cancellations          36275.0     0.023349   0.368331     0.0   \n",
              "no_of_previous_bookings_not_canceled  36275.0     0.153411   1.754171     0.0   \n",
              "avg_price_per_room                    36275.0   103.423539  35.089424     0.0   \n",
              "no_of_special_requests                36275.0     0.619655   0.786236     0.0   \n",
              "\n",
              "                                         25%      50%     75%     max  \n",
              "no_of_adults                             2.0     2.00     2.0     4.0  \n",
              "no_of_children                           0.0     0.00     0.0    10.0  \n",
              "no_of_weekend_nights                     0.0     1.00     2.0     7.0  \n",
              "no_of_week_nights                        1.0     2.00     3.0    17.0  \n",
              "required_car_parking_space               0.0     0.00     0.0     1.0  \n",
              "lead_time                               17.0    57.00   126.0   443.0  \n",
              "arrival_year                          2018.0  2018.00  2018.0  2018.0  \n",
              "arrival_month                            5.0     8.00    10.0    12.0  \n",
              "arrival_date                             8.0    16.00    23.0    31.0  \n",
              "repeated_guest                           0.0     0.00     0.0     1.0  \n",
              "no_of_previous_cancellations             0.0     0.00     0.0    13.0  \n",
              "no_of_previous_bookings_not_canceled     0.0     0.00     0.0    58.0  \n",
              "avg_price_per_room                      80.3    99.45   120.0   540.0  \n",
              "no_of_special_requests                   0.0     0.00     1.0     5.0  "
            ]
          },
          "execution_count": 34,
          "metadata": {},
          "output_type": "execute_result"
        },
        {
          "data": {
            "application/javascript": "\n            setTimeout(function() {\n                var nbb_cell_id = 34;\n                var nbb_unformatted_code = \"data.describe().T\";\n                var nbb_formatted_code = \"data.describe().T\";\n                var nbb_cells = Jupyter.notebook.get_cells();\n                for (var i = 0; i < nbb_cells.length; ++i) {\n                    if (nbb_cells[i].input_prompt_number == nbb_cell_id) {\n                        if (nbb_cells[i].get_text() == nbb_unformatted_code) {\n                             nbb_cells[i].set_text(nbb_formatted_code);\n                        }\n                        break;\n                    }\n                }\n            }, 500);\n            ",
            "text/plain": [
              "<IPython.core.display.Javascript object>"
            ]
          },
          "metadata": {},
          "output_type": "display_data"
        },
        {
          "data": {
            "application/javascript": "\n            setTimeout(function() {\n                var nbb_cell_id = 34;\n                var nbb_unformatted_code = \"data.describe().T\";\n                var nbb_formatted_code = \"data.describe().T\";\n                var nbb_cells = Jupyter.notebook.get_cells();\n                for (var i = 0; i < nbb_cells.length; ++i) {\n                    if (nbb_cells[i].input_prompt_number == nbb_cell_id) {\n                        if (nbb_cells[i].get_text() == nbb_unformatted_code) {\n                             nbb_cells[i].set_text(nbb_formatted_code);\n                        }\n                        break;\n                    }\n                }\n            }, 500);\n            ",
            "text/plain": [
              "<IPython.core.display.Javascript object>"
            ]
          },
          "metadata": {},
          "output_type": "display_data"
        }
      ],
      "source": [
        "data.describe().T"
      ]
    },
    {
      "cell_type": "code",
      "execution_count": 35,
      "id": "b4c627ee",
      "metadata": {},
      "outputs": [
        {
          "data": {
            "application/javascript": "\n            setTimeout(function() {\n                var nbb_cell_id = 35;\n                var nbb_unformatted_code = \"pd.set_option('display.max_columns', None)\";\n                var nbb_formatted_code = \"pd.set_option(\\\"display.max_columns\\\", None)\";\n                var nbb_cells = Jupyter.notebook.get_cells();\n                for (var i = 0; i < nbb_cells.length; ++i) {\n                    if (nbb_cells[i].input_prompt_number == nbb_cell_id) {\n                        if (nbb_cells[i].get_text() == nbb_unformatted_code) {\n                             nbb_cells[i].set_text(nbb_formatted_code);\n                        }\n                        break;\n                    }\n                }\n            }, 500);\n            ",
            "text/plain": [
              "<IPython.core.display.Javascript object>"
            ]
          },
          "metadata": {},
          "output_type": "display_data"
        },
        {
          "data": {
            "application/javascript": "\n            setTimeout(function() {\n                var nbb_cell_id = 35;\n                var nbb_unformatted_code = \"pd.set_option('display.max_columns', None)\";\n                var nbb_formatted_code = \"pd.set_option(\\\"display.max_columns\\\", None)\";\n                var nbb_cells = Jupyter.notebook.get_cells();\n                for (var i = 0; i < nbb_cells.length; ++i) {\n                    if (nbb_cells[i].input_prompt_number == nbb_cell_id) {\n                        if (nbb_cells[i].get_text() == nbb_unformatted_code) {\n                             nbb_cells[i].set_text(nbb_formatted_code);\n                        }\n                        break;\n                    }\n                }\n            }, 500);\n            ",
            "text/plain": [
              "<IPython.core.display.Javascript object>"
            ]
          },
          "metadata": {},
          "output_type": "display_data"
        }
      ],
      "source": [
        "pd.set_option('display.max_columns', None)\n"
      ]
    },
    {
      "cell_type": "code",
      "execution_count": 36,
      "id": "358eab43",
      "metadata": {},
      "outputs": [
        {
          "data": {
            "text/html": [
              "<div>\n",
              "<style scoped>\n",
              "    .dataframe tbody tr th:only-of-type {\n",
              "        vertical-align: middle;\n",
              "    }\n",
              "\n",
              "    .dataframe tbody tr th {\n",
              "        vertical-align: top;\n",
              "    }\n",
              "\n",
              "    .dataframe thead th {\n",
              "        text-align: right;\n",
              "    }\n",
              "</style>\n",
              "<table border=\"1\" class=\"dataframe\">\n",
              "  <thead>\n",
              "    <tr style=\"text-align: right;\">\n",
              "      <th></th>\n",
              "      <th>count</th>\n",
              "      <th>mean</th>\n",
              "      <th>std</th>\n",
              "      <th>min</th>\n",
              "      <th>25%</th>\n",
              "      <th>50%</th>\n",
              "      <th>75%</th>\n",
              "      <th>max</th>\n",
              "    </tr>\n",
              "  </thead>\n",
              "  <tbody>\n",
              "    <tr>\n",
              "      <th>no_of_adults</th>\n",
              "      <td>36275.0</td>\n",
              "      <td>1.844962</td>\n",
              "      <td>0.518715</td>\n",
              "      <td>0.0</td>\n",
              "      <td>2.0</td>\n",
              "      <td>2.00</td>\n",
              "      <td>2.0</td>\n",
              "      <td>4.0</td>\n",
              "    </tr>\n",
              "    <tr>\n",
              "      <th>no_of_children</th>\n",
              "      <td>36275.0</td>\n",
              "      <td>0.105279</td>\n",
              "      <td>0.402648</td>\n",
              "      <td>0.0</td>\n",
              "      <td>0.0</td>\n",
              "      <td>0.00</td>\n",
              "      <td>0.0</td>\n",
              "      <td>10.0</td>\n",
              "    </tr>\n",
              "    <tr>\n",
              "      <th>no_of_weekend_nights</th>\n",
              "      <td>36275.0</td>\n",
              "      <td>0.810724</td>\n",
              "      <td>0.870644</td>\n",
              "      <td>0.0</td>\n",
              "      <td>0.0</td>\n",
              "      <td>1.00</td>\n",
              "      <td>2.0</td>\n",
              "      <td>7.0</td>\n",
              "    </tr>\n",
              "    <tr>\n",
              "      <th>no_of_week_nights</th>\n",
              "      <td>36275.0</td>\n",
              "      <td>2.204300</td>\n",
              "      <td>1.410905</td>\n",
              "      <td>0.0</td>\n",
              "      <td>1.0</td>\n",
              "      <td>2.00</td>\n",
              "      <td>3.0</td>\n",
              "      <td>17.0</td>\n",
              "    </tr>\n",
              "    <tr>\n",
              "      <th>required_car_parking_space</th>\n",
              "      <td>36275.0</td>\n",
              "      <td>0.030986</td>\n",
              "      <td>0.173281</td>\n",
              "      <td>0.0</td>\n",
              "      <td>0.0</td>\n",
              "      <td>0.00</td>\n",
              "      <td>0.0</td>\n",
              "      <td>1.0</td>\n",
              "    </tr>\n",
              "    <tr>\n",
              "      <th>lead_time</th>\n",
              "      <td>36275.0</td>\n",
              "      <td>85.232557</td>\n",
              "      <td>85.930817</td>\n",
              "      <td>0.0</td>\n",
              "      <td>17.0</td>\n",
              "      <td>57.00</td>\n",
              "      <td>126.0</td>\n",
              "      <td>443.0</td>\n",
              "    </tr>\n",
              "    <tr>\n",
              "      <th>arrival_year</th>\n",
              "      <td>36275.0</td>\n",
              "      <td>2017.820427</td>\n",
              "      <td>0.383836</td>\n",
              "      <td>2017.0</td>\n",
              "      <td>2018.0</td>\n",
              "      <td>2018.00</td>\n",
              "      <td>2018.0</td>\n",
              "      <td>2018.0</td>\n",
              "    </tr>\n",
              "    <tr>\n",
              "      <th>arrival_month</th>\n",
              "      <td>36275.0</td>\n",
              "      <td>7.423653</td>\n",
              "      <td>3.069894</td>\n",
              "      <td>1.0</td>\n",
              "      <td>5.0</td>\n",
              "      <td>8.00</td>\n",
              "      <td>10.0</td>\n",
              "      <td>12.0</td>\n",
              "    </tr>\n",
              "    <tr>\n",
              "      <th>arrival_date</th>\n",
              "      <td>36275.0</td>\n",
              "      <td>15.596995</td>\n",
              "      <td>8.740447</td>\n",
              "      <td>1.0</td>\n",
              "      <td>8.0</td>\n",
              "      <td>16.00</td>\n",
              "      <td>23.0</td>\n",
              "      <td>31.0</td>\n",
              "    </tr>\n",
              "    <tr>\n",
              "      <th>repeated_guest</th>\n",
              "      <td>36275.0</td>\n",
              "      <td>0.025637</td>\n",
              "      <td>0.158053</td>\n",
              "      <td>0.0</td>\n",
              "      <td>0.0</td>\n",
              "      <td>0.00</td>\n",
              "      <td>0.0</td>\n",
              "      <td>1.0</td>\n",
              "    </tr>\n",
              "    <tr>\n",
              "      <th>no_of_previous_cancellations</th>\n",
              "      <td>36275.0</td>\n",
              "      <td>0.023349</td>\n",
              "      <td>0.368331</td>\n",
              "      <td>0.0</td>\n",
              "      <td>0.0</td>\n",
              "      <td>0.00</td>\n",
              "      <td>0.0</td>\n",
              "      <td>13.0</td>\n",
              "    </tr>\n",
              "    <tr>\n",
              "      <th>no_of_previous_bookings_not_canceled</th>\n",
              "      <td>36275.0</td>\n",
              "      <td>0.153411</td>\n",
              "      <td>1.754171</td>\n",
              "      <td>0.0</td>\n",
              "      <td>0.0</td>\n",
              "      <td>0.00</td>\n",
              "      <td>0.0</td>\n",
              "      <td>58.0</td>\n",
              "    </tr>\n",
              "    <tr>\n",
              "      <th>avg_price_per_room</th>\n",
              "      <td>36275.0</td>\n",
              "      <td>103.423539</td>\n",
              "      <td>35.089424</td>\n",
              "      <td>0.0</td>\n",
              "      <td>80.3</td>\n",
              "      <td>99.45</td>\n",
              "      <td>120.0</td>\n",
              "      <td>540.0</td>\n",
              "    </tr>\n",
              "    <tr>\n",
              "      <th>no_of_special_requests</th>\n",
              "      <td>36275.0</td>\n",
              "      <td>0.619655</td>\n",
              "      <td>0.786236</td>\n",
              "      <td>0.0</td>\n",
              "      <td>0.0</td>\n",
              "      <td>0.00</td>\n",
              "      <td>1.0</td>\n",
              "      <td>5.0</td>\n",
              "    </tr>\n",
              "  </tbody>\n",
              "</table>\n",
              "</div>"
            ],
            "text/plain": [
              "                                        count         mean        std     min  \\\n",
              "no_of_adults                          36275.0     1.844962   0.518715     0.0   \n",
              "no_of_children                        36275.0     0.105279   0.402648     0.0   \n",
              "no_of_weekend_nights                  36275.0     0.810724   0.870644     0.0   \n",
              "no_of_week_nights                     36275.0     2.204300   1.410905     0.0   \n",
              "required_car_parking_space            36275.0     0.030986   0.173281     0.0   \n",
              "lead_time                             36275.0    85.232557  85.930817     0.0   \n",
              "arrival_year                          36275.0  2017.820427   0.383836  2017.0   \n",
              "arrival_month                         36275.0     7.423653   3.069894     1.0   \n",
              "arrival_date                          36275.0    15.596995   8.740447     1.0   \n",
              "repeated_guest                        36275.0     0.025637   0.158053     0.0   \n",
              "no_of_previous_cancellations          36275.0     0.023349   0.368331     0.0   \n",
              "no_of_previous_bookings_not_canceled  36275.0     0.153411   1.754171     0.0   \n",
              "avg_price_per_room                    36275.0   103.423539  35.089424     0.0   \n",
              "no_of_special_requests                36275.0     0.619655   0.786236     0.0   \n",
              "\n",
              "                                         25%      50%     75%     max  \n",
              "no_of_adults                             2.0     2.00     2.0     4.0  \n",
              "no_of_children                           0.0     0.00     0.0    10.0  \n",
              "no_of_weekend_nights                     0.0     1.00     2.0     7.0  \n",
              "no_of_week_nights                        1.0     2.00     3.0    17.0  \n",
              "required_car_parking_space               0.0     0.00     0.0     1.0  \n",
              "lead_time                               17.0    57.00   126.0   443.0  \n",
              "arrival_year                          2018.0  2018.00  2018.0  2018.0  \n",
              "arrival_month                            5.0     8.00    10.0    12.0  \n",
              "arrival_date                             8.0    16.00    23.0    31.0  \n",
              "repeated_guest                           0.0     0.00     0.0     1.0  \n",
              "no_of_previous_cancellations             0.0     0.00     0.0    13.0  \n",
              "no_of_previous_bookings_not_canceled     0.0     0.00     0.0    58.0  \n",
              "avg_price_per_room                      80.3    99.45   120.0   540.0  \n",
              "no_of_special_requests                   0.0     0.00     1.0     5.0  "
            ]
          },
          "execution_count": 36,
          "metadata": {},
          "output_type": "execute_result"
        },
        {
          "data": {
            "application/javascript": "\n            setTimeout(function() {\n                var nbb_cell_id = 36;\n                var nbb_unformatted_code = \"data.describe().T\";\n                var nbb_formatted_code = \"data.describe().T\";\n                var nbb_cells = Jupyter.notebook.get_cells();\n                for (var i = 0; i < nbb_cells.length; ++i) {\n                    if (nbb_cells[i].input_prompt_number == nbb_cell_id) {\n                        if (nbb_cells[i].get_text() == nbb_unformatted_code) {\n                             nbb_cells[i].set_text(nbb_formatted_code);\n                        }\n                        break;\n                    }\n                }\n            }, 500);\n            ",
            "text/plain": [
              "<IPython.core.display.Javascript object>"
            ]
          },
          "metadata": {},
          "output_type": "display_data"
        },
        {
          "data": {
            "application/javascript": "\n            setTimeout(function() {\n                var nbb_cell_id = 36;\n                var nbb_unformatted_code = \"data.describe().T\";\n                var nbb_formatted_code = \"data.describe().T\";\n                var nbb_cells = Jupyter.notebook.get_cells();\n                for (var i = 0; i < nbb_cells.length; ++i) {\n                    if (nbb_cells[i].input_prompt_number == nbb_cell_id) {\n                        if (nbb_cells[i].get_text() == nbb_unformatted_code) {\n                             nbb_cells[i].set_text(nbb_formatted_code);\n                        }\n                        break;\n                    }\n                }\n            }, 500);\n            ",
            "text/plain": [
              "<IPython.core.display.Javascript object>"
            ]
          },
          "metadata": {},
          "output_type": "display_data"
        }
      ],
      "source": [
        "data.describe().T"
      ]
    },
    {
      "attachments": {},
      "cell_type": "markdown",
      "id": "e15ef150",
      "metadata": {},
      "source": [
        "##### Refine output format:"
      ]
    },
    {
      "cell_type": "code",
      "execution_count": 37,
      "id": "17d4fbcb",
      "metadata": {},
      "outputs": [
        {
          "data": {
            "application/javascript": "\n            setTimeout(function() {\n                var nbb_cell_id = 37;\n                var nbb_unformatted_code = \"pd.set_option('display.max_columns', None)\\npd.set_option('display.expand_frame_repr', False)\\n# pd.set_option('max_colwidth', -1)\";\n                var nbb_formatted_code = \"pd.set_option(\\\"display.max_columns\\\", None)\\npd.set_option(\\\"display.expand_frame_repr\\\", False)\\n# pd.set_option('max_colwidth', -1)\";\n                var nbb_cells = Jupyter.notebook.get_cells();\n                for (var i = 0; i < nbb_cells.length; ++i) {\n                    if (nbb_cells[i].input_prompt_number == nbb_cell_id) {\n                        if (nbb_cells[i].get_text() == nbb_unformatted_code) {\n                             nbb_cells[i].set_text(nbb_formatted_code);\n                        }\n                        break;\n                    }\n                }\n            }, 500);\n            ",
            "text/plain": [
              "<IPython.core.display.Javascript object>"
            ]
          },
          "metadata": {},
          "output_type": "display_data"
        },
        {
          "data": {
            "application/javascript": "\n            setTimeout(function() {\n                var nbb_cell_id = 37;\n                var nbb_unformatted_code = \"pd.set_option('display.max_columns', None)\\npd.set_option('display.expand_frame_repr', False)\\n# pd.set_option('max_colwidth', -1)\";\n                var nbb_formatted_code = \"pd.set_option(\\\"display.max_columns\\\", None)\\npd.set_option(\\\"display.expand_frame_repr\\\", False)\\n# pd.set_option('max_colwidth', -1)\";\n                var nbb_cells = Jupyter.notebook.get_cells();\n                for (var i = 0; i < nbb_cells.length; ++i) {\n                    if (nbb_cells[i].input_prompt_number == nbb_cell_id) {\n                        if (nbb_cells[i].get_text() == nbb_unformatted_code) {\n                             nbb_cells[i].set_text(nbb_formatted_code);\n                        }\n                        break;\n                    }\n                }\n            }, 500);\n            ",
            "text/plain": [
              "<IPython.core.display.Javascript object>"
            ]
          },
          "metadata": {},
          "output_type": "display_data"
        }
      ],
      "source": [
        "pd.set_option('display.max_columns', None)\n",
        "pd.set_option('display.expand_frame_repr', False)\n",
        "# pd.set_option('max_colwidth', -1)\n"
      ]
    },
    {
      "cell_type": "code",
      "execution_count": 38,
      "id": "594b94ec",
      "metadata": {},
      "outputs": [
        {
          "data": {
            "text/html": [
              "<div>\n",
              "<style scoped>\n",
              "    .dataframe tbody tr th:only-of-type {\n",
              "        vertical-align: middle;\n",
              "    }\n",
              "\n",
              "    .dataframe tbody tr th {\n",
              "        vertical-align: top;\n",
              "    }\n",
              "\n",
              "    .dataframe thead th {\n",
              "        text-align: right;\n",
              "    }\n",
              "</style>\n",
              "<table border=\"1\" class=\"dataframe\">\n",
              "  <thead>\n",
              "    <tr style=\"text-align: right;\">\n",
              "      <th></th>\n",
              "      <th>count</th>\n",
              "      <th>mean</th>\n",
              "      <th>std</th>\n",
              "      <th>min</th>\n",
              "      <th>25%</th>\n",
              "      <th>50%</th>\n",
              "      <th>75%</th>\n",
              "      <th>max</th>\n",
              "    </tr>\n",
              "  </thead>\n",
              "  <tbody>\n",
              "    <tr>\n",
              "      <th>no_of_adults</th>\n",
              "      <td>36275.0</td>\n",
              "      <td>1.844962</td>\n",
              "      <td>0.518715</td>\n",
              "      <td>0.0</td>\n",
              "      <td>2.0</td>\n",
              "      <td>2.00</td>\n",
              "      <td>2.0</td>\n",
              "      <td>4.0</td>\n",
              "    </tr>\n",
              "    <tr>\n",
              "      <th>no_of_children</th>\n",
              "      <td>36275.0</td>\n",
              "      <td>0.105279</td>\n",
              "      <td>0.402648</td>\n",
              "      <td>0.0</td>\n",
              "      <td>0.0</td>\n",
              "      <td>0.00</td>\n",
              "      <td>0.0</td>\n",
              "      <td>10.0</td>\n",
              "    </tr>\n",
              "    <tr>\n",
              "      <th>no_of_weekend_nights</th>\n",
              "      <td>36275.0</td>\n",
              "      <td>0.810724</td>\n",
              "      <td>0.870644</td>\n",
              "      <td>0.0</td>\n",
              "      <td>0.0</td>\n",
              "      <td>1.00</td>\n",
              "      <td>2.0</td>\n",
              "      <td>7.0</td>\n",
              "    </tr>\n",
              "    <tr>\n",
              "      <th>no_of_week_nights</th>\n",
              "      <td>36275.0</td>\n",
              "      <td>2.204300</td>\n",
              "      <td>1.410905</td>\n",
              "      <td>0.0</td>\n",
              "      <td>1.0</td>\n",
              "      <td>2.00</td>\n",
              "      <td>3.0</td>\n",
              "      <td>17.0</td>\n",
              "    </tr>\n",
              "    <tr>\n",
              "      <th>required_car_parking_space</th>\n",
              "      <td>36275.0</td>\n",
              "      <td>0.030986</td>\n",
              "      <td>0.173281</td>\n",
              "      <td>0.0</td>\n",
              "      <td>0.0</td>\n",
              "      <td>0.00</td>\n",
              "      <td>0.0</td>\n",
              "      <td>1.0</td>\n",
              "    </tr>\n",
              "    <tr>\n",
              "      <th>lead_time</th>\n",
              "      <td>36275.0</td>\n",
              "      <td>85.232557</td>\n",
              "      <td>85.930817</td>\n",
              "      <td>0.0</td>\n",
              "      <td>17.0</td>\n",
              "      <td>57.00</td>\n",
              "      <td>126.0</td>\n",
              "      <td>443.0</td>\n",
              "    </tr>\n",
              "    <tr>\n",
              "      <th>arrival_year</th>\n",
              "      <td>36275.0</td>\n",
              "      <td>2017.820427</td>\n",
              "      <td>0.383836</td>\n",
              "      <td>2017.0</td>\n",
              "      <td>2018.0</td>\n",
              "      <td>2018.00</td>\n",
              "      <td>2018.0</td>\n",
              "      <td>2018.0</td>\n",
              "    </tr>\n",
              "    <tr>\n",
              "      <th>arrival_month</th>\n",
              "      <td>36275.0</td>\n",
              "      <td>7.423653</td>\n",
              "      <td>3.069894</td>\n",
              "      <td>1.0</td>\n",
              "      <td>5.0</td>\n",
              "      <td>8.00</td>\n",
              "      <td>10.0</td>\n",
              "      <td>12.0</td>\n",
              "    </tr>\n",
              "    <tr>\n",
              "      <th>arrival_date</th>\n",
              "      <td>36275.0</td>\n",
              "      <td>15.596995</td>\n",
              "      <td>8.740447</td>\n",
              "      <td>1.0</td>\n",
              "      <td>8.0</td>\n",
              "      <td>16.00</td>\n",
              "      <td>23.0</td>\n",
              "      <td>31.0</td>\n",
              "    </tr>\n",
              "    <tr>\n",
              "      <th>repeated_guest</th>\n",
              "      <td>36275.0</td>\n",
              "      <td>0.025637</td>\n",
              "      <td>0.158053</td>\n",
              "      <td>0.0</td>\n",
              "      <td>0.0</td>\n",
              "      <td>0.00</td>\n",
              "      <td>0.0</td>\n",
              "      <td>1.0</td>\n",
              "    </tr>\n",
              "    <tr>\n",
              "      <th>no_of_previous_cancellations</th>\n",
              "      <td>36275.0</td>\n",
              "      <td>0.023349</td>\n",
              "      <td>0.368331</td>\n",
              "      <td>0.0</td>\n",
              "      <td>0.0</td>\n",
              "      <td>0.00</td>\n",
              "      <td>0.0</td>\n",
              "      <td>13.0</td>\n",
              "    </tr>\n",
              "    <tr>\n",
              "      <th>no_of_previous_bookings_not_canceled</th>\n",
              "      <td>36275.0</td>\n",
              "      <td>0.153411</td>\n",
              "      <td>1.754171</td>\n",
              "      <td>0.0</td>\n",
              "      <td>0.0</td>\n",
              "      <td>0.00</td>\n",
              "      <td>0.0</td>\n",
              "      <td>58.0</td>\n",
              "    </tr>\n",
              "    <tr>\n",
              "      <th>avg_price_per_room</th>\n",
              "      <td>36275.0</td>\n",
              "      <td>103.423539</td>\n",
              "      <td>35.089424</td>\n",
              "      <td>0.0</td>\n",
              "      <td>80.3</td>\n",
              "      <td>99.45</td>\n",
              "      <td>120.0</td>\n",
              "      <td>540.0</td>\n",
              "    </tr>\n",
              "    <tr>\n",
              "      <th>no_of_special_requests</th>\n",
              "      <td>36275.0</td>\n",
              "      <td>0.619655</td>\n",
              "      <td>0.786236</td>\n",
              "      <td>0.0</td>\n",
              "      <td>0.0</td>\n",
              "      <td>0.00</td>\n",
              "      <td>1.0</td>\n",
              "      <td>5.0</td>\n",
              "    </tr>\n",
              "  </tbody>\n",
              "</table>\n",
              "</div>"
            ],
            "text/plain": [
              "                                        count         mean        std     min     25%      50%     75%     max\n",
              "no_of_adults                          36275.0     1.844962   0.518715     0.0     2.0     2.00     2.0     4.0\n",
              "no_of_children                        36275.0     0.105279   0.402648     0.0     0.0     0.00     0.0    10.0\n",
              "no_of_weekend_nights                  36275.0     0.810724   0.870644     0.0     0.0     1.00     2.0     7.0\n",
              "no_of_week_nights                     36275.0     2.204300   1.410905     0.0     1.0     2.00     3.0    17.0\n",
              "required_car_parking_space            36275.0     0.030986   0.173281     0.0     0.0     0.00     0.0     1.0\n",
              "lead_time                             36275.0    85.232557  85.930817     0.0    17.0    57.00   126.0   443.0\n",
              "arrival_year                          36275.0  2017.820427   0.383836  2017.0  2018.0  2018.00  2018.0  2018.0\n",
              "arrival_month                         36275.0     7.423653   3.069894     1.0     5.0     8.00    10.0    12.0\n",
              "arrival_date                          36275.0    15.596995   8.740447     1.0     8.0    16.00    23.0    31.0\n",
              "repeated_guest                        36275.0     0.025637   0.158053     0.0     0.0     0.00     0.0     1.0\n",
              "no_of_previous_cancellations          36275.0     0.023349   0.368331     0.0     0.0     0.00     0.0    13.0\n",
              "no_of_previous_bookings_not_canceled  36275.0     0.153411   1.754171     0.0     0.0     0.00     0.0    58.0\n",
              "avg_price_per_room                    36275.0   103.423539  35.089424     0.0    80.3    99.45   120.0   540.0\n",
              "no_of_special_requests                36275.0     0.619655   0.786236     0.0     0.0     0.00     1.0     5.0"
            ]
          },
          "execution_count": 38,
          "metadata": {},
          "output_type": "execute_result"
        },
        {
          "data": {
            "application/javascript": "\n            setTimeout(function() {\n                var nbb_cell_id = 38;\n                var nbb_unformatted_code = \"data.describe().T\";\n                var nbb_formatted_code = \"data.describe().T\";\n                var nbb_cells = Jupyter.notebook.get_cells();\n                for (var i = 0; i < nbb_cells.length; ++i) {\n                    if (nbb_cells[i].input_prompt_number == nbb_cell_id) {\n                        if (nbb_cells[i].get_text() == nbb_unformatted_code) {\n                             nbb_cells[i].set_text(nbb_formatted_code);\n                        }\n                        break;\n                    }\n                }\n            }, 500);\n            ",
            "text/plain": [
              "<IPython.core.display.Javascript object>"
            ]
          },
          "metadata": {},
          "output_type": "display_data"
        },
        {
          "data": {
            "application/javascript": "\n            setTimeout(function() {\n                var nbb_cell_id = 38;\n                var nbb_unformatted_code = \"data.describe().T\";\n                var nbb_formatted_code = \"data.describe().T\";\n                var nbb_cells = Jupyter.notebook.get_cells();\n                for (var i = 0; i < nbb_cells.length; ++i) {\n                    if (nbb_cells[i].input_prompt_number == nbb_cell_id) {\n                        if (nbb_cells[i].get_text() == nbb_unformatted_code) {\n                             nbb_cells[i].set_text(nbb_formatted_code);\n                        }\n                        break;\n                    }\n                }\n            }, 500);\n            ",
            "text/plain": [
              "<IPython.core.display.Javascript object>"
            ]
          },
          "metadata": {},
          "output_type": "display_data"
        }
      ],
      "source": [
        "data.describe().T"
      ]
    },
    {
      "cell_type": "markdown",
      "id": "creative-warner",
      "metadata": {
        "id": "creative-warner"
      },
      "source": [
        "### Check the data types of the columns for the dataset"
      ]
    },
    {
      "cell_type": "code",
      "execution_count": 42,
      "id": "expanded-technique",
      "metadata": {
        "id": "expanded-technique"
      },
      "outputs": [
        {
          "name": "stdout",
          "output_type": "stream",
          "text": [
            "<class 'pandas.core.frame.DataFrame'>\n",
            "RangeIndex: 36275 entries, 0 to 36274\n",
            "Data columns (total 19 columns):\n",
            " #   Column                                Non-Null Count  Dtype  \n",
            "---  ------                                --------------  -----  \n",
            " 0   Booking_ID                            36275 non-null  object \n",
            " 1   no_of_adults                          36275 non-null  int64  \n",
            " 2   no_of_children                        36275 non-null  int64  \n",
            " 3   no_of_weekend_nights                  36275 non-null  int64  \n",
            " 4   no_of_week_nights                     36275 non-null  int64  \n",
            " 5   type_of_meal_plan                     36275 non-null  object \n",
            " 6   required_car_parking_space            36275 non-null  int64  \n",
            " 7   room_type_reserved                    36275 non-null  object \n",
            " 8   lead_time                             36275 non-null  int64  \n",
            " 9   arrival_year                          36275 non-null  int64  \n",
            " 10  arrival_month                         36275 non-null  int64  \n",
            " 11  arrival_date                          36275 non-null  int64  \n",
            " 12  market_segment_type                   36275 non-null  object \n",
            " 13  repeated_guest                        36275 non-null  int64  \n",
            " 14  no_of_previous_cancellations          36275 non-null  int64  \n",
            " 15  no_of_previous_bookings_not_canceled  36275 non-null  int64  \n",
            " 16  avg_price_per_room                    36275 non-null  float64\n",
            " 17  no_of_special_requests                36275 non-null  int64  \n",
            " 18  booking_status                        36275 non-null  object \n",
            "dtypes: float64(1), int64(13), object(5)\n",
            "memory usage: 5.3+ MB\n"
          ]
        },
        {
          "data": {
            "application/javascript": "\n            setTimeout(function() {\n                var nbb_cell_id = 42;\n                var nbb_unformatted_code = \"data.info()\";\n                var nbb_formatted_code = \"data.info()\";\n                var nbb_cells = Jupyter.notebook.get_cells();\n                for (var i = 0; i < nbb_cells.length; ++i) {\n                    if (nbb_cells[i].input_prompt_number == nbb_cell_id) {\n                        if (nbb_cells[i].get_text() == nbb_unformatted_code) {\n                             nbb_cells[i].set_text(nbb_formatted_code);\n                        }\n                        break;\n                    }\n                }\n            }, 500);\n            ",
            "text/plain": [
              "<IPython.core.display.Javascript object>"
            ]
          },
          "metadata": {},
          "output_type": "display_data"
        },
        {
          "data": {
            "application/javascript": "\n            setTimeout(function() {\n                var nbb_cell_id = 42;\n                var nbb_unformatted_code = \"data.info()\";\n                var nbb_formatted_code = \"data.info()\";\n                var nbb_cells = Jupyter.notebook.get_cells();\n                for (var i = 0; i < nbb_cells.length; ++i) {\n                    if (nbb_cells[i].input_prompt_number == nbb_cell_id) {\n                        if (nbb_cells[i].get_text() == nbb_unformatted_code) {\n                             nbb_cells[i].set_text(nbb_formatted_code);\n                        }\n                        break;\n                    }\n                }\n            }, 500);\n            ",
            "text/plain": [
              "<IPython.core.display.Javascript object>"
            ]
          },
          "metadata": {},
          "output_type": "display_data"
        }
      ],
      "source": [
        "data.info()"
      ]
    },
    {
      "attachments": {},
      "cell_type": "markdown",
      "id": "b8dfe4e1",
      "metadata": {},
      "source": [
        "##### <b><u>End of information / initial exploratory steps</u></b>"
      ]
    },
    {
      "attachments": {},
      "cell_type": "markdown",
      "id": "9017271f",
      "metadata": {},
      "source": [
        "##### <b><u>Duplicates:</u></b>"
      ]
    },
    {
      "cell_type": "code",
      "execution_count": null,
      "id": "21628366",
      "metadata": {},
      "outputs": [],
      "source": [
        "# TODO: (1) Get columns in the dataset\n",
        "# TODO: (2) pass columns as arg into .duplicated()"
      ]
    },
    {
      "cell_type": "code",
      "execution_count": null,
      "id": "2d5d5d33",
      "metadata": {},
      "outputs": [],
      "source": [
        "# TODO: (1) get column headings \n",
        "# TODO: (2) put column headings in a list"
      ]
    },
    {
      "cell_type": "code",
      "execution_count": 39,
      "id": "25c6fcbe",
      "metadata": {},
      "outputs": [
        {
          "name": "stdout",
          "output_type": "stream",
          "text": [
            "{'0 : Booking_ID': 'Booking_ID', '1 : no_of_adults': 'no_of_adults', '2 : no_of_children': 'no_of_children', '3 : no_of_weekend_nights': 'no_of_weekend_nights', '4 : no_of_week_nights': 'no_of_week_nights', '5 : type_of_meal_plan': 'type_of_meal_plan', '6 : required_car_parking_space': 'required_car_parking_space', '7 : room_type_reserved': 'room_type_reserved', '8 : lead_time': 'lead_time', '9 : arrival_year': 'arrival_year', '10 : arrival_month': 'arrival_month', '11 : arrival_date': 'arrival_date', '12 : market_segment_type': 'market_segment_type', '13 : repeated_guest': 'repeated_guest', '14 : no_of_previous_cancellations': 'no_of_previous_cancellations', '15 : no_of_previous_bookings_not_canceled': 'no_of_previous_bookings_not_canceled', '16 : avg_price_per_room': 'avg_price_per_room', '17 : no_of_special_requests': 'no_of_special_requests', '18 : booking_status': 'booking_status'}\n"
          ]
        },
        {
          "data": {
            "application/javascript": "\n            setTimeout(function() {\n                var nbb_cell_id = 39;\n                var nbb_unformatted_code = \"dict={}\\nfor count, column in enumerate(data):\\n    key='{} : {}'.format(count, column)\\n    column={key : column}\\n    dict.update(column)\\n\\n# for count, pair in enumerate(dict):\\n    # print(dict[dict[pair]])\\nprint(dict)\";\n                var nbb_formatted_code = \"dict = {}\\nfor count, column in enumerate(data):\\n    key = \\\"{} : {}\\\".format(count, column)\\n    column = {key: column}\\n    dict.update(column)\\n\\n# for count, pair in enumerate(dict):\\n# print(dict[dict[pair]])\\nprint(dict)\";\n                var nbb_cells = Jupyter.notebook.get_cells();\n                for (var i = 0; i < nbb_cells.length; ++i) {\n                    if (nbb_cells[i].input_prompt_number == nbb_cell_id) {\n                        if (nbb_cells[i].get_text() == nbb_unformatted_code) {\n                             nbb_cells[i].set_text(nbb_formatted_code);\n                        }\n                        break;\n                    }\n                }\n            }, 500);\n            ",
            "text/plain": [
              "<IPython.core.display.Javascript object>"
            ]
          },
          "metadata": {},
          "output_type": "display_data"
        }
      ],
      "source": [
        "dict={}\n",
        "for count, column in enumerate(data):\n",
        "    key='{} : {}'.format(count, column)\n",
        "    column={key : column}\n",
        "    dict.update(column)\n",
        "\n",
        "# for count, pair in enumerate(dict):\n",
        "    # print(dict[dict[pair]])\n",
        "print(dict)\n"
      ]
    },
    {
      "cell_type": "code",
      "execution_count": 14,
      "id": "greenhouse-vertical",
      "metadata": {
        "id": "greenhouse-vertical"
      },
      "outputs": [
        {
          "data": {
            "text/plain": [
              "0        False\n",
              "1        False\n",
              "2        False\n",
              "3        False\n",
              "4        False\n",
              "         ...  \n",
              "36270    False\n",
              "36271    False\n",
              "36272    False\n",
              "36273    False\n",
              "36274    False\n",
              "Length: 36275, dtype: bool"
            ]
          },
          "execution_count": 14,
          "metadata": {},
          "output_type": "execute_result"
        },
        {
          "data": {
            "application/javascript": "\n            setTimeout(function() {\n                var nbb_cell_id = 14;\n                var nbb_unformatted_code = \"# checking for duplicate values\\ndata.duplicated() ##  Complete the code to check duplicate entries in the data\";\n                var nbb_formatted_code = \"# checking for duplicate values\\ndata.duplicated()  ##  Complete the code to check duplicate entries in the data\";\n                var nbb_cells = Jupyter.notebook.get_cells();\n                for (var i = 0; i < nbb_cells.length; ++i) {\n                    if (nbb_cells[i].input_prompt_number == nbb_cell_id) {\n                        if (nbb_cells[i].get_text() == nbb_unformatted_code) {\n                             nbb_cells[i].set_text(nbb_formatted_code);\n                        }\n                        break;\n                    }\n                }\n            }, 500);\n            ",
            "text/plain": [
              "<IPython.core.display.Javascript object>"
            ]
          },
          "metadata": {},
          "output_type": "display_data"
        }
      ],
      "source": [
        "# checking for duplicate values\n",
        "data.duplicated() ##  Complete the code to check duplicate entries in the data"
      ]
    },
    {
      "cell_type": "code",
      "execution_count": 43,
      "id": "0b5564f9",
      "metadata": {},
      "outputs": [
        {
          "data": {
            "application/javascript": "\n            setTimeout(function() {\n                var nbb_cell_id = 43;\n                var nbb_unformatted_code = \"duplicate_check=data.duplicated()\";\n                var nbb_formatted_code = \"duplicate_check = data.duplicated()\";\n                var nbb_cells = Jupyter.notebook.get_cells();\n                for (var i = 0; i < nbb_cells.length; ++i) {\n                    if (nbb_cells[i].input_prompt_number == nbb_cell_id) {\n                        if (nbb_cells[i].get_text() == nbb_unformatted_code) {\n                             nbb_cells[i].set_text(nbb_formatted_code);\n                        }\n                        break;\n                    }\n                }\n            }, 500);\n            ",
            "text/plain": [
              "<IPython.core.display.Javascript object>"
            ]
          },
          "metadata": {},
          "output_type": "display_data"
        },
        {
          "data": {
            "application/javascript": "\n            setTimeout(function() {\n                var nbb_cell_id = 43;\n                var nbb_unformatted_code = \"duplicate_check=data.duplicated()\";\n                var nbb_formatted_code = \"duplicate_check = data.duplicated()\";\n                var nbb_cells = Jupyter.notebook.get_cells();\n                for (var i = 0; i < nbb_cells.length; ++i) {\n                    if (nbb_cells[i].input_prompt_number == nbb_cell_id) {\n                        if (nbb_cells[i].get_text() == nbb_unformatted_code) {\n                             nbb_cells[i].set_text(nbb_formatted_code);\n                        }\n                        break;\n                    }\n                }\n            }, 500);\n            ",
            "text/plain": [
              "<IPython.core.display.Javascript object>"
            ]
          },
          "metadata": {},
          "output_type": "display_data"
        }
      ],
      "source": [
        "duplicate_check=data.duplicated()"
      ]
    },
    {
      "cell_type": "code",
      "execution_count": 54,
      "id": "ff9adef4",
      "metadata": {},
      "outputs": [
        {
          "name": "stdout",
          "output_type": "stream",
          "text": [
            "len(holder_False) = 36275\n",
            "len(holder_True) = 0\n",
            "len(holder_neiter) = 0\n",
            "\n",
            "no duplicates in dataframe\n"
          ]
        },
        {
          "data": {
            "application/javascript": "\n            setTimeout(function() {\n                var nbb_cell_id = 54;\n                var nbb_unformatted_code = \"def duplicate_boolean_checker():\\n    holder_False = {}\\n    holder_True = {}\\n    holder_neither = {}\\n    for count, instance in enumerate(duplicate_check):\\n        if instance==False:\\n            key='key_'+str(count)\\n            value=str(instance)\\n            pair={key:value}\\n            holder_False.update(pair)\\n        elif instance==True:\\n            key='key_'+str(count)\\n            value=str(instance)\\n            pair={key:value}\\n            holder_True.update(pair)\\n        else:\\n            key='key_'+str(count)\\n            value=str(instance)\\n            pair={key:value}\\n            holder_neither.update(pair)\\n    # print('holder_False =', holder_False)\\n    # print('holder_True =', holder_True)\\n    # print('holder_neiter =', holder_neither)\\n    \\n    print('len(holder_False) =', len(holder_False))\\n    print('len(holder_True) =', len(holder_True))\\n    print('len(holder_neiter) =',len(holder_neither))\\n\\n    if ((len(holder_True)==0) & (len(holder_neither)==0)):\\n        print('\\\\nno duplicates in dataframe')\\n    \\nduplicate_boolean_checker()\";\n                var nbb_formatted_code = \"def duplicate_boolean_checker():\\n    holder_False = {}\\n    holder_True = {}\\n    holder_neither = {}\\n    for count, instance in enumerate(duplicate_check):\\n        if instance == False:\\n            key = \\\"key_\\\" + str(count)\\n            value = str(instance)\\n            pair = {key: value}\\n            holder_False.update(pair)\\n        elif instance == True:\\n            key = \\\"key_\\\" + str(count)\\n            value = str(instance)\\n            pair = {key: value}\\n            holder_True.update(pair)\\n        else:\\n            key = \\\"key_\\\" + str(count)\\n            value = str(instance)\\n            pair = {key: value}\\n            holder_neither.update(pair)\\n    # print('holder_False =', holder_False)\\n    # print('holder_True =', holder_True)\\n    # print('holder_neiter =', holder_neither)\\n\\n    print(\\\"len(holder_False) =\\\", len(holder_False))\\n    print(\\\"len(holder_True) =\\\", len(holder_True))\\n    print(\\\"len(holder_neiter) =\\\", len(holder_neither))\\n\\n    if (len(holder_True) == 0) & (len(holder_neither) == 0):\\n        print(\\\"\\\\nno duplicates in dataframe\\\")\\n\\n\\nduplicate_boolean_checker()\";\n                var nbb_cells = Jupyter.notebook.get_cells();\n                for (var i = 0; i < nbb_cells.length; ++i) {\n                    if (nbb_cells[i].input_prompt_number == nbb_cell_id) {\n                        if (nbb_cells[i].get_text() == nbb_unformatted_code) {\n                             nbb_cells[i].set_text(nbb_formatted_code);\n                        }\n                        break;\n                    }\n                }\n            }, 500);\n            ",
            "text/plain": [
              "<IPython.core.display.Javascript object>"
            ]
          },
          "metadata": {},
          "output_type": "display_data"
        },
        {
          "data": {
            "application/javascript": "\n            setTimeout(function() {\n                var nbb_cell_id = 54;\n                var nbb_unformatted_code = \"def duplicate_boolean_checker():\\n    holder_False = {}\\n    holder_True = {}\\n    holder_neither = {}\\n    for count, instance in enumerate(duplicate_check):\\n        if instance==False:\\n            key='key_'+str(count)\\n            value=str(instance)\\n            pair={key:value}\\n            holder_False.update(pair)\\n        elif instance==True:\\n            key='key_'+str(count)\\n            value=str(instance)\\n            pair={key:value}\\n            holder_True.update(pair)\\n        else:\\n            key='key_'+str(count)\\n            value=str(instance)\\n            pair={key:value}\\n            holder_neither.update(pair)\\n    # print('holder_False =', holder_False)\\n    # print('holder_True =', holder_True)\\n    # print('holder_neiter =', holder_neither)\\n    \\n    print('len(holder_False) =', len(holder_False))\\n    print('len(holder_True) =', len(holder_True))\\n    print('len(holder_neiter) =',len(holder_neither))\\n\\n    if ((len(holder_True)==0) & (len(holder_neither)==0)):\\n        print('\\\\nno duplicates in dataframe')\\n    \\nduplicate_boolean_checker()\";\n                var nbb_formatted_code = \"def duplicate_boolean_checker():\\n    holder_False = {}\\n    holder_True = {}\\n    holder_neither = {}\\n    for count, instance in enumerate(duplicate_check):\\n        if instance == False:\\n            key = \\\"key_\\\" + str(count)\\n            value = str(instance)\\n            pair = {key: value}\\n            holder_False.update(pair)\\n        elif instance == True:\\n            key = \\\"key_\\\" + str(count)\\n            value = str(instance)\\n            pair = {key: value}\\n            holder_True.update(pair)\\n        else:\\n            key = \\\"key_\\\" + str(count)\\n            value = str(instance)\\n            pair = {key: value}\\n            holder_neither.update(pair)\\n    # print('holder_False =', holder_False)\\n    # print('holder_True =', holder_True)\\n    # print('holder_neiter =', holder_neither)\\n\\n    print(\\\"len(holder_False) =\\\", len(holder_False))\\n    print(\\\"len(holder_True) =\\\", len(holder_True))\\n    print(\\\"len(holder_neiter) =\\\", len(holder_neither))\\n\\n    if (len(holder_True) == 0) & (len(holder_neither) == 0):\\n        print(\\\"\\\\nno duplicates in dataframe\\\")\\n\\n\\nduplicate_boolean_checker()\";\n                var nbb_cells = Jupyter.notebook.get_cells();\n                for (var i = 0; i < nbb_cells.length; ++i) {\n                    if (nbb_cells[i].input_prompt_number == nbb_cell_id) {\n                        if (nbb_cells[i].get_text() == nbb_unformatted_code) {\n                             nbb_cells[i].set_text(nbb_formatted_code);\n                        }\n                        break;\n                    }\n                }\n            }, 500);\n            ",
            "text/plain": [
              "<IPython.core.display.Javascript object>"
            ]
          },
          "metadata": {},
          "output_type": "display_data"
        }
      ],
      "source": [
        "def duplicate_boolean_checker():\n",
        "    holder_False = {}\n",
        "    holder_True = {}\n",
        "    holder_neither = {}\n",
        "    for count, instance in enumerate(duplicate_check):\n",
        "        if instance==False:\n",
        "            key='key_'+str(count)\n",
        "            value=str(instance)\n",
        "            pair={key:value}\n",
        "            holder_False.update(pair)\n",
        "        elif instance==True:\n",
        "            key='key_'+str(count)\n",
        "            value=str(instance)\n",
        "            pair={key:value}\n",
        "            holder_True.update(pair)\n",
        "        else:\n",
        "            key='key_'+str(count)\n",
        "            value=str(instance)\n",
        "            pair={key:value}\n",
        "            holder_neither.update(pair)\n",
        "    # print('holder_False =', holder_False)\n",
        "    # print('holder_True =', holder_True)\n",
        "    # print('holder_neiter =', holder_neither)\n",
        "    \n",
        "    print('len(holder_False) =', len(holder_False))\n",
        "    print('len(holder_True) =', len(holder_True))\n",
        "    print('len(holder_neiter) =',len(holder_neither))\n",
        "\n",
        "    if ((len(holder_True)==0) & (len(holder_neither)==0)):\n",
        "        print('\\nno duplicates in dataframe')\n",
        "    \n",
        "duplicate_boolean_checker()"
      ]
    },
    {
      "attachments": {},
      "cell_type": "markdown",
      "id": "50f2f518",
      "metadata": {},
      "source": [
        "No duplicates in dataframe"
      ]
    },
    {
      "cell_type": "markdown",
      "id": "928c50b6",
      "metadata": {
        "id": "928c50b6"
      },
      "source": [
        "**Let's drop the Booking_ID column first before we proceed forward**."
      ]
    },
    {
      "cell_type": "code",
      "execution_count": 66,
      "id": "adf5a82e",
      "metadata": {},
      "outputs": [
        {
          "data": {
            "application/javascript": "\n            setTimeout(function() {\n                var nbb_cell_id = 66;\n                var nbb_unformatted_code = \"# # https://stackoverflow.com/questions/11707586/how-do-i-expand-the-output-display-to-see-more-columns-of-a-pandas-dataframe\\n\\npd.set_option('display.max_columns', None)\\npd.set_option('display.expand_frame_repr', False)\\n# pd.set_option('max_colwidth', -1)\\n\\n# # https://stackoverflow.com/questions/26246864/restoring-the-default-display-context-in-pandas\\n\\n# pd.reset_option('all')\";\n                var nbb_formatted_code = \"# # https://stackoverflow.com/questions/11707586/how-do-i-expand-the-output-display-to-see-more-columns-of-a-pandas-dataframe\\n\\npd.set_option(\\\"display.max_columns\\\", None)\\npd.set_option(\\\"display.expand_frame_repr\\\", False)\\n# pd.set_option('max_colwidth', -1)\\n\\n# # https://stackoverflow.com/questions/26246864/restoring-the-default-display-context-in-pandas\\n\\n# pd.reset_option('all')\";\n                var nbb_cells = Jupyter.notebook.get_cells();\n                for (var i = 0; i < nbb_cells.length; ++i) {\n                    if (nbb_cells[i].input_prompt_number == nbb_cell_id) {\n                        if (nbb_cells[i].get_text() == nbb_unformatted_code) {\n                             nbb_cells[i].set_text(nbb_formatted_code);\n                        }\n                        break;\n                    }\n                }\n            }, 500);\n            ",
            "text/plain": [
              "<IPython.core.display.Javascript object>"
            ]
          },
          "metadata": {},
          "output_type": "display_data"
        },
        {
          "data": {
            "application/javascript": "\n            setTimeout(function() {\n                var nbb_cell_id = 66;\n                var nbb_unformatted_code = \"# # https://stackoverflow.com/questions/11707586/how-do-i-expand-the-output-display-to-see-more-columns-of-a-pandas-dataframe\\n\\npd.set_option('display.max_columns', None)\\npd.set_option('display.expand_frame_repr', False)\\n# pd.set_option('max_colwidth', -1)\\n\\n# # https://stackoverflow.com/questions/26246864/restoring-the-default-display-context-in-pandas\\n\\n# pd.reset_option('all')\";\n                var nbb_formatted_code = \"# # https://stackoverflow.com/questions/11707586/how-do-i-expand-the-output-display-to-see-more-columns-of-a-pandas-dataframe\\n\\npd.set_option(\\\"display.max_columns\\\", None)\\npd.set_option(\\\"display.expand_frame_repr\\\", False)\\n# pd.set_option('max_colwidth', -1)\\n\\n# # https://stackoverflow.com/questions/26246864/restoring-the-default-display-context-in-pandas\\n\\n# pd.reset_option('all')\";\n                var nbb_cells = Jupyter.notebook.get_cells();\n                for (var i = 0; i < nbb_cells.length; ++i) {\n                    if (nbb_cells[i].input_prompt_number == nbb_cell_id) {\n                        if (nbb_cells[i].get_text() == nbb_unformatted_code) {\n                             nbb_cells[i].set_text(nbb_formatted_code);\n                        }\n                        break;\n                    }\n                }\n            }, 500);\n            ",
            "text/plain": [
              "<IPython.core.display.Javascript object>"
            ]
          },
          "metadata": {},
          "output_type": "display_data"
        }
      ],
      "source": [
        "# # https://stackoverflow.com/questions/11707586/how-do-i-expand-the-output-display-to-see-more-columns-of-a-pandas-dataframe\n",
        "\n",
        "# pd.set_option('display.max_columns', None)\n",
        "# pd.set_option('display.expand_frame_repr', False)\n",
        "# pd.set_option('max_colwidth', -1)\n",
        "\n",
        "# # https://stackoverflow.com/questions/26246864/restoring-the-default-display-context-in-pandas\n",
        "\n",
        "# pd.reset_option('all')"
      ]
    },
    {
      "cell_type": "code",
      "execution_count": 60,
      "id": "0fee0b25",
      "metadata": {},
      "outputs": [
        {
          "name": "stdout",
          "output_type": "stream",
          "text": [
            "As the xlwt package is no longer maintained, the xlwt engine will be removed in a future version of pandas. This is the only engine in pandas that supports writing in the xls format. Install openpyxl and write to an xlsx file instead.\n",
            "\n",
            ": boolean\n",
            "    use_inf_as_null had been deprecated and will be removed in a future\n",
            "    version. Use `use_inf_as_na` instead.\n",
            "\n"
          ]
        },
        {
          "data": {
            "application/javascript": "\n            setTimeout(function() {\n                var nbb_cell_id = 60;\n                var nbb_unformatted_code = \"pd.reset_option('all')\";\n                var nbb_formatted_code = \"pd.reset_option(\\\"all\\\")\";\n                var nbb_cells = Jupyter.notebook.get_cells();\n                for (var i = 0; i < nbb_cells.length; ++i) {\n                    if (nbb_cells[i].input_prompt_number == nbb_cell_id) {\n                        if (nbb_cells[i].get_text() == nbb_unformatted_code) {\n                             nbb_cells[i].set_text(nbb_formatted_code);\n                        }\n                        break;\n                    }\n                }\n            }, 500);\n            ",
            "text/plain": [
              "<IPython.core.display.Javascript object>"
            ]
          },
          "metadata": {},
          "output_type": "display_data"
        },
        {
          "data": {
            "application/javascript": "\n            setTimeout(function() {\n                var nbb_cell_id = 60;\n                var nbb_unformatted_code = \"pd.reset_option('all')\";\n                var nbb_formatted_code = \"pd.reset_option(\\\"all\\\")\";\n                var nbb_cells = Jupyter.notebook.get_cells();\n                for (var i = 0; i < nbb_cells.length; ++i) {\n                    if (nbb_cells[i].input_prompt_number == nbb_cell_id) {\n                        if (nbb_cells[i].get_text() == nbb_unformatted_code) {\n                             nbb_cells[i].set_text(nbb_formatted_code);\n                        }\n                        break;\n                    }\n                }\n            }, 500);\n            ",
            "text/plain": [
              "<IPython.core.display.Javascript object>"
            ]
          },
          "metadata": {},
          "output_type": "display_data"
        }
      ],
      "source": [
        "pd.reset_option('all')"
      ]
    },
    {
      "cell_type": "code",
      "execution_count": 68,
      "id": "95d79af3",
      "metadata": {},
      "outputs": [
        {
          "data": {
            "application/javascript": "\n            setTimeout(function() {\n                var nbb_cell_id = 68;\n                var nbb_unformatted_code = \"pd.set_option('display.max_columns', None)\\npd.set_option('display.expand_frame_repr', False)\";\n                var nbb_formatted_code = \"pd.set_option(\\\"display.max_columns\\\", None)\\npd.set_option(\\\"display.expand_frame_repr\\\", False)\";\n                var nbb_cells = Jupyter.notebook.get_cells();\n                for (var i = 0; i < nbb_cells.length; ++i) {\n                    if (nbb_cells[i].input_prompt_number == nbb_cell_id) {\n                        if (nbb_cells[i].get_text() == nbb_unformatted_code) {\n                             nbb_cells[i].set_text(nbb_formatted_code);\n                        }\n                        break;\n                    }\n                }\n            }, 500);\n            ",
            "text/plain": [
              "<IPython.core.display.Javascript object>"
            ]
          },
          "metadata": {},
          "output_type": "display_data"
        },
        {
          "data": {
            "application/javascript": "\n            setTimeout(function() {\n                var nbb_cell_id = 68;\n                var nbb_unformatted_code = \"pd.set_option('display.max_columns', None)\\npd.set_option('display.expand_frame_repr', False)\";\n                var nbb_formatted_code = \"pd.set_option(\\\"display.max_columns\\\", None)\\npd.set_option(\\\"display.expand_frame_repr\\\", False)\";\n                var nbb_cells = Jupyter.notebook.get_cells();\n                for (var i = 0; i < nbb_cells.length; ++i) {\n                    if (nbb_cells[i].input_prompt_number == nbb_cell_id) {\n                        if (nbb_cells[i].get_text() == nbb_unformatted_code) {\n                             nbb_cells[i].set_text(nbb_formatted_code);\n                        }\n                        break;\n                    }\n                }\n            }, 500);\n            ",
            "text/plain": [
              "<IPython.core.display.Javascript object>"
            ]
          },
          "metadata": {},
          "output_type": "display_data"
        }
      ],
      "source": [
        "pd.set_option('display.max_columns', None)\n",
        "pd.set_option('display.expand_frame_repr', False)\n"
      ]
    },
    {
      "cell_type": "code",
      "execution_count": 69,
      "id": "c569c5d6",
      "metadata": {},
      "outputs": [
        {
          "data": {
            "text/html": [
              "<div>\n",
              "<style scoped>\n",
              "    .dataframe tbody tr th:only-of-type {\n",
              "        vertical-align: middle;\n",
              "    }\n",
              "\n",
              "    .dataframe tbody tr th {\n",
              "        vertical-align: top;\n",
              "    }\n",
              "\n",
              "    .dataframe thead th {\n",
              "        text-align: right;\n",
              "    }\n",
              "</style>\n",
              "<table border=\"1\" class=\"dataframe\">\n",
              "  <thead>\n",
              "    <tr style=\"text-align: right;\">\n",
              "      <th></th>\n",
              "      <th>Booking_ID</th>\n",
              "      <th>no_of_adults</th>\n",
              "      <th>no_of_children</th>\n",
              "      <th>no_of_weekend_nights</th>\n",
              "      <th>no_of_week_nights</th>\n",
              "      <th>type_of_meal_plan</th>\n",
              "      <th>required_car_parking_space</th>\n",
              "      <th>room_type_reserved</th>\n",
              "      <th>lead_time</th>\n",
              "      <th>arrival_year</th>\n",
              "      <th>arrival_month</th>\n",
              "      <th>arrival_date</th>\n",
              "      <th>market_segment_type</th>\n",
              "      <th>repeated_guest</th>\n",
              "      <th>no_of_previous_cancellations</th>\n",
              "      <th>no_of_previous_bookings_not_canceled</th>\n",
              "      <th>avg_price_per_room</th>\n",
              "      <th>no_of_special_requests</th>\n",
              "      <th>booking_status</th>\n",
              "    </tr>\n",
              "  </thead>\n",
              "  <tbody>\n",
              "    <tr>\n",
              "      <th>0</th>\n",
              "      <td>INN00001</td>\n",
              "      <td>2</td>\n",
              "      <td>0</td>\n",
              "      <td>1</td>\n",
              "      <td>2</td>\n",
              "      <td>Meal Plan 1</td>\n",
              "      <td>0</td>\n",
              "      <td>Room_Type 1</td>\n",
              "      <td>224</td>\n",
              "      <td>2017</td>\n",
              "      <td>10</td>\n",
              "      <td>2</td>\n",
              "      <td>Offline</td>\n",
              "      <td>0</td>\n",
              "      <td>0</td>\n",
              "      <td>0</td>\n",
              "      <td>65.00</td>\n",
              "      <td>0</td>\n",
              "      <td>Not_Canceled</td>\n",
              "    </tr>\n",
              "    <tr>\n",
              "      <th>1</th>\n",
              "      <td>INN00002</td>\n",
              "      <td>2</td>\n",
              "      <td>0</td>\n",
              "      <td>2</td>\n",
              "      <td>3</td>\n",
              "      <td>Not Selected</td>\n",
              "      <td>0</td>\n",
              "      <td>Room_Type 1</td>\n",
              "      <td>5</td>\n",
              "      <td>2018</td>\n",
              "      <td>11</td>\n",
              "      <td>6</td>\n",
              "      <td>Online</td>\n",
              "      <td>0</td>\n",
              "      <td>0</td>\n",
              "      <td>0</td>\n",
              "      <td>106.68</td>\n",
              "      <td>1</td>\n",
              "      <td>Not_Canceled</td>\n",
              "    </tr>\n",
              "    <tr>\n",
              "      <th>2</th>\n",
              "      <td>INN00003</td>\n",
              "      <td>1</td>\n",
              "      <td>0</td>\n",
              "      <td>2</td>\n",
              "      <td>1</td>\n",
              "      <td>Meal Plan 1</td>\n",
              "      <td>0</td>\n",
              "      <td>Room_Type 1</td>\n",
              "      <td>1</td>\n",
              "      <td>2018</td>\n",
              "      <td>2</td>\n",
              "      <td>28</td>\n",
              "      <td>Online</td>\n",
              "      <td>0</td>\n",
              "      <td>0</td>\n",
              "      <td>0</td>\n",
              "      <td>60.00</td>\n",
              "      <td>0</td>\n",
              "      <td>Canceled</td>\n",
              "    </tr>\n",
              "    <tr>\n",
              "      <th>3</th>\n",
              "      <td>INN00004</td>\n",
              "      <td>2</td>\n",
              "      <td>0</td>\n",
              "      <td>0</td>\n",
              "      <td>2</td>\n",
              "      <td>Meal Plan 1</td>\n",
              "      <td>0</td>\n",
              "      <td>Room_Type 1</td>\n",
              "      <td>211</td>\n",
              "      <td>2018</td>\n",
              "      <td>5</td>\n",
              "      <td>20</td>\n",
              "      <td>Online</td>\n",
              "      <td>0</td>\n",
              "      <td>0</td>\n",
              "      <td>0</td>\n",
              "      <td>100.00</td>\n",
              "      <td>0</td>\n",
              "      <td>Canceled</td>\n",
              "    </tr>\n",
              "    <tr>\n",
              "      <th>4</th>\n",
              "      <td>INN00005</td>\n",
              "      <td>2</td>\n",
              "      <td>0</td>\n",
              "      <td>1</td>\n",
              "      <td>1</td>\n",
              "      <td>Not Selected</td>\n",
              "      <td>0</td>\n",
              "      <td>Room_Type 1</td>\n",
              "      <td>48</td>\n",
              "      <td>2018</td>\n",
              "      <td>4</td>\n",
              "      <td>11</td>\n",
              "      <td>Online</td>\n",
              "      <td>0</td>\n",
              "      <td>0</td>\n",
              "      <td>0</td>\n",
              "      <td>94.50</td>\n",
              "      <td>0</td>\n",
              "      <td>Canceled</td>\n",
              "    </tr>\n",
              "  </tbody>\n",
              "</table>\n",
              "</div>"
            ],
            "text/plain": [
              "  Booking_ID  no_of_adults  no_of_children  no_of_weekend_nights  no_of_week_nights type_of_meal_plan  required_car_parking_space room_type_reserved  lead_time  arrival_year  arrival_month  arrival_date market_segment_type  repeated_guest  no_of_previous_cancellations  no_of_previous_bookings_not_canceled  avg_price_per_room  no_of_special_requests booking_status\n",
              "0  INN00001   2             0               1                     2                  Meal Plan 1       0                           Room_Type 1        224        2017          10             2             Offline             0               0                             0                                     65.00               0                       Not_Canceled \n",
              "1  INN00002   2             0               2                     3                  Not Selected      0                           Room_Type 1        5          2018          11             6             Online              0               0                             0                                     106.68              1                       Not_Canceled \n",
              "2  INN00003   1             0               2                     1                  Meal Plan 1       0                           Room_Type 1        1          2018          2              28            Online              0               0                             0                                     60.00               0                       Canceled     \n",
              "3  INN00004   2             0               0                     2                  Meal Plan 1       0                           Room_Type 1        211        2018          5              20            Online              0               0                             0                                     100.00              0                       Canceled     \n",
              "4  INN00005   2             0               1                     1                  Not Selected      0                           Room_Type 1        48         2018          4              11            Online              0               0                             0                                     94.50               0                       Canceled     "
            ]
          },
          "execution_count": 69,
          "metadata": {},
          "output_type": "execute_result"
        },
        {
          "data": {
            "application/javascript": "\n            setTimeout(function() {\n                var nbb_cell_id = 69;\n                var nbb_unformatted_code = \"# pre\\ndata.head()\";\n                var nbb_formatted_code = \"# pre\\ndata.head()\";\n                var nbb_cells = Jupyter.notebook.get_cells();\n                for (var i = 0; i < nbb_cells.length; ++i) {\n                    if (nbb_cells[i].input_prompt_number == nbb_cell_id) {\n                        if (nbb_cells[i].get_text() == nbb_unformatted_code) {\n                             nbb_cells[i].set_text(nbb_formatted_code);\n                        }\n                        break;\n                    }\n                }\n            }, 500);\n            ",
            "text/plain": [
              "<IPython.core.display.Javascript object>"
            ]
          },
          "metadata": {},
          "output_type": "display_data"
        },
        {
          "data": {
            "application/javascript": "\n            setTimeout(function() {\n                var nbb_cell_id = 69;\n                var nbb_unformatted_code = \"# pre\\ndata.head()\";\n                var nbb_formatted_code = \"# pre\\ndata.head()\";\n                var nbb_cells = Jupyter.notebook.get_cells();\n                for (var i = 0; i < nbb_cells.length; ++i) {\n                    if (nbb_cells[i].input_prompt_number == nbb_cell_id) {\n                        if (nbb_cells[i].get_text() == nbb_unformatted_code) {\n                             nbb_cells[i].set_text(nbb_formatted_code);\n                        }\n                        break;\n                    }\n                }\n            }, 500);\n            ",
            "text/plain": [
              "<IPython.core.display.Javascript object>"
            ]
          },
          "metadata": {},
          "output_type": "display_data"
        }
      ],
      "source": [
        "# pre\n",
        "data.head()"
      ]
    },
    {
      "cell_type": "code",
      "execution_count": 71,
      "id": "referenced-architect",
      "metadata": {
        "id": "referenced-architect"
      },
      "outputs": [
        {
          "data": {
            "application/javascript": "\n            setTimeout(function() {\n                var nbb_cell_id = 71;\n                var nbb_unformatted_code = \"# https://pandas.pydata.org/docs/reference/api/pandas.DataFrame.drop.html\\ndata = data.drop(columns='Booking_ID') ## Complete the code to drop the Booking_ID column from the dataframe \";\n                var nbb_formatted_code = \"# https://pandas.pydata.org/docs/reference/api/pandas.DataFrame.drop.html\\ndata = data.drop(\\n    columns=\\\"Booking_ID\\\"\\n)  ## Complete the code to drop the Booking_ID column from the dataframe\";\n                var nbb_cells = Jupyter.notebook.get_cells();\n                for (var i = 0; i < nbb_cells.length; ++i) {\n                    if (nbb_cells[i].input_prompt_number == nbb_cell_id) {\n                        if (nbb_cells[i].get_text() == nbb_unformatted_code) {\n                             nbb_cells[i].set_text(nbb_formatted_code);\n                        }\n                        break;\n                    }\n                }\n            }, 500);\n            ",
            "text/plain": [
              "<IPython.core.display.Javascript object>"
            ]
          },
          "metadata": {},
          "output_type": "display_data"
        },
        {
          "data": {
            "application/javascript": "\n            setTimeout(function() {\n                var nbb_cell_id = 71;\n                var nbb_unformatted_code = \"# https://pandas.pydata.org/docs/reference/api/pandas.DataFrame.drop.html\\ndata = data.drop(columns='Booking_ID') ## Complete the code to drop the Booking_ID column from the dataframe \";\n                var nbb_formatted_code = \"# https://pandas.pydata.org/docs/reference/api/pandas.DataFrame.drop.html\\ndata = data.drop(\\n    columns=\\\"Booking_ID\\\"\\n)  ## Complete the code to drop the Booking_ID column from the dataframe\";\n                var nbb_cells = Jupyter.notebook.get_cells();\n                for (var i = 0; i < nbb_cells.length; ++i) {\n                    if (nbb_cells[i].input_prompt_number == nbb_cell_id) {\n                        if (nbb_cells[i].get_text() == nbb_unformatted_code) {\n                             nbb_cells[i].set_text(nbb_formatted_code);\n                        }\n                        break;\n                    }\n                }\n            }, 500);\n            ",
            "text/plain": [
              "<IPython.core.display.Javascript object>"
            ]
          },
          "metadata": {},
          "output_type": "display_data"
        }
      ],
      "source": [
        "# https://pandas.pydata.org/docs/reference/api/pandas.DataFrame.drop.html\n",
        "data = data.drop(columns='Booking_ID') ## Complete the code to drop the Booking_ID column from the dataframe "
      ]
    },
    {
      "cell_type": "code",
      "execution_count": 72,
      "id": "2bfbf000",
      "metadata": {},
      "outputs": [
        {
          "data": {
            "text/html": [
              "<div>\n",
              "<style scoped>\n",
              "    .dataframe tbody tr th:only-of-type {\n",
              "        vertical-align: middle;\n",
              "    }\n",
              "\n",
              "    .dataframe tbody tr th {\n",
              "        vertical-align: top;\n",
              "    }\n",
              "\n",
              "    .dataframe thead th {\n",
              "        text-align: right;\n",
              "    }\n",
              "</style>\n",
              "<table border=\"1\" class=\"dataframe\">\n",
              "  <thead>\n",
              "    <tr style=\"text-align: right;\">\n",
              "      <th></th>\n",
              "      <th>no_of_adults</th>\n",
              "      <th>no_of_children</th>\n",
              "      <th>no_of_weekend_nights</th>\n",
              "      <th>no_of_week_nights</th>\n",
              "      <th>type_of_meal_plan</th>\n",
              "      <th>required_car_parking_space</th>\n",
              "      <th>room_type_reserved</th>\n",
              "      <th>lead_time</th>\n",
              "      <th>arrival_year</th>\n",
              "      <th>arrival_month</th>\n",
              "      <th>arrival_date</th>\n",
              "      <th>market_segment_type</th>\n",
              "      <th>repeated_guest</th>\n",
              "      <th>no_of_previous_cancellations</th>\n",
              "      <th>no_of_previous_bookings_not_canceled</th>\n",
              "      <th>avg_price_per_room</th>\n",
              "      <th>no_of_special_requests</th>\n",
              "      <th>booking_status</th>\n",
              "    </tr>\n",
              "  </thead>\n",
              "  <tbody>\n",
              "    <tr>\n",
              "      <th>0</th>\n",
              "      <td>2</td>\n",
              "      <td>0</td>\n",
              "      <td>1</td>\n",
              "      <td>2</td>\n",
              "      <td>Meal Plan 1</td>\n",
              "      <td>0</td>\n",
              "      <td>Room_Type 1</td>\n",
              "      <td>224</td>\n",
              "      <td>2017</td>\n",
              "      <td>10</td>\n",
              "      <td>2</td>\n",
              "      <td>Offline</td>\n",
              "      <td>0</td>\n",
              "      <td>0</td>\n",
              "      <td>0</td>\n",
              "      <td>65.00</td>\n",
              "      <td>0</td>\n",
              "      <td>Not_Canceled</td>\n",
              "    </tr>\n",
              "    <tr>\n",
              "      <th>1</th>\n",
              "      <td>2</td>\n",
              "      <td>0</td>\n",
              "      <td>2</td>\n",
              "      <td>3</td>\n",
              "      <td>Not Selected</td>\n",
              "      <td>0</td>\n",
              "      <td>Room_Type 1</td>\n",
              "      <td>5</td>\n",
              "      <td>2018</td>\n",
              "      <td>11</td>\n",
              "      <td>6</td>\n",
              "      <td>Online</td>\n",
              "      <td>0</td>\n",
              "      <td>0</td>\n",
              "      <td>0</td>\n",
              "      <td>106.68</td>\n",
              "      <td>1</td>\n",
              "      <td>Not_Canceled</td>\n",
              "    </tr>\n",
              "    <tr>\n",
              "      <th>2</th>\n",
              "      <td>1</td>\n",
              "      <td>0</td>\n",
              "      <td>2</td>\n",
              "      <td>1</td>\n",
              "      <td>Meal Plan 1</td>\n",
              "      <td>0</td>\n",
              "      <td>Room_Type 1</td>\n",
              "      <td>1</td>\n",
              "      <td>2018</td>\n",
              "      <td>2</td>\n",
              "      <td>28</td>\n",
              "      <td>Online</td>\n",
              "      <td>0</td>\n",
              "      <td>0</td>\n",
              "      <td>0</td>\n",
              "      <td>60.00</td>\n",
              "      <td>0</td>\n",
              "      <td>Canceled</td>\n",
              "    </tr>\n",
              "    <tr>\n",
              "      <th>3</th>\n",
              "      <td>2</td>\n",
              "      <td>0</td>\n",
              "      <td>0</td>\n",
              "      <td>2</td>\n",
              "      <td>Meal Plan 1</td>\n",
              "      <td>0</td>\n",
              "      <td>Room_Type 1</td>\n",
              "      <td>211</td>\n",
              "      <td>2018</td>\n",
              "      <td>5</td>\n",
              "      <td>20</td>\n",
              "      <td>Online</td>\n",
              "      <td>0</td>\n",
              "      <td>0</td>\n",
              "      <td>0</td>\n",
              "      <td>100.00</td>\n",
              "      <td>0</td>\n",
              "      <td>Canceled</td>\n",
              "    </tr>\n",
              "    <tr>\n",
              "      <th>4</th>\n",
              "      <td>2</td>\n",
              "      <td>0</td>\n",
              "      <td>1</td>\n",
              "      <td>1</td>\n",
              "      <td>Not Selected</td>\n",
              "      <td>0</td>\n",
              "      <td>Room_Type 1</td>\n",
              "      <td>48</td>\n",
              "      <td>2018</td>\n",
              "      <td>4</td>\n",
              "      <td>11</td>\n",
              "      <td>Online</td>\n",
              "      <td>0</td>\n",
              "      <td>0</td>\n",
              "      <td>0</td>\n",
              "      <td>94.50</td>\n",
              "      <td>0</td>\n",
              "      <td>Canceled</td>\n",
              "    </tr>\n",
              "  </tbody>\n",
              "</table>\n",
              "</div>"
            ],
            "text/plain": [
              "   no_of_adults  no_of_children  no_of_weekend_nights  no_of_week_nights type_of_meal_plan  required_car_parking_space room_type_reserved  lead_time  arrival_year  arrival_month  arrival_date market_segment_type  repeated_guest  no_of_previous_cancellations  no_of_previous_bookings_not_canceled  avg_price_per_room  no_of_special_requests booking_status\n",
              "0  2             0               1                     2                  Meal Plan 1       0                           Room_Type 1        224        2017          10             2             Offline             0               0                             0                                     65.00               0                       Not_Canceled \n",
              "1  2             0               2                     3                  Not Selected      0                           Room_Type 1        5          2018          11             6             Online              0               0                             0                                     106.68              1                       Not_Canceled \n",
              "2  1             0               2                     1                  Meal Plan 1       0                           Room_Type 1        1          2018          2              28            Online              0               0                             0                                     60.00               0                       Canceled     \n",
              "3  2             0               0                     2                  Meal Plan 1       0                           Room_Type 1        211        2018          5              20            Online              0               0                             0                                     100.00              0                       Canceled     \n",
              "4  2             0               1                     1                  Not Selected      0                           Room_Type 1        48         2018          4              11            Online              0               0                             0                                     94.50               0                       Canceled     "
            ]
          },
          "execution_count": 72,
          "metadata": {},
          "output_type": "execute_result"
        },
        {
          "data": {
            "application/javascript": "\n            setTimeout(function() {\n                var nbb_cell_id = 72;\n                var nbb_unformatted_code = \"# post drop Booking_ID\\ndata.head()\";\n                var nbb_formatted_code = \"# post drop Booking_ID\\ndata.head()\";\n                var nbb_cells = Jupyter.notebook.get_cells();\n                for (var i = 0; i < nbb_cells.length; ++i) {\n                    if (nbb_cells[i].input_prompt_number == nbb_cell_id) {\n                        if (nbb_cells[i].get_text() == nbb_unformatted_code) {\n                             nbb_cells[i].set_text(nbb_formatted_code);\n                        }\n                        break;\n                    }\n                }\n            }, 500);\n            ",
            "text/plain": [
              "<IPython.core.display.Javascript object>"
            ]
          },
          "metadata": {},
          "output_type": "display_data"
        },
        {
          "data": {
            "application/javascript": "\n            setTimeout(function() {\n                var nbb_cell_id = 72;\n                var nbb_unformatted_code = \"# post drop Booking_ID\\ndata.head()\";\n                var nbb_formatted_code = \"# post drop Booking_ID\\ndata.head()\";\n                var nbb_cells = Jupyter.notebook.get_cells();\n                for (var i = 0; i < nbb_cells.length; ++i) {\n                    if (nbb_cells[i].input_prompt_number == nbb_cell_id) {\n                        if (nbb_cells[i].get_text() == nbb_unformatted_code) {\n                             nbb_cells[i].set_text(nbb_formatted_code);\n                        }\n                        break;\n                    }\n                }\n            }, 500);\n            ",
            "text/plain": [
              "<IPython.core.display.Javascript object>"
            ]
          },
          "metadata": {},
          "output_type": "display_data"
        }
      ],
      "source": [
        "# post drop Booking_ID\n",
        "data.head()"
      ]
    },
    {
      "cell_type": "code",
      "execution_count": 73,
      "id": "dbc250b8",
      "metadata": {},
      "outputs": [
        {
          "data": {
            "text/plain": [
              "(36275, 18)"
            ]
          },
          "execution_count": 73,
          "metadata": {},
          "output_type": "execute_result"
        },
        {
          "data": {
            "application/javascript": "\n            setTimeout(function() {\n                var nbb_cell_id = 73;\n                var nbb_unformatted_code = \"data.shape\";\n                var nbb_formatted_code = \"data.shape\";\n                var nbb_cells = Jupyter.notebook.get_cells();\n                for (var i = 0; i < nbb_cells.length; ++i) {\n                    if (nbb_cells[i].input_prompt_number == nbb_cell_id) {\n                        if (nbb_cells[i].get_text() == nbb_unformatted_code) {\n                             nbb_cells[i].set_text(nbb_formatted_code);\n                        }\n                        break;\n                    }\n                }\n            }, 500);\n            ",
            "text/plain": [
              "<IPython.core.display.Javascript object>"
            ]
          },
          "metadata": {},
          "output_type": "display_data"
        },
        {
          "data": {
            "application/javascript": "\n            setTimeout(function() {\n                var nbb_cell_id = 73;\n                var nbb_unformatted_code = \"data.shape\";\n                var nbb_formatted_code = \"data.shape\";\n                var nbb_cells = Jupyter.notebook.get_cells();\n                for (var i = 0; i < nbb_cells.length; ++i) {\n                    if (nbb_cells[i].input_prompt_number == nbb_cell_id) {\n                        if (nbb_cells[i].get_text() == nbb_unformatted_code) {\n                             nbb_cells[i].set_text(nbb_formatted_code);\n                        }\n                        break;\n                    }\n                }\n            }, 500);\n            ",
            "text/plain": [
              "<IPython.core.display.Javascript object>"
            ]
          },
          "metadata": {},
          "output_type": "display_data"
        }
      ],
      "source": [
        "data.shape"
      ]
    },
    {
      "attachments": {},
      "cell_type": "markdown",
      "id": "40e46726",
      "metadata": {},
      "source": [
        "data.shape was (36275, 19) from above pre dropping column Booking_ID.<br>\n",
        "Now<br>\n",
        "data.shape is (36275, 18)\n",
        "\n",
        "Only 18 columns now that Booking_ID has been dropped."
      ]
    },
    {
      "cell_type": "code",
      "execution_count": 74,
      "id": "fe17dfca",
      "metadata": {},
      "outputs": [
        {
          "data": {
            "application/javascript": "\n            setTimeout(function() {\n                var nbb_cell_id = 74;\n                var nbb_unformatted_code = \"# pd.set_option('display.max_columns', None)\\n# pd.set_option('display.expand_frame_repr', False)\\n# # pd.set_option('max_colwidth', -1)\";\n                var nbb_formatted_code = \"# pd.set_option('display.max_columns', None)\\n# pd.set_option('display.expand_frame_repr', False)\\n# # pd.set_option('max_colwidth', -1)\";\n                var nbb_cells = Jupyter.notebook.get_cells();\n                for (var i = 0; i < nbb_cells.length; ++i) {\n                    if (nbb_cells[i].input_prompt_number == nbb_cell_id) {\n                        if (nbb_cells[i].get_text() == nbb_unformatted_code) {\n                             nbb_cells[i].set_text(nbb_formatted_code);\n                        }\n                        break;\n                    }\n                }\n            }, 500);\n            ",
            "text/plain": [
              "<IPython.core.display.Javascript object>"
            ]
          },
          "metadata": {},
          "output_type": "display_data"
        },
        {
          "data": {
            "application/javascript": "\n            setTimeout(function() {\n                var nbb_cell_id = 74;\n                var nbb_unformatted_code = \"# pd.set_option('display.max_columns', None)\\n# pd.set_option('display.expand_frame_repr', False)\\n# # pd.set_option('max_colwidth', -1)\";\n                var nbb_formatted_code = \"# pd.set_option('display.max_columns', None)\\n# pd.set_option('display.expand_frame_repr', False)\\n# # pd.set_option('max_colwidth', -1)\";\n                var nbb_cells = Jupyter.notebook.get_cells();\n                for (var i = 0; i < nbb_cells.length; ++i) {\n                    if (nbb_cells[i].input_prompt_number == nbb_cell_id) {\n                        if (nbb_cells[i].get_text() == nbb_unformatted_code) {\n                             nbb_cells[i].set_text(nbb_formatted_code);\n                        }\n                        break;\n                    }\n                }\n            }, 500);\n            ",
            "text/plain": [
              "<IPython.core.display.Javascript object>"
            ]
          },
          "metadata": {},
          "output_type": "display_data"
        }
      ],
      "source": [
        "# pd.set_option('display.max_columns', None)\n",
        "# pd.set_option('display.expand_frame_repr', False)\n",
        "# # pd.set_option('max_colwidth', -1)\n"
      ]
    },
    {
      "cell_type": "code",
      "execution_count": 75,
      "id": "40b248aa",
      "metadata": {
        "id": "40b248aa"
      },
      "outputs": [
        {
          "data": {
            "text/html": [
              "<div>\n",
              "<style scoped>\n",
              "    .dataframe tbody tr th:only-of-type {\n",
              "        vertical-align: middle;\n",
              "    }\n",
              "\n",
              "    .dataframe tbody tr th {\n",
              "        vertical-align: top;\n",
              "    }\n",
              "\n",
              "    .dataframe thead th {\n",
              "        text-align: right;\n",
              "    }\n",
              "</style>\n",
              "<table border=\"1\" class=\"dataframe\">\n",
              "  <thead>\n",
              "    <tr style=\"text-align: right;\">\n",
              "      <th></th>\n",
              "      <th>no_of_adults</th>\n",
              "      <th>no_of_children</th>\n",
              "      <th>no_of_weekend_nights</th>\n",
              "      <th>no_of_week_nights</th>\n",
              "      <th>type_of_meal_plan</th>\n",
              "      <th>required_car_parking_space</th>\n",
              "      <th>room_type_reserved</th>\n",
              "      <th>lead_time</th>\n",
              "      <th>arrival_year</th>\n",
              "      <th>arrival_month</th>\n",
              "      <th>arrival_date</th>\n",
              "      <th>market_segment_type</th>\n",
              "      <th>repeated_guest</th>\n",
              "      <th>no_of_previous_cancellations</th>\n",
              "      <th>no_of_previous_bookings_not_canceled</th>\n",
              "      <th>avg_price_per_room</th>\n",
              "      <th>no_of_special_requests</th>\n",
              "      <th>booking_status</th>\n",
              "    </tr>\n",
              "  </thead>\n",
              "  <tbody>\n",
              "    <tr>\n",
              "      <th>0</th>\n",
              "      <td>2</td>\n",
              "      <td>0</td>\n",
              "      <td>1</td>\n",
              "      <td>2</td>\n",
              "      <td>Meal Plan 1</td>\n",
              "      <td>0</td>\n",
              "      <td>Room_Type 1</td>\n",
              "      <td>224</td>\n",
              "      <td>2017</td>\n",
              "      <td>10</td>\n",
              "      <td>2</td>\n",
              "      <td>Offline</td>\n",
              "      <td>0</td>\n",
              "      <td>0</td>\n",
              "      <td>0</td>\n",
              "      <td>65.00</td>\n",
              "      <td>0</td>\n",
              "      <td>Not_Canceled</td>\n",
              "    </tr>\n",
              "    <tr>\n",
              "      <th>1</th>\n",
              "      <td>2</td>\n",
              "      <td>0</td>\n",
              "      <td>2</td>\n",
              "      <td>3</td>\n",
              "      <td>Not Selected</td>\n",
              "      <td>0</td>\n",
              "      <td>Room_Type 1</td>\n",
              "      <td>5</td>\n",
              "      <td>2018</td>\n",
              "      <td>11</td>\n",
              "      <td>6</td>\n",
              "      <td>Online</td>\n",
              "      <td>0</td>\n",
              "      <td>0</td>\n",
              "      <td>0</td>\n",
              "      <td>106.68</td>\n",
              "      <td>1</td>\n",
              "      <td>Not_Canceled</td>\n",
              "    </tr>\n",
              "    <tr>\n",
              "      <th>2</th>\n",
              "      <td>1</td>\n",
              "      <td>0</td>\n",
              "      <td>2</td>\n",
              "      <td>1</td>\n",
              "      <td>Meal Plan 1</td>\n",
              "      <td>0</td>\n",
              "      <td>Room_Type 1</td>\n",
              "      <td>1</td>\n",
              "      <td>2018</td>\n",
              "      <td>2</td>\n",
              "      <td>28</td>\n",
              "      <td>Online</td>\n",
              "      <td>0</td>\n",
              "      <td>0</td>\n",
              "      <td>0</td>\n",
              "      <td>60.00</td>\n",
              "      <td>0</td>\n",
              "      <td>Canceled</td>\n",
              "    </tr>\n",
              "    <tr>\n",
              "      <th>3</th>\n",
              "      <td>2</td>\n",
              "      <td>0</td>\n",
              "      <td>0</td>\n",
              "      <td>2</td>\n",
              "      <td>Meal Plan 1</td>\n",
              "      <td>0</td>\n",
              "      <td>Room_Type 1</td>\n",
              "      <td>211</td>\n",
              "      <td>2018</td>\n",
              "      <td>5</td>\n",
              "      <td>20</td>\n",
              "      <td>Online</td>\n",
              "      <td>0</td>\n",
              "      <td>0</td>\n",
              "      <td>0</td>\n",
              "      <td>100.00</td>\n",
              "      <td>0</td>\n",
              "      <td>Canceled</td>\n",
              "    </tr>\n",
              "    <tr>\n",
              "      <th>4</th>\n",
              "      <td>2</td>\n",
              "      <td>0</td>\n",
              "      <td>1</td>\n",
              "      <td>1</td>\n",
              "      <td>Not Selected</td>\n",
              "      <td>0</td>\n",
              "      <td>Room_Type 1</td>\n",
              "      <td>48</td>\n",
              "      <td>2018</td>\n",
              "      <td>4</td>\n",
              "      <td>11</td>\n",
              "      <td>Online</td>\n",
              "      <td>0</td>\n",
              "      <td>0</td>\n",
              "      <td>0</td>\n",
              "      <td>94.50</td>\n",
              "      <td>0</td>\n",
              "      <td>Canceled</td>\n",
              "    </tr>\n",
              "  </tbody>\n",
              "</table>\n",
              "</div>"
            ],
            "text/plain": [
              "   no_of_adults  no_of_children  no_of_weekend_nights  no_of_week_nights type_of_meal_plan  required_car_parking_space room_type_reserved  lead_time  arrival_year  arrival_month  arrival_date market_segment_type  repeated_guest  no_of_previous_cancellations  no_of_previous_bookings_not_canceled  avg_price_per_room  no_of_special_requests booking_status\n",
              "0  2             0               1                     2                  Meal Plan 1       0                           Room_Type 1        224        2017          10             2             Offline             0               0                             0                                     65.00               0                       Not_Canceled \n",
              "1  2             0               2                     3                  Not Selected      0                           Room_Type 1        5          2018          11             6             Online              0               0                             0                                     106.68              1                       Not_Canceled \n",
              "2  1             0               2                     1                  Meal Plan 1       0                           Room_Type 1        1          2018          2              28            Online              0               0                             0                                     60.00               0                       Canceled     \n",
              "3  2             0               0                     2                  Meal Plan 1       0                           Room_Type 1        211        2018          5              20            Online              0               0                             0                                     100.00              0                       Canceled     \n",
              "4  2             0               1                     1                  Not Selected      0                           Room_Type 1        48         2018          4              11            Online              0               0                             0                                     94.50               0                       Canceled     "
            ]
          },
          "execution_count": 75,
          "metadata": {},
          "output_type": "execute_result"
        },
        {
          "data": {
            "application/javascript": "\n            setTimeout(function() {\n                var nbb_cell_id = 75;\n                var nbb_unformatted_code = \"data.head()\";\n                var nbb_formatted_code = \"data.head()\";\n                var nbb_cells = Jupyter.notebook.get_cells();\n                for (var i = 0; i < nbb_cells.length; ++i) {\n                    if (nbb_cells[i].input_prompt_number == nbb_cell_id) {\n                        if (nbb_cells[i].get_text() == nbb_unformatted_code) {\n                             nbb_cells[i].set_text(nbb_formatted_code);\n                        }\n                        break;\n                    }\n                }\n            }, 500);\n            ",
            "text/plain": [
              "<IPython.core.display.Javascript object>"
            ]
          },
          "metadata": {},
          "output_type": "display_data"
        },
        {
          "data": {
            "application/javascript": "\n            setTimeout(function() {\n                var nbb_cell_id = 75;\n                var nbb_unformatted_code = \"data.head()\";\n                var nbb_formatted_code = \"data.head()\";\n                var nbb_cells = Jupyter.notebook.get_cells();\n                for (var i = 0; i < nbb_cells.length; ++i) {\n                    if (nbb_cells[i].input_prompt_number == nbb_cell_id) {\n                        if (nbb_cells[i].get_text() == nbb_unformatted_code) {\n                             nbb_cells[i].set_text(nbb_formatted_code);\n                        }\n                        break;\n                    }\n                }\n            }, 500);\n            ",
            "text/plain": [
              "<IPython.core.display.Javascript object>"
            ]
          },
          "metadata": {},
          "output_type": "display_data"
        }
      ],
      "source": [
        "data.head()"
      ]
    },
    {
      "cell_type": "markdown",
      "id": "realistic-mortgage",
      "metadata": {
        "id": "realistic-mortgage"
      },
      "source": [
        "## Exploratory Data Analysis"
      ]
    },
    {
      "cell_type": "markdown",
      "id": "seeing-newman",
      "metadata": {
        "id": "seeing-newman"
      },
      "source": [
        "**Let's check the statistical summary of the data.**"
      ]
    },
    {
      "cell_type": "code",
      "execution_count": 76,
      "id": "backed-solution",
      "metadata": {
        "id": "backed-solution"
      },
      "outputs": [
        {
          "data": {
            "text/html": [
              "<div>\n",
              "<style scoped>\n",
              "    .dataframe tbody tr th:only-of-type {\n",
              "        vertical-align: middle;\n",
              "    }\n",
              "\n",
              "    .dataframe tbody tr th {\n",
              "        vertical-align: top;\n",
              "    }\n",
              "\n",
              "    .dataframe thead th {\n",
              "        text-align: right;\n",
              "    }\n",
              "</style>\n",
              "<table border=\"1\" class=\"dataframe\">\n",
              "  <thead>\n",
              "    <tr style=\"text-align: right;\">\n",
              "      <th></th>\n",
              "      <th>no_of_adults</th>\n",
              "      <th>no_of_children</th>\n",
              "      <th>no_of_weekend_nights</th>\n",
              "      <th>no_of_week_nights</th>\n",
              "      <th>required_car_parking_space</th>\n",
              "      <th>lead_time</th>\n",
              "      <th>arrival_year</th>\n",
              "      <th>arrival_month</th>\n",
              "      <th>arrival_date</th>\n",
              "      <th>repeated_guest</th>\n",
              "      <th>no_of_previous_cancellations</th>\n",
              "      <th>no_of_previous_bookings_not_canceled</th>\n",
              "      <th>avg_price_per_room</th>\n",
              "      <th>no_of_special_requests</th>\n",
              "    </tr>\n",
              "  </thead>\n",
              "  <tbody>\n",
              "    <tr>\n",
              "      <th>count</th>\n",
              "      <td>36275.000000</td>\n",
              "      <td>36275.000000</td>\n",
              "      <td>36275.000000</td>\n",
              "      <td>36275.000000</td>\n",
              "      <td>36275.000000</td>\n",
              "      <td>36275.000000</td>\n",
              "      <td>36275.000000</td>\n",
              "      <td>36275.000000</td>\n",
              "      <td>36275.000000</td>\n",
              "      <td>36275.000000</td>\n",
              "      <td>36275.000000</td>\n",
              "      <td>36275.000000</td>\n",
              "      <td>36275.000000</td>\n",
              "      <td>36275.000000</td>\n",
              "    </tr>\n",
              "    <tr>\n",
              "      <th>mean</th>\n",
              "      <td>1.844962</td>\n",
              "      <td>0.105279</td>\n",
              "      <td>0.810724</td>\n",
              "      <td>2.204300</td>\n",
              "      <td>0.030986</td>\n",
              "      <td>85.232557</td>\n",
              "      <td>2017.820427</td>\n",
              "      <td>7.423653</td>\n",
              "      <td>15.596995</td>\n",
              "      <td>0.025637</td>\n",
              "      <td>0.023349</td>\n",
              "      <td>0.153411</td>\n",
              "      <td>103.423539</td>\n",
              "      <td>0.619655</td>\n",
              "    </tr>\n",
              "    <tr>\n",
              "      <th>std</th>\n",
              "      <td>0.518715</td>\n",
              "      <td>0.402648</td>\n",
              "      <td>0.870644</td>\n",
              "      <td>1.410905</td>\n",
              "      <td>0.173281</td>\n",
              "      <td>85.930817</td>\n",
              "      <td>0.383836</td>\n",
              "      <td>3.069894</td>\n",
              "      <td>8.740447</td>\n",
              "      <td>0.158053</td>\n",
              "      <td>0.368331</td>\n",
              "      <td>1.754171</td>\n",
              "      <td>35.089424</td>\n",
              "      <td>0.786236</td>\n",
              "    </tr>\n",
              "    <tr>\n",
              "      <th>min</th>\n",
              "      <td>0.000000</td>\n",
              "      <td>0.000000</td>\n",
              "      <td>0.000000</td>\n",
              "      <td>0.000000</td>\n",
              "      <td>0.000000</td>\n",
              "      <td>0.000000</td>\n",
              "      <td>2017.000000</td>\n",
              "      <td>1.000000</td>\n",
              "      <td>1.000000</td>\n",
              "      <td>0.000000</td>\n",
              "      <td>0.000000</td>\n",
              "      <td>0.000000</td>\n",
              "      <td>0.000000</td>\n",
              "      <td>0.000000</td>\n",
              "    </tr>\n",
              "    <tr>\n",
              "      <th>25%</th>\n",
              "      <td>2.000000</td>\n",
              "      <td>0.000000</td>\n",
              "      <td>0.000000</td>\n",
              "      <td>1.000000</td>\n",
              "      <td>0.000000</td>\n",
              "      <td>17.000000</td>\n",
              "      <td>2018.000000</td>\n",
              "      <td>5.000000</td>\n",
              "      <td>8.000000</td>\n",
              "      <td>0.000000</td>\n",
              "      <td>0.000000</td>\n",
              "      <td>0.000000</td>\n",
              "      <td>80.300000</td>\n",
              "      <td>0.000000</td>\n",
              "    </tr>\n",
              "    <tr>\n",
              "      <th>50%</th>\n",
              "      <td>2.000000</td>\n",
              "      <td>0.000000</td>\n",
              "      <td>1.000000</td>\n",
              "      <td>2.000000</td>\n",
              "      <td>0.000000</td>\n",
              "      <td>57.000000</td>\n",
              "      <td>2018.000000</td>\n",
              "      <td>8.000000</td>\n",
              "      <td>16.000000</td>\n",
              "      <td>0.000000</td>\n",
              "      <td>0.000000</td>\n",
              "      <td>0.000000</td>\n",
              "      <td>99.450000</td>\n",
              "      <td>0.000000</td>\n",
              "    </tr>\n",
              "    <tr>\n",
              "      <th>75%</th>\n",
              "      <td>2.000000</td>\n",
              "      <td>0.000000</td>\n",
              "      <td>2.000000</td>\n",
              "      <td>3.000000</td>\n",
              "      <td>0.000000</td>\n",
              "      <td>126.000000</td>\n",
              "      <td>2018.000000</td>\n",
              "      <td>10.000000</td>\n",
              "      <td>23.000000</td>\n",
              "      <td>0.000000</td>\n",
              "      <td>0.000000</td>\n",
              "      <td>0.000000</td>\n",
              "      <td>120.000000</td>\n",
              "      <td>1.000000</td>\n",
              "    </tr>\n",
              "    <tr>\n",
              "      <th>max</th>\n",
              "      <td>4.000000</td>\n",
              "      <td>10.000000</td>\n",
              "      <td>7.000000</td>\n",
              "      <td>17.000000</td>\n",
              "      <td>1.000000</td>\n",
              "      <td>443.000000</td>\n",
              "      <td>2018.000000</td>\n",
              "      <td>12.000000</td>\n",
              "      <td>31.000000</td>\n",
              "      <td>1.000000</td>\n",
              "      <td>13.000000</td>\n",
              "      <td>58.000000</td>\n",
              "      <td>540.000000</td>\n",
              "      <td>5.000000</td>\n",
              "    </tr>\n",
              "  </tbody>\n",
              "</table>\n",
              "</div>"
            ],
            "text/plain": [
              "       no_of_adults  no_of_children  no_of_weekend_nights  no_of_week_nights  required_car_parking_space     lead_time  arrival_year  arrival_month  arrival_date  repeated_guest  no_of_previous_cancellations  no_of_previous_bookings_not_canceled  avg_price_per_room  no_of_special_requests\n",
              "count  36275.000000  36275.000000    36275.000000          36275.000000       36275.000000                36275.000000  36275.000000  36275.000000   36275.000000  36275.000000    36275.000000                  36275.000000                          36275.000000        36275.000000          \n",
              "mean   1.844962      0.105279        0.810724              2.204300           0.030986                    85.232557     2017.820427   7.423653       15.596995     0.025637        0.023349                      0.153411                              103.423539          0.619655              \n",
              "std    0.518715      0.402648        0.870644              1.410905           0.173281                    85.930817     0.383836      3.069894       8.740447      0.158053        0.368331                      1.754171                              35.089424           0.786236              \n",
              "min    0.000000      0.000000        0.000000              0.000000           0.000000                    0.000000      2017.000000   1.000000       1.000000      0.000000        0.000000                      0.000000                              0.000000            0.000000              \n",
              "25%    2.000000      0.000000        0.000000              1.000000           0.000000                    17.000000     2018.000000   5.000000       8.000000      0.000000        0.000000                      0.000000                              80.300000           0.000000              \n",
              "50%    2.000000      0.000000        1.000000              2.000000           0.000000                    57.000000     2018.000000   8.000000       16.000000     0.000000        0.000000                      0.000000                              99.450000           0.000000              \n",
              "75%    2.000000      0.000000        2.000000              3.000000           0.000000                    126.000000    2018.000000   10.000000      23.000000     0.000000        0.000000                      0.000000                              120.000000          1.000000              \n",
              "max    4.000000      10.000000       7.000000              17.000000          1.000000                    443.000000    2018.000000   12.000000      31.000000     1.000000        13.000000                     58.000000                             540.000000          5.000000              "
            ]
          },
          "execution_count": 76,
          "metadata": {},
          "output_type": "execute_result"
        },
        {
          "data": {
            "application/javascript": "\n            setTimeout(function() {\n                var nbb_cell_id = 76;\n                var nbb_unformatted_code = \"data.describe() ##  Complete the code to print the statistical summary of the data\";\n                var nbb_formatted_code = \"data.describe()  ##  Complete the code to print the statistical summary of the data\";\n                var nbb_cells = Jupyter.notebook.get_cells();\n                for (var i = 0; i < nbb_cells.length; ++i) {\n                    if (nbb_cells[i].input_prompt_number == nbb_cell_id) {\n                        if (nbb_cells[i].get_text() == nbb_unformatted_code) {\n                             nbb_cells[i].set_text(nbb_formatted_code);\n                        }\n                        break;\n                    }\n                }\n            }, 500);\n            ",
            "text/plain": [
              "<IPython.core.display.Javascript object>"
            ]
          },
          "metadata": {},
          "output_type": "display_data"
        },
        {
          "data": {
            "application/javascript": "\n            setTimeout(function() {\n                var nbb_cell_id = 76;\n                var nbb_unformatted_code = \"data.describe() ##  Complete the code to print the statistical summary of the data\";\n                var nbb_formatted_code = \"data.describe()  ##  Complete the code to print the statistical summary of the data\";\n                var nbb_cells = Jupyter.notebook.get_cells();\n                for (var i = 0; i < nbb_cells.length; ++i) {\n                    if (nbb_cells[i].input_prompt_number == nbb_cell_id) {\n                        if (nbb_cells[i].get_text() == nbb_unformatted_code) {\n                             nbb_cells[i].set_text(nbb_formatted_code);\n                        }\n                        break;\n                    }\n                }\n            }, 500);\n            ",
            "text/plain": [
              "<IPython.core.display.Javascript object>"
            ]
          },
          "metadata": {},
          "output_type": "display_data"
        }
      ],
      "source": [
        "data.describe() ##  Complete the code to print the statistical summary of the data"
      ]
    },
    {
      "cell_type": "code",
      "execution_count": 77,
      "id": "42d45848",
      "metadata": {},
      "outputs": [
        {
          "data": {
            "text/html": [
              "<div>\n",
              "<style scoped>\n",
              "    .dataframe tbody tr th:only-of-type {\n",
              "        vertical-align: middle;\n",
              "    }\n",
              "\n",
              "    .dataframe tbody tr th {\n",
              "        vertical-align: top;\n",
              "    }\n",
              "\n",
              "    .dataframe thead th {\n",
              "        text-align: right;\n",
              "    }\n",
              "</style>\n",
              "<table border=\"1\" class=\"dataframe\">\n",
              "  <thead>\n",
              "    <tr style=\"text-align: right;\">\n",
              "      <th></th>\n",
              "      <th>count</th>\n",
              "      <th>mean</th>\n",
              "      <th>std</th>\n",
              "      <th>min</th>\n",
              "      <th>25%</th>\n",
              "      <th>50%</th>\n",
              "      <th>75%</th>\n",
              "      <th>max</th>\n",
              "    </tr>\n",
              "  </thead>\n",
              "  <tbody>\n",
              "    <tr>\n",
              "      <th>no_of_adults</th>\n",
              "      <td>36275.0</td>\n",
              "      <td>1.844962</td>\n",
              "      <td>0.518715</td>\n",
              "      <td>0.0</td>\n",
              "      <td>2.0</td>\n",
              "      <td>2.00</td>\n",
              "      <td>2.0</td>\n",
              "      <td>4.0</td>\n",
              "    </tr>\n",
              "    <tr>\n",
              "      <th>no_of_children</th>\n",
              "      <td>36275.0</td>\n",
              "      <td>0.105279</td>\n",
              "      <td>0.402648</td>\n",
              "      <td>0.0</td>\n",
              "      <td>0.0</td>\n",
              "      <td>0.00</td>\n",
              "      <td>0.0</td>\n",
              "      <td>10.0</td>\n",
              "    </tr>\n",
              "    <tr>\n",
              "      <th>no_of_weekend_nights</th>\n",
              "      <td>36275.0</td>\n",
              "      <td>0.810724</td>\n",
              "      <td>0.870644</td>\n",
              "      <td>0.0</td>\n",
              "      <td>0.0</td>\n",
              "      <td>1.00</td>\n",
              "      <td>2.0</td>\n",
              "      <td>7.0</td>\n",
              "    </tr>\n",
              "    <tr>\n",
              "      <th>no_of_week_nights</th>\n",
              "      <td>36275.0</td>\n",
              "      <td>2.204300</td>\n",
              "      <td>1.410905</td>\n",
              "      <td>0.0</td>\n",
              "      <td>1.0</td>\n",
              "      <td>2.00</td>\n",
              "      <td>3.0</td>\n",
              "      <td>17.0</td>\n",
              "    </tr>\n",
              "    <tr>\n",
              "      <th>required_car_parking_space</th>\n",
              "      <td>36275.0</td>\n",
              "      <td>0.030986</td>\n",
              "      <td>0.173281</td>\n",
              "      <td>0.0</td>\n",
              "      <td>0.0</td>\n",
              "      <td>0.00</td>\n",
              "      <td>0.0</td>\n",
              "      <td>1.0</td>\n",
              "    </tr>\n",
              "    <tr>\n",
              "      <th>lead_time</th>\n",
              "      <td>36275.0</td>\n",
              "      <td>85.232557</td>\n",
              "      <td>85.930817</td>\n",
              "      <td>0.0</td>\n",
              "      <td>17.0</td>\n",
              "      <td>57.00</td>\n",
              "      <td>126.0</td>\n",
              "      <td>443.0</td>\n",
              "    </tr>\n",
              "    <tr>\n",
              "      <th>arrival_year</th>\n",
              "      <td>36275.0</td>\n",
              "      <td>2017.820427</td>\n",
              "      <td>0.383836</td>\n",
              "      <td>2017.0</td>\n",
              "      <td>2018.0</td>\n",
              "      <td>2018.00</td>\n",
              "      <td>2018.0</td>\n",
              "      <td>2018.0</td>\n",
              "    </tr>\n",
              "    <tr>\n",
              "      <th>arrival_month</th>\n",
              "      <td>36275.0</td>\n",
              "      <td>7.423653</td>\n",
              "      <td>3.069894</td>\n",
              "      <td>1.0</td>\n",
              "      <td>5.0</td>\n",
              "      <td>8.00</td>\n",
              "      <td>10.0</td>\n",
              "      <td>12.0</td>\n",
              "    </tr>\n",
              "    <tr>\n",
              "      <th>arrival_date</th>\n",
              "      <td>36275.0</td>\n",
              "      <td>15.596995</td>\n",
              "      <td>8.740447</td>\n",
              "      <td>1.0</td>\n",
              "      <td>8.0</td>\n",
              "      <td>16.00</td>\n",
              "      <td>23.0</td>\n",
              "      <td>31.0</td>\n",
              "    </tr>\n",
              "    <tr>\n",
              "      <th>repeated_guest</th>\n",
              "      <td>36275.0</td>\n",
              "      <td>0.025637</td>\n",
              "      <td>0.158053</td>\n",
              "      <td>0.0</td>\n",
              "      <td>0.0</td>\n",
              "      <td>0.00</td>\n",
              "      <td>0.0</td>\n",
              "      <td>1.0</td>\n",
              "    </tr>\n",
              "    <tr>\n",
              "      <th>no_of_previous_cancellations</th>\n",
              "      <td>36275.0</td>\n",
              "      <td>0.023349</td>\n",
              "      <td>0.368331</td>\n",
              "      <td>0.0</td>\n",
              "      <td>0.0</td>\n",
              "      <td>0.00</td>\n",
              "      <td>0.0</td>\n",
              "      <td>13.0</td>\n",
              "    </tr>\n",
              "    <tr>\n",
              "      <th>no_of_previous_bookings_not_canceled</th>\n",
              "      <td>36275.0</td>\n",
              "      <td>0.153411</td>\n",
              "      <td>1.754171</td>\n",
              "      <td>0.0</td>\n",
              "      <td>0.0</td>\n",
              "      <td>0.00</td>\n",
              "      <td>0.0</td>\n",
              "      <td>58.0</td>\n",
              "    </tr>\n",
              "    <tr>\n",
              "      <th>avg_price_per_room</th>\n",
              "      <td>36275.0</td>\n",
              "      <td>103.423539</td>\n",
              "      <td>35.089424</td>\n",
              "      <td>0.0</td>\n",
              "      <td>80.3</td>\n",
              "      <td>99.45</td>\n",
              "      <td>120.0</td>\n",
              "      <td>540.0</td>\n",
              "    </tr>\n",
              "    <tr>\n",
              "      <th>no_of_special_requests</th>\n",
              "      <td>36275.0</td>\n",
              "      <td>0.619655</td>\n",
              "      <td>0.786236</td>\n",
              "      <td>0.0</td>\n",
              "      <td>0.0</td>\n",
              "      <td>0.00</td>\n",
              "      <td>1.0</td>\n",
              "      <td>5.0</td>\n",
              "    </tr>\n",
              "  </tbody>\n",
              "</table>\n",
              "</div>"
            ],
            "text/plain": [
              "                                        count         mean        std     min     25%      50%     75%     max\n",
              "no_of_adults                          36275.0  1.844962     0.518715   0.0     2.0     2.00     2.0     4.0   \n",
              "no_of_children                        36275.0  0.105279     0.402648   0.0     0.0     0.00     0.0     10.0  \n",
              "no_of_weekend_nights                  36275.0  0.810724     0.870644   0.0     0.0     1.00     2.0     7.0   \n",
              "no_of_week_nights                     36275.0  2.204300     1.410905   0.0     1.0     2.00     3.0     17.0  \n",
              "required_car_parking_space            36275.0  0.030986     0.173281   0.0     0.0     0.00     0.0     1.0   \n",
              "lead_time                             36275.0  85.232557    85.930817  0.0     17.0    57.00    126.0   443.0 \n",
              "arrival_year                          36275.0  2017.820427  0.383836   2017.0  2018.0  2018.00  2018.0  2018.0\n",
              "arrival_month                         36275.0  7.423653     3.069894   1.0     5.0     8.00     10.0    12.0  \n",
              "arrival_date                          36275.0  15.596995    8.740447   1.0     8.0     16.00    23.0    31.0  \n",
              "repeated_guest                        36275.0  0.025637     0.158053   0.0     0.0     0.00     0.0     1.0   \n",
              "no_of_previous_cancellations          36275.0  0.023349     0.368331   0.0     0.0     0.00     0.0     13.0  \n",
              "no_of_previous_bookings_not_canceled  36275.0  0.153411     1.754171   0.0     0.0     0.00     0.0     58.0  \n",
              "avg_price_per_room                    36275.0  103.423539   35.089424  0.0     80.3    99.45    120.0   540.0 \n",
              "no_of_special_requests                36275.0  0.619655     0.786236   0.0     0.0     0.00     1.0     5.0   "
            ]
          },
          "execution_count": 77,
          "metadata": {},
          "output_type": "execute_result"
        },
        {
          "data": {
            "application/javascript": "\n            setTimeout(function() {\n                var nbb_cell_id = 77;\n                var nbb_unformatted_code = \"data.describe().T\";\n                var nbb_formatted_code = \"data.describe().T\";\n                var nbb_cells = Jupyter.notebook.get_cells();\n                for (var i = 0; i < nbb_cells.length; ++i) {\n                    if (nbb_cells[i].input_prompt_number == nbb_cell_id) {\n                        if (nbb_cells[i].get_text() == nbb_unformatted_code) {\n                             nbb_cells[i].set_text(nbb_formatted_code);\n                        }\n                        break;\n                    }\n                }\n            }, 500);\n            ",
            "text/plain": [
              "<IPython.core.display.Javascript object>"
            ]
          },
          "metadata": {},
          "output_type": "display_data"
        },
        {
          "data": {
            "application/javascript": "\n            setTimeout(function() {\n                var nbb_cell_id = 77;\n                var nbb_unformatted_code = \"data.describe().T\";\n                var nbb_formatted_code = \"data.describe().T\";\n                var nbb_cells = Jupyter.notebook.get_cells();\n                for (var i = 0; i < nbb_cells.length; ++i) {\n                    if (nbb_cells[i].input_prompt_number == nbb_cell_id) {\n                        if (nbb_cells[i].get_text() == nbb_unformatted_code) {\n                             nbb_cells[i].set_text(nbb_formatted_code);\n                        }\n                        break;\n                    }\n                }\n            }, 500);\n            ",
            "text/plain": [
              "<IPython.core.display.Javascript object>"
            ]
          },
          "metadata": {},
          "output_type": "display_data"
        }
      ],
      "source": [
        "data.describe().T"
      ]
    },
    {
      "cell_type": "markdown",
      "id": "arbitrary-intelligence",
      "metadata": {
        "id": "arbitrary-intelligence"
      },
      "source": [
        "### Univariate Analysis"
      ]
    },
    {
      "cell_type": "code",
      "execution_count": 78,
      "id": "several-cheese",
      "metadata": {
        "id": "several-cheese"
      },
      "outputs": [
        {
          "data": {
            "application/javascript": "\n            setTimeout(function() {\n                var nbb_cell_id = 78;\n                var nbb_unformatted_code = \"def histogram_boxplot(data, feature, figsize=(15, 10), kde=False, bins=None):\\n    \\\"\\\"\\\"\\n    Boxplot and histogram combined\\n\\n    data: dataframe\\n    feature: dataframe column\\n    figsize: size of figure (default (15,10))\\n    kde: whether to show the density curve (default False)\\n    bins: number of bins for histogram (default None)\\n    \\\"\\\"\\\"\\n    f2, (ax_box2, ax_hist2) = plt.subplots(\\n        nrows=2,  # Number of rows of the subplot grid= 2\\n        sharex=True,  # x-axis will be shared among all subplots\\n        gridspec_kw={\\\"height_ratios\\\": (0.25, 0.75)},\\n        figsize=figsize,\\n    )  # creating the 2 subplots\\n    sns.boxplot(\\n        data=data, x=feature, ax=ax_box2, showmeans=True, color=\\\"violet\\\"\\n    )  # boxplot will be created and a triangle will indicate the mean value of the column\\n    sns.histplot(\\n        data=data, x=feature, kde=kde, ax=ax_hist2, bins=bins\\n    ) if bins else sns.histplot(\\n        data=data, x=feature, kde=kde, ax=ax_hist2\\n    )  # For histogram\\n    ax_hist2.axvline(\\n        data[feature].mean(), color=\\\"green\\\", linestyle=\\\"--\\\"\\n    )  # Add mean to the histogram\\n    ax_hist2.axvline(\\n        data[feature].median(), color=\\\"black\\\", linestyle=\\\"-\\\"\\n    )  # Add median to the histogram\";\n                var nbb_formatted_code = \"def histogram_boxplot(data, feature, figsize=(15, 10), kde=False, bins=None):\\n    \\\"\\\"\\\"\\n    Boxplot and histogram combined\\n\\n    data: dataframe\\n    feature: dataframe column\\n    figsize: size of figure (default (15,10))\\n    kde: whether to show the density curve (default False)\\n    bins: number of bins for histogram (default None)\\n    \\\"\\\"\\\"\\n    f2, (ax_box2, ax_hist2) = plt.subplots(\\n        nrows=2,  # Number of rows of the subplot grid= 2\\n        sharex=True,  # x-axis will be shared among all subplots\\n        gridspec_kw={\\\"height_ratios\\\": (0.25, 0.75)},\\n        figsize=figsize,\\n    )  # creating the 2 subplots\\n    sns.boxplot(\\n        data=data, x=feature, ax=ax_box2, showmeans=True, color=\\\"violet\\\"\\n    )  # boxplot will be created and a triangle will indicate the mean value of the column\\n    sns.histplot(\\n        data=data, x=feature, kde=kde, ax=ax_hist2, bins=bins\\n    ) if bins else sns.histplot(\\n        data=data, x=feature, kde=kde, ax=ax_hist2\\n    )  # For histogram\\n    ax_hist2.axvline(\\n        data[feature].mean(), color=\\\"green\\\", linestyle=\\\"--\\\"\\n    )  # Add mean to the histogram\\n    ax_hist2.axvline(\\n        data[feature].median(), color=\\\"black\\\", linestyle=\\\"-\\\"\\n    )  # Add median to the histogram\";\n                var nbb_cells = Jupyter.notebook.get_cells();\n                for (var i = 0; i < nbb_cells.length; ++i) {\n                    if (nbb_cells[i].input_prompt_number == nbb_cell_id) {\n                        if (nbb_cells[i].get_text() == nbb_unformatted_code) {\n                             nbb_cells[i].set_text(nbb_formatted_code);\n                        }\n                        break;\n                    }\n                }\n            }, 500);\n            ",
            "text/plain": [
              "<IPython.core.display.Javascript object>"
            ]
          },
          "metadata": {},
          "output_type": "display_data"
        },
        {
          "data": {
            "application/javascript": "\n            setTimeout(function() {\n                var nbb_cell_id = 78;\n                var nbb_unformatted_code = \"def histogram_boxplot(data, feature, figsize=(15, 10), kde=False, bins=None):\\n    \\\"\\\"\\\"\\n    Boxplot and histogram combined\\n\\n    data: dataframe\\n    feature: dataframe column\\n    figsize: size of figure (default (15,10))\\n    kde: whether to show the density curve (default False)\\n    bins: number of bins for histogram (default None)\\n    \\\"\\\"\\\"\\n    f2, (ax_box2, ax_hist2) = plt.subplots(\\n        nrows=2,  # Number of rows of the subplot grid= 2\\n        sharex=True,  # x-axis will be shared among all subplots\\n        gridspec_kw={\\\"height_ratios\\\": (0.25, 0.75)},\\n        figsize=figsize,\\n    )  # creating the 2 subplots\\n    sns.boxplot(\\n        data=data, x=feature, ax=ax_box2, showmeans=True, color=\\\"violet\\\"\\n    )  # boxplot will be created and a triangle will indicate the mean value of the column\\n    sns.histplot(\\n        data=data, x=feature, kde=kde, ax=ax_hist2, bins=bins\\n    ) if bins else sns.histplot(\\n        data=data, x=feature, kde=kde, ax=ax_hist2\\n    )  # For histogram\\n    ax_hist2.axvline(\\n        data[feature].mean(), color=\\\"green\\\", linestyle=\\\"--\\\"\\n    )  # Add mean to the histogram\\n    ax_hist2.axvline(\\n        data[feature].median(), color=\\\"black\\\", linestyle=\\\"-\\\"\\n    )  # Add median to the histogram\";\n                var nbb_formatted_code = \"def histogram_boxplot(data, feature, figsize=(15, 10), kde=False, bins=None):\\n    \\\"\\\"\\\"\\n    Boxplot and histogram combined\\n\\n    data: dataframe\\n    feature: dataframe column\\n    figsize: size of figure (default (15,10))\\n    kde: whether to show the density curve (default False)\\n    bins: number of bins for histogram (default None)\\n    \\\"\\\"\\\"\\n    f2, (ax_box2, ax_hist2) = plt.subplots(\\n        nrows=2,  # Number of rows of the subplot grid= 2\\n        sharex=True,  # x-axis will be shared among all subplots\\n        gridspec_kw={\\\"height_ratios\\\": (0.25, 0.75)},\\n        figsize=figsize,\\n    )  # creating the 2 subplots\\n    sns.boxplot(\\n        data=data, x=feature, ax=ax_box2, showmeans=True, color=\\\"violet\\\"\\n    )  # boxplot will be created and a triangle will indicate the mean value of the column\\n    sns.histplot(\\n        data=data, x=feature, kde=kde, ax=ax_hist2, bins=bins\\n    ) if bins else sns.histplot(\\n        data=data, x=feature, kde=kde, ax=ax_hist2\\n    )  # For histogram\\n    ax_hist2.axvline(\\n        data[feature].mean(), color=\\\"green\\\", linestyle=\\\"--\\\"\\n    )  # Add mean to the histogram\\n    ax_hist2.axvline(\\n        data[feature].median(), color=\\\"black\\\", linestyle=\\\"-\\\"\\n    )  # Add median to the histogram\";\n                var nbb_cells = Jupyter.notebook.get_cells();\n                for (var i = 0; i < nbb_cells.length; ++i) {\n                    if (nbb_cells[i].input_prompt_number == nbb_cell_id) {\n                        if (nbb_cells[i].get_text() == nbb_unformatted_code) {\n                             nbb_cells[i].set_text(nbb_formatted_code);\n                        }\n                        break;\n                    }\n                }\n            }, 500);\n            ",
            "text/plain": [
              "<IPython.core.display.Javascript object>"
            ]
          },
          "metadata": {},
          "output_type": "display_data"
        }
      ],
      "source": [
        "def histogram_boxplot(data, feature, figsize=(7, 5), kde=False, bins=None):\n",
        "    \"\"\"\n",
        "    Boxplot and histogram combined\n",
        "\n",
        "    data: dataframe\n",
        "    feature: dataframe column\n",
        "    figsize: size of figure (default (15,10)) (default reset to (7, 5))\n",
        "    kde: whether to show the density curve (default False)\n",
        "    bins: number of bins for histogram (default None)\n",
        "    \"\"\"\n",
        "    f2, (ax_box2, ax_hist2) = plt.subplots(\n",
        "        nrows=2,  # Number of rows of the subplot grid= 2\n",
        "        sharex=True,  # x-axis will be shared among all subplots\n",
        "        gridspec_kw={\"height_ratios\": (0.25, 0.75)},\n",
        "        figsize=figsize,\n",
        "    )  # creating the 2 subplots\n",
        "    sns.boxplot(\n",
        "        data=data, x=feature, ax=ax_box2, showmeans=True, color=\"violet\"\n",
        "    )  # boxplot will be created and a triangle will indicate the mean value of the column\n",
        "    sns.histplot(\n",
        "        data=data, x=feature, kde=kde, ax=ax_hist2, bins=bins\n",
        "    ) if bins else sns.histplot(\n",
        "        data=data, x=feature, kde=kde, ax=ax_hist2\n",
        "    )  # For histogram\n",
        "    ax_hist2.axvline(\n",
        "        data[feature].mean(), color=\"green\", linestyle=\"--\"\n",
        "    )  # Add mean to the histogram\n",
        "    ax_hist2.axvline(\n",
        "        data[feature].median(), color=\"black\", linestyle=\"-\"\n",
        "    )  # Add median to the histogram"
      ]
    },
    {
      "cell_type": "markdown",
      "id": "western-elevation",
      "metadata": {
        "id": "western-elevation"
      },
      "source": [
        "### Observations on lead time"
      ]
    },
    {
      "attachments": {},
      "cell_type": "markdown",
      "id": "c80b5b07",
      "metadata": {},
      "source": [
        "https://matplotlib.org/stable/tutorials/introductory/pyplot.html\n",
        "\n",
        "https://matplotlib.org/stable/tutorials/introductory/images.html\n",
        "\n",
        "preliminary testing to get plots working:"
      ]
    },
    {
      "cell_type": "code",
      "execution_count": 80,
      "id": "aa1d2515",
      "metadata": {},
      "outputs": [
        {
          "data": {
            "image/png": "[encoded data removed]",
            "text/plain": [
              "<Figure size 640x480 with 1 Axes>"
            ]
          },
          "metadata": {},
          "output_type": "display_data"
        },
        {
          "data": {
            "application/javascript": "\n            setTimeout(function() {\n                var nbb_cell_id = 80;\n                var nbb_unformatted_code = \"import matplotlib.pyplot as plt\\nplt.plot([1, 2, 3, 4])\\nplt.ylabel('some numbers')\\nplt.show()\";\n                var nbb_formatted_code = \"import matplotlib.pyplot as plt\\n\\nplt.plot([1, 2, 3, 4])\\nplt.ylabel(\\\"some numbers\\\")\\nplt.show()\";\n                var nbb_cells = Jupyter.notebook.get_cells();\n                for (var i = 0; i < nbb_cells.length; ++i) {\n                    if (nbb_cells[i].input_prompt_number == nbb_cell_id) {\n                        if (nbb_cells[i].get_text() == nbb_unformatted_code) {\n                             nbb_cells[i].set_text(nbb_formatted_code);\n                        }\n                        break;\n                    }\n                }\n            }, 500);\n            ",
            "text/plain": [
              "<IPython.core.display.Javascript object>"
            ]
          },
          "metadata": {},
          "output_type": "display_data"
        },
        {
          "data": {
            "application/javascript": "\n            setTimeout(function() {\n                var nbb_cell_id = 80;\n                var nbb_unformatted_code = \"import matplotlib.pyplot as plt\\nplt.plot([1, 2, 3, 4])\\nplt.ylabel('some numbers')\\nplt.show()\";\n                var nbb_formatted_code = \"import matplotlib.pyplot as plt\\n\\nplt.plot([1, 2, 3, 4])\\nplt.ylabel(\\\"some numbers\\\")\\nplt.show()\";\n                var nbb_cells = Jupyter.notebook.get_cells();\n                for (var i = 0; i < nbb_cells.length; ++i) {\n                    if (nbb_cells[i].input_prompt_number == nbb_cell_id) {\n                        if (nbb_cells[i].get_text() == nbb_unformatted_code) {\n                             nbb_cells[i].set_text(nbb_formatted_code);\n                        }\n                        break;\n                    }\n                }\n            }, 500);\n            ",
            "text/plain": [
              "<IPython.core.display.Javascript object>"
            ]
          },
          "metadata": {},
          "output_type": "display_data"
        }
      ],
      "source": [
        "import matplotlib.pyplot as plt\n",
        "plt.plot([1, 2, 3, 4])\n",
        "plt.ylabel('some numbers')\n",
        "plt.show()\n"
      ]
    },
    {
      "cell_type": "code",
      "execution_count": 81,
      "id": "0452d9e0",
      "metadata": {},
      "outputs": [
        {
          "data": {
            "text/plain": [
              "[<matplotlib.lines.Line2D at 0x1ffb23171f0>]"
            ]
          },
          "execution_count": 81,
          "metadata": {},
          "output_type": "execute_result"
        },
        {
          "data": {
            "image/png": "[encoded data removed]",
            "text/plain": [
              "<Figure size 640x480 with 1 Axes>"
            ]
          },
          "metadata": {},
          "output_type": "display_data"
        },
        {
          "data": {
            "application/javascript": "\n            setTimeout(function() {\n                var nbb_cell_id = 81;\n                var nbb_unformatted_code = \"plt.plot([1, 2, 3, 4], [1, 4, 9, 16])\";\n                var nbb_formatted_code = \"plt.plot([1, 2, 3, 4], [1, 4, 9, 16])\";\n                var nbb_cells = Jupyter.notebook.get_cells();\n                for (var i = 0; i < nbb_cells.length; ++i) {\n                    if (nbb_cells[i].input_prompt_number == nbb_cell_id) {\n                        if (nbb_cells[i].get_text() == nbb_unformatted_code) {\n                             nbb_cells[i].set_text(nbb_formatted_code);\n                        }\n                        break;\n                    }\n                }\n            }, 500);\n            ",
            "text/plain": [
              "<IPython.core.display.Javascript object>"
            ]
          },
          "metadata": {},
          "output_type": "display_data"
        },
        {
          "data": {
            "application/javascript": "\n            setTimeout(function() {\n                var nbb_cell_id = 81;\n                var nbb_unformatted_code = \"plt.plot([1, 2, 3, 4], [1, 4, 9, 16])\";\n                var nbb_formatted_code = \"plt.plot([1, 2, 3, 4], [1, 4, 9, 16])\";\n                var nbb_cells = Jupyter.notebook.get_cells();\n                for (var i = 0; i < nbb_cells.length; ++i) {\n                    if (nbb_cells[i].input_prompt_number == nbb_cell_id) {\n                        if (nbb_cells[i].get_text() == nbb_unformatted_code) {\n                             nbb_cells[i].set_text(nbb_formatted_code);\n                        }\n                        break;\n                    }\n                }\n            }, 500);\n            ",
            "text/plain": [
              "<IPython.core.display.Javascript object>"
            ]
          },
          "metadata": {},
          "output_type": "display_data"
        }
      ],
      "source": [
        "plt.plot([1, 2, 3, 4], [1, 4, 9, 16])\n"
      ]
    },
    {
      "attachments": {},
      "cell_type": "markdown",
      "id": "975e0206",
      "metadata": {},
      "source": [
        "End of preliminary testing to get plots to show\n",
        "\n",
        "Fix: \n",
        "1. Run above 2 cells from reference given in previous markdown cell (matplotlib Documentation | Image tutorial)\n",
        "2. Select correct interpreter by clicking \n",
        "\n",
        "</>\n",
        "\n",
        "After input box\n",
        "\n",
        "Until figures show."
      ]
    },
    {
      "cell_type": "code",
      "execution_count": 90,
      "id": "e0fd313a",
      "metadata": {},
      "outputs": [
        {
          "data": {
            "application/javascript": "\n            setTimeout(function() {\n                var nbb_cell_id = 90;\n                var nbb_unformatted_code = \"# https://stackoverflow.com/questions/332289/how-do-i-change-the-size-of-figures-drawn-with-matplotlib\\n\\n# plt.plot(figsize=(10, 5))\";\n                var nbb_formatted_code = \"# https://stackoverflow.com/questions/332289/how-do-i-change-the-size-of-figures-drawn-with-matplotlib\\n\\n# plt.plot(figsize=(10, 5))\";\n                var nbb_cells = Jupyter.notebook.get_cells();\n                for (var i = 0; i < nbb_cells.length; ++i) {\n                    if (nbb_cells[i].input_prompt_number == nbb_cell_id) {\n                        if (nbb_cells[i].get_text() == nbb_unformatted_code) {\n                             nbb_cells[i].set_text(nbb_formatted_code);\n                        }\n                        break;\n                    }\n                }\n            }, 500);\n            ",
            "text/plain": [
              "<IPython.core.display.Javascript object>"
            ]
          },
          "metadata": {},
          "output_type": "display_data"
        },
        {
          "data": {
            "application/javascript": "\n            setTimeout(function() {\n                var nbb_cell_id = 90;\n                var nbb_unformatted_code = \"# https://stackoverflow.com/questions/332289/how-do-i-change-the-size-of-figures-drawn-with-matplotlib\\n\\n# plt.plot(figsize=(10, 5))\";\n                var nbb_formatted_code = \"# https://stackoverflow.com/questions/332289/how-do-i-change-the-size-of-figures-drawn-with-matplotlib\\n\\n# plt.plot(figsize=(10, 5))\";\n                var nbb_cells = Jupyter.notebook.get_cells();\n                for (var i = 0; i < nbb_cells.length; ++i) {\n                    if (nbb_cells[i].input_prompt_number == nbb_cell_id) {\n                        if (nbb_cells[i].get_text() == nbb_unformatted_code) {\n                             nbb_cells[i].set_text(nbb_formatted_code);\n                        }\n                        break;\n                    }\n                }\n            }, 500);\n            ",
            "text/plain": [
              "<IPython.core.display.Javascript object>"
            ]
          },
          "metadata": {},
          "output_type": "display_data"
        }
      ],
      "source": [
        "# https://stackoverflow.com/questions/332289/how-do-i-change-the-size-of-figures-drawn-with-matplotlib\n",
        "\n",
        "# plt.plot(figsize=(10, 5))\n"
      ]
    },
    {
      "cell_type": "code",
      "execution_count": 87,
      "id": "italian-imagination",
      "metadata": {
        "id": "italian-imagination"
      },
      "outputs": [
        {
          "data": {
            "image/png": "[encoded data removed]",
            "text/plain": [
              "<Figure size 700x500 with 2 Axes>"
            ]
          },
          "metadata": {},
          "output_type": "display_data"
        },
        {
          "data": {
            "application/javascript": "\n            setTimeout(function() {\n                var nbb_cell_id = 87;\n                var nbb_unformatted_code = \"histogram_boxplot(data, \\\"lead_time\\\", figsize=(7, 5))\";\n                var nbb_formatted_code = \"histogram_boxplot(data, \\\"lead_time\\\", figsize=(7, 5))\";\n                var nbb_cells = Jupyter.notebook.get_cells();\n                for (var i = 0; i < nbb_cells.length; ++i) {\n                    if (nbb_cells[i].input_prompt_number == nbb_cell_id) {\n                        if (nbb_cells[i].get_text() == nbb_unformatted_code) {\n                             nbb_cells[i].set_text(nbb_formatted_code);\n                        }\n                        break;\n                    }\n                }\n            }, 500);\n            ",
            "text/plain": [
              "<IPython.core.display.Javascript object>"
            ]
          },
          "metadata": {},
          "output_type": "display_data"
        },
        {
          "data": {
            "application/javascript": "\n            setTimeout(function() {\n                var nbb_cell_id = 87;\n                var nbb_unformatted_code = \"histogram_boxplot(data, \\\"lead_time\\\", figsize=(7, 5))\";\n                var nbb_formatted_code = \"histogram_boxplot(data, \\\"lead_time\\\", figsize=(7, 5))\";\n                var nbb_cells = Jupyter.notebook.get_cells();\n                for (var i = 0; i < nbb_cells.length; ++i) {\n                    if (nbb_cells[i].input_prompt_number == nbb_cell_id) {\n                        if (nbb_cells[i].get_text() == nbb_unformatted_code) {\n                             nbb_cells[i].set_text(nbb_formatted_code);\n                        }\n                        break;\n                    }\n                }\n            }, 500);\n            ",
            "text/plain": [
              "<IPython.core.display.Javascript object>"
            ]
          },
          "metadata": {},
          "output_type": "display_data"
        }
      ],
      "source": [
        "histogram_boxplot(data, \"lead_time\", figsize=(7, 5))"
      ]
    },
    {
      "cell_type": "code",
      "execution_count": 83,
      "id": "473aa892",
      "metadata": {},
      "outputs": [
        {
          "data": {
            "text/html": [
              "<div>\n",
              "<style scoped>\n",
              "    .dataframe tbody tr th:only-of-type {\n",
              "        vertical-align: middle;\n",
              "    }\n",
              "\n",
              "    .dataframe tbody tr th {\n",
              "        vertical-align: top;\n",
              "    }\n",
              "\n",
              "    .dataframe thead th {\n",
              "        text-align: right;\n",
              "    }\n",
              "</style>\n",
              "<table border=\"1\" class=\"dataframe\">\n",
              "  <thead>\n",
              "    <tr style=\"text-align: right;\">\n",
              "      <th></th>\n",
              "      <th>no_of_adults</th>\n",
              "      <th>no_of_children</th>\n",
              "      <th>no_of_weekend_nights</th>\n",
              "      <th>no_of_week_nights</th>\n",
              "      <th>type_of_meal_plan</th>\n",
              "      <th>required_car_parking_space</th>\n",
              "      <th>room_type_reserved</th>\n",
              "      <th>lead_time</th>\n",
              "      <th>arrival_year</th>\n",
              "      <th>arrival_month</th>\n",
              "      <th>arrival_date</th>\n",
              "      <th>market_segment_type</th>\n",
              "      <th>repeated_guest</th>\n",
              "      <th>no_of_previous_cancellations</th>\n",
              "      <th>no_of_previous_bookings_not_canceled</th>\n",
              "      <th>avg_price_per_room</th>\n",
              "      <th>no_of_special_requests</th>\n",
              "      <th>booking_status</th>\n",
              "    </tr>\n",
              "  </thead>\n",
              "  <tbody>\n",
              "    <tr>\n",
              "      <th>0</th>\n",
              "      <td>2</td>\n",
              "      <td>0</td>\n",
              "      <td>1</td>\n",
              "      <td>2</td>\n",
              "      <td>Meal Plan 1</td>\n",
              "      <td>0</td>\n",
              "      <td>Room_Type 1</td>\n",
              "      <td>224</td>\n",
              "      <td>2017</td>\n",
              "      <td>10</td>\n",
              "      <td>2</td>\n",
              "      <td>Offline</td>\n",
              "      <td>0</td>\n",
              "      <td>0</td>\n",
              "      <td>0</td>\n",
              "      <td>65.00</td>\n",
              "      <td>0</td>\n",
              "      <td>Not_Canceled</td>\n",
              "    </tr>\n",
              "    <tr>\n",
              "      <th>1</th>\n",
              "      <td>2</td>\n",
              "      <td>0</td>\n",
              "      <td>2</td>\n",
              "      <td>3</td>\n",
              "      <td>Not Selected</td>\n",
              "      <td>0</td>\n",
              "      <td>Room_Type 1</td>\n",
              "      <td>5</td>\n",
              "      <td>2018</td>\n",
              "      <td>11</td>\n",
              "      <td>6</td>\n",
              "      <td>Online</td>\n",
              "      <td>0</td>\n",
              "      <td>0</td>\n",
              "      <td>0</td>\n",
              "      <td>106.68</td>\n",
              "      <td>1</td>\n",
              "      <td>Not_Canceled</td>\n",
              "    </tr>\n",
              "  </tbody>\n",
              "</table>\n",
              "</div>"
            ],
            "text/plain": [
              "   no_of_adults  no_of_children  no_of_weekend_nights  no_of_week_nights type_of_meal_plan  required_car_parking_space room_type_reserved  lead_time  arrival_year  arrival_month  arrival_date market_segment_type  repeated_guest  no_of_previous_cancellations  no_of_previous_bookings_not_canceled  avg_price_per_room  no_of_special_requests booking_status\n",
              "0  2             0               1                     2                  Meal Plan 1       0                           Room_Type 1        224        2017          10             2             Offline             0               0                             0                                     65.00               0                       Not_Canceled \n",
              "1  2             0               2                     3                  Not Selected      0                           Room_Type 1        5          2018          11             6             Online              0               0                             0                                     106.68              1                       Not_Canceled "
            ]
          },
          "execution_count": 83,
          "metadata": {},
          "output_type": "execute_result"
        },
        {
          "data": {
            "application/javascript": "\n            setTimeout(function() {\n                var nbb_cell_id = 83;\n                var nbb_unformatted_code = \"data.head(2)\";\n                var nbb_formatted_code = \"data.head(2)\";\n                var nbb_cells = Jupyter.notebook.get_cells();\n                for (var i = 0; i < nbb_cells.length; ++i) {\n                    if (nbb_cells[i].input_prompt_number == nbb_cell_id) {\n                        if (nbb_cells[i].get_text() == nbb_unformatted_code) {\n                             nbb_cells[i].set_text(nbb_formatted_code);\n                        }\n                        break;\n                    }\n                }\n            }, 500);\n            ",
            "text/plain": [
              "<IPython.core.display.Javascript object>"
            ]
          },
          "metadata": {},
          "output_type": "display_data"
        },
        {
          "data": {
            "application/javascript": "\n            setTimeout(function() {\n                var nbb_cell_id = 83;\n                var nbb_unformatted_code = \"data.head(2)\";\n                var nbb_formatted_code = \"data.head(2)\";\n                var nbb_cells = Jupyter.notebook.get_cells();\n                for (var i = 0; i < nbb_cells.length; ++i) {\n                    if (nbb_cells[i].input_prompt_number == nbb_cell_id) {\n                        if (nbb_cells[i].get_text() == nbb_unformatted_code) {\n                             nbb_cells[i].set_text(nbb_formatted_code);\n                        }\n                        break;\n                    }\n                }\n            }, 500);\n            ",
            "text/plain": [
              "<IPython.core.display.Javascript object>"
            ]
          },
          "metadata": {},
          "output_type": "display_data"
        }
      ],
      "source": [
        "data.head(2)"
      ]
    },
    {
      "cell_type": "markdown",
      "id": "intimate-hearing",
      "metadata": {
        "id": "intimate-hearing"
      },
      "source": [
        "### Observations on average price per room"
      ]
    },
    {
      "cell_type": "code",
      "execution_count": 89,
      "id": "liable-guess",
      "metadata": {
        "id": "liable-guess"
      },
      "outputs": [
        {
          "data": {
            "image/png": "[encoded data removed]",
            "text/plain": [
              "<Figure size 700x500 with 2 Axes>"
            ]
          },
          "metadata": {},
          "output_type": "display_data"
        },
        {
          "data": {
            "application/javascript": "\n            setTimeout(function() {\n                var nbb_cell_id = 89;\n                var nbb_unformatted_code = \"histogram_boxplot(data, \\\"avg_price_per_room\\\", figsize=(7, 5))  ## Complete the code to create histogram_boxplot for average price per room \";\n                var nbb_formatted_code = \"histogram_boxplot(\\n    data, \\\"avg_price_per_room\\\", figsize=(7, 5)\\n)  ## Complete the code to create histogram_boxplot for average price per room\";\n                var nbb_cells = Jupyter.notebook.get_cells();\n                for (var i = 0; i < nbb_cells.length; ++i) {\n                    if (nbb_cells[i].input_prompt_number == nbb_cell_id) {\n                        if (nbb_cells[i].get_text() == nbb_unformatted_code) {\n                             nbb_cells[i].set_text(nbb_formatted_code);\n                        }\n                        break;\n                    }\n                }\n            }, 500);\n            ",
            "text/plain": [
              "<IPython.core.display.Javascript object>"
            ]
          },
          "metadata": {},
          "output_type": "display_data"
        },
        {
          "data": {
            "application/javascript": "\n            setTimeout(function() {\n                var nbb_cell_id = 89;\n                var nbb_unformatted_code = \"histogram_boxplot(data, \\\"avg_price_per_room\\\", figsize=(7, 5))  ## Complete the code to create histogram_boxplot for average price per room \";\n                var nbb_formatted_code = \"histogram_boxplot(\\n    data, \\\"avg_price_per_room\\\", figsize=(7, 5)\\n)  ## Complete the code to create histogram_boxplot for average price per room\";\n                var nbb_cells = Jupyter.notebook.get_cells();\n                for (var i = 0; i < nbb_cells.length; ++i) {\n                    if (nbb_cells[i].input_prompt_number == nbb_cell_id) {\n                        if (nbb_cells[i].get_text() == nbb_unformatted_code) {\n                             nbb_cells[i].set_text(nbb_formatted_code);\n                        }\n                        break;\n                    }\n                }\n            }, 500);\n            ",
            "text/plain": [
              "<IPython.core.display.Javascript object>"
            ]
          },
          "metadata": {},
          "output_type": "display_data"
        }
      ],
      "source": [
        "histogram_boxplot(data, \"avg_price_per_room\", figsize=(7, 5))  ## Complete the code to create histogram_boxplot for average price per room "
      ]
    },
    {
      "cell_type": "code",
      "execution_count": 91,
      "id": "southern-organic",
      "metadata": {
        "id": "southern-organic"
      },
      "outputs": [
        {
          "data": {
            "text/html": [
              "<div>\n",
              "<style scoped>\n",
              "    .dataframe tbody tr th:only-of-type {\n",
              "        vertical-align: middle;\n",
              "    }\n",
              "\n",
              "    .dataframe tbody tr th {\n",
              "        vertical-align: top;\n",
              "    }\n",
              "\n",
              "    .dataframe thead th {\n",
              "        text-align: right;\n",
              "    }\n",
              "</style>\n",
              "<table border=\"1\" class=\"dataframe\">\n",
              "  <thead>\n",
              "    <tr style=\"text-align: right;\">\n",
              "      <th></th>\n",
              "      <th>no_of_adults</th>\n",
              "      <th>no_of_children</th>\n",
              "      <th>no_of_weekend_nights</th>\n",
              "      <th>no_of_week_nights</th>\n",
              "      <th>type_of_meal_plan</th>\n",
              "      <th>required_car_parking_space</th>\n",
              "      <th>room_type_reserved</th>\n",
              "      <th>lead_time</th>\n",
              "      <th>arrival_year</th>\n",
              "      <th>arrival_month</th>\n",
              "      <th>arrival_date</th>\n",
              "      <th>market_segment_type</th>\n",
              "      <th>repeated_guest</th>\n",
              "      <th>no_of_previous_cancellations</th>\n",
              "      <th>no_of_previous_bookings_not_canceled</th>\n",
              "      <th>avg_price_per_room</th>\n",
              "      <th>no_of_special_requests</th>\n",
              "      <th>booking_status</th>\n",
              "    </tr>\n",
              "  </thead>\n",
              "  <tbody>\n",
              "    <tr>\n",
              "      <th>63</th>\n",
              "      <td>1</td>\n",
              "      <td>0</td>\n",
              "      <td>0</td>\n",
              "      <td>1</td>\n",
              "      <td>Meal Plan 1</td>\n",
              "      <td>0</td>\n",
              "      <td>Room_Type 1</td>\n",
              "      <td>2</td>\n",
              "      <td>2017</td>\n",
              "      <td>9</td>\n",
              "      <td>10</td>\n",
              "      <td>Complementary</td>\n",
              "      <td>0</td>\n",
              "      <td>0</td>\n",
              "      <td>0</td>\n",
              "      <td>0.0</td>\n",
              "      <td>1</td>\n",
              "      <td>Not_Canceled</td>\n",
              "    </tr>\n",
              "    <tr>\n",
              "      <th>145</th>\n",
              "      <td>1</td>\n",
              "      <td>0</td>\n",
              "      <td>0</td>\n",
              "      <td>2</td>\n",
              "      <td>Meal Plan 1</td>\n",
              "      <td>0</td>\n",
              "      <td>Room_Type 1</td>\n",
              "      <td>13</td>\n",
              "      <td>2018</td>\n",
              "      <td>6</td>\n",
              "      <td>1</td>\n",
              "      <td>Complementary</td>\n",
              "      <td>1</td>\n",
              "      <td>3</td>\n",
              "      <td>5</td>\n",
              "      <td>0.0</td>\n",
              "      <td>1</td>\n",
              "      <td>Not_Canceled</td>\n",
              "    </tr>\n",
              "    <tr>\n",
              "      <th>209</th>\n",
              "      <td>1</td>\n",
              "      <td>0</td>\n",
              "      <td>0</td>\n",
              "      <td>0</td>\n",
              "      <td>Meal Plan 1</td>\n",
              "      <td>0</td>\n",
              "      <td>Room_Type 1</td>\n",
              "      <td>4</td>\n",
              "      <td>2018</td>\n",
              "      <td>2</td>\n",
              "      <td>27</td>\n",
              "      <td>Complementary</td>\n",
              "      <td>0</td>\n",
              "      <td>0</td>\n",
              "      <td>0</td>\n",
              "      <td>0.0</td>\n",
              "      <td>1</td>\n",
              "      <td>Not_Canceled</td>\n",
              "    </tr>\n",
              "    <tr>\n",
              "      <th>266</th>\n",
              "      <td>1</td>\n",
              "      <td>0</td>\n",
              "      <td>0</td>\n",
              "      <td>2</td>\n",
              "      <td>Meal Plan 1</td>\n",
              "      <td>0</td>\n",
              "      <td>Room_Type 1</td>\n",
              "      <td>1</td>\n",
              "      <td>2017</td>\n",
              "      <td>8</td>\n",
              "      <td>12</td>\n",
              "      <td>Complementary</td>\n",
              "      <td>1</td>\n",
              "      <td>0</td>\n",
              "      <td>1</td>\n",
              "      <td>0.0</td>\n",
              "      <td>1</td>\n",
              "      <td>Not_Canceled</td>\n",
              "    </tr>\n",
              "    <tr>\n",
              "      <th>267</th>\n",
              "      <td>1</td>\n",
              "      <td>0</td>\n",
              "      <td>2</td>\n",
              "      <td>1</td>\n",
              "      <td>Meal Plan 1</td>\n",
              "      <td>0</td>\n",
              "      <td>Room_Type 1</td>\n",
              "      <td>4</td>\n",
              "      <td>2017</td>\n",
              "      <td>8</td>\n",
              "      <td>23</td>\n",
              "      <td>Complementary</td>\n",
              "      <td>0</td>\n",
              "      <td>0</td>\n",
              "      <td>0</td>\n",
              "      <td>0.0</td>\n",
              "      <td>1</td>\n",
              "      <td>Not_Canceled</td>\n",
              "    </tr>\n",
              "    <tr>\n",
              "      <th>...</th>\n",
              "      <td>...</td>\n",
              "      <td>...</td>\n",
              "      <td>...</td>\n",
              "      <td>...</td>\n",
              "      <td>...</td>\n",
              "      <td>...</td>\n",
              "      <td>...</td>\n",
              "      <td>...</td>\n",
              "      <td>...</td>\n",
              "      <td>...</td>\n",
              "      <td>...</td>\n",
              "      <td>...</td>\n",
              "      <td>...</td>\n",
              "      <td>...</td>\n",
              "      <td>...</td>\n",
              "      <td>...</td>\n",
              "      <td>...</td>\n",
              "      <td>...</td>\n",
              "    </tr>\n",
              "    <tr>\n",
              "      <th>35983</th>\n",
              "      <td>1</td>\n",
              "      <td>0</td>\n",
              "      <td>0</td>\n",
              "      <td>1</td>\n",
              "      <td>Meal Plan 1</td>\n",
              "      <td>0</td>\n",
              "      <td>Room_Type 7</td>\n",
              "      <td>0</td>\n",
              "      <td>2018</td>\n",
              "      <td>6</td>\n",
              "      <td>7</td>\n",
              "      <td>Complementary</td>\n",
              "      <td>1</td>\n",
              "      <td>4</td>\n",
              "      <td>17</td>\n",
              "      <td>0.0</td>\n",
              "      <td>1</td>\n",
              "      <td>Not_Canceled</td>\n",
              "    </tr>\n",
              "    <tr>\n",
              "      <th>36080</th>\n",
              "      <td>1</td>\n",
              "      <td>0</td>\n",
              "      <td>1</td>\n",
              "      <td>1</td>\n",
              "      <td>Meal Plan 1</td>\n",
              "      <td>0</td>\n",
              "      <td>Room_Type 7</td>\n",
              "      <td>0</td>\n",
              "      <td>2018</td>\n",
              "      <td>3</td>\n",
              "      <td>21</td>\n",
              "      <td>Complementary</td>\n",
              "      <td>1</td>\n",
              "      <td>3</td>\n",
              "      <td>15</td>\n",
              "      <td>0.0</td>\n",
              "      <td>1</td>\n",
              "      <td>Not_Canceled</td>\n",
              "    </tr>\n",
              "    <tr>\n",
              "      <th>36114</th>\n",
              "      <td>1</td>\n",
              "      <td>0</td>\n",
              "      <td>0</td>\n",
              "      <td>1</td>\n",
              "      <td>Meal Plan 1</td>\n",
              "      <td>0</td>\n",
              "      <td>Room_Type 1</td>\n",
              "      <td>1</td>\n",
              "      <td>2018</td>\n",
              "      <td>3</td>\n",
              "      <td>2</td>\n",
              "      <td>Online</td>\n",
              "      <td>0</td>\n",
              "      <td>0</td>\n",
              "      <td>0</td>\n",
              "      <td>0.0</td>\n",
              "      <td>0</td>\n",
              "      <td>Not_Canceled</td>\n",
              "    </tr>\n",
              "    <tr>\n",
              "      <th>36217</th>\n",
              "      <td>2</td>\n",
              "      <td>0</td>\n",
              "      <td>2</td>\n",
              "      <td>1</td>\n",
              "      <td>Meal Plan 1</td>\n",
              "      <td>0</td>\n",
              "      <td>Room_Type 2</td>\n",
              "      <td>3</td>\n",
              "      <td>2017</td>\n",
              "      <td>8</td>\n",
              "      <td>9</td>\n",
              "      <td>Online</td>\n",
              "      <td>0</td>\n",
              "      <td>0</td>\n",
              "      <td>0</td>\n",
              "      <td>0.0</td>\n",
              "      <td>2</td>\n",
              "      <td>Not_Canceled</td>\n",
              "    </tr>\n",
              "    <tr>\n",
              "      <th>36250</th>\n",
              "      <td>1</td>\n",
              "      <td>0</td>\n",
              "      <td>0</td>\n",
              "      <td>2</td>\n",
              "      <td>Meal Plan 2</td>\n",
              "      <td>0</td>\n",
              "      <td>Room_Type 1</td>\n",
              "      <td>6</td>\n",
              "      <td>2017</td>\n",
              "      <td>12</td>\n",
              "      <td>10</td>\n",
              "      <td>Online</td>\n",
              "      <td>0</td>\n",
              "      <td>0</td>\n",
              "      <td>0</td>\n",
              "      <td>0.0</td>\n",
              "      <td>0</td>\n",
              "      <td>Not_Canceled</td>\n",
              "    </tr>\n",
              "  </tbody>\n",
              "</table>\n",
              "<p>545 rows × 18 columns</p>\n",
              "</div>"
            ],
            "text/plain": [
              "       no_of_adults  no_of_children  no_of_weekend_nights  no_of_week_nights type_of_meal_plan  required_car_parking_space room_type_reserved  lead_time  arrival_year  arrival_month  arrival_date market_segment_type  repeated_guest  no_of_previous_cancellations  no_of_previous_bookings_not_canceled  avg_price_per_room  no_of_special_requests booking_status\n",
              "63     1             0               0                     1                  Meal Plan 1       0                           Room_Type 1        2          2017          9              10            Complementary       0               0                             0                                     0.0                 1                       Not_Canceled \n",
              "145    1             0               0                     2                  Meal Plan 1       0                           Room_Type 1        13         2018          6              1             Complementary       1               3                             5                                     0.0                 1                       Not_Canceled \n",
              "209    1             0               0                     0                  Meal Plan 1       0                           Room_Type 1        4          2018          2              27            Complementary       0               0                             0                                     0.0                 1                       Not_Canceled \n",
              "266    1             0               0                     2                  Meal Plan 1       0                           Room_Type 1        1          2017          8              12            Complementary       1               0                             1                                     0.0                 1                       Not_Canceled \n",
              "267    1             0               2                     1                  Meal Plan 1       0                           Room_Type 1        4          2017          8              23            Complementary       0               0                             0                                     0.0                 1                       Not_Canceled \n",
              "...   ..            ..              ..                    ..                          ...      ..                                   ...       ..           ...         ..              ..                      ...      ..              ..                            ..                                     ...                ..                                ... \n",
              "35983  1             0               0                     1                  Meal Plan 1       0                           Room_Type 7        0          2018          6              7             Complementary       1               4                             17                                    0.0                 1                       Not_Canceled \n",
              "36080  1             0               1                     1                  Meal Plan 1       0                           Room_Type 7        0          2018          3              21            Complementary       1               3                             15                                    0.0                 1                       Not_Canceled \n",
              "36114  1             0               0                     1                  Meal Plan 1       0                           Room_Type 1        1          2018          3              2             Online              0               0                             0                                     0.0                 0                       Not_Canceled \n",
              "36217  2             0               2                     1                  Meal Plan 1       0                           Room_Type 2        3          2017          8              9             Online              0               0                             0                                     0.0                 2                       Not_Canceled \n",
              "36250  1             0               0                     2                  Meal Plan 2       0                           Room_Type 1        6          2017          12             10            Online              0               0                             0                                     0.0                 0                       Not_Canceled \n",
              "\n",
              "[545 rows x 18 columns]"
            ]
          },
          "execution_count": 91,
          "metadata": {},
          "output_type": "execute_result"
        },
        {
          "data": {
            "application/javascript": "\n            setTimeout(function() {\n                var nbb_cell_id = 91;\n                var nbb_unformatted_code = \"data[data[\\\"avg_price_per_room\\\"] == 0]\";\n                var nbb_formatted_code = \"data[data[\\\"avg_price_per_room\\\"] == 0]\";\n                var nbb_cells = Jupyter.notebook.get_cells();\n                for (var i = 0; i < nbb_cells.length; ++i) {\n                    if (nbb_cells[i].input_prompt_number == nbb_cell_id) {\n                        if (nbb_cells[i].get_text() == nbb_unformatted_code) {\n                             nbb_cells[i].set_text(nbb_formatted_code);\n                        }\n                        break;\n                    }\n                }\n            }, 500);\n            ",
            "text/plain": [
              "<IPython.core.display.Javascript object>"
            ]
          },
          "metadata": {},
          "output_type": "display_data"
        },
        {
          "data": {
            "application/javascript": "\n            setTimeout(function() {\n                var nbb_cell_id = 91;\n                var nbb_unformatted_code = \"data[data[\\\"avg_price_per_room\\\"] == 0]\";\n                var nbb_formatted_code = \"data[data[\\\"avg_price_per_room\\\"] == 0]\";\n                var nbb_cells = Jupyter.notebook.get_cells();\n                for (var i = 0; i < nbb_cells.length; ++i) {\n                    if (nbb_cells[i].input_prompt_number == nbb_cell_id) {\n                        if (nbb_cells[i].get_text() == nbb_unformatted_code) {\n                             nbb_cells[i].set_text(nbb_formatted_code);\n                        }\n                        break;\n                    }\n                }\n            }, 500);\n            ",
            "text/plain": [
              "<IPython.core.display.Javascript object>"
            ]
          },
          "metadata": {},
          "output_type": "display_data"
        }
      ],
      "source": [
        "data[data[\"avg_price_per_room\"] == 0]"
      ]
    },
    {
      "attachments": {},
      "cell_type": "markdown",
      "id": "eabf58e8",
      "metadata": {},
      "source": [
        "Above\n",
        "\n",
        "return all rows in dataframe where average price per room is equal to 0\n",
        "\n",
        "using boolean conditional check `==`\n",
        "\n",
        "checking all elements of the pandas series (column): avg_price_per_room"
      ]
    },
    {
      "cell_type": "code",
      "execution_count": 92,
      "id": "written-stone",
      "metadata": {
        "id": "written-stone"
      },
      "outputs": [
        {
          "data": {
            "text/plain": [
              "Complementary    354\n",
              "Online           191\n",
              "Name: market_segment_type, dtype: int64"
            ]
          },
          "execution_count": 92,
          "metadata": {},
          "output_type": "execute_result"
        },
        {
          "data": {
            "application/javascript": "\n            setTimeout(function() {\n                var nbb_cell_id = 92;\n                var nbb_unformatted_code = \"data.loc[data[\\\"avg_price_per_room\\\"] == 0, \\\"market_segment_type\\\"].value_counts()\";\n                var nbb_formatted_code = \"data.loc[data[\\\"avg_price_per_room\\\"] == 0, \\\"market_segment_type\\\"].value_counts()\";\n                var nbb_cells = Jupyter.notebook.get_cells();\n                for (var i = 0; i < nbb_cells.length; ++i) {\n                    if (nbb_cells[i].input_prompt_number == nbb_cell_id) {\n                        if (nbb_cells[i].get_text() == nbb_unformatted_code) {\n                             nbb_cells[i].set_text(nbb_formatted_code);\n                        }\n                        break;\n                    }\n                }\n            }, 500);\n            ",
            "text/plain": [
              "<IPython.core.display.Javascript object>"
            ]
          },
          "metadata": {},
          "output_type": "display_data"
        },
        {
          "data": {
            "application/javascript": "\n            setTimeout(function() {\n                var nbb_cell_id = 92;\n                var nbb_unformatted_code = \"data.loc[data[\\\"avg_price_per_room\\\"] == 0, \\\"market_segment_type\\\"].value_counts()\";\n                var nbb_formatted_code = \"data.loc[data[\\\"avg_price_per_room\\\"] == 0, \\\"market_segment_type\\\"].value_counts()\";\n                var nbb_cells = Jupyter.notebook.get_cells();\n                for (var i = 0; i < nbb_cells.length; ++i) {\n                    if (nbb_cells[i].input_prompt_number == nbb_cell_id) {\n                        if (nbb_cells[i].get_text() == nbb_unformatted_code) {\n                             nbb_cells[i].set_text(nbb_formatted_code);\n                        }\n                        break;\n                    }\n                }\n            }, 500);\n            ",
            "text/plain": [
              "<IPython.core.display.Javascript object>"
            ]
          },
          "metadata": {},
          "output_type": "display_data"
        }
      ],
      "source": [
        "data.loc[data[\"avg_price_per_room\"] == 0, \"market_segment_type\"].value_counts()"
      ]
    },
    {
      "attachments": {},
      "cell_type": "markdown",
      "id": "cdb7c063",
      "metadata": {},
      "source": [
        "Above\n",
        "\n",
        "go through the pandas dataframe and look for everywhere where the average price per room is 0\n",
        "\n",
        "and return the value counts with the calculated subtotal for each of the market segment types"
      ]
    },
    {
      "cell_type": "code",
      "execution_count": 93,
      "id": "potential-klein",
      "metadata": {
        "id": "potential-klein"
      },
      "outputs": [
        {
          "data": {
            "text/plain": [
              "179.55"
            ]
          },
          "execution_count": 93,
          "metadata": {},
          "output_type": "execute_result"
        },
        {
          "data": {
            "application/javascript": "\n            setTimeout(function() {\n                var nbb_cell_id = 93;\n                var nbb_unformatted_code = \"# Calculating the 25th quantile\\nQ1 = data[\\\"avg_price_per_room\\\"].quantile(0.25)\\n\\n# Calculating the 75th quantile\\nQ3 = data[\\\"avg_price_per_room\\\"].quantile(0.75)  ## Complete the code to calculate 75th quantile for average price per room\\n\\n# Calculating IQR\\nIQR = Q3 - Q1\\n\\n# Calculating value of upper whisker\\nUpper_Whisker = Q3 + 1.5 * IQR\\nUpper_Whisker\";\n                var nbb_formatted_code = \"# Calculating the 25th quantile\\nQ1 = data[\\\"avg_price_per_room\\\"].quantile(0.25)\\n\\n# Calculating the 75th quantile\\nQ3 = data[\\\"avg_price_per_room\\\"].quantile(\\n    0.75\\n)  ## Complete the code to calculate 75th quantile for average price per room\\n\\n# Calculating IQR\\nIQR = Q3 - Q1\\n\\n# Calculating value of upper whisker\\nUpper_Whisker = Q3 + 1.5 * IQR\\nUpper_Whisker\";\n                var nbb_cells = Jupyter.notebook.get_cells();\n                for (var i = 0; i < nbb_cells.length; ++i) {\n                    if (nbb_cells[i].input_prompt_number == nbb_cell_id) {\n                        if (nbb_cells[i].get_text() == nbb_unformatted_code) {\n                             nbb_cells[i].set_text(nbb_formatted_code);\n                        }\n                        break;\n                    }\n                }\n            }, 500);\n            ",
            "text/plain": [
              "<IPython.core.display.Javascript object>"
            ]
          },
          "metadata": {},
          "output_type": "display_data"
        },
        {
          "data": {
            "application/javascript": "\n            setTimeout(function() {\n                var nbb_cell_id = 93;\n                var nbb_unformatted_code = \"# Calculating the 25th quantile\\nQ1 = data[\\\"avg_price_per_room\\\"].quantile(0.25)\\n\\n# Calculating the 75th quantile\\nQ3 = data[\\\"avg_price_per_room\\\"].quantile(0.75)  ## Complete the code to calculate 75th quantile for average price per room\\n\\n# Calculating IQR\\nIQR = Q3 - Q1\\n\\n# Calculating value of upper whisker\\nUpper_Whisker = Q3 + 1.5 * IQR\\nUpper_Whisker\";\n                var nbb_formatted_code = \"# Calculating the 25th quantile\\nQ1 = data[\\\"avg_price_per_room\\\"].quantile(0.25)\\n\\n# Calculating the 75th quantile\\nQ3 = data[\\\"avg_price_per_room\\\"].quantile(\\n    0.75\\n)  ## Complete the code to calculate 75th quantile for average price per room\\n\\n# Calculating IQR\\nIQR = Q3 - Q1\\n\\n# Calculating value of upper whisker\\nUpper_Whisker = Q3 + 1.5 * IQR\\nUpper_Whisker\";\n                var nbb_cells = Jupyter.notebook.get_cells();\n                for (var i = 0; i < nbb_cells.length; ++i) {\n                    if (nbb_cells[i].input_prompt_number == nbb_cell_id) {\n                        if (nbb_cells[i].get_text() == nbb_unformatted_code) {\n                             nbb_cells[i].set_text(nbb_formatted_code);\n                        }\n                        break;\n                    }\n                }\n            }, 500);\n            ",
            "text/plain": [
              "<IPython.core.display.Javascript object>"
            ]
          },
          "metadata": {},
          "output_type": "display_data"
        }
      ],
      "source": [
        "# Calculating the 25th quantile\n",
        "Q1 = data[\"avg_price_per_room\"].quantile(0.25)\n",
        "\n",
        "# Calculating the 75th quantile\n",
        "Q3 = data[\"avg_price_per_room\"].quantile(0.75)  ## Complete the code to calculate 75th quantile for average price per room\n",
        "\n",
        "# Calculating IQR\n",
        "IQR = Q3 - Q1\n",
        "\n",
        "# Calculating value of upper whisker\n",
        "Upper_Whisker = Q3 + 1.5 * IQR\n",
        "Upper_Whisker"
      ]
    },
    {
      "attachments": {},
      "cell_type": "markdown",
      "id": "aacd1765",
      "metadata": {},
      "source": [
        "The upper whisker of a boxplot, by default / convention is usually set to 1.5 times the Interquartile Range"
      ]
    },
    {
      "cell_type": "code",
      "execution_count": 95,
      "id": "f9459aac",
      "metadata": {},
      "outputs": [
        {
          "name": "stdout",
          "output_type": "stream",
          "text": [
            "99.45\n"
          ]
        },
        {
          "data": {
            "application/javascript": "\n            setTimeout(function() {\n                var nbb_cell_id = 95;\n                var nbb_unformatted_code = \"# Note on Q2\\n# https://en.wikipedia.org/wiki/Quartile\\n\\n# The second quartile (Q2) is the median of a data set; thus 50% of the data lies below this point.\\n\\nQ2 = data[\\\"avg_price_per_room\\\"].median()\\nprint(Q2)\";\n                var nbb_formatted_code = \"# Note on Q2\\n# https://en.wikipedia.org/wiki/Quartile\\n\\n# The second quartile (Q2) is the median of a data set; thus 50% of the data lies below this point.\\n\\nQ2 = data[\\\"avg_price_per_room\\\"].median()\\nprint(Q2)\";\n                var nbb_cells = Jupyter.notebook.get_cells();\n                for (var i = 0; i < nbb_cells.length; ++i) {\n                    if (nbb_cells[i].input_prompt_number == nbb_cell_id) {\n                        if (nbb_cells[i].get_text() == nbb_unformatted_code) {\n                             nbb_cells[i].set_text(nbb_formatted_code);\n                        }\n                        break;\n                    }\n                }\n            }, 500);\n            ",
            "text/plain": [
              "<IPython.core.display.Javascript object>"
            ]
          },
          "metadata": {},
          "output_type": "display_data"
        },
        {
          "data": {
            "application/javascript": "\n            setTimeout(function() {\n                var nbb_cell_id = 95;\n                var nbb_unformatted_code = \"# Note on Q2\\n# https://en.wikipedia.org/wiki/Quartile\\n\\n# The second quartile (Q2) is the median of a data set; thus 50% of the data lies below this point.\\n\\nQ2 = data[\\\"avg_price_per_room\\\"].median()\\nprint(Q2)\";\n                var nbb_formatted_code = \"# Note on Q2\\n# https://en.wikipedia.org/wiki/Quartile\\n\\n# The second quartile (Q2) is the median of a data set; thus 50% of the data lies below this point.\\n\\nQ2 = data[\\\"avg_price_per_room\\\"].median()\\nprint(Q2)\";\n                var nbb_cells = Jupyter.notebook.get_cells();\n                for (var i = 0; i < nbb_cells.length; ++i) {\n                    if (nbb_cells[i].input_prompt_number == nbb_cell_id) {\n                        if (nbb_cells[i].get_text() == nbb_unformatted_code) {\n                             nbb_cells[i].set_text(nbb_formatted_code);\n                        }\n                        break;\n                    }\n                }\n            }, 500);\n            ",
            "text/plain": [
              "<IPython.core.display.Javascript object>"
            ]
          },
          "metadata": {},
          "output_type": "display_data"
        }
      ],
      "source": [
        "# Note on Q2\n",
        "# https://en.wikipedia.org/wiki/Quartile\n",
        "\n",
        "# The second quartile (Q2) is the median of a data set; thus 50% of the data lies below this point.\n",
        "\n",
        "Q2 = data[\"avg_price_per_room\"].median()\n",
        "print(Q2)"
      ]
    },
    {
      "cell_type": "code",
      "execution_count": 96,
      "id": "assured-holder",
      "metadata": {
        "id": "assured-holder"
      },
      "outputs": [
        {
          "data": {
            "application/javascript": "\n            setTimeout(function() {\n                var nbb_cell_id = 96;\n                var nbb_unformatted_code = \"# assigning the outliers the value of upper whisker\\ndata.loc[data[\\\"avg_price_per_room\\\"] >= 500, \\\"avg_price_per_room\\\"] = Upper_Whisker\";\n                var nbb_formatted_code = \"# assigning the outliers the value of upper whisker\\ndata.loc[data[\\\"avg_price_per_room\\\"] >= 500, \\\"avg_price_per_room\\\"] = Upper_Whisker\";\n                var nbb_cells = Jupyter.notebook.get_cells();\n                for (var i = 0; i < nbb_cells.length; ++i) {\n                    if (nbb_cells[i].input_prompt_number == nbb_cell_id) {\n                        if (nbb_cells[i].get_text() == nbb_unformatted_code) {\n                             nbb_cells[i].set_text(nbb_formatted_code);\n                        }\n                        break;\n                    }\n                }\n            }, 500);\n            ",
            "text/plain": [
              "<IPython.core.display.Javascript object>"
            ]
          },
          "metadata": {},
          "output_type": "display_data"
        },
        {
          "data": {
            "application/javascript": "\n            setTimeout(function() {\n                var nbb_cell_id = 96;\n                var nbb_unformatted_code = \"# assigning the outliers the value of upper whisker\\ndata.loc[data[\\\"avg_price_per_room\\\"] >= 500, \\\"avg_price_per_room\\\"] = Upper_Whisker\";\n                var nbb_formatted_code = \"# assigning the outliers the value of upper whisker\\ndata.loc[data[\\\"avg_price_per_room\\\"] >= 500, \\\"avg_price_per_room\\\"] = Upper_Whisker\";\n                var nbb_cells = Jupyter.notebook.get_cells();\n                for (var i = 0; i < nbb_cells.length; ++i) {\n                    if (nbb_cells[i].input_prompt_number == nbb_cell_id) {\n                        if (nbb_cells[i].get_text() == nbb_unformatted_code) {\n                             nbb_cells[i].set_text(nbb_formatted_code);\n                        }\n                        break;\n                    }\n                }\n            }, 500);\n            ",
            "text/plain": [
              "<IPython.core.display.Javascript object>"
            ]
          },
          "metadata": {},
          "output_type": "display_data"
        }
      ],
      "source": [
        "# assigning the outliers the value of upper whisker\n",
        "data.loc[data[\"avg_price_per_room\"] >= 500, \"avg_price_per_room\"] = Upper_Whisker"
      ]
    },
    {
      "attachments": {},
      "cell_type": "markdown",
      "id": "8478db98",
      "metadata": {},
      "source": [
        "Above\n",
        "\n",
        "Designate Upper Outliers\n",
        "\n",
        "As above Upper Whisker"
      ]
    },
    {
      "cell_type": "markdown",
      "id": "studied-arrangement",
      "metadata": {
        "id": "studied-arrangement"
      },
      "source": [
        "### Observations on number of previous booking cancellations"
      ]
    },
    {
      "attachments": {},
      "cell_type": "markdown",
      "id": "30d5d3d6",
      "metadata": {},
      "source": [
        "##### Preparatory code cells for histogram_boxplot:"
      ]
    },
    {
      "cell_type": "code",
      "execution_count": 98,
      "id": "9442fa81",
      "metadata": {},
      "outputs": [
        {
          "data": {
            "image/png": "[encoded data removed]",
            "text/plain": [
              "<Figure size 700x500 with 2 Axes>"
            ]
          },
          "metadata": {},
          "output_type": "display_data"
        },
        {
          "data": {
            "application/javascript": "\n            setTimeout(function() {\n                var nbb_cell_id = 98;\n                var nbb_unformatted_code = \"histogram_boxplot(data, \\\"avg_price_per_room\\\", figsize=(7, 5))  ## Complete the code to create histogram_boxplot for average price per room \";\n                var nbb_formatted_code = \"histogram_boxplot(\\n    data, \\\"avg_price_per_room\\\", figsize=(7, 5)\\n)  ## Complete the code to create histogram_boxplot for average price per room\";\n                var nbb_cells = Jupyter.notebook.get_cells();\n                for (var i = 0; i < nbb_cells.length; ++i) {\n                    if (nbb_cells[i].input_prompt_number == nbb_cell_id) {\n                        if (nbb_cells[i].get_text() == nbb_unformatted_code) {\n                             nbb_cells[i].set_text(nbb_formatted_code);\n                        }\n                        break;\n                    }\n                }\n            }, 500);\n            ",
            "text/plain": [
              "<IPython.core.display.Javascript object>"
            ]
          },
          "metadata": {},
          "output_type": "display_data"
        },
        {
          "data": {
            "application/javascript": "\n            setTimeout(function() {\n                var nbb_cell_id = 98;\n                var nbb_unformatted_code = \"histogram_boxplot(data, \\\"avg_price_per_room\\\", figsize=(7, 5))  ## Complete the code to create histogram_boxplot for average price per room \";\n                var nbb_formatted_code = \"histogram_boxplot(\\n    data, \\\"avg_price_per_room\\\", figsize=(7, 5)\\n)  ## Complete the code to create histogram_boxplot for average price per room\";\n                var nbb_cells = Jupyter.notebook.get_cells();\n                for (var i = 0; i < nbb_cells.length; ++i) {\n                    if (nbb_cells[i].input_prompt_number == nbb_cell_id) {\n                        if (nbb_cells[i].get_text() == nbb_unformatted_code) {\n                             nbb_cells[i].set_text(nbb_formatted_code);\n                        }\n                        break;\n                    }\n                }\n            }, 500);\n            ",
            "text/plain": [
              "<IPython.core.display.Javascript object>"
            ]
          },
          "metadata": {},
          "output_type": "display_data"
        }
      ],
      "source": [
        "histogram_boxplot(data, \"avg_price_per_room\", figsize=(7, 5))  ## Complete the code to create histogram_boxplot for average price per room "
      ]
    },
    {
      "attachments": {},
      "cell_type": "markdown",
      "id": "d3a50294",
      "metadata": {},
      "source": [
        "From boxplot on top:<br>\n",
        "Green Triangle on violet boxplot is boxplot mean\n",
        "\n",
        "From Histogram on bottom:<br>\n",
        "Inference: median (green dotted line) slightly right of (black solid line) mean\n",
        "or mean (black solid line) slightly left of median (green dotted line)\n",
        "implies\n",
        "left-skewed, negatively skewed distribution\n",
        "\n",
        "https://www.statisticshowto.com/probability-and-statistics/skewed-distribution/#:~:text=In%20a%20normal%20distribution%2C%20the,the%20right%20of%20the%20median."
      ]
    },
    {
      "attachments": {},
      "cell_type": "markdown",
      "id": "321473cb",
      "metadata": {},
      "source": [
        "![Anatomy of a boxplot](https://builtin.com/sites/www.builtin.com/files/styles/ckeditor_optimize/public/inline-images/1_boxplots_0.jpg)\n",
        "\n",
        "Above Image reference: [Anatomy of a boxplot](https://builtin.com/sites/www.builtin.com/files/styles/ckeditor_optimize/public/inline-images/1_boxplots_0.jpg)"
      ]
    },
    {
      "attachments": {},
      "cell_type": "markdown",
      "id": "51c44d54",
      "metadata": {},
      "source": [
        "https://pandas.pydata.org/docs/reference/api/pandas.DataFrame.plot.kde.html\n",
        "\n",
        "https://matplotlib.org/stable/gallery/statistics/boxplot_demo.html\n",
        "\n",
        "From `histogram_boxplot` function definition\n",
        "\n",
        "at the start of \n",
        "\n",
        "Univariate Analysis:\n",
        "\n",
        "`histogram_boxplot` \n",
        "\n",
        "takes the following arguments:\n",
        "\n",
        "\n",
        "`data, feature, figsize=(15, 10), kde=False, bins=None)`\n",
        "\n",
        "- figsize sets the default figure size (reset to (7,5) from (15, 10))\n",
        "\n",
        "- kde= False means there is no kernel density estimation line\n",
        "\n",
        "https://matplotlib.org/stable/api/_as_gen/matplotlib.pyplot.hist.html\n",
        "\n",
        "- bins\n",
        "\n",
        "- The edges of the bins. Length nbins + 1 (nbins left edges and right edge of last bin). Always a single array even when multiple data sets are passed in.\n",
        "\n",
        "- Basically, sets the number of bins for the histogram, which for the above is quite high as the bars are quite narrow, giving a high resolution histogram.\n",
        "\n",
        "- <b><u>data is the dataframe</u></b>\n",
        "\n",
        "- <b><u>feature is the column</u></b>\n",
        "\n",
        "Above and below pertains to initial line and Docstring of `histogram_boxplot` function definition\n",
        "\n",
        "```\n",
        "    \"\"\"\n",
        "    Boxplot and histogram combined\n",
        "\n",
        "    data: dataframe\n",
        "    feature: dataframe column\n",
        "    figsize: size of figure (default (15,10))\n",
        "    kde: whether to show the density curve (default False)\n",
        "    bins: number of bins for histogram (default None)\n",
        "    \"\"\"\n",
        "\n",
        "```\n",
        "\n",
        "The next chunk of code from the `histogram_boxplot` function definition\n",
        "\n",
        "sets the figure to be f2\n",
        "\n",
        "and \n",
        "\n",
        "uses 2 axes separate objects within the figure:\n",
        "\n",
        "1.\n",
        "\n",
        "ax_box2\n",
        "\n",
        "- this is the axis for the boxplot\n",
        "\n",
        "2.\n",
        "\n",
        "ax_hist2\n",
        "\n",
        "- this is the axis for the histogram\n",
        "\n",
        "These figure and 2x axes objects are returned from the function:\n",
        "\n",
        "plt.subplots()\n",
        "\n",
        "that is,\n",
        "\n",
        "matplotlib.pyplot.subplots()\n",
        "\n",
        "---------------------------------------\n",
        "\n",
        "The arguments for the `plt.subplots()` function are as follows:\n",
        "\n",
        "- nrows=2\n",
        "\n",
        "- That is the number of rows in the subplot grid is 2 (1 for the horizontal boxplot on the top and 1 for the histogram on the bottom)\n",
        "\n",
        "-----------------------------------------------------------\n",
        "\n",
        "- sharex=True\n",
        "\n",
        "- 1 x axis is used for both plots\n",
        "\n",
        "-----------------------------------------\n",
        "\n",
        "- gridspec_kw sets the heights in a ratio of 1 is to 3 out of 4 height units\n",
        "\n",
        "\n",
        "```\n",
        "    f2, (ax_box2, ax_hist2) = plt.subplots(\n",
        "            nrows=2,  # Number of rows of the subplot grid= 2\n",
        "            sharex=True,  # x-axis will be shared among all subplots\n",
        "            gridspec_kw={\"height_ratios\": (0.25, 0.75)},\n",
        "            figsize=figsize,\n",
        "        )  # creating the 2 subplots\n",
        "```\n",
        "\n",
        "------------------\n",
        "------------------\n",
        "\n",
        "For the seaborn boxplot code chunk that follows:\n",
        "\n",
        "- showmeans = True\n",
        "\n",
        "and\n",
        "\n",
        "- <b><u>color = violet</u></b>\n",
        "\n",
        "- <b><u>So the boxplots are violet and the mean is superimposed as a green triangle.</u></b>\n",
        "\n",
        "- And from the comment, the mean is a triangle\n",
        "\n",
        "- <u><b>So the boxplot mean is a green triangle on a violet background.</b></u>\n",
        "\n",
        "```\n",
        "    sns.boxplot(\n",
        "        data=data, x=feature, ax=ax_box2, showmeans=True, color=\"violet\"\n",
        "    )  # boxplot will be created and a triangle will indicate the mean value of the column\n",
        "\n",
        "```\n",
        "\n",
        "-------------\n",
        "-------------\n",
        "\n",
        "\n",
        "\n",
        "```\n",
        "    sns.histplot(\n",
        "        data=data, x=feature, kde=kde, ax=ax_hist2, bins=bins\n",
        "    ) if bins else sns.histplot(\n",
        "        data=data, x=feature, kde=kde, ax=ax_hist2\n",
        "    )  # For histogram\n",
        "\n",
        "```\n",
        "\n",
        "---------------------\n",
        "\n",
        "from the following:\n",
        "vertical line is added to the histogram\n",
        "\n",
        "- the color is green\n",
        "\n",
        "- the line style is dotted or double dashed\n",
        "\n",
        "\n",
        "```\n",
        "    ax_hist2.axvline(\n",
        "        data[feature].mean(), color=\"green\", linestyle=\"--\"\n",
        "    )  # Add mean to the histogram\n",
        "```\n",
        "\n",
        "--------------------------\n",
        "\n",
        "from the following code chunk:\n",
        "\n",
        "the median is added to the histogram \n",
        "\n",
        "- color = black\n",
        "\n",
        "- linestyle is single dash\n",
        "\n",
        "\n",
        "That is, a black solid line represents the median on the histogram\n",
        "\n",
        "<b><u>histogram black median solid line</u></b>\n",
        "\n",
        "\n",
        "```\n",
        "    ax_hist2.axvline(\n",
        "        data[feature].median(), color=\"black\", linestyle=\"-\"\n",
        "    )  # Add median to the histogram\n",
        "```"
      ]
    },
    {
      "attachments": {},
      "cell_type": "markdown",
      "id": "c0ed1462",
      "metadata": {},
      "source": [
        "Summary of above discussion of function definition:\n",
        "\n",
        "x axis is used for both plots\n",
        "\n",
        "- <u><b>So the boxplot mean is a violet triangle.</b></u>\n",
        "\n",
        "vertical green dotted or double dashed line on histogram = mean\n",
        "\n",
        "<b><u>histogram black median solid line</u></b>"
      ]
    },
    {
      "cell_type": "code",
      "execution_count": 97,
      "id": "380d4035",
      "metadata": {},
      "outputs": [
        {
          "data": {
            "text/html": [
              "<div>\n",
              "<style scoped>\n",
              "    .dataframe tbody tr th:only-of-type {\n",
              "        vertical-align: middle;\n",
              "    }\n",
              "\n",
              "    .dataframe tbody tr th {\n",
              "        vertical-align: top;\n",
              "    }\n",
              "\n",
              "    .dataframe thead th {\n",
              "        text-align: right;\n",
              "    }\n",
              "</style>\n",
              "<table border=\"1\" class=\"dataframe\">\n",
              "  <thead>\n",
              "    <tr style=\"text-align: right;\">\n",
              "      <th></th>\n",
              "      <th>no_of_adults</th>\n",
              "      <th>no_of_children</th>\n",
              "      <th>no_of_weekend_nights</th>\n",
              "      <th>no_of_week_nights</th>\n",
              "      <th>type_of_meal_plan</th>\n",
              "      <th>required_car_parking_space</th>\n",
              "      <th>room_type_reserved</th>\n",
              "      <th>lead_time</th>\n",
              "      <th>arrival_year</th>\n",
              "      <th>arrival_month</th>\n",
              "      <th>arrival_date</th>\n",
              "      <th>market_segment_type</th>\n",
              "      <th>repeated_guest</th>\n",
              "      <th>no_of_previous_cancellations</th>\n",
              "      <th>no_of_previous_bookings_not_canceled</th>\n",
              "      <th>avg_price_per_room</th>\n",
              "      <th>no_of_special_requests</th>\n",
              "      <th>booking_status</th>\n",
              "    </tr>\n",
              "  </thead>\n",
              "  <tbody>\n",
              "    <tr>\n",
              "      <th>0</th>\n",
              "      <td>2</td>\n",
              "      <td>0</td>\n",
              "      <td>1</td>\n",
              "      <td>2</td>\n",
              "      <td>Meal Plan 1</td>\n",
              "      <td>0</td>\n",
              "      <td>Room_Type 1</td>\n",
              "      <td>224</td>\n",
              "      <td>2017</td>\n",
              "      <td>10</td>\n",
              "      <td>2</td>\n",
              "      <td>Offline</td>\n",
              "      <td>0</td>\n",
              "      <td>0</td>\n",
              "      <td>0</td>\n",
              "      <td>65.00</td>\n",
              "      <td>0</td>\n",
              "      <td>Not_Canceled</td>\n",
              "    </tr>\n",
              "    <tr>\n",
              "      <th>1</th>\n",
              "      <td>2</td>\n",
              "      <td>0</td>\n",
              "      <td>2</td>\n",
              "      <td>3</td>\n",
              "      <td>Not Selected</td>\n",
              "      <td>0</td>\n",
              "      <td>Room_Type 1</td>\n",
              "      <td>5</td>\n",
              "      <td>2018</td>\n",
              "      <td>11</td>\n",
              "      <td>6</td>\n",
              "      <td>Online</td>\n",
              "      <td>0</td>\n",
              "      <td>0</td>\n",
              "      <td>0</td>\n",
              "      <td>106.68</td>\n",
              "      <td>1</td>\n",
              "      <td>Not_Canceled</td>\n",
              "    </tr>\n",
              "  </tbody>\n",
              "</table>\n",
              "</div>"
            ],
            "text/plain": [
              "   no_of_adults  no_of_children  no_of_weekend_nights  no_of_week_nights type_of_meal_plan  required_car_parking_space room_type_reserved  lead_time  arrival_year  arrival_month  arrival_date market_segment_type  repeated_guest  no_of_previous_cancellations  no_of_previous_bookings_not_canceled  avg_price_per_room  no_of_special_requests booking_status\n",
              "0  2             0               1                     2                  Meal Plan 1       0                           Room_Type 1        224        2017          10             2             Offline             0               0                             0                                     65.00               0                       Not_Canceled \n",
              "1  2             0               2                     3                  Not Selected      0                           Room_Type 1        5          2018          11             6             Online              0               0                             0                                     106.68              1                       Not_Canceled "
            ]
          },
          "execution_count": 97,
          "metadata": {},
          "output_type": "execute_result"
        },
        {
          "data": {
            "application/javascript": "\n            setTimeout(function() {\n                var nbb_cell_id = 97;\n                var nbb_unformatted_code = \"data.head(2)\";\n                var nbb_formatted_code = \"data.head(2)\";\n                var nbb_cells = Jupyter.notebook.get_cells();\n                for (var i = 0; i < nbb_cells.length; ++i) {\n                    if (nbb_cells[i].input_prompt_number == nbb_cell_id) {\n                        if (nbb_cells[i].get_text() == nbb_unformatted_code) {\n                             nbb_cells[i].set_text(nbb_formatted_code);\n                        }\n                        break;\n                    }\n                }\n            }, 500);\n            ",
            "text/plain": [
              "<IPython.core.display.Javascript object>"
            ]
          },
          "metadata": {},
          "output_type": "display_data"
        },
        {
          "data": {
            "application/javascript": "\n            setTimeout(function() {\n                var nbb_cell_id = 97;\n                var nbb_unformatted_code = \"data.head(2)\";\n                var nbb_formatted_code = \"data.head(2)\";\n                var nbb_cells = Jupyter.notebook.get_cells();\n                for (var i = 0; i < nbb_cells.length; ++i) {\n                    if (nbb_cells[i].input_prompt_number == nbb_cell_id) {\n                        if (nbb_cells[i].get_text() == nbb_unformatted_code) {\n                             nbb_cells[i].set_text(nbb_formatted_code);\n                        }\n                        break;\n                    }\n                }\n            }, 500);\n            ",
            "text/plain": [
              "<IPython.core.display.Javascript object>"
            ]
          },
          "metadata": {},
          "output_type": "display_data"
        }
      ],
      "source": [
        "data.head(2)"
      ]
    },
    {
      "attachments": {},
      "cell_type": "markdown",
      "id": "52990be0",
      "metadata": {},
      "source": [
        "##### Final ANSWER:"
      ]
    },
    {
      "cell_type": "code",
      "execution_count": 99,
      "id": "molecular-opposition",
      "metadata": {
        "id": "molecular-opposition"
      },
      "outputs": [
        {
          "data": {
            "image/png": "[encoded data removed]",
            "text/plain": [
              "<Figure size 700x500 with 2 Axes>"
            ]
          },
          "metadata": {},
          "output_type": "display_data"
        },
        {
          "data": {
            "application/javascript": "\n            setTimeout(function() {\n                var nbb_cell_id = 99;\n                var nbb_unformatted_code = \"histogram_boxplot(data, \\\"no_of_previous_cancellations\\\", figsize=(7, 5))  ## Complete the code to create histogram_boxplot for number of previous booking cancellations\";\n                var nbb_formatted_code = \"histogram_boxplot(\\n    data, \\\"no_of_previous_cancellations\\\", figsize=(7, 5)\\n)  ## Complete the code to create histogram_boxplot for number of previous booking cancellations\";\n                var nbb_cells = Jupyter.notebook.get_cells();\n                for (var i = 0; i < nbb_cells.length; ++i) {\n                    if (nbb_cells[i].input_prompt_number == nbb_cell_id) {\n                        if (nbb_cells[i].get_text() == nbb_unformatted_code) {\n                             nbb_cells[i].set_text(nbb_formatted_code);\n                        }\n                        break;\n                    }\n                }\n            }, 500);\n            ",
            "text/plain": [
              "<IPython.core.display.Javascript object>"
            ]
          },
          "metadata": {},
          "output_type": "display_data"
        },
        {
          "data": {
            "application/javascript": "\n            setTimeout(function() {\n                var nbb_cell_id = 99;\n                var nbb_unformatted_code = \"histogram_boxplot(data, \\\"no_of_previous_cancellations\\\", figsize=(7, 5))  ## Complete the code to create histogram_boxplot for number of previous booking cancellations\";\n                var nbb_formatted_code = \"histogram_boxplot(\\n    data, \\\"no_of_previous_cancellations\\\", figsize=(7, 5)\\n)  ## Complete the code to create histogram_boxplot for number of previous booking cancellations\";\n                var nbb_cells = Jupyter.notebook.get_cells();\n                for (var i = 0; i < nbb_cells.length; ++i) {\n                    if (nbb_cells[i].input_prompt_number == nbb_cell_id) {\n                        if (nbb_cells[i].get_text() == nbb_unformatted_code) {\n                             nbb_cells[i].set_text(nbb_formatted_code);\n                        }\n                        break;\n                    }\n                }\n            }, 500);\n            ",
            "text/plain": [
              "<IPython.core.display.Javascript object>"
            ]
          },
          "metadata": {},
          "output_type": "display_data"
        }
      ],
      "source": [
        "histogram_boxplot(data, \"no_of_previous_cancellations\", figsize=(7, 5))  ## Complete the code to create histogram_boxplot for number of previous booking cancellations"
      ]
    },
    {
      "cell_type": "markdown",
      "id": "rough-contributor",
      "metadata": {
        "id": "rough-contributor"
      },
      "source": [
        "### Observations on number of previous booking not canceled"
      ]
    },
    {
      "attachments": {},
      "cell_type": "markdown",
      "id": "8342f0d0",
      "metadata": {},
      "source": [
        "Preparatory Code Cell:"
      ]
    },
    {
      "cell_type": "code",
      "execution_count": 101,
      "id": "287c6be8",
      "metadata": {},
      "outputs": [
        {
          "data": {
            "text/html": [
              "<div>\n",
              "<style scoped>\n",
              "    .dataframe tbody tr th:only-of-type {\n",
              "        vertical-align: middle;\n",
              "    }\n",
              "\n",
              "    .dataframe tbody tr th {\n",
              "        vertical-align: top;\n",
              "    }\n",
              "\n",
              "    .dataframe thead th {\n",
              "        text-align: right;\n",
              "    }\n",
              "</style>\n",
              "<table border=\"1\" class=\"dataframe\">\n",
              "  <thead>\n",
              "    <tr style=\"text-align: right;\">\n",
              "      <th></th>\n",
              "      <th>no_of_adults</th>\n",
              "      <th>no_of_children</th>\n",
              "      <th>no_of_weekend_nights</th>\n",
              "      <th>no_of_week_nights</th>\n",
              "      <th>type_of_meal_plan</th>\n",
              "      <th>required_car_parking_space</th>\n",
              "      <th>room_type_reserved</th>\n",
              "      <th>lead_time</th>\n",
              "      <th>arrival_year</th>\n",
              "      <th>arrival_month</th>\n",
              "      <th>arrival_date</th>\n",
              "      <th>market_segment_type</th>\n",
              "      <th>repeated_guest</th>\n",
              "      <th>no_of_previous_cancellations</th>\n",
              "      <th>no_of_previous_bookings_not_canceled</th>\n",
              "      <th>avg_price_per_room</th>\n",
              "      <th>no_of_special_requests</th>\n",
              "      <th>booking_status</th>\n",
              "    </tr>\n",
              "  </thead>\n",
              "  <tbody>\n",
              "    <tr>\n",
              "      <th>0</th>\n",
              "      <td>2</td>\n",
              "      <td>0</td>\n",
              "      <td>1</td>\n",
              "      <td>2</td>\n",
              "      <td>Meal Plan 1</td>\n",
              "      <td>0</td>\n",
              "      <td>Room_Type 1</td>\n",
              "      <td>224</td>\n",
              "      <td>2017</td>\n",
              "      <td>10</td>\n",
              "      <td>2</td>\n",
              "      <td>Offline</td>\n",
              "      <td>0</td>\n",
              "      <td>0</td>\n",
              "      <td>0</td>\n",
              "      <td>65.00</td>\n",
              "      <td>0</td>\n",
              "      <td>Not_Canceled</td>\n",
              "    </tr>\n",
              "    <tr>\n",
              "      <th>1</th>\n",
              "      <td>2</td>\n",
              "      <td>0</td>\n",
              "      <td>2</td>\n",
              "      <td>3</td>\n",
              "      <td>Not Selected</td>\n",
              "      <td>0</td>\n",
              "      <td>Room_Type 1</td>\n",
              "      <td>5</td>\n",
              "      <td>2018</td>\n",
              "      <td>11</td>\n",
              "      <td>6</td>\n",
              "      <td>Online</td>\n",
              "      <td>0</td>\n",
              "      <td>0</td>\n",
              "      <td>0</td>\n",
              "      <td>106.68</td>\n",
              "      <td>1</td>\n",
              "      <td>Not_Canceled</td>\n",
              "    </tr>\n",
              "  </tbody>\n",
              "</table>\n",
              "</div>"
            ],
            "text/plain": [
              "   no_of_adults  no_of_children  no_of_weekend_nights  no_of_week_nights type_of_meal_plan  required_car_parking_space room_type_reserved  lead_time  arrival_year  arrival_month  arrival_date market_segment_type  repeated_guest  no_of_previous_cancellations  no_of_previous_bookings_not_canceled  avg_price_per_room  no_of_special_requests booking_status\n",
              "0  2             0               1                     2                  Meal Plan 1       0                           Room_Type 1        224        2017          10             2             Offline             0               0                             0                                     65.00               0                       Not_Canceled \n",
              "1  2             0               2                     3                  Not Selected      0                           Room_Type 1        5          2018          11             6             Online              0               0                             0                                     106.68              1                       Not_Canceled "
            ]
          },
          "execution_count": 101,
          "metadata": {},
          "output_type": "execute_result"
        },
        {
          "data": {
            "application/javascript": "\n            setTimeout(function() {\n                var nbb_cell_id = 101;\n                var nbb_unformatted_code = \"data.head(2)\";\n                var nbb_formatted_code = \"data.head(2)\";\n                var nbb_cells = Jupyter.notebook.get_cells();\n                for (var i = 0; i < nbb_cells.length; ++i) {\n                    if (nbb_cells[i].input_prompt_number == nbb_cell_id) {\n                        if (nbb_cells[i].get_text() == nbb_unformatted_code) {\n                             nbb_cells[i].set_text(nbb_formatted_code);\n                        }\n                        break;\n                    }\n                }\n            }, 500);\n            ",
            "text/plain": [
              "<IPython.core.display.Javascript object>"
            ]
          },
          "metadata": {},
          "output_type": "display_data"
        },
        {
          "data": {
            "application/javascript": "\n            setTimeout(function() {\n                var nbb_cell_id = 101;\n                var nbb_unformatted_code = \"data.head(2)\";\n                var nbb_formatted_code = \"data.head(2)\";\n                var nbb_cells = Jupyter.notebook.get_cells();\n                for (var i = 0; i < nbb_cells.length; ++i) {\n                    if (nbb_cells[i].input_prompt_number == nbb_cell_id) {\n                        if (nbb_cells[i].get_text() == nbb_unformatted_code) {\n                             nbb_cells[i].set_text(nbb_formatted_code);\n                        }\n                        break;\n                    }\n                }\n            }, 500);\n            ",
            "text/plain": [
              "<IPython.core.display.Javascript object>"
            ]
          },
          "metadata": {},
          "output_type": "display_data"
        }
      ],
      "source": [
        "data.head(2)"
      ]
    },
    {
      "cell_type": "code",
      "execution_count": 100,
      "id": "laughing-bridge",
      "metadata": {
        "id": "laughing-bridge"
      },
      "outputs": [
        {
          "data": {
            "image/png": "[encoded data removed]",
            "text/plain": [
              "<Figure size 700x500 with 2 Axes>"
            ]
          },
          "metadata": {},
          "output_type": "display_data"
        },
        {
          "data": {
            "application/javascript": "\n            setTimeout(function() {\n                var nbb_cell_id = 100;\n                var nbb_unformatted_code = \"histogram_boxplot(data, \\\"no_of_previous_bookings_not_canceled\\\", figsize=(7, 5))  ## Complete the code to create histogram_boxplot for number of previous booking not canceled\";\n                var nbb_formatted_code = \"histogram_boxplot(\\n    data, \\\"no_of_previous_bookings_not_canceled\\\", figsize=(7, 5)\\n)  ## Complete the code to create histogram_boxplot for number of previous booking not canceled\";\n                var nbb_cells = Jupyter.notebook.get_cells();\n                for (var i = 0; i < nbb_cells.length; ++i) {\n                    if (nbb_cells[i].input_prompt_number == nbb_cell_id) {\n                        if (nbb_cells[i].get_text() == nbb_unformatted_code) {\n                             nbb_cells[i].set_text(nbb_formatted_code);\n                        }\n                        break;\n                    }\n                }\n            }, 500);\n            ",
            "text/plain": [
              "<IPython.core.display.Javascript object>"
            ]
          },
          "metadata": {},
          "output_type": "display_data"
        },
        {
          "data": {
            "application/javascript": "\n            setTimeout(function() {\n                var nbb_cell_id = 100;\n                var nbb_unformatted_code = \"histogram_boxplot(data, \\\"no_of_previous_bookings_not_canceled\\\", figsize=(7, 5))  ## Complete the code to create histogram_boxplot for number of previous booking not canceled\";\n                var nbb_formatted_code = \"histogram_boxplot(\\n    data, \\\"no_of_previous_bookings_not_canceled\\\", figsize=(7, 5)\\n)  ## Complete the code to create histogram_boxplot for number of previous booking not canceled\";\n                var nbb_cells = Jupyter.notebook.get_cells();\n                for (var i = 0; i < nbb_cells.length; ++i) {\n                    if (nbb_cells[i].input_prompt_number == nbb_cell_id) {\n                        if (nbb_cells[i].get_text() == nbb_unformatted_code) {\n                             nbb_cells[i].set_text(nbb_formatted_code);\n                        }\n                        break;\n                    }\n                }\n            }, 500);\n            ",
            "text/plain": [
              "<IPython.core.display.Javascript object>"
            ]
          },
          "metadata": {},
          "output_type": "display_data"
        }
      ],
      "source": [
        "histogram_boxplot(data, \"no_of_previous_bookings_not_canceled\", figsize=(7, 5))  ## Complete the code to create histogram_boxplot for number of previous booking not canceled"
      ]
    },
    {
      "attachments": {},
      "cell_type": "markdown",
      "id": "0cab5fad",
      "metadata": {},
      "source": [
        "Inference from above<br>\n",
        "The histogram clearly shows that in the vast majority of \n",
        "cases \n",
        "the number of uncancelled (or usual) previous bookings is high for customers,\n",
        "\n",
        "that is:\n",
        "\n",
        "<u>**cancellation is uncommon.**</u>\n"
      ]
    },
    {
      "cell_type": "code",
      "execution_count": 102,
      "id": "attended-grounds",
      "metadata": {
        "id": "attended-grounds"
      },
      "outputs": [
        {
          "data": {
            "application/javascript": "\n            setTimeout(function() {\n                var nbb_cell_id = 102;\n                var nbb_unformatted_code = \"# function to create labeled barplots\\n\\n\\ndef labeled_barplot(data, feature, perc=False, n=None):\\n    \\\"\\\"\\\"\\n    Barplot with percentage at the top\\n\\n    data: dataframe\\n    feature: dataframe column\\n    perc: whether to display percentages instead of count (default is False)\\n    n: displays the top n category levels (default is None, i.e., display all levels)\\n    \\\"\\\"\\\"\\n\\n    total = len(data[feature])  # length of the column\\n    count = data[feature].nunique()\\n    if n is None:\\n        plt.figure(figsize=(count + 2, 6))\\n    else:\\n        plt.figure(figsize=(n + 2, 6))\\n\\n    plt.xticks(rotation=90, fontsize=15)\\n    ax = sns.countplot(\\n        data=data,\\n        x=feature,\\n        palette=\\\"Paired\\\",\\n        order=data[feature].value_counts().index[:n],\\n    )\\n\\n    for p in ax.patches:\\n        if perc == True:\\n            label = \\\"{:.1f}%\\\".format(\\n                100 * p.get_height() / total\\n            )  # percentage of each class of the category\\n        else:\\n            label = p.get_height()  # count of each level of the category\\n\\n        x = p.get_x() + p.get_width() / 2  # width of the plot\\n        y = p.get_height()  # height of the plot\\n\\n        ax.annotate(\\n            label,\\n            (x, y),\\n            ha=\\\"center\\\",\\n            va=\\\"center\\\",\\n            size=12,\\n            xytext=(0, 5),\\n            textcoords=\\\"offset points\\\",\\n        )  # annotate the percentage\\n\\n    plt.show()  # show the plot\";\n                var nbb_formatted_code = \"# function to create labeled barplots\\n\\n\\ndef labeled_barplot(data, feature, perc=False, n=None):\\n    \\\"\\\"\\\"\\n    Barplot with percentage at the top\\n\\n    data: dataframe\\n    feature: dataframe column\\n    perc: whether to display percentages instead of count (default is False)\\n    n: displays the top n category levels (default is None, i.e., display all levels)\\n    \\\"\\\"\\\"\\n\\n    total = len(data[feature])  # length of the column\\n    count = data[feature].nunique()\\n    if n is None:\\n        plt.figure(figsize=(count + 2, 6))\\n    else:\\n        plt.figure(figsize=(n + 2, 6))\\n\\n    plt.xticks(rotation=90, fontsize=15)\\n    ax = sns.countplot(\\n        data=data,\\n        x=feature,\\n        palette=\\\"Paired\\\",\\n        order=data[feature].value_counts().index[:n],\\n    )\\n\\n    for p in ax.patches:\\n        if perc == True:\\n            label = \\\"{:.1f}%\\\".format(\\n                100 * p.get_height() / total\\n            )  # percentage of each class of the category\\n        else:\\n            label = p.get_height()  # count of each level of the category\\n\\n        x = p.get_x() + p.get_width() / 2  # width of the plot\\n        y = p.get_height()  # height of the plot\\n\\n        ax.annotate(\\n            label,\\n            (x, y),\\n            ha=\\\"center\\\",\\n            va=\\\"center\\\",\\n            size=12,\\n            xytext=(0, 5),\\n            textcoords=\\\"offset points\\\",\\n        )  # annotate the percentage\\n\\n    plt.show()  # show the plot\";\n                var nbb_cells = Jupyter.notebook.get_cells();\n                for (var i = 0; i < nbb_cells.length; ++i) {\n                    if (nbb_cells[i].input_prompt_number == nbb_cell_id) {\n                        if (nbb_cells[i].get_text() == nbb_unformatted_code) {\n                             nbb_cells[i].set_text(nbb_formatted_code);\n                        }\n                        break;\n                    }\n                }\n            }, 500);\n            ",
            "text/plain": [
              "<IPython.core.display.Javascript object>"
            ]
          },
          "metadata": {},
          "output_type": "display_data"
        },
        {
          "data": {
            "application/javascript": "\n            setTimeout(function() {\n                var nbb_cell_id = 102;\n                var nbb_unformatted_code = \"# function to create labeled barplots\\n\\n\\ndef labeled_barplot(data, feature, perc=False, n=None):\\n    \\\"\\\"\\\"\\n    Barplot with percentage at the top\\n\\n    data: dataframe\\n    feature: dataframe column\\n    perc: whether to display percentages instead of count (default is False)\\n    n: displays the top n category levels (default is None, i.e., display all levels)\\n    \\\"\\\"\\\"\\n\\n    total = len(data[feature])  # length of the column\\n    count = data[feature].nunique()\\n    if n is None:\\n        plt.figure(figsize=(count + 2, 6))\\n    else:\\n        plt.figure(figsize=(n + 2, 6))\\n\\n    plt.xticks(rotation=90, fontsize=15)\\n    ax = sns.countplot(\\n        data=data,\\n        x=feature,\\n        palette=\\\"Paired\\\",\\n        order=data[feature].value_counts().index[:n],\\n    )\\n\\n    for p in ax.patches:\\n        if perc == True:\\n            label = \\\"{:.1f}%\\\".format(\\n                100 * p.get_height() / total\\n            )  # percentage of each class of the category\\n        else:\\n            label = p.get_height()  # count of each level of the category\\n\\n        x = p.get_x() + p.get_width() / 2  # width of the plot\\n        y = p.get_height()  # height of the plot\\n\\n        ax.annotate(\\n            label,\\n            (x, y),\\n            ha=\\\"center\\\",\\n            va=\\\"center\\\",\\n            size=12,\\n            xytext=(0, 5),\\n            textcoords=\\\"offset points\\\",\\n        )  # annotate the percentage\\n\\n    plt.show()  # show the plot\";\n                var nbb_formatted_code = \"# function to create labeled barplots\\n\\n\\ndef labeled_barplot(data, feature, perc=False, n=None):\\n    \\\"\\\"\\\"\\n    Barplot with percentage at the top\\n\\n    data: dataframe\\n    feature: dataframe column\\n    perc: whether to display percentages instead of count (default is False)\\n    n: displays the top n category levels (default is None, i.e., display all levels)\\n    \\\"\\\"\\\"\\n\\n    total = len(data[feature])  # length of the column\\n    count = data[feature].nunique()\\n    if n is None:\\n        plt.figure(figsize=(count + 2, 6))\\n    else:\\n        plt.figure(figsize=(n + 2, 6))\\n\\n    plt.xticks(rotation=90, fontsize=15)\\n    ax = sns.countplot(\\n        data=data,\\n        x=feature,\\n        palette=\\\"Paired\\\",\\n        order=data[feature].value_counts().index[:n],\\n    )\\n\\n    for p in ax.patches:\\n        if perc == True:\\n            label = \\\"{:.1f}%\\\".format(\\n                100 * p.get_height() / total\\n            )  # percentage of each class of the category\\n        else:\\n            label = p.get_height()  # count of each level of the category\\n\\n        x = p.get_x() + p.get_width() / 2  # width of the plot\\n        y = p.get_height()  # height of the plot\\n\\n        ax.annotate(\\n            label,\\n            (x, y),\\n            ha=\\\"center\\\",\\n            va=\\\"center\\\",\\n            size=12,\\n            xytext=(0, 5),\\n            textcoords=\\\"offset points\\\",\\n        )  # annotate the percentage\\n\\n    plt.show()  # show the plot\";\n                var nbb_cells = Jupyter.notebook.get_cells();\n                for (var i = 0; i < nbb_cells.length; ++i) {\n                    if (nbb_cells[i].input_prompt_number == nbb_cell_id) {\n                        if (nbb_cells[i].get_text() == nbb_unformatted_code) {\n                             nbb_cells[i].set_text(nbb_formatted_code);\n                        }\n                        break;\n                    }\n                }\n            }, 500);\n            ",
            "text/plain": [
              "<IPython.core.display.Javascript object>"
            ]
          },
          "metadata": {},
          "output_type": "display_data"
        }
      ],
      "source": [
        "# function to create labeled barplots\n",
        "\n",
        "\n",
        "def labeled_barplot(data, feature, perc=False, n=None):\n",
        "    \"\"\"\n",
        "    Barplot with percentage at the top\n",
        "\n",
        "    data: dataframe\n",
        "    feature: dataframe column\n",
        "    perc: whether to display percentages instead of count (default is False)\n",
        "    n: displays the top n category levels (default is None, i.e., display all levels)\n",
        "    \"\"\"\n",
        "\n",
        "    total = len(data[feature])  # length of the column\n",
        "    count = data[feature].nunique()\n",
        "    if n is None:\n",
        "        plt.figure(figsize=(count + 2, 6))\n",
        "    else:\n",
        "        plt.figure(figsize=(n + 2, 6))\n",
        "\n",
        "    plt.xticks(rotation=90, fontsize=15)\n",
        "    ax = sns.countplot(\n",
        "        data=data,\n",
        "        x=feature,\n",
        "        palette=\"Paired\",\n",
        "        order=data[feature].value_counts().index[:n],\n",
        "    )\n",
        "\n",
        "    for p in ax.patches:\n",
        "        if perc == True:\n",
        "            label = \"{:.1f}%\".format(\n",
        "                100 * p.get_height() / total\n",
        "            )  # percentage of each class of the category\n",
        "        else:\n",
        "            label = p.get_height()  # count of each level of the category\n",
        "\n",
        "        x = p.get_x() + p.get_width() / 2  # width of the plot\n",
        "        y = p.get_height()  # height of the plot\n",
        "\n",
        "        ax.annotate(\n",
        "            label,\n",
        "            (x, y),\n",
        "            ha=\"center\",\n",
        "            va=\"center\",\n",
        "            size=12,\n",
        "            xytext=(0, 5),\n",
        "            textcoords=\"offset points\",\n",
        "        )  # annotate the percentage\n",
        "\n",
        "    plt.show()  # show the plot"
      ]
    },
    {
      "attachments": {},
      "cell_type": "markdown",
      "id": "c8104826",
      "metadata": {},
      "source": [
        "Above is the labelled_barplot that will be used in subsequent function calls."
      ]
    },
    {
      "cell_type": "markdown",
      "id": "industrial-implementation",
      "metadata": {
        "id": "industrial-implementation"
      },
      "source": [
        "### Observations on number of adults"
      ]
    },
    {
      "cell_type": "code",
      "execution_count": null,
      "id": "israeli-sympathy",
      "metadata": {
        "id": "israeli-sympathy"
      },
      "outputs": [],
      "source": [
        "labeled_barplot(data, \"no_of_adults\", perc=True)"
      ]
    },
    {
      "cell_type": "markdown",
      "id": "celtic-florist",
      "metadata": {
        "id": "celtic-florist"
      },
      "source": [
        "### Observations on number of children"
      ]
    },
    {
      "cell_type": "code",
      "execution_count": null,
      "id": "finite-kingston",
      "metadata": {
        "id": "finite-kingston"
      },
      "outputs": [],
      "source": [
        "labeled_barplot('_______')  ## Complete the code to create labeled_barplot for number of children "
      ]
    },
    {
      "cell_type": "code",
      "execution_count": null,
      "id": "necessary-employee",
      "metadata": {
        "id": "necessary-employee"
      },
      "outputs": [],
      "source": [
        "# replacing 9, and 10 children with 3\n",
        "data[\"no_of_children\"] = data[\"no_of_children\"].replace([9, 10], 3)"
      ]
    },
    {
      "cell_type": "markdown",
      "id": "affiliated-accreditation",
      "metadata": {
        "id": "affiliated-accreditation"
      },
      "source": [
        "### Observations on number of week nights"
      ]
    },
    {
      "cell_type": "code",
      "execution_count": null,
      "id": "great-kitchen",
      "metadata": {
        "id": "great-kitchen"
      },
      "outputs": [],
      "source": [
        "labeled_barplot('_______')  ## Complete the code to create labeled_barplot for number of week nights"
      ]
    },
    {
      "cell_type": "markdown",
      "id": "thermal-resource",
      "metadata": {
        "id": "thermal-resource"
      },
      "source": [
        "### Observations on number of weekend nights"
      ]
    },
    {
      "cell_type": "code",
      "execution_count": null,
      "id": "bizarre-serbia",
      "metadata": {
        "id": "bizarre-serbia",
        "scrolled": true
      },
      "outputs": [],
      "source": [
        "labeled_barplot('_______')  ## Complete the code to create labeled_barplot for number of weekend nights"
      ]
    },
    {
      "cell_type": "markdown",
      "id": "greenhouse-regression",
      "metadata": {
        "id": "greenhouse-regression"
      },
      "source": [
        "### Observations on required car parking space"
      ]
    },
    {
      "cell_type": "code",
      "execution_count": null,
      "id": "handy-talent",
      "metadata": {
        "id": "handy-talent"
      },
      "outputs": [],
      "source": [
        "labeled_barplot('_______')  ## Complete the code to create labeled_barplot for car parking space"
      ]
    },
    {
      "cell_type": "markdown",
      "id": "southeast-avenue",
      "metadata": {
        "id": "southeast-avenue"
      },
      "source": [
        "### Observations on type of meal plan"
      ]
    },
    {
      "cell_type": "code",
      "execution_count": null,
      "id": "retired-preliminary",
      "metadata": {
        "id": "retired-preliminary"
      },
      "outputs": [],
      "source": [
        "labeled_barplot('_______')  ## Complete the code to create labeled_barplot for type of mean plan"
      ]
    },
    {
      "cell_type": "markdown",
      "id": "competitive-brass",
      "metadata": {
        "id": "competitive-brass"
      },
      "source": [
        "### Observations on room type reserved"
      ]
    },
    {
      "cell_type": "code",
      "execution_count": null,
      "id": "cordless-assurance",
      "metadata": {
        "id": "cordless-assurance"
      },
      "outputs": [],
      "source": [
        "labeled_barplot('_______')  ## Complete the code to create labeled_barplot for room type reserved"
      ]
    },
    {
      "cell_type": "markdown",
      "id": "thick-coordination",
      "metadata": {
        "id": "thick-coordination"
      },
      "source": [
        "### Observations on arrival month"
      ]
    },
    {
      "cell_type": "code",
      "execution_count": null,
      "id": "expensive-deposit",
      "metadata": {
        "id": "expensive-deposit"
      },
      "outputs": [],
      "source": [
        "labeled_barplot('_______')  ## Complete the code to create labeled_barplot for arrival month"
      ]
    },
    {
      "cell_type": "markdown",
      "id": "bulgarian-paint",
      "metadata": {
        "id": "bulgarian-paint"
      },
      "source": [
        "### Observations on market segment type"
      ]
    },
    {
      "cell_type": "code",
      "execution_count": null,
      "id": "ordinary-foster",
      "metadata": {
        "id": "ordinary-foster"
      },
      "outputs": [],
      "source": [
        "labeled_barplot('_______')  ## Complete the code to create labeled_barplot for market segment type "
      ]
    },
    {
      "cell_type": "markdown",
      "id": "behavioral-portfolio",
      "metadata": {
        "id": "behavioral-portfolio"
      },
      "source": [
        "### Observations on number of special requests"
      ]
    },
    {
      "cell_type": "code",
      "execution_count": null,
      "id": "abroad-moldova",
      "metadata": {
        "id": "abroad-moldova"
      },
      "outputs": [],
      "source": [
        "labeled_barplot('_______')  ## Complete the code to create labeled_barplot for number of special requests"
      ]
    },
    {
      "cell_type": "markdown",
      "id": "dramatic-karaoke",
      "metadata": {
        "id": "dramatic-karaoke"
      },
      "source": [
        "### Observations on booking status"
      ]
    },
    {
      "cell_type": "code",
      "execution_count": null,
      "id": "happy-collins",
      "metadata": {
        "id": "happy-collins"
      },
      "outputs": [],
      "source": [
        "labeled_barplot('_______')  ## Complete the code to create labeled_barplot for booking status"
      ]
    },
    {
      "cell_type": "markdown",
      "id": "pharmaceutical-grill",
      "metadata": {
        "id": "pharmaceutical-grill"
      },
      "source": [
        "**Let's encode Canceled bookings to 1 and Not_Canceled as 0 for further analysis**"
      ]
    },
    {
      "cell_type": "code",
      "execution_count": null,
      "id": "voluntary-irish",
      "metadata": {
        "id": "voluntary-irish"
      },
      "outputs": [],
      "source": [
        "data[\"booking_status\"] = data[\"booking_status\"].apply(\n",
        "    lambda x: 1 if x == \"Canceled\" else 0\n",
        ")"
      ]
    },
    {
      "cell_type": "markdown",
      "id": "arranged-courtesy",
      "metadata": {
        "id": "arranged-courtesy"
      },
      "source": [
        "### Bivariate Analysis"
      ]
    },
    {
      "cell_type": "code",
      "execution_count": null,
      "id": "official-wyoming",
      "metadata": {
        "id": "official-wyoming"
      },
      "outputs": [],
      "source": [
        "cols_list = data.select_dtypes(include=np.number).columns.tolist()\n",
        "\n",
        "plt.figure(figsize=(12, 7))\n",
        "sns.heatmap(\n",
        "    data[cols_list].corr(), annot=True, vmin=-1, vmax=1, fmt=\".2f\", cmap=\"Spectral\"\n",
        ")\n",
        "plt.show()"
      ]
    },
    {
      "cell_type": "markdown",
      "id": "upper-glass",
      "metadata": {
        "id": "upper-glass"
      },
      "source": [
        "**Creating functions that will help us with further analysis.**"
      ]
    },
    {
      "cell_type": "code",
      "execution_count": null,
      "id": "sought-bunny",
      "metadata": {
        "id": "sought-bunny"
      },
      "outputs": [],
      "source": [
        "### function to plot distributions wrt target\n",
        "\n",
        "\n",
        "def distribution_plot_wrt_target(data, predictor, target):\n",
        "\n",
        "    fig, axs = plt.subplots(2, 2, figsize=(12, 10))\n",
        "\n",
        "    target_uniq = data[target].unique()\n",
        "\n",
        "    axs[0, 0].set_title(\"Distribution of target for target=\" + str(target_uniq[0]))\n",
        "    sns.histplot(\n",
        "        data=data[data[target] == target_uniq[0]],\n",
        "        x=predictor,\n",
        "        kde=True,\n",
        "        ax=axs[0, 0],\n",
        "        color=\"teal\",\n",
        "        stat=\"density\",\n",
        "    )\n",
        "\n",
        "    axs[0, 1].set_title(\"Distribution of target for target=\" + str(target_uniq[1]))\n",
        "    sns.histplot(\n",
        "        data=data[data[target] == target_uniq[1]],\n",
        "        x=predictor,\n",
        "        kde=True,\n",
        "        ax=axs[0, 1],\n",
        "        color=\"orange\",\n",
        "        stat=\"density\",\n",
        "    )\n",
        "\n",
        "    axs[1, 0].set_title(\"Boxplot w.r.t target\")\n",
        "    sns.boxplot(data=data, x=target, y=predictor, ax=axs[1, 0], palette=\"gist_rainbow\")\n",
        "\n",
        "    axs[1, 1].set_title(\"Boxplot (without outliers) w.r.t target\")\n",
        "    sns.boxplot(\n",
        "        data=data,\n",
        "        x=target,\n",
        "        y=predictor,\n",
        "        ax=axs[1, 1],\n",
        "        showfliers=False,\n",
        "        palette=\"gist_rainbow\",\n",
        "    )\n",
        "\n",
        "    plt.tight_layout()\n",
        "    plt.show()"
      ]
    },
    {
      "cell_type": "code",
      "execution_count": null,
      "id": "quick-progress",
      "metadata": {
        "id": "quick-progress"
      },
      "outputs": [],
      "source": [
        "def stacked_barplot(data, predictor, target):\n",
        "    \"\"\"\n",
        "    Print the category counts and plot a stacked bar chart\n",
        "\n",
        "    data: dataframe\n",
        "    predictor: independent variable\n",
        "    target: target variable\n",
        "    \"\"\"\n",
        "    count = data[predictor].nunique()\n",
        "    sorter = data[target].value_counts().index[-1]\n",
        "    tab1 = pd.crosstab(data[predictor], data[target], margins=True).sort_values(\n",
        "        by=sorter, ascending=False\n",
        "    )\n",
        "    print(tab1)\n",
        "    print(\"-\" * 120)\n",
        "    tab = pd.crosstab(data[predictor], data[target], normalize=\"index\").sort_values(\n",
        "        by=sorter, ascending=False\n",
        "    )\n",
        "    tab.plot(kind=\"bar\", stacked=True, figsize=(count + 5, 5))\n",
        "    plt.legend(\n",
        "        loc=\"lower left\", frameon=False,\n",
        "    )\n",
        "    plt.legend(loc=\"upper left\", bbox_to_anchor=(1, 1))\n",
        "    plt.show()"
      ]
    },
    {
      "cell_type": "markdown",
      "id": "quick-works",
      "metadata": {
        "id": "quick-works"
      },
      "source": [
        "**Hotel rates are dynamic and change according to demand and customer demographics. Let's see how prices vary across different market segments**"
      ]
    },
    {
      "cell_type": "code",
      "execution_count": null,
      "id": "animal-depth",
      "metadata": {
        "id": "animal-depth"
      },
      "outputs": [],
      "source": [
        "plt.figure(figsize=(10, 6))\n",
        "sns.boxplot(\n",
        "    data=data, x=\"market_segment_type\", y=\"avg_price_per_room\", palette=\"gist_rainbow\"\n",
        ")\n",
        "plt.show()"
      ]
    },
    {
      "cell_type": "markdown",
      "id": "adjacent-voice",
      "metadata": {
        "id": "adjacent-voice"
      },
      "source": [
        "**Let's see how booking status varies across different market segments. Also, how average price per room impacts booking status**"
      ]
    },
    {
      "cell_type": "code",
      "execution_count": null,
      "id": "specified-novel",
      "metadata": {
        "id": "specified-novel"
      },
      "outputs": [],
      "source": [
        "stacked_barplot(data, \"market_segment_type\", \"booking_status\")"
      ]
    },
    {
      "cell_type": "markdown",
      "id": "welcome-shore",
      "metadata": {
        "id": "welcome-shore"
      },
      "source": [
        "**Many guests have special requirements when booking a hotel room. Let's see how it impacts cancellations**"
      ]
    },
    {
      "cell_type": "code",
      "execution_count": null,
      "id": "nominated-burlington",
      "metadata": {
        "id": "nominated-burlington"
      },
      "outputs": [],
      "source": [
        "stacked_barplot('_______') ## Complete the code to plot stacked barplot for no of special requests and booking status"
      ]
    },
    {
      "cell_type": "markdown",
      "id": "female-yemen",
      "metadata": {
        "id": "female-yemen"
      },
      "source": [
        "**Let's see if the special requests made by the customers impacts the prices of a room**"
      ]
    },
    {
      "cell_type": "code",
      "execution_count": null,
      "id": "spoken-shoulder",
      "metadata": {
        "id": "spoken-shoulder"
      },
      "outputs": [],
      "source": [
        "plt.figure(figsize=(10, 5))\n",
        "sns.boxplot('_______')  ## Complete the code to create boxplot for no of special requests and average price per room (excluding the outliers)\n",
        "plt.show()"
      ]
    },
    {
      "cell_type": "markdown",
      "id": "informed-charger",
      "metadata": {
        "id": "informed-charger"
      },
      "source": [
        "**We saw earlier that there is a positive correlation between booking status and average price per room. Let's analyze it**"
      ]
    },
    {
      "cell_type": "code",
      "execution_count": null,
      "id": "green-yellow",
      "metadata": {
        "id": "green-yellow"
      },
      "outputs": [],
      "source": [
        "distribution_plot_wrt_target(data, \"avg_price_per_room\", \"booking_status\")"
      ]
    },
    {
      "cell_type": "markdown",
      "id": "attempted-velvet",
      "metadata": {
        "id": "attempted-velvet"
      },
      "source": [
        "**There is a positive correlation between booking status and lead time also. Let's analyze it further**"
      ]
    },
    {
      "cell_type": "code",
      "execution_count": null,
      "id": "planned-stylus",
      "metadata": {
        "id": "planned-stylus",
        "scrolled": false
      },
      "outputs": [],
      "source": [
        "distribution_plot_wrt_target('_______') ## Complete the code to find distribution of lead time wrt booking status"
      ]
    },
    {
      "cell_type": "markdown",
      "id": "english-attraction",
      "metadata": {
        "id": "english-attraction"
      },
      "source": [
        "**Generally people travel with their spouse and children for vacations or other activities. Let's create a new dataframe of the customers who traveled with their families and analyze the impact on booking status.**"
      ]
    },
    {
      "cell_type": "code",
      "execution_count": null,
      "id": "absent-diabetes",
      "metadata": {
        "id": "absent-diabetes"
      },
      "outputs": [],
      "source": [
        "family_data = data[(data[\"no_of_children\"] >= 0) & (data[\"no_of_adults\"] > 1)]\n",
        "family_data.shape"
      ]
    },
    {
      "cell_type": "code",
      "execution_count": null,
      "id": "animal-oxide",
      "metadata": {
        "id": "animal-oxide"
      },
      "outputs": [],
      "source": [
        "family_data[\"no_of_family_members\"] = (\n",
        "    family_data[\"no_of_adults\"] + family_data[\"no_of_children\"]\n",
        ")"
      ]
    },
    {
      "cell_type": "code",
      "execution_count": null,
      "id": "bored-supplier",
      "metadata": {
        "id": "bored-supplier"
      },
      "outputs": [],
      "source": [
        "stacked_barplot('_______') ## Complete the code to plot stacked barplot for no of family members and booking status"
      ]
    },
    {
      "cell_type": "markdown",
      "id": "formed-arthur",
      "metadata": {
        "id": "formed-arthur"
      },
      "source": [
        "**Let's do a similar analysis for the customer who stay for at least a day at the hotel.**"
      ]
    },
    {
      "cell_type": "code",
      "execution_count": null,
      "id": "typical-insured",
      "metadata": {
        "id": "typical-insured"
      },
      "outputs": [],
      "source": [
        "stay_data = data[(data[\"no_of_week_nights\"] > 0) & (data[\"no_of_weekend_nights\"] > 0)]\n",
        "stay_data.shape"
      ]
    },
    {
      "cell_type": "code",
      "execution_count": null,
      "id": "african-foundation",
      "metadata": {
        "id": "african-foundation"
      },
      "outputs": [],
      "source": [
        "stay_data[\"total_days\"] = (\n",
        "    stay_data[\"no_of_week_nights\"] + stay_data[\"no_of_weekend_nights\"]\n",
        ")"
      ]
    },
    {
      "cell_type": "code",
      "execution_count": null,
      "id": "certified-vacation",
      "metadata": {
        "id": "certified-vacation"
      },
      "outputs": [],
      "source": [
        "stacked_barplot('_______') ## Complete the code to plot stacked barplot for total days and booking status"
      ]
    },
    {
      "cell_type": "markdown",
      "id": "wrong-solomon",
      "metadata": {
        "id": "wrong-solomon"
      },
      "source": [
        "**Repeating guests are the guests who stay in the hotel often and are important to brand equity. Let's see what percentage of repeating guests cancel?**"
      ]
    },
    {
      "cell_type": "code",
      "execution_count": null,
      "id": "greatest-sunglasses",
      "metadata": {
        "id": "greatest-sunglasses"
      },
      "outputs": [],
      "source": [
        "stacked_barplot('_______') ## Complete the code to plot stacked barplot for repeated guests and booking status"
      ]
    },
    {
      "cell_type": "markdown",
      "id": "attached-speech",
      "metadata": {
        "id": "attached-speech"
      },
      "source": [
        "**Let's find out what are the busiest months in the hotel.**"
      ]
    },
    {
      "cell_type": "code",
      "execution_count": null,
      "id": "configured-japan",
      "metadata": {
        "id": "configured-japan"
      },
      "outputs": [],
      "source": [
        "# grouping the data on arrival months and extracting the count of bookings\n",
        "monthly_data = data.groupby([\"arrival_month\"])[\"booking_status\"].count()\n",
        "\n",
        "# creating a dataframe with months and count of customers in each month\n",
        "monthly_data = pd.DataFrame(\n",
        "    {\"Month\": list(monthly_data.index), \"Guests\": list(monthly_data.values)}\n",
        ")\n",
        "\n",
        "# plotting the trend over different months\n",
        "plt.figure(figsize=(10, 5))\n",
        "sns.lineplot(data=monthly_data, x=\"Month\", y=\"Guests\")\n",
        "plt.show()"
      ]
    },
    {
      "cell_type": "markdown",
      "id": "signed-isaac",
      "metadata": {
        "id": "signed-isaac"
      },
      "source": [
        "**Let's check the percentage of bookings canceled in each month.**"
      ]
    },
    {
      "cell_type": "code",
      "execution_count": null,
      "id": "civic-print",
      "metadata": {
        "id": "civic-print"
      },
      "outputs": [],
      "source": [
        "stacked_barplot('_______') ## Complete the code to plot stacked barplot for arrival month and booking status"
      ]
    },
    {
      "cell_type": "markdown",
      "id": "tired-bridges",
      "metadata": {
        "id": "tired-bridges"
      },
      "source": [
        "**As hotel room prices are dynamic, Let's see how the prices vary across different months**"
      ]
    },
    {
      "cell_type": "code",
      "execution_count": null,
      "id": "atomic-locator",
      "metadata": {
        "id": "atomic-locator"
      },
      "outputs": [],
      "source": [
        "plt.figure(figsize=(10, 5))\n",
        "sns.lineplot('_______') ## Complete the code to create lineplot between average price per room and arrival month\n",
        "plt.show()"
      ]
    },
    {
      "cell_type": "markdown",
      "id": "powerful-couple",
      "metadata": {
        "id": "powerful-couple"
      },
      "source": [
        "### Outlier Check\n",
        "\n",
        "- Let's check for outliers in the data."
      ]
    },
    {
      "cell_type": "code",
      "execution_count": null,
      "id": "imported-uganda",
      "metadata": {
        "id": "imported-uganda"
      },
      "outputs": [],
      "source": [
        "# outlier detection using boxplot\n",
        "numeric_columns = data.select_dtypes(include=np.number).columns.tolist()\n",
        "# dropping booking_status\n",
        "numeric_columns.remove(\"booking_status\")\n",
        "\n",
        "plt.figure(figsize=(15, 12))\n",
        "\n",
        "for i, variable in enumerate(numeric_columns):\n",
        "    plt.subplot(4, 4, i + 1)\n",
        "    plt.boxplot(data[variable], whis=1.5)\n",
        "    plt.tight_layout()\n",
        "    plt.title(variable)\n",
        "\n",
        "plt.show()"
      ]
    },
    {
      "cell_type": "markdown",
      "id": "0-mbGLo1dkaC",
      "metadata": {
        "id": "0-mbGLo1dkaC"
      },
      "source": [
        "## Model Building"
      ]
    },
    {
      "cell_type": "markdown",
      "id": "cultural-engagement",
      "metadata": {
        "id": "cultural-engagement"
      },
      "source": [
        "### Model evaluation criterion\n",
        "\n",
        "### Model can make wrong predictions as:\n",
        "\n",
        "1. Predicting a customer will not cancel their booking but in reality, the customer will cancel their booking.\n",
        "2. Predicting a customer will cancel their booking but in reality, the customer will not cancel their booking. \n",
        "\n",
        "### Which case is more important? \n",
        "* Both the cases are important as:\n",
        "\n",
        "* If we predict that a booking will not be canceled and the booking gets canceled then the hotel will lose resources and will have to bear additional costs of distribution channels.\n",
        "\n",
        "* If we predict that a booking will get canceled and the booking doesn't get canceled the hotel might not be able to provide satisfactory services to the customer by assuming that this booking will be canceled. This might damage the brand equity. \n",
        "\n",
        "\n",
        "\n",
        "### How to reduce the losses?\n",
        "\n",
        "* Hotel would want `F1 Score` to be maximized, greater the F1  score higher are the chances of minimizing False Negatives and False Positives. "
      ]
    },
    {
      "cell_type": "markdown",
      "id": "ruled-appointment",
      "metadata": {
        "id": "ruled-appointment"
      },
      "source": [
        "#### First, let's create functions to calculate different metrics and confusion matrix so that we don't have to use the same code repeatedly for each model.\n",
        "* The model_performance_classification_statsmodels function will be used to check the model performance of models. \n",
        "* The confusion_matrix_statsmodels function will be used to plot the confusion matrix."
      ]
    },
    {
      "cell_type": "code",
      "execution_count": null,
      "id": "prime-front",
      "metadata": {
        "id": "prime-front"
      },
      "outputs": [],
      "source": [
        "# defining a function to compute different metrics to check performance of a classification model built using statsmodels\n",
        "def model_performance_classification_statsmodels(\n",
        "    model, predictors, target, threshold=0.5\n",
        "):\n",
        "    \"\"\"\n",
        "    Function to compute different metrics to check classification model performance\n",
        "\n",
        "    model: classifier\n",
        "    predictors: independent variables\n",
        "    target: dependent variable\n",
        "    threshold: threshold for classifying the observation as class 1\n",
        "    \"\"\"\n",
        "\n",
        "    # checking which probabilities are greater than threshold\n",
        "    pred_temp = model.predict(predictors) > threshold\n",
        "    # rounding off the above values to get classes\n",
        "    pred = np.round(pred_temp)\n",
        "\n",
        "    acc = accuracy_score(target, pred)  # to compute Accuracy\n",
        "    recall = recall_score(target, pred)  # to compute Recall\n",
        "    precision = precision_score(target, pred)  # to compute Precision\n",
        "    f1 = f1_score(target, pred)  # to compute F1-score\n",
        "\n",
        "    # creating a dataframe of metrics\n",
        "    df_perf = pd.DataFrame(\n",
        "        {\"Accuracy\": acc, \"Recall\": recall, \"Precision\": precision, \"F1\": f1,},\n",
        "        index=[0],\n",
        "    )\n",
        "\n",
        "    return df_perf"
      ]
    },
    {
      "cell_type": "code",
      "execution_count": null,
      "id": "amateur-scotland",
      "metadata": {
        "id": "amateur-scotland"
      },
      "outputs": [],
      "source": [
        "# defining a function to plot the confusion_matrix of a classification model\n",
        "\n",
        "\n",
        "def confusion_matrix_statsmodels(model, predictors, target, threshold=0.5):\n",
        "    \"\"\"\n",
        "    To plot the confusion_matrix with percentages\n",
        "\n",
        "    model: classifier\n",
        "    predictors: independent variables\n",
        "    target: dependent variable\n",
        "    threshold: threshold for classifying the observation as class 1\n",
        "    \"\"\"\n",
        "    y_pred = model.predict(predictors) > threshold\n",
        "    cm = confusion_matrix(target, y_pred)\n",
        "    labels = np.asarray(\n",
        "        [\n",
        "            [\"{0:0.0f}\".format(item) + \"\\n{0:.2%}\".format(item / cm.flatten().sum())]\n",
        "            for item in cm.flatten()\n",
        "        ]\n",
        "    ).reshape(2, 2)\n",
        "\n",
        "    plt.figure(figsize=(6, 4))\n",
        "    sns.heatmap(cm, annot=labels, fmt=\"\")\n",
        "    plt.ylabel(\"True label\")\n",
        "    plt.xlabel(\"Predicted label\")"
      ]
    },
    {
      "cell_type": "markdown",
      "id": "opposed-glance",
      "metadata": {
        "id": "opposed-glance"
      },
      "source": [
        "### Logistic Regression (with statsmodels library)"
      ]
    },
    {
      "cell_type": "markdown",
      "id": "dWLU261ecU8E",
      "metadata": {
        "id": "dWLU261ecU8E"
      },
      "source": [
        "#### Data Preparation for modeling (Logistic Regression)"
      ]
    },
    {
      "cell_type": "markdown",
      "id": "tdyBE3l6Xunp",
      "metadata": {
        "id": "tdyBE3l6Xunp"
      },
      "source": [
        "- We want to predict which bookings will be canceled.\n",
        "- Before we proceed to build a model, we'll have to encode categorical features.\n",
        "- We'll split the data into train and test to be able to evaluate the model that we build on the train data."
      ]
    },
    {
      "cell_type": "code",
      "execution_count": null,
      "id": "nominated-tumor",
      "metadata": {
        "id": "nominated-tumor"
      },
      "outputs": [],
      "source": [
        "X = data.drop([\"booking_status\"], axis=1)\n",
        "Y = data[\"booking_status\"]\n",
        "\n",
        "# adding constant\n",
        "X = sm.'_______' ## Complete the code to add constant to X \n",
        "\n",
        "X = pd.'_______' ## Complete the code to create dummies for X \n",
        "\n",
        "# Splitting data in train and test sets\n",
        "X_train, X_test, y_train, y_test = train_test_split('_______') ## Complete the code to split the data into train test in the ratio 70:30 with random_state = 1"
      ]
    },
    {
      "cell_type": "code",
      "execution_count": null,
      "id": "PNQL4GAuchRx",
      "metadata": {
        "id": "PNQL4GAuchRx"
      },
      "outputs": [],
      "source": [
        "print(\"Shape of Training set : \", X_train.shape)\n",
        "print(\"Shape of test set : \", X_test.shape)\n",
        "print(\"Percentage of classes in training set:\")\n",
        "print(y_train.value_counts(normalize=True))\n",
        "print(\"Percentage of classes in test set:\")\n",
        "print(y_test.value_counts(normalize=True))"
      ]
    },
    {
      "cell_type": "markdown",
      "id": "dMaSwLNvcrUU",
      "metadata": {
        "id": "dMaSwLNvcrUU"
      },
      "source": [
        "#### Building Logistic Regression Model"
      ]
    },
    {
      "cell_type": "code",
      "execution_count": null,
      "id": "generous-investing",
      "metadata": {
        "id": "generous-investing"
      },
      "outputs": [],
      "source": [
        "# fitting logistic regression model\n",
        "logit = sm.Logit(y_train, X_train.astype(float))\n",
        "lg = logit.'_______' ## Complete the code to fit logistic regression\n",
        "\n",
        "print(lg.'_______') ## Complete the code to print summary of the model"
      ]
    },
    {
      "cell_type": "code",
      "execution_count": null,
      "id": "raising-ultimate",
      "metadata": {
        "id": "raising-ultimate"
      },
      "outputs": [],
      "source": [
        "print(\"Training performance:\")\n",
        "model_performance_classification_statsmodels(lg, X_train, y_train)"
      ]
    },
    {
      "cell_type": "markdown",
      "id": "humanitarian-macedonia",
      "metadata": {
        "id": "humanitarian-macedonia"
      },
      "source": [
        "#### Multicollinearity"
      ]
    },
    {
      "cell_type": "code",
      "execution_count": null,
      "id": "greenhouse-tattoo",
      "metadata": {
        "id": "greenhouse-tattoo"
      },
      "outputs": [],
      "source": [
        "# we will define a function to check VIF\n",
        "def checking_vif(predictors):\n",
        "    vif = pd.DataFrame()\n",
        "    vif[\"feature\"] = predictors.columns\n",
        "\n",
        "    # calculating VIF for each feature\n",
        "    vif[\"VIF\"] = [\n",
        "        variance_inflation_factor(predictors.values, i)\n",
        "        for i in range(len(predictors.columns))\n",
        "    ]\n",
        "    return vif"
      ]
    },
    {
      "cell_type": "code",
      "execution_count": null,
      "id": "restricted-negative",
      "metadata": {
        "id": "restricted-negative"
      },
      "outputs": [],
      "source": [
        "checking_vif(X_train)"
      ]
    },
    {
      "cell_type": "markdown",
      "id": "expensive-folks",
      "metadata": {
        "id": "expensive-folks"
      },
      "source": [
        "#### Dropping high p-value variables\n",
        "\n",
        "- We will drop the predictor variables having a p-value greater than 0.05 as they do not significantly impact the target variable.\n",
        "- But sometimes p-values change after dropping a variable. So, we'll not drop all variables at once.\n",
        "- Instead, we will do the following:\n",
        "    - Build a model, check the p-values of the variables, and drop the column with the highest p-value.\n",
        "    - Create a new model without the dropped feature, check the p-values of the variables, and drop the column with the highest p-value.\n",
        "    - Repeat the above two steps till there are no columns with p-value > 0.05.\n",
        "\n",
        "The above process can also be done manually by picking one variable at a time that has a high p-value, dropping it, and building a model again. But that might be a little tedious and using a loop will be more efficient."
      ]
    },
    {
      "cell_type": "code",
      "execution_count": null,
      "id": "transsexual-presence",
      "metadata": {
        "id": "transsexual-presence"
      },
      "outputs": [],
      "source": [
        "# initial list of columns\n",
        "cols = X_train.columns.tolist()\n",
        "\n",
        "# setting an initial max p-value\n",
        "max_p_value = 1\n",
        "\n",
        "while len(cols) > 0:\n",
        "    # defining the train set\n",
        "    x_train_aux = X_train[cols]\n",
        "\n",
        "    # fitting the model\n",
        "    model = sm.Logit(y_train, x_train_aux).fit(disp=False)\n",
        "\n",
        "    # getting the p-values and the maximum p-value\n",
        "    p_values = model.pvalues\n",
        "    max_p_value = max(p_values)\n",
        "\n",
        "    # name of the variable with maximum p-value\n",
        "    feature_with_p_max = p_values.idxmax()\n",
        "\n",
        "    if max_p_value > 0.05:\n",
        "        cols.remove(feature_with_p_max)\n",
        "    else:\n",
        "        break\n",
        "\n",
        "selected_features = cols\n",
        "print(selected_features)"
      ]
    },
    {
      "cell_type": "code",
      "execution_count": null,
      "id": "vertical-diploma",
      "metadata": {
        "id": "vertical-diploma"
      },
      "outputs": [],
      "source": [
        "X_train1 = X_train[selected_features]\n",
        "X_test1 = X_test[selected_features]"
      ]
    },
    {
      "cell_type": "code",
      "execution_count": null,
      "id": "composed-athens",
      "metadata": {
        "id": "composed-athens"
      },
      "outputs": [],
      "source": [
        "logit1 = sm.'_______' ## Complete the code to train logistic regression on X_train1 and y_train\n",
        "lg1 = logit1.'_______' ## Complete the code to fit logistic regression\n",
        "print(lg1.'_______') ## Complete the code to print summary of the model"
      ]
    },
    {
      "cell_type": "code",
      "execution_count": null,
      "id": "floral-daily",
      "metadata": {
        "id": "floral-daily"
      },
      "outputs": [],
      "source": [
        "print(\"Training performance:\")\n",
        "model_performance_classification_statsmodels(lg1,'_______') ## Complete the code to check performance on X_train1 and y_train"
      ]
    },
    {
      "cell_type": "markdown",
      "id": "external-magnitude",
      "metadata": {
        "id": "external-magnitude"
      },
      "source": [
        "####  Converting coefficients to odds\n",
        "* The coefficients of the logistic regression model are in terms of log(odd), to find the odds we have to take the exponential of the coefficients. \n",
        "* Therefore, **odds =  exp(b)**\n",
        "* The percentage change in odds is given as **odds = (exp(b) - 1) * 100**"
      ]
    },
    {
      "cell_type": "code",
      "execution_count": null,
      "id": "armed-omega",
      "metadata": {
        "id": "armed-omega"
      },
      "outputs": [],
      "source": [
        "# converting coefficients to odds\n",
        "odds = np.exp(lg1.params)\n",
        "\n",
        "# finding the percentage change\n",
        "perc_change_odds = (np.exp(lg1.params) - 1) * 100\n",
        "\n",
        "# removing limit from number of columns to display\n",
        "pd.set_option(\"display.max_columns\", None)\n",
        "\n",
        "# adding the odds to a dataframe\n",
        "pd.DataFrame({\"Odds\": odds, \"Change_odd%\": perc_change_odds}, index=X_train1.columns).T"
      ]
    },
    {
      "cell_type": "markdown",
      "id": "waiting-deputy",
      "metadata": {
        "id": "waiting-deputy"
      },
      "source": [
        "#### Checking model performance on the training set"
      ]
    },
    {
      "cell_type": "code",
      "execution_count": null,
      "id": "auburn-lambda",
      "metadata": {
        "id": "auburn-lambda"
      },
      "outputs": [],
      "source": [
        "# creating confusion matrix\n",
        "confusion_matrix_statsmodels(lg1, X_train1, y_train)"
      ]
    },
    {
      "cell_type": "code",
      "execution_count": null,
      "id": "stable-fabric",
      "metadata": {
        "id": "stable-fabric"
      },
      "outputs": [],
      "source": [
        "print(\"Training performance:\")\n",
        "log_reg_model_train_perf = model_performance_classification_statsmodels(lg1, '_______') ## Complete the code to check performance on X_train1 and y_train\n",
        "log_reg_model_train_perf"
      ]
    },
    {
      "cell_type": "markdown",
      "id": "polished-stewart",
      "metadata": {
        "id": "polished-stewart"
      },
      "source": [
        "#### ROC-AUC\n",
        "* ROC-AUC on training set"
      ]
    },
    {
      "cell_type": "code",
      "execution_count": null,
      "id": "quarterly-arnold",
      "metadata": {
        "id": "quarterly-arnold"
      },
      "outputs": [],
      "source": [
        "logit_roc_auc_train = roc_auc_score(y_train, lg1.predict(X_train1))\n",
        "fpr, tpr, thresholds = roc_curve(y_train, lg1.predict(X_train1))\n",
        "plt.figure(figsize=(7, 5))\n",
        "plt.plot(fpr, tpr, label=\"Logistic Regression (area = %0.2f)\" % logit_roc_auc_train)\n",
        "plt.plot([0, 1], [0, 1], \"r--\")\n",
        "plt.xlim([0.0, 1.0])\n",
        "plt.ylim([0.0, 1.01])\n",
        "plt.xlabel(\"False Positive Rate\")\n",
        "plt.ylabel(\"True Positive Rate\")\n",
        "plt.title(\"Receiver operating characteristic\")\n",
        "plt.legend(loc=\"lower right\")\n",
        "plt.show()"
      ]
    },
    {
      "cell_type": "markdown",
      "id": "monthly-segment",
      "metadata": {
        "id": "monthly-segment"
      },
      "source": [
        "#### Model Performance Improvement"
      ]
    },
    {
      "cell_type": "markdown",
      "id": "rapid-conflict",
      "metadata": {
        "id": "rapid-conflict"
      },
      "source": [
        "* Let's see if the recall score can be improved further, by changing the model threshold using AUC-ROC Curve."
      ]
    },
    {
      "cell_type": "markdown",
      "id": "turkish-valuation",
      "metadata": {
        "id": "turkish-valuation"
      },
      "source": [
        "#### Optimal threshold using AUC-ROC curve"
      ]
    },
    {
      "cell_type": "code",
      "execution_count": null,
      "id": "demonstrated-raise",
      "metadata": {
        "id": "demonstrated-raise"
      },
      "outputs": [],
      "source": [
        "# Optimal threshold as per AUC-ROC curve\n",
        "# The optimal cut off would be where tpr is high and fpr is low\n",
        "fpr, tpr, thresholds = roc_curve(y_train, lg1.predict(X_train1))\n",
        "\n",
        "optimal_idx = np.argmax(tpr - fpr)\n",
        "optimal_threshold_auc_roc = thresholds[optimal_idx]\n",
        "print(optimal_threshold_auc_roc)"
      ]
    },
    {
      "cell_type": "code",
      "execution_count": null,
      "id": "saved-plastic",
      "metadata": {
        "id": "saved-plastic"
      },
      "outputs": [],
      "source": [
        "# creating confusion matrix\n",
        "confusion_matrix_statsmodels(\n",
        "    lg1, '______________', \n",
        ") ## Complete the code to create the confusion matrix for X_train1 and y_train with optimal_threshold_auc_roc as threshold "
      ]
    },
    {
      "cell_type": "code",
      "execution_count": null,
      "id": "geological-strengthening",
      "metadata": {
        "id": "geological-strengthening"
      },
      "outputs": [],
      "source": [
        "# checking model performance for this model\n",
        "log_reg_model_train_perf_threshold_auc_roc = model_performance_classification_statsmodels(\n",
        "    lg1, X_train1, y_train, threshold=optimal_threshold_auc_roc\n",
        ")\n",
        "print(\"Training performance:\")\n",
        "log_reg_model_train_perf_threshold_auc_roc"
      ]
    },
    {
      "cell_type": "markdown",
      "id": "heated-intersection",
      "metadata": {
        "id": "heated-intersection"
      },
      "source": [
        "#### Let's use Precision-Recall curve and see if we can find a better threshold"
      ]
    },
    {
      "cell_type": "code",
      "execution_count": null,
      "id": "acute-newark",
      "metadata": {
        "id": "acute-newark"
      },
      "outputs": [],
      "source": [
        "y_scores = lg1.predict(X_train1)\n",
        "prec, rec, tre = precision_recall_curve(y_train, y_scores,)\n",
        "\n",
        "\n",
        "def plot_prec_recall_vs_tresh(precisions, recalls, thresholds):\n",
        "    plt.plot(thresholds, precisions[:-1], \"b--\", label=\"precision\")\n",
        "    plt.plot(thresholds, recalls[:-1], \"g--\", label=\"recall\")\n",
        "    plt.xlabel(\"Threshold\")\n",
        "    plt.legend(loc=\"upper left\")\n",
        "    plt.ylim([0, 1])\n",
        "\n",
        "\n",
        "plt.figure(figsize=(10, 7))\n",
        "plot_prec_recall_vs_tresh(prec, rec, tre)\n",
        "plt.show()"
      ]
    },
    {
      "cell_type": "code",
      "execution_count": null,
      "id": "brown-advertiser",
      "metadata": {
        "id": "brown-advertiser"
      },
      "outputs": [],
      "source": [
        "# setting the threshold\n",
        "optimal_threshold_curve = 0.42"
      ]
    },
    {
      "cell_type": "markdown",
      "id": "environmental-surface",
      "metadata": {
        "id": "environmental-surface"
      },
      "source": [
        "#### Checking model performance on training set"
      ]
    },
    {
      "cell_type": "code",
      "execution_count": null,
      "id": "mental-albany",
      "metadata": {
        "id": "mental-albany"
      },
      "outputs": [],
      "source": [
        "# creating confusion matrix\n",
        "confusion_matrix_statsmodels(\n",
        "    lg1, '______________', \n",
        ") ## Complete the code to create the confusion matrix for X_train1 and y_train with optimal_threshold_curve as threshold "
      ]
    },
    {
      "cell_type": "code",
      "execution_count": null,
      "id": "fifteen-bundle",
      "metadata": {
        "id": "fifteen-bundle"
      },
      "outputs": [],
      "source": [
        "log_reg_model_train_perf_threshold_curve = model_performance_classification_statsmodels(\n",
        "    lg1, X_train1, y_train, threshold=optimal_threshold_curve\n",
        ")\n",
        "print(\"Training performance:\")\n",
        "log_reg_model_train_perf_threshold_curve"
      ]
    },
    {
      "cell_type": "markdown",
      "id": "organic-pocket",
      "metadata": {
        "id": "organic-pocket"
      },
      "source": [
        "#### Let's check the performance on the test set"
      ]
    },
    {
      "cell_type": "markdown",
      "id": "first-governor",
      "metadata": {
        "id": "first-governor"
      },
      "source": [
        "**Using model with default threshold**"
      ]
    },
    {
      "cell_type": "code",
      "execution_count": null,
      "id": "visible-voluntary",
      "metadata": {
        "id": "visible-voluntary"
      },
      "outputs": [],
      "source": [
        "# creating confusion matrix\n",
        "confusion_matrix_statsmodels('_______') ## Complete the code to create confusion matrix for X_test1 and y_test"
      ]
    },
    {
      "cell_type": "code",
      "execution_count": null,
      "id": "biological-single",
      "metadata": {
        "id": "biological-single"
      },
      "outputs": [],
      "source": [
        "log_reg_model_test_perf = model_performance_classification_statsmodels('_______') ## Complete the code to check performance on X_test1 and y_test\n",
        "\n",
        "print(\"Test performance:\")\n",
        "log_reg_model_test_perf "
      ]
    },
    {
      "cell_type": "markdown",
      "id": "fitted-marsh",
      "metadata": {
        "id": "fitted-marsh"
      },
      "source": [
        "* ROC curve on test set"
      ]
    },
    {
      "cell_type": "code",
      "execution_count": null,
      "id": "included-package",
      "metadata": {
        "id": "included-package"
      },
      "outputs": [],
      "source": [
        "logit_roc_auc_train = roc_auc_score(y_test, lg1.predict(X_test1))\n",
        "fpr, tpr, thresholds = roc_curve(y_test, lg1.predict(X_test1))\n",
        "plt.figure(figsize=(7, 5))\n",
        "plt.plot(fpr, tpr, label=\"Logistic Regression (area = %0.2f)\" % logit_roc_auc_train)\n",
        "plt.plot([0, 1], [0, 1], \"r--\")\n",
        "plt.xlim([0.0, 1.0])\n",
        "plt.ylim([0.0, 1.01])\n",
        "plt.xlabel(\"False Positive Rate\")\n",
        "plt.ylabel(\"True Positive Rate\")\n",
        "plt.title(\"Receiver operating characteristic\")\n",
        "plt.legend(loc=\"lower right\")\n",
        "plt.show()"
      ]
    },
    {
      "cell_type": "markdown",
      "id": "computational-concord",
      "metadata": {
        "id": "computational-concord"
      },
      "source": [
        "**Using model with threshold=0.37** "
      ]
    },
    {
      "cell_type": "code",
      "execution_count": null,
      "id": "stone-wireless",
      "metadata": {
        "id": "stone-wireless"
      },
      "outputs": [],
      "source": [
        "# creating confusion matrix\n",
        "confusion_matrix_statsmodels(lg1, '_______') ## Complete the code to create confusion matrix for X_test1 and y_test using optimal_threshold_auc_roc as threshold"
      ]
    },
    {
      "cell_type": "code",
      "execution_count": null,
      "id": "southern-inquiry",
      "metadata": {
        "id": "southern-inquiry"
      },
      "outputs": [],
      "source": [
        "# checking model performance for this model\n",
        "log_reg_model_test_perf_threshold_auc_roc = model_performance_classification_statsmodels(\n",
        "    lg1, X_test1, y_test, threshold=optimal_threshold_auc_roc\n",
        ")\n",
        "print(\"Test performance:\")\n",
        "log_reg_model_test_perf_threshold_auc_roc"
      ]
    },
    {
      "cell_type": "markdown",
      "id": "graphic-penetration",
      "metadata": {
        "id": "graphic-penetration"
      },
      "source": [
        "**Using model with threshold = 0.42**"
      ]
    },
    {
      "cell_type": "code",
      "execution_count": null,
      "id": "needed-trial",
      "metadata": {
        "id": "needed-trial"
      },
      "outputs": [],
      "source": [
        "# creating confusion matrix\n",
        "confusion_matrix_statsmodels(lg1, '_______') ## Complete the code to create confusion matrix for X_test1 and y_test using optimal_threshold_curve as threshold"
      ]
    },
    {
      "cell_type": "code",
      "execution_count": null,
      "id": "major-sucking",
      "metadata": {
        "id": "major-sucking"
      },
      "outputs": [],
      "source": [
        "log_reg_model_test_perf_threshold_curve = model_performance_classification_statsmodels(\n",
        "    lg1, X_test1, y_test, threshold=optimal_threshold_curve\n",
        ")\n",
        "print(\"Test performance:\")\n",
        "log_reg_model_test_perf_threshold_curve"
      ]
    },
    {
      "cell_type": "markdown",
      "id": "polish-moldova",
      "metadata": {
        "id": "polish-moldova"
      },
      "source": [
        "#### Model performance summary"
      ]
    },
    {
      "cell_type": "code",
      "execution_count": null,
      "id": "domestic-election",
      "metadata": {
        "id": "domestic-election"
      },
      "outputs": [],
      "source": [
        "# training performance comparison\n",
        "\n",
        "models_train_comp_df = pd.concat(\n",
        "    [\n",
        "        log_reg_model_train_perf.T,\n",
        "        log_reg_model_train_perf_threshold_auc_roc.T,\n",
        "        log_reg_model_train_perf_threshold_curve.T,\n",
        "    ],\n",
        "    axis=1,\n",
        ")\n",
        "models_train_comp_df.columns = [\n",
        "    \"Logistic Regression-default Threshold\",\n",
        "    \"Logistic Regression-0.37 Threshold\",\n",
        "    \"Logistic Regression-0.42 Threshold\",\n",
        "]\n",
        "\n",
        "print(\"Training performance comparison:\")\n",
        "models_train_comp_df"
      ]
    },
    {
      "cell_type": "code",
      "execution_count": null,
      "id": "6bf04b12",
      "metadata": {
        "id": "6bf04b12"
      },
      "outputs": [],
      "source": [
        "# test performance comparison\n",
        "\n",
        "'_______' ## Complete the code to compare test performance "
      ]
    },
    {
      "cell_type": "markdown",
      "id": "separated-prague",
      "metadata": {
        "id": "separated-prague"
      },
      "source": [
        "### Decision Tree"
      ]
    },
    {
      "cell_type": "markdown",
      "id": "jkIkXHk6c1iu",
      "metadata": {
        "id": "jkIkXHk6c1iu"
      },
      "source": [
        "#### Data Preparation for modeling (Decision Tree)"
      ]
    },
    {
      "cell_type": "markdown",
      "id": "moXH_XnNc_T9",
      "metadata": {
        "id": "moXH_XnNc_T9"
      },
      "source": [
        "- We want to predict which bookings will be canceled.\n",
        "- Before we proceed to build a model, we'll have to encode categorical features.\n",
        "- We'll split the data into train and test to be able to evaluate the model that we build on the train data."
      ]
    },
    {
      "cell_type": "code",
      "execution_count": null,
      "id": "eight-class",
      "metadata": {
        "id": "eight-class"
      },
      "outputs": [],
      "source": [
        "X = data.drop([\"booking_status\"], axis=1)\n",
        "Y = data[\"booking_status\"]\n",
        "\n",
        "X = pd.'_______' ## Complete the code to create dummies for X\n",
        "\n",
        "# Splitting data in train and test sets\n",
        "X_train, X_test, y_train, y_test = train_test_split('_______') ## Complete the code to split the data into train test in the ratio 70:30 with random_state = 1"
      ]
    },
    {
      "cell_type": "code",
      "execution_count": null,
      "id": "Dkqqg1f1c7ya",
      "metadata": {
        "id": "Dkqqg1f1c7ya"
      },
      "outputs": [],
      "source": [
        "print(\"Shape of Training set : \", X_train.shape)\n",
        "print(\"Shape of test set : \", X_test.shape)\n",
        "print(\"Percentage of classes in training set:\")\n",
        "print(y_train.value_counts(normalize=True))\n",
        "print(\"Percentage of classes in test set:\")\n",
        "print(y_test.value_counts(normalize=True))"
      ]
    },
    {
      "cell_type": "markdown",
      "id": "employed-charger",
      "metadata": {
        "id": "employed-charger"
      },
      "source": [
        "#### First, let's create functions to calculate different metrics and confusion matrix so that we don't have to use the same code repeatedly for each model.\n",
        "* The model_performance_classification_sklearn function will be used to check the model performance of models. \n",
        "* The confusion_matrix_sklearnfunction will be used to plot the confusion matrix."
      ]
    },
    {
      "cell_type": "code",
      "execution_count": null,
      "id": "industrial-parent",
      "metadata": {
        "id": "industrial-parent"
      },
      "outputs": [],
      "source": [
        "# defining a function to compute different metrics to check performance of a classification model built using sklearn\n",
        "def model_performance_classification_sklearn(model, predictors, target):\n",
        "    \"\"\"\n",
        "    Function to compute different metrics to check classification model performance\n",
        "\n",
        "    model: classifier\n",
        "    predictors: independent variables\n",
        "    target: dependent variable\n",
        "    \"\"\"\n",
        "\n",
        "    # predicting using the independent variables\n",
        "    pred = model.predict(predictors)\n",
        "\n",
        "    acc = accuracy_score(target, pred)  # to compute Accuracy\n",
        "    recall = recall_score(target, pred)  # to compute Recall\n",
        "    precision = precision_score(target, pred)  # to compute Precision\n",
        "    f1 = f1_score(target, pred)  # to compute F1-score\n",
        "\n",
        "    # creating a dataframe of metrics\n",
        "    df_perf = pd.DataFrame(\n",
        "        {\"Accuracy\": acc, \"Recall\": recall, \"Precision\": precision, \"F1\": f1,},\n",
        "        index=[0],\n",
        "    )\n",
        "\n",
        "    return df_perf"
      ]
    },
    {
      "cell_type": "code",
      "execution_count": null,
      "id": "thrown-protein",
      "metadata": {
        "id": "thrown-protein"
      },
      "outputs": [],
      "source": [
        "def confusion_matrix_sklearn(model, predictors, target):\n",
        "    \"\"\"\n",
        "    To plot the confusion_matrix with percentages\n",
        "\n",
        "    model: classifier\n",
        "    predictors: independent variables\n",
        "    target: dependent variable\n",
        "    \"\"\"\n",
        "    y_pred = model.predict(predictors)\n",
        "    cm = confusion_matrix(target, y_pred)\n",
        "    labels = np.asarray(\n",
        "        [\n",
        "            [\"{0:0.0f}\".format(item) + \"\\n{0:.2%}\".format(item / cm.flatten().sum())]\n",
        "            for item in cm.flatten()\n",
        "        ]\n",
        "    ).reshape(2, 2)\n",
        "\n",
        "    plt.figure(figsize=(6, 4))\n",
        "    sns.heatmap(cm, annot=labels, fmt=\"\")\n",
        "    plt.ylabel(\"True label\")\n",
        "    plt.xlabel(\"Predicted label\")"
      ]
    },
    {
      "cell_type": "markdown",
      "id": "immune-malta",
      "metadata": {
        "id": "immune-malta"
      },
      "source": [
        "#### Building Decision Tree Model"
      ]
    },
    {
      "cell_type": "code",
      "execution_count": null,
      "id": "recognized-nurse",
      "metadata": {
        "id": "recognized-nurse"
      },
      "outputs": [],
      "source": [
        "model = DecisionTreeClassifier(random_state=1)\n",
        "model.('_______') ## Complete the code to fit decision tree on train data"
      ]
    },
    {
      "cell_type": "markdown",
      "id": "identified-upper",
      "metadata": {
        "id": "identified-upper"
      },
      "source": [
        "#### Checking model performance on training set"
      ]
    },
    {
      "cell_type": "code",
      "execution_count": null,
      "id": "female-kennedy",
      "metadata": {
        "id": "female-kennedy"
      },
      "outputs": [],
      "source": [
        "confusion_matrix_sklearn('_______') ## Complete the code to create confusion matrix for train data"
      ]
    },
    {
      "cell_type": "code",
      "execution_count": null,
      "id": "falling-squad",
      "metadata": {
        "id": "falling-squad",
        "scrolled": true
      },
      "outputs": [],
      "source": [
        "decision_tree_perf_train = model_performance_classification_sklearn(\n",
        "    model, X_train, y_train\n",
        ")\n",
        "decision_tree_perf_train"
      ]
    },
    {
      "cell_type": "markdown",
      "id": "neither-omaha",
      "metadata": {
        "id": "neither-omaha"
      },
      "source": [
        "#### Checking model performance on test set"
      ]
    },
    {
      "cell_type": "code",
      "execution_count": null,
      "id": "884d0575",
      "metadata": {
        "id": "884d0575"
      },
      "outputs": [],
      "source": [
        "confusion_matrix_sklearn('_______') ## Complete the code to create confusion matrix for test data"
      ]
    },
    {
      "cell_type": "code",
      "execution_count": null,
      "id": "applied-magazine",
      "metadata": {
        "id": "applied-magazine",
        "scrolled": true
      },
      "outputs": [],
      "source": [
        "decision_tree_perf_test = model_performance_classification_sklearn('_______') ## Complete the code to check performance on test set\n",
        "decision_tree_perf_test"
      ]
    },
    {
      "cell_type": "markdown",
      "id": "rational-details",
      "metadata": {
        "id": "rational-details"
      },
      "source": [
        "**Before pruning the tree let's check the important features.**"
      ]
    },
    {
      "cell_type": "code",
      "execution_count": null,
      "id": "genetic-channels",
      "metadata": {
        "id": "genetic-channels"
      },
      "outputs": [],
      "source": [
        "feature_names = list(X_train.columns)\n",
        "importances = model.feature_importances_\n",
        "indices = np.argsort(importances)\n",
        "\n",
        "plt.figure(figsize=(8, 8))\n",
        "plt.title(\"Feature Importances\")\n",
        "plt.barh(range(len(indices)), importances[indices], color=\"violet\", align=\"center\")\n",
        "plt.yticks(range(len(indices)), [feature_names[i] for i in indices])\n",
        "plt.xlabel(\"Relative Importance\")\n",
        "plt.show()"
      ]
    },
    {
      "cell_type": "markdown",
      "id": "detailed-possible",
      "metadata": {
        "id": "detailed-possible"
      },
      "source": [
        "#### Pruning the tree"
      ]
    },
    {
      "cell_type": "markdown",
      "id": "ancient-composer",
      "metadata": {
        "id": "ancient-composer"
      },
      "source": [
        "**Pre-Pruning**"
      ]
    },
    {
      "cell_type": "code",
      "execution_count": null,
      "id": "romantic-stationery",
      "metadata": {
        "id": "romantic-stationery"
      },
      "outputs": [],
      "source": [
        "# Choose the type of classifier.\n",
        "estimator = DecisionTreeClassifier(random_state=1, class_weight=\"balanced\")\n",
        "\n",
        "# Grid of parameters to choose from\n",
        "parameters = {\n",
        "    \"max_depth\": np.arange(2, 7, 2),\n",
        "    \"max_leaf_nodes\": [50, 75, 150, 250],\n",
        "    \"min_samples_split\": [10, 30, 50, 70],\n",
        "}\n",
        "\n",
        "# Type of scoring used to compare parameter combinations\n",
        "acc_scorer = make_scorer(f1_score)\n",
        "\n",
        "# Run the grid search\n",
        "grid_obj = GridSearchCV(estimator, parameters, scoring=acc_scorer, cv=5)\n",
        "grid_obj = grid_obj.fit(X_train, y_train)\n",
        "\n",
        "# Set the clf to the best combination of parameters\n",
        "estimator = grid_obj.best_estimator_\n",
        "\n",
        "# Fit the best algorithm to the data.\n",
        "estimator.fit(X_train, y_train)"
      ]
    },
    {
      "cell_type": "markdown",
      "id": "endangered-image",
      "metadata": {
        "id": "endangered-image"
      },
      "source": [
        "#### Checking performance on training set"
      ]
    },
    {
      "cell_type": "code",
      "execution_count": null,
      "id": "skilled-poster",
      "metadata": {
        "id": "skilled-poster"
      },
      "outputs": [],
      "source": [
        "confusion_matrix_sklearn('_______') ## Complete the code to create confusion matrix for train data"
      ]
    },
    {
      "cell_type": "code",
      "execution_count": null,
      "id": "detected-folks",
      "metadata": {
        "id": "detected-folks"
      },
      "outputs": [],
      "source": [
        "decision_tree_tune_perf_train = model_performance_classification_sklearn('_______') ## Complete the code to check performance on train set\n",
        "decision_tree_tune_perf_train"
      ]
    },
    {
      "cell_type": "markdown",
      "id": "concrete-season",
      "metadata": {
        "id": "concrete-season"
      },
      "source": [
        "#### Checking performance on test set"
      ]
    },
    {
      "cell_type": "code",
      "execution_count": null,
      "id": "banner-comparative",
      "metadata": {
        "id": "banner-comparative"
      },
      "outputs": [],
      "source": [
        "confusion_matrix_sklearn('_______') ## Complete the code to create confusion matrix for test data"
      ]
    },
    {
      "cell_type": "code",
      "execution_count": null,
      "id": "killing-magnet",
      "metadata": {
        "id": "killing-magnet"
      },
      "outputs": [],
      "source": [
        "decision_tree_tune_perf_test = model_performance_classification_sklearn('_______') ## Complete the code to check performance on test set\n",
        "decision_tree_tune_perf_test"
      ]
    },
    {
      "cell_type": "markdown",
      "id": "frequent-grenada",
      "metadata": {
        "id": "frequent-grenada"
      },
      "source": [
        "#### Visualizing the Decision Tree"
      ]
    },
    {
      "cell_type": "code",
      "execution_count": null,
      "id": "driving-state",
      "metadata": {
        "id": "driving-state"
      },
      "outputs": [],
      "source": [
        "plt.figure(figsize=(20, 10))\n",
        "out = tree.plot_tree(\n",
        "    estimator,\n",
        "    feature_names=feature_names,\n",
        "    filled=True,\n",
        "    fontsize=9,\n",
        "    node_ids=False,\n",
        "    class_names=None,\n",
        ")\n",
        "# below code will add arrows to the decision tree split if they are missing\n",
        "for o in out:\n",
        "    arrow = o.arrow_patch\n",
        "    if arrow is not None:\n",
        "        arrow.set_edgecolor(\"black\")\n",
        "        arrow.set_linewidth(1)\n",
        "plt.show()"
      ]
    },
    {
      "cell_type": "code",
      "execution_count": null,
      "id": "narrow-johns",
      "metadata": {
        "id": "narrow-johns",
        "scrolled": true
      },
      "outputs": [],
      "source": [
        "# Text report showing the rules of a decision tree -\n",
        "print(tree.export_text(estimator, feature_names=feature_names, show_weights=True))"
      ]
    },
    {
      "cell_type": "code",
      "execution_count": null,
      "id": "secure-killing",
      "metadata": {
        "id": "secure-killing"
      },
      "outputs": [],
      "source": [
        "# importance of features in the tree building\n",
        "\n",
        "importances = estimator.feature_importances_\n",
        "indices = np.argsort(importances)\n",
        "\n",
        "plt.figure(figsize=(8, 8))\n",
        "plt.title(\"Feature Importances\")\n",
        "plt.barh(range(len(indices)), importances[indices], color=\"violet\", align=\"center\")\n",
        "plt.yticks(range(len(indices)), [feature_names[i] for i in indices])\n",
        "plt.xlabel(\"Relative Importance\")\n",
        "plt.show()"
      ]
    },
    {
      "cell_type": "markdown",
      "id": "based-recruitment",
      "metadata": {
        "id": "based-recruitment"
      },
      "source": [
        "**Cost Complexity Pruning**"
      ]
    },
    {
      "cell_type": "code",
      "execution_count": null,
      "id": "white-advocacy",
      "metadata": {
        "id": "white-advocacy"
      },
      "outputs": [],
      "source": [
        "clf = DecisionTreeClassifier(random_state=1, class_weight=\"balanced\")\n",
        "path = clf.cost_complexity_pruning_path(X_train, y_train)\n",
        "ccp_alphas, impurities = abs(path.ccp_alphas), path.impurities"
      ]
    },
    {
      "cell_type": "code",
      "execution_count": null,
      "id": "associate-audit",
      "metadata": {
        "id": "associate-audit"
      },
      "outputs": [],
      "source": [
        "pd.DataFrame(path)"
      ]
    },
    {
      "cell_type": "code",
      "execution_count": null,
      "id": "numeric-internet",
      "metadata": {
        "id": "numeric-internet"
      },
      "outputs": [],
      "source": [
        "fig, ax = plt.subplots(figsize=(10, 5))\n",
        "ax.plot(ccp_alphas[:-1], impurities[:-1], marker=\"o\", drawstyle=\"steps-post\")\n",
        "ax.set_xlabel(\"effective alpha\")\n",
        "ax.set_ylabel(\"total impurity of leaves\")\n",
        "ax.set_title(\"Total Impurity vs effective alpha for training set\")\n",
        "plt.show()"
      ]
    },
    {
      "cell_type": "markdown",
      "id": "reasonable-coral",
      "metadata": {
        "id": "reasonable-coral"
      },
      "source": [
        "Next, we train a decision tree using effective alphas. The last value\n",
        "in ``ccp_alphas`` is the alpha value that prunes the whole tree,\n",
        "leaving the tree, ``clfs[-1]``, with one node."
      ]
    },
    {
      "cell_type": "code",
      "execution_count": null,
      "id": "stone-causing",
      "metadata": {
        "id": "stone-causing"
      },
      "outputs": [],
      "source": [
        "clfs = []\n",
        "for ccp_alpha in ccp_alphas:\n",
        "    clf = DecisionTreeClassifier(\n",
        "        random_state=1, ccp_alpha=ccp_alpha, class_weight=\"balanced\"\n",
        "    )\n",
        "    clf.'_______' ## Complete the code to fit decision tree on training data\n",
        "    clfs.append(clf)\n",
        "print(\n",
        "    \"Number of nodes in the last tree is: {} with ccp_alpha: {}\".format(\n",
        "        clfs[-1].tree_.node_count, ccp_alphas[-1]\n",
        "    )\n",
        ")"
      ]
    },
    {
      "cell_type": "code",
      "execution_count": null,
      "id": "statistical-palace",
      "metadata": {
        "id": "statistical-palace"
      },
      "outputs": [],
      "source": [
        "clfs = clfs[:-1]\n",
        "ccp_alphas = ccp_alphas[:-1]\n",
        "\n",
        "node_counts = [clf.tree_.node_count for clf in clfs]\n",
        "depth = [clf.tree_.max_depth for clf in clfs]\n",
        "fig, ax = plt.subplots(2, 1, figsize=(10, 7))\n",
        "ax[0].plot(ccp_alphas, node_counts, marker=\"o\", drawstyle=\"steps-post\")\n",
        "ax[0].set_xlabel(\"alpha\")\n",
        "ax[0].set_ylabel(\"number of nodes\")\n",
        "ax[0].set_title(\"Number of nodes vs alpha\")\n",
        "ax[1].plot(ccp_alphas, depth, marker=\"o\", drawstyle=\"steps-post\")\n",
        "ax[1].set_xlabel(\"alpha\")\n",
        "ax[1].set_ylabel(\"depth of tree\")\n",
        "ax[1].set_title(\"Depth vs alpha\")\n",
        "fig.tight_layout()"
      ]
    },
    {
      "cell_type": "markdown",
      "id": "wooden-subsection",
      "metadata": {
        "id": "wooden-subsection"
      },
      "source": [
        "#### F1 Score vs alpha for training and testing sets"
      ]
    },
    {
      "cell_type": "code",
      "execution_count": null,
      "id": "abandoned-danger",
      "metadata": {
        "id": "abandoned-danger"
      },
      "outputs": [],
      "source": [
        "f1_train = []\n",
        "for clf in clfs:\n",
        "    pred_train = clf.predict(X_train)\n",
        "    values_train = f1_score(y_train, pred_train)\n",
        "    f1_train.append(values_train)\n",
        "\n",
        "f1_test = []\n",
        "for clf in clfs:\n",
        "    pred_test = clf.predict(X_test)\n",
        "    values_test = f1_score(y_test, pred_test)\n",
        "    f1_test.append(values_test)"
      ]
    },
    {
      "cell_type": "code",
      "execution_count": null,
      "id": "golden-grenada",
      "metadata": {
        "id": "golden-grenada"
      },
      "outputs": [],
      "source": [
        "fig, ax = plt.subplots(figsize=(15, 5))\n",
        "ax.set_xlabel(\"alpha\")\n",
        "ax.set_ylabel(\"F1 Score\")\n",
        "ax.set_title(\"F1 Score vs alpha for training and testing sets\")\n",
        "ax.plot(ccp_alphas, f1_train, marker=\"o\", label=\"train\", drawstyle=\"steps-post\")\n",
        "ax.plot(ccp_alphas, f1_test, marker=\"o\", label=\"test\", drawstyle=\"steps-post\")\n",
        "ax.legend()\n",
        "plt.show()"
      ]
    },
    {
      "cell_type": "code",
      "execution_count": null,
      "id": "extreme-inspiration",
      "metadata": {
        "id": "extreme-inspiration"
      },
      "outputs": [],
      "source": [
        "index_best_model = np.argmax(f1_test)\n",
        "best_model = clfs[index_best_model]\n",
        "print(best_model)"
      ]
    },
    {
      "cell_type": "markdown",
      "id": "bearing-illinois",
      "metadata": {
        "id": "bearing-illinois"
      },
      "source": [
        "#### Checking performance on training set"
      ]
    },
    {
      "cell_type": "code",
      "execution_count": null,
      "id": "closing-natural",
      "metadata": {
        "id": "closing-natural"
      },
      "outputs": [],
      "source": [
        "confusion_matrix_sklearn(best_model, X_train, y_train)"
      ]
    },
    {
      "cell_type": "code",
      "execution_count": null,
      "id": "hired-beauty",
      "metadata": {
        "id": "hired-beauty"
      },
      "outputs": [],
      "source": [
        "decision_tree_post_perf_train = model_performance_classification_sklearn(\n",
        "    best_model, X_train, y_train\n",
        ")\n",
        "decision_tree_post_perf_train"
      ]
    },
    {
      "cell_type": "markdown",
      "id": "smoking-invitation",
      "metadata": {
        "id": "smoking-invitation"
      },
      "source": [
        "#### Checking performance on test set"
      ]
    },
    {
      "cell_type": "code",
      "execution_count": null,
      "id": "blocked-bracket",
      "metadata": {
        "id": "blocked-bracket"
      },
      "outputs": [],
      "source": [
        "'_______' ## Complete the code to create confusion matrix for test data on best model"
      ]
    },
    {
      "cell_type": "code",
      "execution_count": null,
      "id": "absent-transsexual",
      "metadata": {
        "id": "absent-transsexual"
      },
      "outputs": [],
      "source": [
        "decision_tree_post_test = '_______' ## Complete the code to check performance of test set on best model\n",
        "decision_tree_post_test"
      ]
    },
    {
      "cell_type": "code",
      "execution_count": null,
      "id": "classified-banana",
      "metadata": {
        "id": "classified-banana"
      },
      "outputs": [],
      "source": [
        "plt.figure(figsize=(20, 10))\n",
        "\n",
        "out = tree.plot_tree(\n",
        "    best_model,\n",
        "    feature_names=feature_names,\n",
        "    filled=True,\n",
        "    fontsize=9,\n",
        "    node_ids=False,\n",
        "    class_names=None,\n",
        ")\n",
        "for o in out:\n",
        "    arrow = o.arrow_patch\n",
        "    if arrow is not None:\n",
        "        arrow.set_edgecolor(\"black\")\n",
        "        arrow.set_linewidth(1)\n",
        "plt.show()"
      ]
    },
    {
      "cell_type": "code",
      "execution_count": null,
      "id": "offshore-colors",
      "metadata": {
        "id": "offshore-colors"
      },
      "outputs": [],
      "source": [
        "# Text report showing the rules of a decision tree -\n",
        "\n",
        "print(tree.export_text(best_model, feature_names=feature_names, show_weights=True))"
      ]
    },
    {
      "cell_type": "code",
      "execution_count": null,
      "id": "crucial-disclaimer",
      "metadata": {
        "id": "crucial-disclaimer"
      },
      "outputs": [],
      "source": [
        "importances = best_model.feature_importances_\n",
        "indices = np.argsort(importances)\n",
        "\n",
        "plt.figure(figsize=(12, 12))\n",
        "plt.title(\"Feature Importances\")\n",
        "plt.barh(range(len(indices)), importances[indices], color=\"violet\", align=\"center\")\n",
        "plt.yticks(range(len(indices)), [feature_names[i] for i in indices])\n",
        "plt.xlabel(\"Relative Importance\")\n",
        "plt.show()"
      ]
    },
    {
      "cell_type": "markdown",
      "id": "specific-columbus",
      "metadata": {
        "id": "specific-columbus"
      },
      "source": [
        "#### Comparing Decision Tree models"
      ]
    },
    {
      "cell_type": "code",
      "execution_count": null,
      "id": "superior-reality",
      "metadata": {
        "id": "superior-reality"
      },
      "outputs": [],
      "source": [
        "# training performance comparison\n",
        "\n",
        "models_train_comp_df = pd.concat(\n",
        "    [\n",
        "        decision_tree_perf_train.T,\n",
        "        decision_tree_tune_perf_train.T,\n",
        "        decision_tree_post_perf_train.T,\n",
        "    ],\n",
        "    axis=1,\n",
        ")\n",
        "models_train_comp_df.columns = [\n",
        "    \"Decision Tree sklearn\",\n",
        "    \"Decision Tree (Pre-Pruning)\",\n",
        "    \"Decision Tree (Post-Pruning)\",\n",
        "]\n",
        "print(\"Training performance comparison:\")\n",
        "models_train_comp_df"
      ]
    },
    {
      "cell_type": "code",
      "execution_count": null,
      "id": "working-employment",
      "metadata": {
        "id": "working-employment"
      },
      "outputs": [],
      "source": [
        "# testing performance comparison\n",
        "\n",
        "'_______' ## Complete the code to compare performance of test set"
      ]
    },
    {
      "cell_type": "markdown",
      "id": "c178b0e2",
      "metadata": {
        "id": "c178b0e2"
      },
      "source": [
        "### Business Recommendations"
      ]
    }
  ],
  "metadata": {
    "colab": {
      "collapsed_sections": [
        "dense-medicaid",
        "286ede49",
        "fantastic-rebel",
        "convinced-blackberry",
        "prepared-clause",
        "creative-warner",
        "realistic-mortgage",
        "arbitrary-intelligence",
        "western-elevation",
        "intimate-hearing",
        "studied-arrangement",
        "rough-contributor",
        "industrial-implementation",
        "celtic-florist",
        "affiliated-accreditation",
        "thermal-resource",
        "greenhouse-regression",
        "southeast-avenue",
        "competitive-brass",
        "thick-coordination",
        "bulgarian-paint",
        "behavioral-portfolio",
        "dramatic-karaoke",
        "arranged-courtesy",
        "powerful-couple",
        "0-mbGLo1dkaC",
        "cultural-engagement",
        "ruled-appointment",
        "opposed-glance",
        "dWLU261ecU8E",
        "dMaSwLNvcrUU",
        "humanitarian-macedonia",
        "expensive-folks",
        "external-magnitude",
        "waiting-deputy",
        "polished-stewart",
        "monthly-segment",
        "turkish-valuation",
        "heated-intersection",
        "environmental-surface",
        "organic-pocket",
        "polish-moldova",
        "separated-prague",
        "jkIkXHk6c1iu",
        "employed-charger",
        "immune-malta",
        "identified-upper",
        "neither-omaha",
        "detailed-possible",
        "endangered-image",
        "concrete-season",
        "frequent-grenada",
        "wooden-subsection",
        "bearing-illinois",
        "smoking-invitation",
        "specific-columbus",
        "c178b0e2"
      ],
      "name": "Project_SLC_DSBA_INNHotels_LowCode_(1) (4).ipynb",
      "provenance": []
    },
    "kernelspec": {
      "display_name": ".venv",
      "language": "python",
      "name": "python3"
    },
    "language_info": {
      "codemirror_mode": {
        "name": "ipython",
        "version": 3
      },
      "file_extension": ".py",
      "mimetype": "text/x-python",
      "name": "python",
      "nbconvert_exporter": "python",
      "pygments_lexer": "ipython3",
      "version": "3.10.10"
    },
    "vscode": {
      "interpreter": {
        "hash": "9d3efd2f2773b376bcbfafd2cf5748c36ebd086818d5a09f3b333a5e4a10f0ed"
      }
    }
  },
  "nbformat": 4,
  "nbformat_minor": 5
}
